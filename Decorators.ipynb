{
 "cells": [
  {
   "cell_type": "markdown",
   "metadata": {},
   "source": [
    "# 🌀 Python Decorators\n",
    "\n",
    "## **1. Definition**\n",
    "A **decorator** in Python is a function that takes another function as input, adds extra functionality to it **without changing its original code**, and returns a new function.\n",
    "\n",
    "- **Think of it like:** Wrapping a gift → you don't change the gift, you just add extra decoration to it.\n",
    "\n",
    "---\n",
    "\n",
    "## **2. Syntax**\n",
    "```python\n",
    "@decorator_function\n",
    "def my_function():\n",
    "    pass"
   ]
  },
  {
   "cell_type": "code",
   "execution_count": 1,
   "metadata": {},
   "outputs": [
    {
     "data": {
      "text/plain": [
       "4"
      ]
     },
     "execution_count": 1,
     "metadata": {},
     "output_type": "execute_result"
    }
   ],
   "source": [
    "def modify(func,num): #yha pe hum ek function ko sura function as a input de rhe h\n",
    "    return func(num)\n",
    "\n",
    "def square(num):\n",
    "    return num**2\n",
    "\n",
    "modify(square,2)"
   ]
  },
  {
   "cell_type": "code",
   "execution_count": 9,
   "metadata": {},
   "outputs": [
    {
     "name": "stdout",
     "output_type": "stream",
     "text": [
      "***************\n",
      "  hello bhai\n",
      "***************\n"
     ]
    }
   ],
   "source": [
    "#simple example\n",
    "def my_decorator(func):\n",
    "    def wrapper():\n",
    "     print(\"***************\")\n",
    "     func()\n",
    "     print(\"***************\")\n",
    "    return wrapper\n",
    "     \n",
    "def hello():\n",
    "    print(\"  hello bhai\")\n",
    "\n",
    "a=my_decorator(hello)\n",
    "a()"
   ]
  },
  {
   "cell_type": "code",
   "execution_count": 11,
   "metadata": {},
   "outputs": [
    {
     "name": "stdout",
     "output_type": "stream",
     "text": [
      "***************\n",
      "hello sujal\n",
      "****************\n"
     ]
    }
   ],
   "source": [
    "def my_decorator(func):\n",
    "    def wrapper():\n",
    "        print(\"***************\")\n",
    "        func()\n",
    "        print(\"****************\")\n",
    "    return wrapper\n",
    "\n",
    "def hello():\n",
    "    print(\"hello sujal\")\n",
    "    \n",
    "a=my_decorator(hello)\n",
    "a()"
   ]
  },
  {
   "cell_type": "code",
   "execution_count": 33,
   "metadata": {},
   "outputs": [
    {
     "name": "stdout",
     "output_type": "stream",
     "text": [
      "hello world\n",
      "time taken by hello 2.0051140785217285 sec\n",
      "hello nmstey\n",
      "time taken by display 1.0051069259643555 sec\n",
      "4\n",
      "time taken by square 1.0054700374603271 sec\n",
      "6\n",
      "time taken by power 3.0994415283203125e-05 sec\n"
     ]
    }
   ],
   "source": [
    "#anything benificial\n",
    "import time\n",
    "def timer(func):\n",
    "    def wrapper(*selmonbhai):\n",
    "        start=time.time()\n",
    "        func(*selmonbhai)\n",
    "        print(\"time taken by\", func.__name__,time.time()-start,'sec')\n",
    "    return wrapper\n",
    "@timer\n",
    "def hello():\n",
    "    print(\"hello world\")\n",
    "    time.sleep(2)\n",
    "    \n",
    "@timer\n",
    "def display():\n",
    "    print(\"hello nmstey\")\n",
    "    time.sleep(1)\n",
    "\n",
    "@timer\n",
    "def square(a):\n",
    "    time.sleep(1)\n",
    "    print( a**2)\n",
    "\n",
    "@timer\n",
    "def power(a,b):\n",
    " print(a*b)\n",
    "\n",
    "    \n",
    "\n",
    "hello()\n",
    "display()\n",
    "square(2)\n",
    "power(2,3)"
   ]
  },
  {
   "cell_type": "code",
   "execution_count": 38,
   "metadata": {},
   "outputs": [
    {
     "name": "stdout",
     "output_type": "stream",
     "text": [
      "16\n"
     ]
    },
    {
     "ename": "TypeError",
     "evalue": "ye data type nahi chalega bhai",
     "output_type": "error",
     "traceback": [
      "\u001b[31m---------------------------------------------------------------------------\u001b[39m",
      "\u001b[31mTypeError\u001b[39m                                 Traceback (most recent call last)",
      "\u001b[36mCell\u001b[39m\u001b[36m \u001b[39m\u001b[32mIn[38]\u001b[39m\u001b[32m, line 17\u001b[39m\n\u001b[32m     14\u001b[39m     \u001b[38;5;28mprint\u001b[39m(a**\u001b[32m2\u001b[39m)\n\u001b[32m     16\u001b[39m square(\u001b[32m4\u001b[39m)\n\u001b[32m---> \u001b[39m\u001b[32m17\u001b[39m \u001b[43msquare\u001b[49m\u001b[43m(\u001b[49m\u001b[33;43m'\u001b[39;49m\u001b[33;43mheeloooo\u001b[39;49m\u001b[33;43m'\u001b[39;49m\u001b[43m)\u001b[49m\n",
      "\u001b[36mCell\u001b[39m\u001b[36m \u001b[39m\u001b[32mIn[38]\u001b[39m\u001b[32m, line 8\u001b[39m, in \u001b[36msanity_check.<locals>.outer_wrapper.<locals>.inner_wrapper\u001b[39m\u001b[34m(*args)\u001b[39m\n\u001b[32m      6\u001b[39m     funct(*args)\n\u001b[32m      7\u001b[39m \u001b[38;5;28;01melse\u001b[39;00m:\n\u001b[32m----> \u001b[39m\u001b[32m8\u001b[39m     \u001b[38;5;28;01mraise\u001b[39;00m \u001b[38;5;167;01mTypeError\u001b[39;00m(\u001b[33m\"\u001b[39m\u001b[33mye data type nahi chalega bhai\u001b[39m\u001b[33m\"\u001b[39m)\n",
      "\u001b[31mTypeError\u001b[39m: ye data type nahi chalega bhai"
     ]
    }
   ],
   "source": [
    "#one last example \n",
    "def sanity_check(data_type):\n",
    "    def outer_wrapper(funct):\n",
    "        def inner_wrapper(*args):\n",
    "            if type(args[0])==data_type:\n",
    "                funct(*args)\n",
    "            else:\n",
    "                raise TypeError(\"ye data type nahi chalega bhai\")\n",
    "        return inner_wrapper\n",
    "    return outer_wrapper\n",
    "\n",
    "@sanity_check(int)\n",
    "def square(a):\n",
    "    print(a**2)\n",
    "    \n",
    "square(4)\n",
    "square('heeloooo')\n"
   ]
  },
  {
   "cell_type": "code",
   "execution_count": null,
   "metadata": {},
   "outputs": [],
   "source": [
    "# Want to search more detail on decorator -> type on google \"cool example of decorators\""
   ]
  }
 ],
 "metadata": {
  "kernelspec": {
   "display_name": "Python 3",
   "language": "python",
   "name": "python3"
  },
  "language_info": {
   "codemirror_mode": {
    "name": "ipython",
    "version": 3
   },
   "file_extension": ".py",
   "mimetype": "text/x-python",
   "name": "python",
   "nbconvert_exporter": "python",
   "pygments_lexer": "ipython3",
   "version": "3.11.9"
  }
 },
 "nbformat": 4,
 "nbformat_minor": 2
}
