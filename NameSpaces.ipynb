{
 "cells": [
  {
   "cell_type": "markdown",
   "metadata": {},
   "source": [
    "# 🏷 Namespaces in Python\n",
    "\n",
    "## 1. **Definition**\n",
    "A **namespace** is a mapping between names (identifiers) and objects.  \n",
    "It helps to ensure that names are **unique** and can be used without conflict.\n",
    "\n",
    "In simple terms:\n",
    "> Namespace = \"Where your variable name is stored and how it is mapped to the actual object in memory.\"\n",
    "\n",
    "---\n",
    "\n",
    "## 2. **Types of Namespaces**\n",
    "\n",
    "Python has **4 types** of namespaces:\n",
    "\n",
    "| Namespace Type | Created When? | Examples | Scope |\n",
    "|----------------|--------------|----------|-------|\n",
    "| **Built-in**   | Python interpreter starts | `print()`, `len()` | Available everywhere |\n",
    "| **Global**     | A module is loaded | Variables at the top level of a script or module | Accessible inside the file/module |\n",
    "| **Enclosing**  | When a function is defined inside another function | Outer function's variables | Accessible by inner functions |\n",
    "| **Local**      | When a function is called | Function parameters and variables inside it | Accessible only inside that function |\n",
    "\n",
    "---\n",
    "\n",
    "## 3. **Namespace Hierarchy (LEGB Rule)**\n",
    "\n",
    "Python resolves names in the following order:\n",
    "1. **L** - Local: Current function's namespace.\n",
    "2. **E** - Enclosing: Names in outer (enclosing) functions.\n",
    "3. **G** - Global: Current module's namespace.\n",
    "4. **B** - Built-in: Python's reserved names.\n",
    "\n",
    "📌 Example:\n",
    "```python\n",
    "x = \"global\"\n",
    "\n",
    "def outer():\n",
    "    x = \"enclosing\"\n",
    "    def inner():\n",
    "        x = \"local\"\n",
    "        print(x)\n",
    "    inner()\n",
    "\n",
    "outer()"
   ]
  },
  {
   "cell_type": "code",
   "execution_count": 1,
   "metadata": {},
   "outputs": [
    {
     "name": "stdout",
     "output_type": "stream",
     "text": [
      "5\n",
      "2\n"
     ]
    }
   ],
   "source": [
    "# local and global\n",
    "a=2 #Global variable\n",
    "\n",
    "def temp():\n",
    "    b=5 #Local variable\n",
    "    print(b)\n",
    "    \n",
    "temp()\n",
    "print(a)"
   ]
  },
  {
   "cell_type": "code",
   "execution_count": 3,
   "metadata": {},
   "outputs": [
    {
     "name": "stdout",
     "output_type": "stream",
     "text": [
      "5\n",
      "2\n"
     ]
    }
   ],
   "source": [
    "#local and global same name possible hai kyuki dono different namespaces ka part h\n",
    "\n",
    "a=2 #Global variable\n",
    "\n",
    "def temp():\n",
    "    a=5 #Local variable\n",
    "    print(a)\n",
    "    \n",
    "temp()\n",
    "print(a)"
   ]
  },
  {
   "cell_type": "code",
   "execution_count": 5,
   "metadata": {},
   "outputs": [
    {
     "name": "stdout",
     "output_type": "stream",
     "text": [
      "5\n",
      "5\n"
     ]
    }
   ],
   "source": [
    "#Global  varibale ko hum humare local me bhi use kar skte h \n",
    "a=5\n",
    "def temp():\n",
    "    #'a' local variable \n",
    "    print(a) #accessing the global variable as it has not \n",
    "    \n",
    "temp()\n",
    "print(a)\n",
    " \n"
   ]
  },
  {
   "cell_type": "code",
   "execution_count": 7,
   "metadata": {},
   "outputs": [
    {
     "name": "stdout",
     "output_type": "stream",
     "text": [
      "3\n",
      "3\n"
     ]
    }
   ],
   "source": [
    "#edit in global\n",
    "a=2\n",
    "def temp():\n",
    "    global a # hehehehehehe😁\n",
    "    a+=1\n",
    "    print(a)\n",
    "    \n",
    "temp()\n",
    "print(a)"
   ]
  },
  {
   "cell_type": "code",
   "execution_count": 8,
   "metadata": {},
   "outputs": [
    {
     "name": "stdout",
     "output_type": "stream",
     "text": [
      "3\n",
      "3\n"
     ]
    }
   ],
   "source": [
    "#Local and gloabl can create inside the local\n",
    "def temp():\n",
    "    global a\n",
    "    a=3\n",
    "    \n",
    "    print(a)\n",
    "temp()  \n",
    "print(a)"
   ]
  },
  {
   "cell_type": "code",
   "execution_count": null,
   "metadata": {},
   "outputs": [],
   "source": [
    "#Local and global --> Function parameter is local \n",
    "def temp(z):\n",
    "    # local varibale\n",
    "    print(z)\n",
    "    \n",
    "a=5\n",
    "temp(5)\n",
    "print(a)"
   ]
  },
  {
   "cell_type": "markdown",
   "metadata": {},
   "source": [
    "# Built-in Scope"
   ]
  },
  {
   "cell_type": "code",
   "execution_count": 1,
   "metadata": {},
   "outputs": [
    {
     "name": "stdout",
     "output_type": "stream",
     "text": [
      "['ArithmeticError', 'AssertionError', 'AttributeError', 'BaseException', 'BaseExceptionGroup', 'BlockingIOError', 'BrokenPipeError', 'BufferError', 'BytesWarning', 'ChildProcessError', 'ConnectionAbortedError', 'ConnectionError', 'ConnectionRefusedError', 'ConnectionResetError', 'DeprecationWarning', 'EOFError', 'Ellipsis', 'EncodingWarning', 'EnvironmentError', 'Exception', 'ExceptionGroup', 'False', 'FileExistsError', 'FileNotFoundError', 'FloatingPointError', 'FutureWarning', 'GeneratorExit', 'IOError', 'ImportError', 'ImportWarning', 'IndentationError', 'IndexError', 'InterruptedError', 'IsADirectoryError', 'KeyError', 'KeyboardInterrupt', 'LookupError', 'MemoryError', 'ModuleNotFoundError', 'NameError', 'None', 'NotADirectoryError', 'NotImplemented', 'NotImplementedError', 'OSError', 'OverflowError', 'PendingDeprecationWarning', 'PermissionError', 'ProcessLookupError', 'RecursionError', 'ReferenceError', 'ResourceWarning', 'RuntimeError', 'RuntimeWarning', 'StopAsyncIteration', 'StopIteration', 'SyntaxError', 'SyntaxWarning', 'SystemError', 'SystemExit', 'TabError', 'TimeoutError', 'True', 'TypeError', 'UnboundLocalError', 'UnicodeDecodeError', 'UnicodeEncodeError', 'UnicodeError', 'UnicodeTranslateError', 'UnicodeWarning', 'UserWarning', 'ValueError', 'Warning', 'ZeroDivisionError', '__IPYTHON__', '__build_class__', '__debug__', '__doc__', '__import__', '__loader__', '__name__', '__package__', '__spec__', 'abs', 'aiter', 'all', 'anext', 'any', 'ascii', 'bin', 'bool', 'breakpoint', 'bytearray', 'bytes', 'callable', 'chr', 'classmethod', 'compile', 'complex', 'copyright', 'credits', 'delattr', 'dict', 'dir', 'display', 'divmod', 'enumerate', 'eval', 'exec', 'execfile', 'filter', 'float', 'format', 'frozenset', 'get_ipython', 'getattr', 'globals', 'hasattr', 'hash', 'help', 'hex', 'id', 'input', 'int', 'isinstance', 'issubclass', 'iter', 'len', 'license', 'list', 'locals', 'map', 'max', 'memoryview', 'min', 'next', 'object', 'oct', 'open', 'ord', 'pow', 'print', 'property', 'range', 'repr', 'reversed', 'round', 'runfile', 'set', 'setattr', 'slice', 'sorted', 'staticmethod', 'str', 'sum', 'super', 'tuple', 'type', 'vars', 'zip']\n"
     ]
    }
   ],
   "source": [
    "#to see list of builtins\n",
    "import builtins\n",
    "print(dir(builtins))"
   ]
  },
  {
   "cell_type": "code",
   "execution_count": 11,
   "metadata": {},
   "outputs": [
    {
     "ename": "TypeError",
     "evalue": "max() takes 0 positional arguments but 1 was given",
     "output_type": "error",
     "traceback": [
      "\u001b[31m---------------------------------------------------------------------------\u001b[39m",
      "\u001b[31mTypeError\u001b[39m                                 Traceback (most recent call last)",
      "\u001b[36mCell\u001b[39m\u001b[36m \u001b[39m\u001b[32mIn[11]\u001b[39m\u001b[32m, line 7\u001b[39m\n\u001b[32m      4\u001b[39m \u001b[38;5;28;01mdef\u001b[39;00m\u001b[38;5;250m \u001b[39m\u001b[34mmax\u001b[39m():\n\u001b[32m      5\u001b[39m     \u001b[38;5;28mprint\u001b[39m(\u001b[33m\"\u001b[39m\u001b[33mhello namskaar\u001b[39m\u001b[33m\"\u001b[39m)\n\u001b[32m----> \u001b[39m\u001b[32m7\u001b[39m \u001b[38;5;28;43mmax\u001b[39;49m\u001b[43m(\u001b[49m\u001b[43mL\u001b[49m\u001b[43m)\u001b[49m\n",
      "\u001b[31mTypeError\u001b[39m: max() takes 0 positional arguments but 1 was given"
     ]
    }
   ],
   "source": [
    "#renaming builin\n",
    "\n",
    "L=[1,2,3]\n",
    "max(L)\n",
    "\n",
    "def max():\n",
    "    print(\"hello namskaar\")\n",
    "    \n",
    "max(L)"
   ]
  },
  {
   "cell_type": "markdown",
   "metadata": {},
   "source": [
    "# Enclosing Scope"
   ]
  },
  {
   "cell_type": "code",
   "execution_count": 14,
   "metadata": {},
   "outputs": [
    {
     "name": "stdout",
     "output_type": "stream",
     "text": [
      "4\n",
      "outer function\n",
      "main program\n"
     ]
    }
   ],
   "source": [
    "# Enclosing scope\n",
    "def outer():#Enclosing Scope\n",
    " a=3\n",
    " def inner():\n",
    "  a=4 #local\n",
    "  print (a)\n",
    " inner ()\n",
    " print( 'outer function')\n",
    "a=1 #GLobal scope\n",
    "outer()\n",
    "print('main program')"
   ]
  },
  {
   "cell_type": "code",
   "execution_count": 16,
   "metadata": {},
   "outputs": [
    {
     "name": "stdout",
     "output_type": "stream",
     "text": [
      "inner function\n",
      "outer Function\n"
     ]
    }
   ],
   "source": [
    "#non Local keyword\n",
    "def outer():\n",
    "    a=1\n",
    "    def inner():\n",
    "        nonlocal a #ye me bata rha hu python ko ki me local wale se enclosure wale ko access kar rha hu\n",
    "        a+=1\n",
    "    inner()\n",
    "    print(\"inner function\")\n",
    "outer()\n",
    "print(\"outer Function\")"
   ]
  }
 ],
 "metadata": {
  "kernelspec": {
   "display_name": "Python 3",
   "language": "python",
   "name": "python3"
  },
  "language_info": {
   "codemirror_mode": {
    "name": "ipython",
    "version": 3
   },
   "file_extension": ".py",
   "mimetype": "text/x-python",
   "name": "python",
   "nbconvert_exporter": "python",
   "pygments_lexer": "ipython3",
   "version": "3.11.9"
  }
 },
 "nbformat": 4,
 "nbformat_minor": 2
}
