{
 "cells": [
  {
   "cell_type": "markdown",
   "metadata": {},
   "source": [
    "### 📘 Dictionary Theory in Python\n",
    "\n",
    "A **dictionary** in Python is an **unordered collection** of data in a **key-value** pair format.\n",
    "\n",
    "---\n",
    "\n",
    "#### ✅ Key Features:\n",
    "- Each item in a dictionary is a pair: `key: value`.\n",
    "- Keys must be **unique** and **immutable** (e.g., strings, numbers, tuples).\n",
    "- Values can be of any data type and can repeat.\n",
    "- Dictionaries are **mutable**, meaning they can be updated.\n",
    "\n",
    "---\n",
    "\n",
    "### 📚 Syntax:\n",
    "\n",
    "```python\n",
    "my_dict = {\n",
    "    \"name\": \"Alice\",\n",
    "    \"age\": 25,\n",
    "    \"city\": \"New York\"\n",
    "}"
   ]
  },
  {
   "cell_type": "code",
   "execution_count": 76,
   "metadata": {},
   "outputs": [
    {
     "name": "stdout",
     "output_type": "stream",
     "text": [
      "<class 'dict'>\n",
      "{(1, 2, 3): 1, 'name': 'hari'}\n",
      "{'name': 'sujal', 'college': 'anand', 'id': '22AI027', 'Subject': {'DSA': 50, 'oops': 100, 'DBMS': 98}}\n"
     ]
    },
    {
     "data": {
      "text/plain": [
       "{'name': 'Rakesh', (1, 2, 3): 1}"
      ]
     },
     "execution_count": 76,
     "metadata": {},
     "output_type": "execute_result"
    }
   ],
   "source": [
    "#1.Empty Dictionary\n",
    "d={}\n",
    "print(type(d))\n",
    "#2.1D Dictionary\n",
    "d1={'Name':'sujal'}\n",
    "d1\n",
    "#3.with mixed keys\n",
    "d2={(1,2,3):1,'name':\"hari\"}\n",
    "print(d2) \n",
    "#4.2D dictionaries\n",
    "student={\n",
    "    'name':\"sujal\",\n",
    "    'college':'anand',\n",
    "    'id':'22AI027',\n",
    "    'Subject':{ \n",
    "        'DSA':50,\n",
    "        'oops':100,\n",
    "        'DBMS':98\n",
    "        }\n",
    "    }\n",
    "print(student)\n",
    "#5.using sequence and dict function\n",
    "d3=dict([('name','Sujal'),('age',32)])\n",
    "d3\n",
    "#6.duplicate keys\n",
    "d4={'name':\"Sujal\",\n",
    "    'name':\"mayank\"} #inthis case only last one will print \n",
    "d4                 #because it is replaced by first one.\n",
    "#7.mutable items as key\n",
    "'''d5={'name':'Rakesh',\n",
    "    [1,2,3]:1\n",
    "    }      \n",
    "d5'''  #this item will throw error because the mutable \n",
    "        #item set as key 😌\n",
    "#immutable item as a key\n",
    "d5={'name':'Rakesh',\n",
    "    (1,2,3):1\n",
    "    }      \n",
    "d5\n",
    "\n"
   ]
  },
  {
   "cell_type": "markdown",
   "metadata": {},
   "source": [
    "# Accessing Items"
   ]
  },
  {
   "cell_type": "code",
   "execution_count": 77,
   "metadata": {},
   "outputs": [
    {
     "name": "stdout",
     "output_type": "stream",
     "text": [
      "23\n",
      "sujal\n"
     ]
    },
    {
     "data": {
      "text/plain": [
       "98"
      ]
     },
     "execution_count": 77,
     "metadata": {},
     "output_type": "execute_result"
    }
   ],
   "source": [
    "my_dict={'name':\"sujal\",'age':23}\n",
    "#[] Key deke value ko lelo\n",
    "print(my_dict['age'])\n",
    "print(my_dict['name'])\n",
    "#get\n",
    "my_dict.get('name')\n",
    "#Fetch values from 2D Dictionary\n",
    "student['Subject']['DBMS']\n",
    "\n",
    "\n",
    "\n",
    "\n",
    "\n"
   ]
  },
  {
   "cell_type": "markdown",
   "metadata": {},
   "source": [
    "# Adding KEY:Value pairs"
   ]
  },
  {
   "cell_type": "code",
   "execution_count": 78,
   "metadata": {},
   "outputs": [
    {
     "data": {
      "text/plain": [
       "{'name': 'sujal',\n",
       " 'college': 'anand',\n",
       " 'id': '22AI027',\n",
       " 'Subject': {'DSA': 50, 'oops': 100, 'DBMS': 98, 'DataScience': 45}}"
      ]
     },
     "execution_count": 78,
     "metadata": {},
     "output_type": "execute_result"
    }
   ],
   "source": [
    "''' syntax:\n",
    "apni dictionary ka naam jisme add karna h ['Key Pair jo add karna h'] = 'value jo add karni h '\n",
    "'''\n",
    "\n",
    "\n",
    "my_dict={'name':\"sujal\",'age':23}\n",
    "my_dict['gender']='male'  \n",
    "my_dict['height']=5\n",
    "my_dict\n",
    "\n",
    "student['Subject']['DataScience']=45\n",
    "student\n"
   ]
  },
  {
   "cell_type": "markdown",
   "metadata": {},
   "source": [
    "# Remove KEY:VALUE Pairs"
   ]
  },
  {
   "cell_type": "code",
   "execution_count": 79,
   "metadata": {},
   "outputs": [
    {
     "data": {
      "text/plain": [
       "{'name': 'sujal',\n",
       " 'college': 'anand',\n",
       " 'id': '22AI027',\n",
       " 'Subject': {'DSA': 50, 'oops': 100, 'DataScience': 45}}"
      ]
     },
     "execution_count": 79,
     "metadata": {},
     "output_type": "execute_result"
    }
   ],
   "source": [
    "d={'name': 'sujal', 'age': 23, 'gender': 'male', 'height': 5}\n",
    "#pop-->jo key denge uska key:value pair dlt ho jata\n",
    "#d.pop('height')\n",
    "#print(d)\n",
    "#popitem-->last wale ko hta deta h\n",
    "#d.popitem()\n",
    "#del\n",
    "del d[\"gender\"]\n",
    "d\n",
    "#clear-->dictionary ko empty kar deta h \n",
    "d.clear()\n",
    "d\n",
    "del student['Subject']['DBMS']\n",
    "student\n"
   ]
  },
  {
   "cell_type": "markdown",
   "metadata": {},
   "source": [
    "# Editing Key value pair"
   ]
  },
  {
   "cell_type": "code",
   "execution_count": 82,
   "metadata": {},
   "outputs": [
    {
     "data": {
      "text/plain": [
       "{'name': 'sujal',\n",
       " 'college': 'anand',\n",
       " 'id': '22AI023',\n",
       " 'Subject': {'DSA': 50, 'oops': 100, 'DataScience': 98}}"
      ]
     },
     "execution_count": 82,
     "metadata": {},
     "output_type": "execute_result"
    }
   ],
   "source": [
    "student['id']='22AI023'\n",
    "student\n",
    "student['Subject']['DataScience']=98\n",
    "student"
   ]
  },
  {
   "cell_type": "markdown",
   "metadata": {},
   "source": [
    "# Dictionary Opration \n",
    "1. Membership\n",
    "2. Iteration\n"
   ]
  },
  {
   "cell_type": "code",
   "execution_count": 91,
   "metadata": {},
   "outputs": [
    {
     "name": "stdout",
     "output_type": "stream",
     "text": [
      "name sujal\n",
      "age 23\n",
      "gender male\n",
      "height 5\n"
     ]
    }
   ],
   "source": [
    "#Membership operator work over keys \n",
    "#agr key value jo apn dhund rhe h woh h toh h i woh true batayega anytha nahi\n",
    "d={'name': 'sujal', 'age': 23, 'gender': 'male', 'height': 5}\n",
    "'name' in d\n",
    "'sujal' not in d\n",
    "\n",
    "#iteration\n",
    "for i in d:\n",
    "    print(i,d[i]) #d[i]= Yeh yha pe dictionary ki values print karwa dega \n",
    "                    #qki i sirf key values hi dega \n"
   ]
  },
  {
   "cell_type": "markdown",
   "metadata": {},
   "source": [
    "# Dictionary Functions\n"
   ]
  },
  {
   "cell_type": "code",
   "execution_count": 94,
   "metadata": {},
   "outputs": [
    {
     "data": {
      "text/plain": [
       "'name'"
      ]
     },
     "execution_count": 94,
     "metadata": {},
     "output_type": "execute_result"
    }
   ],
   "source": [
    "#len // Sorted\n",
    "d={'name': 'sujal', 'age': 23, 'gender': 'male', 'height': 5}\n",
    "len(d)\n",
    "sorted(d)\n",
    "min(d)\n",
    "max(d)"
   ]
  },
  {
   "cell_type": "code",
   "execution_count": 98,
   "metadata": {},
   "outputs": [
    {
     "name": "stdout",
     "output_type": "stream",
     "text": [
      "dict_items([('name', 'sujal'), ('age', 23), ('gender', 'male'), ('height', 5)])\n",
      "dict_keys(['name', 'age', 'gender', 'height'])\n",
      "dict_values(['sujal', 23, 'male', 5])\n"
     ]
    }
   ],
   "source": [
    "#items/Keys/values\n",
    "d={'name': 'sujal', 'age': 23, 'gender': 'male', 'height': 5}\n",
    "print(d.items())#Ye har ek key value pair ko list me tuple ki form me save karta h\n",
    "print(d.keys()) #ye saari dictionary ki key return karta hai\n",
    "print(d.values()) #ye saari dictionary ki value return karta hai"
   ]
  },
  {
   "cell_type": "code",
   "execution_count": 102,
   "metadata": {},
   "outputs": [
    {
     "data": {
      "text/plain": [
       "{1: 2, 2: 3, 3: 4, 4: 9, 6: 7, 8: 9}"
      ]
     },
     "execution_count": 102,
     "metadata": {},
     "output_type": "execute_result"
    }
   ],
   "source": [
    "d1={1:2,2:3,3:4,4:5}\n",
    "d2={6:7,8:9,4:9}\n",
    "d1.update(d2)\n",
    "d1"
   ]
  },
  {
   "cell_type": "markdown",
   "metadata": {},
   "source": [
    "# Dictionary Comprehension"
   ]
  },
  {
   "cell_type": "code",
   "execution_count": 105,
   "metadata": {},
   "outputs": [
    {
     "data": {
      "text/plain": [
       "{5: 25, 10: 100}"
      ]
     },
     "execution_count": 105,
     "metadata": {},
     "output_type": "execute_result"
    }
   ],
   "source": [
    "#print 1st 10 number and their squares\n",
    "{i:i**2 for i in range(1,11) if i%5==0}"
   ]
  },
  {
   "cell_type": "code",
   "execution_count": 107,
   "metadata": {},
   "outputs": [
    {
     "data": {
      "text/plain": [
       "{'Delhi': 621.371, 'Mumbai': 1242.742, 'Bengaluru': 1864.113}"
      ]
     },
     "execution_count": 107,
     "metadata": {},
     "output_type": "execute_result"
    }
   ],
   "source": [
    "#using existing dictionary\n",
    "distances={'Delhi':1000,'Mumbai':2000,'Bengaluru':3000}\n",
    "{key:value*0.621371 for (key,value) in distances.items()}"
   ]
  },
  {
   "cell_type": "code",
   "execution_count": 110,
   "metadata": {},
   "outputs": [
    {
     "data": {
      "text/plain": [
       "{'Sunday': 21.9,\n",
       " 'monday': 32.3,\n",
       " 'Tuesday': 42.42,\n",
       " 'Wednesday': 23.3,\n",
       " 'Friday': 23.4,\n",
       " 'Saturaday': 21.3}"
      ]
     },
     "execution_count": 110,
     "metadata": {},
     "output_type": "execute_result"
    }
   ],
   "source": [
    "#ZIP\n",
    "days=[\"Sunday\",\"monday\",\"Tuesday\",\"Wednesday\",\"Friday\",\"Saturaday\"]\n",
    "temp=[21.9,32.3,42.42,23.3,23.4,21.3,41.4]\n",
    "{j:k for (j,k) in zip(days,temp) }"
   ]
  },
  {
   "cell_type": "code",
   "execution_count": 115,
   "metadata": {},
   "outputs": [
    {
     "data": {
      "text/plain": [
       "{'phone': 12, 'Charger': 23}"
      ]
     },
     "execution_count": 115,
     "metadata": {},
     "output_type": "execute_result"
    }
   ],
   "source": [
    "#using if condition\n",
    "product={'phone':12,'laptop':0,'Charger':23,'bottle':0}\n",
    "{j:k for (j,k) in product.items() if k!=0}\n"
   ]
  },
  {
   "cell_type": "markdown",
   "metadata": {},
   "source": [
    "# Nested Comprehension"
   ]
  },
  {
   "cell_type": "code",
   "execution_count": 120,
   "metadata": {},
   "outputs": [
    {
     "data": {
      "text/plain": [
       "{2: {1: 2, 2: 4, 3: 6, 4: 8, 5: 10, 6: 12, 7: 14, 8: 16, 9: 18, 10: 20},\n",
       " 3: {1: 3, 2: 6, 3: 9, 4: 12, 5: 15, 6: 18, 7: 21, 8: 24, 9: 27, 10: 30},\n",
       " 4: {1: 4, 2: 8, 3: 12, 4: 16, 5: 20, 6: 24, 7: 28, 8: 32, 9: 36, 10: 40}}"
      ]
     },
     "execution_count": 120,
     "metadata": {},
     "output_type": "execute_result"
    }
   ],
   "source": [
    "#For print table of number  from 2 to 4\n",
    "{i:{j:i*j for j in range(1,11)} for i in range(2,5) }"
   ]
  },
  {
   "cell_type": "code",
   "execution_count": null,
   "metadata": {},
   "outputs": [],
   "source": [
    "{\n",
    "    2:{1:2,2:4,3:6,4:8},\n",
    "    3:{1:3,2:6,3:9,4:12},\n",
    "    4:{1:4,2:8,3:12,4:16}\n",
    "}"
   ]
  }
 ],
 "metadata": {
  "kernelspec": {
   "display_name": "Python 3",
   "language": "python",
   "name": "python3"
  },
  "language_info": {
   "codemirror_mode": {
    "name": "ipython",
    "version": 3
   },
   "file_extension": ".py",
   "mimetype": "text/x-python",
   "name": "python",
   "nbconvert_exporter": "python",
   "pygments_lexer": "ipython3",
   "version": "3.11.9"
  }
 },
 "nbformat": 4,
 "nbformat_minor": 2
}
