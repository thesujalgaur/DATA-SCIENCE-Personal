{
 "cells": [
  {
   "cell_type": "markdown",
   "metadata": {},
   "source": [
    "### 📘 Dictionary Theory in Python\n",
    "\n",
    "A **dictionary** in Python is an **unordered collection** of data in a **key-value** pair format.\n",
    "\n",
    "---\n",
    "\n",
    "#### ✅ Key Features:\n",
    "- Each item in a dictionary is a pair: `key: value`.\n",
    "- Keys must be **unique** and **immutable** (e.g., strings, numbers, tuples).\n",
    "- Values can be of any data type and can repeat.\n",
    "- Dictionaries are **mutable**, meaning they can be updated.\n",
    "\n",
    "---\n",
    "\n",
    "### 📚 Syntax:\n",
    "\n",
    "```python\n",
    "my_dict = {\n",
    "    \"name\": \"Alice\",\n",
    "    \"age\": 25,\n",
    "    \"city\": \"New York\"\n",
    "}"
   ]
  },
  {
   "cell_type": "code",
   "execution_count": null,
   "metadata": {},
   "outputs": [],
   "source": []
  }
 ],
 "metadata": {
  "language_info": {
   "name": "python"
  }
 },
 "nbformat": 4,
 "nbformat_minor": 2
}
