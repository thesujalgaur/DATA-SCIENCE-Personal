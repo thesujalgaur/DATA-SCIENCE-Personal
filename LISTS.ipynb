{
 "cells": [
  {
   "cell_type": "markdown",
   "metadata": {},
   "source": [
    "# LIST"
   ]
  },
  {
   "cell_type": "raw",
   "metadata": {
    "vscode": {
     "languageId": "raw"
    }
   },
   "source": [
    "• Ordered\n",
    "• Changeble/Mutable\n",
    "• Hetrogeneous\n",
    "• Can have duplicates\n",
    "• are dynamic\n",
    "• can be nested\n",
    "• items can be accessed\n",
    "• can contain any kind of objects in python for eg. [False,1,2,print,type,input]"
   ]
  },
  {
   "cell_type": "code",
   "execution_count": null,
   "metadata": {},
   "outputs": [],
   "source": [
    "L=[1,2,3]\n",
    "L1=[3,2,1]\n",
    "\n",
    "L==L1  # Order matters"
   ]
  },
  {
   "cell_type": "code",
   "execution_count": null,
   "metadata": {},
   "outputs": [],
   "source": [
    "#EMPTY\n",
    "print([])\n",
    "#1D\n",
    "a=[1,2,3,4]\n",
    "#2D\n",
    "a=[1,2,3,[4]]\n",
    "#3D\n",
    "a=[[[1,2,3],[1,2,3]]]\n",
    "#Heterogeneous\n",
    "a=[False,1.8,2,'ram',5+4J]\n",
    "#Using Type Conversion\n",
    "print(list(\"AnandCOllege\"))"
   ]
  },
  {
   "cell_type": "markdown",
   "metadata": {},
   "source": [
    "# Accessing items from a LIst"
   ]
  },
  {
   "cell_type": "code",
   "execution_count": null,
   "metadata": {},
   "outputs": [],
   "source": [
    "#indexing\n",
    "'Positive Indexing' # Left-->Right & Starts from 0\n",
    "'''a=[1,2,3,[4,5]]\n",
    "print(a[-1][-2]) #By negative indexing \n",
    "print(a[3][0]) # by Positive indexing'''\n",
    "a=[[[1,2],[3,4]],[[5,6],[7,8]]]\n",
    "print(a[0][0][1]) #Positive se 2 Nikala\n",
    "print(a[-2][-2][-1]) #Negative se 2 Nikala\n",
    "\n",
    "##Slicing\n",
    "list1=[1,2,3,4,5,6]\n",
    "print(list1[3:5])\n",
    "print(list1[::2]) #for printing alternatives\n",
    "print(list1[-5:-2:2])\n",
    " \n"
   ]
  },
  {
   "cell_type": "markdown",
   "metadata": {},
   "source": [
    "# Adding Item to A LIST"
   ]
  },
  {
   "cell_type": "code",
   "execution_count": null,
   "metadata": {},
   "outputs": [],
   "source": [
    "##append --> Ek baar me ek item ko list ke end me add kar payenge \n",
    "l=[1,2,3,4,5,6]\n",
    "l.append(8)\n",
    "l\n"
   ]
  },
  {
   "cell_type": "code",
   "execution_count": null,
   "metadata": {},
   "outputs": [],
   "source": [
    "##Extend --> Ek Saath Multiple items ko add karne waaste \n",
    "l=[1,2,3,4,5,6]\n",
    "l.extend([7,8,9])\n",
    "l\n",
    "l.extend('Delhi')\n",
    "l"
   ]
  },
  {
   "cell_type": "code",
   "execution_count": null,
   "metadata": {},
   "outputs": [],
   "source": [
    "#insert will use to insert an element in the particular index\n",
    "l=[1,2,3,4,5,6]\n",
    "l.insert(2,8)   #l.insert(indexvalue:valueput)\n",
    "l"
   ]
  },
  {
   "cell_type": "markdown",
   "metadata": {},
   "source": [
    "# Editing Items in a list"
   ]
  },
  {
   "cell_type": "code",
   "execution_count": null,
   "metadata": {},
   "outputs": [],
   "source": [
    "l=[1,2,3,4,5]\n",
    "\n",
    "l[1:4]='ram',9,11\n",
    "print(l)\n"
   ]
  },
  {
   "cell_type": "markdown",
   "metadata": {},
   "source": [
    "# Deletion in a list"
   ]
  },
  {
   "cell_type": "code",
   "execution_count": null,
   "metadata": {},
   "outputs": [],
   "source": [
    "#Del\n",
    "l=[1,2,3,4,5]\n",
    "#del l[-1]\n",
    "del l[1:3]\n",
    "l"
   ]
  },
  {
   "cell_type": "code",
   "execution_count": null,
   "metadata": {},
   "outputs": [],
   "source": [
    "#remove -->> ISme index value jo h batane ki jaroorat nahi hai ,by writing the element we can do\n",
    "l=[1,2,3,4,5]\n",
    "l.remove(5)\n",
    "l"
   ]
  },
  {
   "cell_type": "code",
   "execution_count": null,
   "metadata": {},
   "outputs": [],
   "source": [
    "#pop --> kisi particular index par rakhe item ko delete kar deta or agar khali chord te h toh last wala delete ho jata hai \n",
    "\n",
    "l=[1,2,3,4,5]\n",
    "l.pop(0)\n",
    "print(l)\n",
    "l.pop()\n",
    "l\n",
    "\n"
   ]
  },
  {
   "cell_type": "code",
   "execution_count": null,
   "metadata": {},
   "outputs": [],
   "source": [
    "##Clear --> completely clear all over the list\n",
    "l=[1,2,3,4,5]\n",
    "l.clear()\n",
    "l\n"
   ]
  },
  {
   "cell_type": "markdown",
   "metadata": {},
   "source": [
    "# Operations In List"
   ]
  },
  {
   "cell_type": "code",
   "execution_count": null,
   "metadata": {},
   "outputs": [],
   "source": [
    "##Aritmetic operation --> + or *\n",
    "l1=[1,2,3,4,5]\n",
    "l2=[7,8,9,20]\n",
    "print(l1+l2)"
   ]
  },
  {
   "cell_type": "code",
   "execution_count": null,
   "metadata": {},
   "outputs": [],
   "source": [
    "l1=[1,2,3,4,5]\n",
    "l2=[7,8,9,20]\n",
    "print(l1*2)\n",
    "l1*5"
   ]
  },
  {
   "cell_type": "markdown",
   "metadata": {},
   "source": [
    "#membership"
   ]
  },
  {
   "cell_type": "code",
   "execution_count": null,
   "metadata": {},
   "outputs": [],
   "source": [
    "l1=[1,2,3,4,5]\n",
    "l2=[1,2,3,4,[5,6]] #5 list me nhi balki list k andar list me h toh ye nhi include hoga\n",
    "print(6 in l1 ) # this tells that the given value is in the list or not\n",
    "print(5 not in l1)\n",
    "print(4 in l2)\n"
   ]
  },
  {
   "cell_type": "markdown",
   "metadata": {},
   "source": [
    "# List Function"
   ]
  },
  {
   "cell_type": "code",
   "execution_count": null,
   "metadata": {},
   "outputs": [],
   "source": [
    "#len/min/max/sorted\n",
    "l=[1,2,3,4,5,6,9,8]\n",
    "print(len(l))\n",
    "print(min(l))\n",
    "print(max(l))\n",
    "print(sorted(l)) #ascending me kar deta h\n",
    "print(sorted(l,reverse=True)) #descending karne k liye"
   ]
  },
  {
   "cell_type": "code",
   "execution_count": null,
   "metadata": {},
   "outputs": [],
   "source": [
    "#count\n",
    "l=[1,1,2,3,4,5,6,9,8] #kisi bhi element ki value ko count karne ke kaam me aata\n",
    "l.count(1)"
   ]
  },
  {
   "cell_type": "code",
   "execution_count": null,
   "metadata": {},
   "outputs": [],
   "source": [
    "#index\n",
    "l=[1,2,3,4,5,6,9,8]\n",
    "l.index(6)"
   ]
  },
  {
   "cell_type": "code",
   "execution_count": null,
   "metadata": {},
   "outputs": [],
   "source": [
    "#reverse function is a permanent function\n",
    "l=[1,2,3,4,5,6,9,8]\n",
    "l.reverse()\n",
    "print(l)"
   ]
  },
  {
   "cell_type": "code",
   "execution_count": null,
   "metadata": {},
   "outputs": [],
   "source": [
    "#sort (vs Sorted)\n",
    "#sort permanently sort karta hai aur sorted temporary\n",
    "l=[1,2,50,4,5,6,9,8]\n",
    "l.sort()\n",
    "print(l)"
   ]
  },
  {
   "cell_type": "code",
   "execution_count": null,
   "metadata": {},
   "outputs": [],
   "source": [
    "#copy ---> Shallow\n",
    "l=[1,2,3,4,5,6,9,8]\n",
    "print(l)\n",
    "print(id(l))\n",
    "l2=l.copy()\n",
    "print(l2)\n",
    "print(id(l2))\n",
    "# as we see in output below that the memory address\n",
    "# of both the list is different means that this is copied !\n"
   ]
  },
  {
   "cell_type": "markdown",
   "metadata": {},
   "source": [
    "# List Comprehension\n",
    "list comprehension provides a concise way to create lists"
   ]
  },
  {
   "cell_type": "code",
   "execution_count": 1,
   "metadata": {},
   "outputs": [
    {
     "name": "stdout",
     "output_type": "stream",
     "text": [
      "[1, 2, 3, 4, 5, 6, 7, 8, 9, 10]\n"
     ]
    }
   ],
   "source": [
    "# Add 1 to 10 number in  a list\n",
    "l=[]\n",
    "for i in range (1,11):\n",
    "    l.append(i)\n",
    "print(l)\n",
    "    "
   ]
  },
  {
   "cell_type": "code",
   "execution_count": 2,
   "metadata": {},
   "outputs": [
    {
     "data": {
      "text/plain": [
       "[1, 2, 3, 4, 5, 6, 7, 8, 9, 10]"
      ]
     },
     "execution_count": 2,
     "metadata": {},
     "output_type": "execute_result"
    }
   ],
   "source": [
    "##using list comprehension\n",
    "l=[i for i in range(1,11)]\n",
    "l"
   ]
  },
  {
   "cell_type": "code",
   "execution_count": 3,
   "metadata": {},
   "outputs": [
    {
     "data": {
      "text/plain": [
       "[-6, -8, -10]"
      ]
     },
     "execution_count": 3,
     "metadata": {},
     "output_type": "execute_result"
    }
   ],
   "source": [
    "## Scalar multiplication on a vector\n",
    "v=[3,4,5] #vector\n",
    "s=-2 #scalar\n",
    "'''x=[]\n",
    "for i in v:\n",
    " x.append(i*s)  # manual way\n",
    "print(x)'''\n",
    " \n",
    "l=[s*i for i in  v] #list comprehension\n",
    "l\n",
    " \n",
    "\n",
    "    "
   ]
  },
  {
   "cell_type": "code",
   "execution_count": null,
   "metadata": {},
   "outputs": [],
   "source": [
    "v=[-2,4,6]\n",
    "s=9\n",
    "\n",
    "l=[s*i for i in v]\n",
    "l"
   ]
  },
  {
   "cell_type": "code",
   "execution_count": null,
   "metadata": {},
   "outputs": [],
   "source": [
    "##ADD the Squares\n",
    "a=[23,45,23,34]\n",
    "[i**2 for i in a ]"
   ]
  },
  {
   "cell_type": "code",
   "execution_count": null,
   "metadata": {},
   "outputs": [],
   "source": [
    "b=[23,42,4,2,2424,2,24,24,2,44,2,4]\n",
    "[c**2 for c in b]"
   ]
  },
  {
   "cell_type": "code",
   "execution_count": null,
   "metadata": {},
   "outputs": [],
   "source": [
    "k=[23,242,4,24,42,4,4,2,424,2,4,24,2,42,4,42424,345,3]\n",
    "[j**2 for j in k]\n"
   ]
  },
  {
   "cell_type": "code",
   "execution_count": null,
   "metadata": {},
   "outputs": [],
   "source": [
    "#print all the number divisible by 5 in range 1 to 50\n",
    "\n",
    "l=[i for i in range(1,51) if i%5==0]\n",
    "l"
   ]
  },
  {
   "cell_type": "code",
   "execution_count": null,
   "metadata": {},
   "outputs": [],
   "source": [
    "#find the languages which starts from letter p\n",
    "languages=['php','pyhton','pandas','java','cpp','c','r']\n",
    "[language for language  in languages if language.startswith(\"j\")]"
   ]
  },
  {
   "cell_type": "code",
   "execution_count": null,
   "metadata": {},
   "outputs": [],
   "source": [
    "#Nested if with list Comprehension\n",
    "basket=['apple',\"guava\",'Cherry',\"Banana\"]\n",
    "my_fruits=[\"apple\",\"kiwi\",\"grapes\",\"banana\"]\n",
    "#add new list from my_fruits and items if the fruit existed in the basket and also starts with the a\n",
    "[fruit for fruit in my_fruits if fruit in basket if fruit.startswith('a') ]\n",
    "\n"
   ]
  },
  {
   "cell_type": "code",
   "execution_count": null,
   "metadata": {},
   "outputs": [],
   "source": [
    "#print a [3*3] matrix \n",
    "[[i*j for i in range(1,4)] for j in range(5,8)]"
   ]
  },
  {
   "cell_type": "markdown",
   "metadata": {},
   "source": [
    "# Traversing of a List"
   ]
  },
  {
   "cell_type": "code",
   "execution_count": null,
   "metadata": {},
   "outputs": [],
   "source": [
    "#Itemwise \n",
    "l=[1,2,3,4,5]\n",
    "for i in l:\n",
    "    print(i)"
   ]
  },
  {
   "cell_type": "code",
   "execution_count": null,
   "metadata": {},
   "outputs": [],
   "source": [
    "#IndexWise\n",
    "l=[1,2,3,4,5,6]\n",
    "for i in range(0,len(l)):\n",
    "    print(i)\n"
   ]
  },
  {
   "cell_type": "markdown",
   "metadata": {},
   "source": [
    "# ZIP\n",
    "--> A zip function return a zIP object , which is an iterator of tuples  where the first item in each passed iterator is paired together,and then the second item in each passssed iterator are paired together.\n",
    "IF the passed iterator have different lengths , the iterator with the list item will decide the length of the new iterator"
   ]
  },
  {
   "cell_type": "code",
   "execution_count": 40,
   "metadata": {},
   "outputs": [
    {
     "data": {
      "text/plain": [
       "[(4, 2), (5, 3), (6, 5), (7, 6), (7, 7)]"
      ]
     },
     "execution_count": 40,
     "metadata": {},
     "output_type": "execute_result"
    }
   ],
   "source": [
    "l1=[4,5,6,7,7]\n",
    "l2=[2,3,5,6,7]\n",
    "list(zip(l1,l2)) #isme pahle hum zip kar lenge aur usko dekhne ke liye aage \"list\" lagana padta h "
   ]
  },
  {
   "cell_type": "code",
   "execution_count": 42,
   "metadata": {},
   "outputs": [
    {
     "data": {
      "text/plain": [
       "[6, 8, 11, 13, 14]"
      ]
     },
     "execution_count": 42,
     "metadata": {},
     "output_type": "execute_result"
    }
   ],
   "source": [
    "#write a program to add items of 2 list indexwise \n",
    "l1=[4,5,6,7,7]\n",
    "l2=[2,3,5,6,7]\n",
    "\n",
    "[i+j for i,j in zip(l1,l2) ]\n"
   ]
  },
  {
   "cell_type": "markdown",
   "metadata": {
    "tags": [
     "parameters"
    ]
   },
   "source": [
    "# DisAdvantage of Python List\n",
    "SLOW\n",
    "RISKY USAGES\n",
    "Eats up more memory"
   ]
  }
 ],
 "metadata": {
  "kernelspec": {
   "display_name": "Python 3",
   "language": "python",
   "name": "python3"
  },
  "language_info": {
   "codemirror_mode": {
    "name": "ipython",
    "version": 3
   },
   "file_extension": ".py",
   "mimetype": "text/x-python",
   "name": "python",
   "nbconvert_exporter": "python",
   "pygments_lexer": "ipython3",
   "version": "3.11.9"
  }
 },
 "nbformat": 4,
 "nbformat_minor": 2
}
