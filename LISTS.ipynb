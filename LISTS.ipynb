{
 "cells": [
  {
   "cell_type": "markdown",
   "metadata": {},
   "source": [
    "# LIST"
   ]
  },
  {
   "cell_type": "raw",
   "metadata": {
    "vscode": {
     "languageId": "raw"
    }
   },
   "source": [
    "• Ordered\n",
    "• Changeble/Mutable\n",
    "• Hetrogeneous\n",
    "• Can have duplicates\n",
    "• are dynamic\n",
    "• can be nested\n",
    "• items can be accessed\n",
    "• can contain any kind of objects in python"
   ]
  },
  {
   "cell_type": "code",
   "execution_count": 1,
   "metadata": {},
   "outputs": [
    {
     "data": {
      "text/plain": [
       "False"
      ]
     },
     "execution_count": 1,
     "metadata": {},
     "output_type": "execute_result"
    }
   ],
   "source": [
    "L=[1,2,3]\n",
    "L1=[3,2,1]\n",
    "\n",
    "L==L1  # Order matters"
   ]
  },
  {
   "cell_type": "code",
   "execution_count": 8,
   "metadata": {},
   "outputs": [
    {
     "name": "stdout",
     "output_type": "stream",
     "text": [
      "[]\n",
      "['A', 'n', 'a', 'n', 'd', ' ', 'C', 'O', 'l', 'l', 'e', 'g', 'e']\n"
     ]
    }
   ],
   "source": [
    "#EMPTY\n",
    "print([])\n",
    "#1D\n",
    "a=[1,2,3,4]\n",
    "#2D\n",
    "a=[1,2,3,[4]]\n",
    "#3D\n",
    "a=[[[1,2,3],[1,2,3]]]\n",
    "#Heterogeneous\n",
    "a=[False,1.8,2,'ram',5+4J]\n",
    "#Using Type Conversion\n",
    "print(list(\"AnandCOllege\"))"
   ]
  },
  {
   "cell_type": "markdown",
   "metadata": {},
   "source": [
    "# Accessing items from a LIst"
   ]
  },
  {
   "cell_type": "code",
   "execution_count": 28,
   "metadata": {},
   "outputs": [
    {
     "name": "stdout",
     "output_type": "stream",
     "text": [
      "2\n",
      "2\n",
      "[4, 5]\n",
      "[1, 3, 5]\n",
      "[2, 4]\n"
     ]
    }
   ],
   "source": [
    "#indexing\n",
    "'Positive Indexing' # Left-->Right & Starts from 0\n",
    "'''a=[1,2,3,[4,5]]\n",
    "print(a[-1][-2]) #By negative indexing \n",
    "print(a[3][0]) # by Positive indexing'''\n",
    "a=[[[1,2],[3,4]],[[5,6],[7,8]]]\n",
    "print(a[0][0][1]) #Positive se 2 Nikala\n",
    "print(a[-2][-2][-1]) #Negative se 2 Nikala\n",
    "\n",
    "##Slicing\n",
    "list1=[1,2,3,4,5,6]\n",
    "print(list1[3:5])\n",
    "print(list1[::2]) #for printing alternatives\n",
    "print(list1[-5:-2:2])\n",
    " \n"
   ]
  },
  {
   "cell_type": "markdown",
   "metadata": {},
   "source": [
    "# Adding Item to A LIST"
   ]
  },
  {
   "cell_type": "code",
   "execution_count": 30,
   "metadata": {},
   "outputs": [
    {
     "data": {
      "text/plain": [
       "[1, 2, 3, 4, 5, 6, 8]"
      ]
     },
     "execution_count": 30,
     "metadata": {},
     "output_type": "execute_result"
    }
   ],
   "source": [
    "##append --> Ek baar me ek item ko list ke end me add kar payenge \n",
    "l=[1,2,3,4,5,6]\n",
    "l.append(8)\n",
    "l\n"
   ]
  },
  {
   "cell_type": "code",
   "execution_count": 34,
   "metadata": {},
   "outputs": [
    {
     "data": {
      "text/plain": [
       "[1, 2, 3, 4, 5, 6, 7, 8, 9, 'D', 'e', 'l', 'h', 'i']"
      ]
     },
     "execution_count": 34,
     "metadata": {},
     "output_type": "execute_result"
    }
   ],
   "source": [
    "##Extend --> Ek Saath Multiple items ko add karne waaste \n",
    "l=[1,2,3,4,5,6]\n",
    "l.extend([7,8,9])\n",
    "l\n",
    "l.extend('Delhi')\n",
    "l"
   ]
  },
  {
   "cell_type": "code",
   "execution_count": 35,
   "metadata": {},
   "outputs": [
    {
     "data": {
      "text/plain": [
       "[1, 2, 2300, 3, 4, 5, 6]"
      ]
     },
     "execution_count": 35,
     "metadata": {},
     "output_type": "execute_result"
    }
   ],
   "source": [
    "#insert will use to insert an element in the particular index\n",
    "l=[1,2,3,4,5,6]\n",
    "l.insert(2,8)   #l.insert(indexvalue:valueput)\n",
    "l"
   ]
  },
  {
   "cell_type": "markdown",
   "metadata": {},
   "source": [
    "# Editing Items in a list"
   ]
  },
  {
   "cell_type": "code",
   "execution_count": 43,
   "metadata": {},
   "outputs": [
    {
     "name": "stdout",
     "output_type": "stream",
     "text": [
      "[1, 'ram', 9, 11, 5]\n"
     ]
    }
   ],
   "source": [
    "l=[1,2,3,4,5]\n",
    "\n",
    "l[1:4]='ram',9,11\n",
    "print(l)\n"
   ]
  },
  {
   "cell_type": "markdown",
   "metadata": {},
   "source": [
    "# Deletion in a list"
   ]
  },
  {
   "cell_type": "code",
   "execution_count": 50,
   "metadata": {},
   "outputs": [
    {
     "data": {
      "text/plain": [
       "[1, 4, 5]"
      ]
     },
     "execution_count": 50,
     "metadata": {},
     "output_type": "execute_result"
    }
   ],
   "source": [
    "#Del\n",
    "l=[1,2,3,4,5]\n",
    "#del l[-1]\n",
    "del l[1:3]\n",
    "l"
   ]
  },
  {
   "cell_type": "code",
   "execution_count": 51,
   "metadata": {},
   "outputs": [
    {
     "data": {
      "text/plain": [
       "[1, 2, 3, 4]"
      ]
     },
     "execution_count": 51,
     "metadata": {},
     "output_type": "execute_result"
    }
   ],
   "source": [
    "#remove -->> ISme index value jo h batane ki jaroorat nahi hai ,by writing the element we can do\n",
    "l=[1,2,3,4,5]\n",
    "l.remove(5)\n",
    "l"
   ]
  },
  {
   "cell_type": "code",
   "execution_count": 55,
   "metadata": {},
   "outputs": [
    {
     "name": "stdout",
     "output_type": "stream",
     "text": [
      "[2, 3, 4, 5]\n"
     ]
    },
    {
     "data": {
      "text/plain": [
       "[2, 3, 4]"
      ]
     },
     "execution_count": 55,
     "metadata": {},
     "output_type": "execute_result"
    }
   ],
   "source": [
    "#pop --> kisi particular index par rakhe item ko delete kar deta or agar khali chord te h toh last wala delete ho jata hai \n",
    "\n",
    "l=[1,2,3,4,5]\n",
    "l.pop(0)\n",
    "print(l)\n",
    "l.pop()\n",
    "l\n",
    "\n"
   ]
  },
  {
   "cell_type": "code",
   "execution_count": 57,
   "metadata": {},
   "outputs": [
    {
     "data": {
      "text/plain": [
       "[]"
      ]
     },
     "execution_count": 57,
     "metadata": {},
     "output_type": "execute_result"
    }
   ],
   "source": [
    "##Clear --> completely clear all over the list\n",
    "l=[1,2,3,4,5]\n",
    "l.clear()\n",
    "l\n"
   ]
  }
 ],
 "metadata": {
  "kernelspec": {
   "display_name": "Python 3",
   "language": "python",
   "name": "python3"
  },
  "language_info": {
   "codemirror_mode": {
    "name": "ipython",
    "version": 3
   },
   "file_extension": ".py",
   "mimetype": "text/x-python",
   "name": "python",
   "nbconvert_exporter": "python",
   "pygments_lexer": "ipython3",
   "version": "3.11.9"
  }
 },
 "nbformat": 4,
 "nbformat_minor": 2
}
