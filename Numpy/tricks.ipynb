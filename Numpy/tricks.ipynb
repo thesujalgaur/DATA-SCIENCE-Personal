{
 "cells": [
  {
   "cell_type": "code",
   "execution_count": 5,
   "metadata": {},
   "outputs": [
    {
     "data": {
      "text/plain": [
       "array([17, 26, 27, 32, 38, 44, 51, 59, 67, 71, 72, 75, 83, 83, 89])"
      ]
     },
     "execution_count": 5,
     "metadata": {},
     "output_type": "execute_result"
    }
   ],
   "source": [
    "#np.sort\n",
    "#return a sorted copy of an array\n",
    "# numpy.sort(a, axis=1 (row sorting),0 rakhne pe (column sort ), kind=None, order=None) #\n",
    "import numpy as np\n",
    "a=np.random.randint(1,100,15)\n",
    "np.sort(a)\n",
    "\n"
   ]
  },
  {
   "cell_type": "code",
   "execution_count": 7,
   "metadata": {},
   "outputs": [
    {
     "data": {
      "text/plain": [
       "array([[61, 77, 10, 46],\n",
       "       [57,  1, 88, 27],\n",
       "       [29, 37, 50, 36],\n",
       "       [ 9, 12, 85, 21],\n",
       "       [79, 98, 86, 63],\n",
       "       [95, 87, 49, 35]])"
      ]
     },
     "execution_count": 7,
     "metadata": {},
     "output_type": "execute_result"
    }
   ],
   "source": [
    "b=np.random.randint(1,100,24).reshape(6,4)\n",
    "b"
   ]
  },
  {
   "cell_type": "code",
   "execution_count": 11,
   "metadata": {},
   "outputs": [
    {
     "data": {
      "text/plain": [
       "array([[ 9,  1, 10, 21],\n",
       "       [29, 12, 49, 27],\n",
       "       [57, 37, 50, 35],\n",
       "       [61, 77, 85, 36],\n",
       "       [79, 87, 86, 46],\n",
       "       [95, 98, 88, 63]])"
      ]
     },
     "execution_count": 11,
     "metadata": {},
     "output_type": "execute_result"
    }
   ],
   "source": [
    "np.sort(b,axis=0) #column sort "
   ]
  },
  {
   "cell_type": "code",
   "execution_count": 15,
   "metadata": {},
   "outputs": [
    {
     "data": {
      "text/plain": [
       "array([[35, 49, 87, 95],\n",
       "       [63, 79, 86, 98],\n",
       "       [ 9, 12, 21, 85],\n",
       "       [29, 36, 37, 50],\n",
       "       [ 1, 27, 57, 88],\n",
       "       [10, 46, 61, 77]])"
      ]
     },
     "execution_count": 15,
     "metadata": {},
     "output_type": "execute_result"
    }
   ],
   "source": [
    "#descending order me sort karna hai \n",
    "np.sort(b)[::-1]"
   ]
  },
  {
   "cell_type": "code",
   "execution_count": 18,
   "metadata": {},
   "outputs": [
    {
     "data": {
      "text/plain": [
       "array([89, 26, 83, 44, 83, 71, 67, 72, 38, 51, 32, 75, 27, 59, 17, 27])"
      ]
     },
     "execution_count": 18,
     "metadata": {},
     "output_type": "execute_result"
    }
   ],
   "source": [
    "#append\n",
    "# The numpy.append() appends values along the mentioned axis at the end of the array\n",
    "np.append(b,200)\n",
    "np.append(a,27)"
   ]
  },
  {
   "cell_type": "code",
   "execution_count": 39,
   "metadata": {},
   "outputs": [
    {
     "name": "stdout",
     "output_type": "stream",
     "text": [
      "[[61. 77. 10. 46.  1.]\n",
      " [57.  1. 88. 27.  1.]\n",
      " [29. 37. 50. 36.  1.]\n",
      " [ 9. 12. 85. 21.  1.]\n",
      " [79. 98. 86. 63.  1.]\n",
      " [95. 87. 49. 35.  1.]]\n"
     ]
    }
   ],
   "source": [
    "# np.append(b,np.ones((b.shape[0],1)),axis=1)\n",
    "print(np.append(b, np.ones((b.shape[0],1)), axis=1))  "
   ]
  },
  {
   "cell_type": "code",
   "execution_count": 50,
   "metadata": {},
   "outputs": [
    {
     "name": "stdout",
     "output_type": "stream",
     "text": [
      "[[0 1 2]\n",
      " [3 4 5]]\n",
      "[[ 6  7  8]\n",
      " [ 9 10 11]]\n"
     ]
    },
    {
     "data": {
      "text/plain": [
       "array([[ 0,  1,  2,  6,  7,  8],\n",
       "       [ 3,  4,  5,  9, 10, 11]])"
      ]
     },
     "execution_count": 50,
     "metadata": {},
     "output_type": "execute_result"
    }
   ],
   "source": [
    "#np.concatenate\n",
    "#2d data ke sath jyada kaam aata h \n",
    "c=np.arange(6).reshape(2,3)\n",
    "d=np.arange(6,12).reshape(2,3)\n",
    "print(c)\n",
    "print(d)\n",
    "np.concatenate((c,d,),axis=1)"
   ]
  },
  {
   "cell_type": "code",
   "execution_count": 53,
   "metadata": {},
   "outputs": [
    {
     "data": {
      "text/plain": [
       "array([1, 2, 3])"
      ]
     },
     "execution_count": 53,
     "metadata": {},
     "output_type": "execute_result"
    }
   ],
   "source": [
    "#np.unique\n",
    "e=np.array([1,1,2,2,3,3,4,4,5,5,6,6])\n",
    "f=np.array([[1,2,3,1],[1,2,3,2]])\n",
    "\n",
    "np.unique(e)\n",
    "np.unique(f)"
   ]
  },
  {
   "cell_type": "code",
   "execution_count": 63,
   "metadata": {},
   "outputs": [
    {
     "name": "stdout",
     "output_type": "stream",
     "text": [
      "(15,)\n",
      "(1, 15)\n",
      "(15, 1)\n"
     ]
    }
   ],
   "source": [
    "#np.expanddims --> can convert any type array in any dimension\n",
    "print(a.shape)\n",
    "print(np.expand_dims(a,axis=0).shape)\n",
    "print(np.expand_dims(a,axis=1).shape)"
   ]
  },
  {
   "cell_type": "code",
   "execution_count": 66,
   "metadata": {},
   "outputs": [
    {
     "name": "stdout",
     "output_type": "stream",
     "text": [
      "[89 26 83 44 83 71 67 72 38 51 32 75 27 59 17]\n"
     ]
    },
    {
     "data": {
      "text/plain": [
       "(array([ 0,  2,  4,  5,  6,  7,  9, 11, 13]),)"
      ]
     },
     "execution_count": 66,
     "metadata": {},
     "output_type": "execute_result"
    }
   ],
   "source": [
    "#np.where\n",
    "# Return the indices of element in input array where the given condition is satisfied \n",
    "print(a)\n",
    "np.where(a>50)\n"
   ]
  },
  {
   "cell_type": "code",
   "execution_count": 68,
   "metadata": {},
   "outputs": [
    {
     "name": "stdout",
     "output_type": "stream",
     "text": [
      "[ 0 26  0 44  0  0  0  0 38  0 32  0 27  0 17]\n",
      "[89  0 83  0 83 71 67  0  0 51  0 75 27 59 17]\n"
     ]
    }
   ],
   "source": [
    "#replace all values > 50 to 0\n",
    "# np.where(condition,TRue hone pe kya replace karna ,False hone pe kya ??)\n",
    "print(np.where(a>50,0,a))\n",
    "#saare even number ko 0 se replace karna h \n",
    "print(np.where(a%2==0,0,a))"
   ]
  },
  {
   "cell_type": "markdown",
   "metadata": {},
   "source": [
    "# np.argmax()\n",
    "1. # The numpy.argmax() function returns indices of the max element of the array in a particular axis."
   ]
  },
  {
   "cell_type": "code",
   "execution_count": 76,
   "metadata": {},
   "outputs": [
    {
     "name": "stdout",
     "output_type": "stream",
     "text": [
      "[[68 59 40 20 12 11]\n",
      " [19 14 85  9 22 19]\n",
      " [94 41 47 47 45 89]\n",
      " [62 70 59 29 96 91]]\n",
      "[2 3 1 2 3 3]\n",
      "9\n"
     ]
    }
   ],
   "source": [
    "a=np.random.randint(1,100,24).reshape(4,6)\n",
    "print(a)\n",
    "print(np.argmax(a))\n",
    "print(np.argmin(a))\n"
   ]
  },
  {
   "cell_type": "markdown",
   "metadata": {},
   "source": [
    "# cumsum\n",
    "# Return the cumulative sum of the elements along a given axis."
   ]
  },
  {
   "cell_type": "code",
   "execution_count": 79,
   "metadata": {},
   "outputs": [
    {
     "data": {
      "text/plain": [
       "array([   1,    2,    6,   24,  120,  720, 6480])"
      ]
     },
     "execution_count": 79,
     "metadata": {},
     "output_type": "execute_result"
    }
   ],
   "source": [
    "# numpy.cumsum function is used when we want to compute the cumulative sum of array elements over a given axis.\n",
    "a=np.array([1,2,3,4,5,6,9])\n",
    "a\n",
    "np.cumulative_sum(a)\n",
    "# ye pahle 1 +2 karta h phir 3+3 karta h phir 6+4 \n",
    "# for example VIRAT KOHLI KA  carreer start run h 0,34,56,33,23,53 to jab woh manle 34 pe tha\n",
    "#tab uska jo career run kitne the 0+34-->34 cumulative sum\n",
    "np.cumulative_prod(a) #similar product ke liye "
   ]
  },
  {
   "cell_type": "code",
   "execution_count": 85,
   "metadata": {},
   "outputs": [
    {
     "name": "stdout",
     "output_type": "stream",
     "text": [
      "[[ 1  2  3  4  5]\n",
      " [ 6  7  8  9 10]]\n"
     ]
    },
    {
     "data": {
      "text/plain": [
       "array([[ 1,  2,  3,  4,  5],\n",
       "       [ 6, 14, 24, 36, 50]])"
      ]
     },
     "execution_count": 85,
     "metadata": {},
     "output_type": "execute_result"
    }
   ],
   "source": [
    "#lets try for 2d array\n",
    "b=np.array([[1,2,3,4,5],[6,7,8,9,10]])\n",
    "print(b)\n",
    "np.cumulative_prod(b,axis=0) "
   ]
  },
  {
   "cell_type": "markdown",
   "metadata": {},
   "source": [
    "# Numpy.percentile()\n",
    "1. **numpy.percentile()function used to compute the nth percentile of the given data (array elements) along the specified axis.**"
   ]
  },
  {
   "cell_type": "code",
   "execution_count": 90,
   "metadata": {},
   "outputs": [
    {
     "ename": "TypeError",
     "evalue": "percentile() missing 1 required positional argument: 'q'",
     "output_type": "error",
     "traceback": [
      "\u001b[31m---------------------------------------------------------------------------\u001b[39m",
      "\u001b[31mTypeError\u001b[39m                                 Traceback (most recent call last)",
      "\u001b[36mCell\u001b[39m\u001b[36m \u001b[39m\u001b[32mIn[90]\u001b[39m\u001b[32m, line 2\u001b[39m\n\u001b[32m      1\u001b[39m a\n\u001b[32m----> \u001b[39m\u001b[32m2\u001b[39m \u001b[43mnp\u001b[49m\u001b[43m.\u001b[49m\u001b[43mpercentile\u001b[49m\u001b[43m(\u001b[49m\u001b[43ma\u001b[49m\u001b[43m)\u001b[49m\n",
      "\u001b[31mTypeError\u001b[39m: percentile() missing 1 required positional argument: 'q'"
     ]
    }
   ],
   "source": [
    "a\n",
    "np.percentile(a)"
   ]
  }
 ],
 "metadata": {
  "kernelspec": {
   "display_name": "Python 3",
   "language": "python",
   "name": "python3"
  },
  "language_info": {
   "codemirror_mode": {
    "name": "ipython",
    "version": 3
   },
   "file_extension": ".py",
   "mimetype": "text/x-python",
   "name": "python",
   "nbconvert_exporter": "python",
   "pygments_lexer": "ipython3",
   "version": "3.11.9"
  }
 },
 "nbformat": 4,
 "nbformat_minor": 2
}
