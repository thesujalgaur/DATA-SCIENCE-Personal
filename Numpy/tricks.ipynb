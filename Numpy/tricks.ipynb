{
 "cells": [
  {
   "cell_type": "code",
   "execution_count": 2,
   "metadata": {},
   "outputs": [
    {
     "data": {
      "text/plain": [
       "array([ 3,  4, 11, 15, 20, 22, 23, 25, 39, 47, 56, 75, 77, 80, 88])"
      ]
     },
     "execution_count": 2,
     "metadata": {},
     "output_type": "execute_result"
    }
   ],
   "source": [
    "#np.sort\n",
    "#return a sorted copy of an array\n",
    "# numpy.sort(a, axis=1 (row sorting),0 rakhne pe (column sort ), kind=None, order=None) #\n",
    "import numpy as np\n",
    "a=np.random.randint(1,100,15)\n",
    "np.sort(a)\n",
    "\n"
   ]
  },
  {
   "cell_type": "code",
   "execution_count": 3,
   "metadata": {},
   "outputs": [
    {
     "data": {
      "text/plain": [
       "array([[23, 90, 30, 21],\n",
       "       [58,  5, 54, 25],\n",
       "       [22, 58, 55, 89],\n",
       "       [28, 50, 17, 31],\n",
       "       [92, 90, 56, 51],\n",
       "       [35, 75, 79, 92]])"
      ]
     },
     "execution_count": 3,
     "metadata": {},
     "output_type": "execute_result"
    }
   ],
   "source": [
    "b=np.random.randint(1,100,24).reshape(6,4)\n",
    "b"
   ]
  },
  {
   "cell_type": "code",
   "execution_count": 4,
   "metadata": {},
   "outputs": [
    {
     "data": {
      "text/plain": [
       "array([[22,  5, 17, 21],\n",
       "       [23, 50, 30, 25],\n",
       "       [28, 58, 54, 31],\n",
       "       [35, 75, 55, 51],\n",
       "       [58, 90, 56, 89],\n",
       "       [92, 90, 79, 92]])"
      ]
     },
     "execution_count": 4,
     "metadata": {},
     "output_type": "execute_result"
    }
   ],
   "source": [
    "np.sort(b,axis=0) #column sort "
   ]
  },
  {
   "cell_type": "code",
   "execution_count": 5,
   "metadata": {},
   "outputs": [
    {
     "data": {
      "text/plain": [
       "array([[35, 75, 79, 92],\n",
       "       [51, 56, 90, 92],\n",
       "       [17, 28, 31, 50],\n",
       "       [22, 55, 58, 89],\n",
       "       [ 5, 25, 54, 58],\n",
       "       [21, 23, 30, 90]])"
      ]
     },
     "execution_count": 5,
     "metadata": {},
     "output_type": "execute_result"
    }
   ],
   "source": [
    "#descending order me sort karna hai \n",
    "np.sort(b)[::-1]"
   ]
  },
  {
   "cell_type": "code",
   "execution_count": 6,
   "metadata": {},
   "outputs": [
    {
     "data": {
      "text/plain": [
       "array([20, 23, 80, 56, 25, 88, 15, 75,  4, 22, 47,  3, 11, 39, 77, 27])"
      ]
     },
     "execution_count": 6,
     "metadata": {},
     "output_type": "execute_result"
    }
   ],
   "source": [
    "#append\n",
    "# The numpy.append() appends values along the mentioned axis at the end of the array\n",
    "np.append(b,200)\n",
    "np.append(a,27)"
   ]
  },
  {
   "cell_type": "code",
   "execution_count": 7,
   "metadata": {},
   "outputs": [
    {
     "name": "stdout",
     "output_type": "stream",
     "text": [
      "[[23. 90. 30. 21.  1.]\n",
      " [58.  5. 54. 25.  1.]\n",
      " [22. 58. 55. 89.  1.]\n",
      " [28. 50. 17. 31.  1.]\n",
      " [92. 90. 56. 51.  1.]\n",
      " [35. 75. 79. 92.  1.]]\n"
     ]
    }
   ],
   "source": [
    "# np.append(b,np.ones((b.shape[0],1)),axis=1)\n",
    "print(np.append(b, np.ones((b.shape[0],1)), axis=1))  "
   ]
  },
  {
   "cell_type": "code",
   "execution_count": 8,
   "metadata": {},
   "outputs": [
    {
     "name": "stdout",
     "output_type": "stream",
     "text": [
      "[[0 1 2]\n",
      " [3 4 5]]\n",
      "[[ 6  7  8]\n",
      " [ 9 10 11]]\n"
     ]
    },
    {
     "data": {
      "text/plain": [
       "array([[ 0,  1,  2,  6,  7,  8],\n",
       "       [ 3,  4,  5,  9, 10, 11]])"
      ]
     },
     "execution_count": 8,
     "metadata": {},
     "output_type": "execute_result"
    }
   ],
   "source": [
    "#np.concatenate\n",
    "#2d data ke sath jyada kaam aata h \n",
    "c=np.arange(6).reshape(2,3)\n",
    "d=np.arange(6,12).reshape(2,3)\n",
    "print(c)\n",
    "print(d)\n",
    "np.concatenate((c,d,),axis=1)"
   ]
  },
  {
   "cell_type": "code",
   "execution_count": 9,
   "metadata": {},
   "outputs": [
    {
     "data": {
      "text/plain": [
       "array([1, 2, 3])"
      ]
     },
     "execution_count": 9,
     "metadata": {},
     "output_type": "execute_result"
    }
   ],
   "source": [
    "#np.unique\n",
    "e=np.array([1,1,2,2,3,3,4,4,5,5,6,6])\n",
    "f=np.array([[1,2,3,1],[1,2,3,2]])\n",
    "\n",
    "np.unique(e)\n",
    "np.unique(f)"
   ]
  },
  {
   "cell_type": "code",
   "execution_count": 10,
   "metadata": {},
   "outputs": [
    {
     "name": "stdout",
     "output_type": "stream",
     "text": [
      "(15,)\n",
      "(1, 15)\n",
      "(15, 1)\n"
     ]
    }
   ],
   "source": [
    "#np.expanddims --> can convert any type array in any dimension\n",
    "print(a.shape)\n",
    "print(np.expand_dims(a,axis=0).shape)\n",
    "print(np.expand_dims(a,axis=1).shape)"
   ]
  },
  {
   "cell_type": "code",
   "execution_count": 11,
   "metadata": {},
   "outputs": [
    {
     "name": "stdout",
     "output_type": "stream",
     "text": [
      "[20 23 80 56 25 88 15 75  4 22 47  3 11 39 77]\n"
     ]
    },
    {
     "data": {
      "text/plain": [
       "(array([ 2,  3,  5,  7, 14]),)"
      ]
     },
     "execution_count": 11,
     "metadata": {},
     "output_type": "execute_result"
    }
   ],
   "source": [
    "#np.where\n",
    "# Return the indices of element in input array where the given condition is satisfied \n",
    "print(a)\n",
    "np.where(a>50)\n"
   ]
  },
  {
   "cell_type": "code",
   "execution_count": 12,
   "metadata": {},
   "outputs": [
    {
     "name": "stdout",
     "output_type": "stream",
     "text": [
      "[20 23  0  0 25  0 15  0  4 22 47  3 11 39  0]\n",
      "[ 0 23  0  0 25  0 15 75  0  0 47  3 11 39 77]\n"
     ]
    }
   ],
   "source": [
    "#replace all values > 50 to 0\n",
    "# np.where(condition,TRue hone pe kya replace karna ,False hone pe kya ??)\n",
    "print(np.where(a>50,0,a))\n",
    "#saare even number ko 0 se replace karna h \n",
    "print(np.where(a%2==0,0,a))"
   ]
  },
  {
   "cell_type": "markdown",
   "metadata": {},
   "source": [
    "# np.argmax()\n",
    "1. # The numpy.argmax() function returns indices of the max element of the array in a particular axis."
   ]
  },
  {
   "cell_type": "code",
   "execution_count": 13,
   "metadata": {},
   "outputs": [
    {
     "name": "stdout",
     "output_type": "stream",
     "text": [
      "[[ 9 62 37 80 89 10]\n",
      " [12 48 94 34 42  7]\n",
      " [63 33 51 68 41 85]\n",
      " [90 72 55 22 30 54]]\n",
      "8\n",
      "11\n"
     ]
    }
   ],
   "source": [
    "a=np.random.randint(1,100,24).reshape(4,6)\n",
    "print(a)\n",
    "print(np.argmax(a))\n",
    "print(np.argmin(a))\n"
   ]
  },
  {
   "cell_type": "markdown",
   "metadata": {},
   "source": [
    "# cumsum\n",
    "# Return the cumulative sum of the elements along a given axis."
   ]
  },
  {
   "cell_type": "code",
   "execution_count": 14,
   "metadata": {},
   "outputs": [
    {
     "data": {
      "text/plain": [
       "array([   1,    2,    6,   24,  120,  720, 6480])"
      ]
     },
     "execution_count": 14,
     "metadata": {},
     "output_type": "execute_result"
    }
   ],
   "source": [
    "# numpy.cumsum function is used when we want to compute the cumulative sum of array elements over a given axis.\n",
    "a=np.array([1,2,3,4,5,6,9])\n",
    "a\n",
    "np.cumulative_sum(a)\n",
    "# ye pahle 1 +2 karta h phir 3+3 karta h phir 6+4 \n",
    "# for example VIRAT KOHLI KA  carreer start run h 0,34,56,33,23,53 to jab woh manle 34 pe tha\n",
    "#tab uska jo career run kitne the 0+34-->34 cumulative sum\n",
    "np.cumulative_prod(a) #similar product ke liye "
   ]
  },
  {
   "cell_type": "code",
   "execution_count": 15,
   "metadata": {},
   "outputs": [
    {
     "name": "stdout",
     "output_type": "stream",
     "text": [
      "[[ 1  2  3  4  5]\n",
      " [ 6  7  8  9 10]]\n"
     ]
    },
    {
     "data": {
      "text/plain": [
       "array([[ 1,  2,  3,  4,  5],\n",
       "       [ 6, 14, 24, 36, 50]])"
      ]
     },
     "execution_count": 15,
     "metadata": {},
     "output_type": "execute_result"
    }
   ],
   "source": [
    "#lets try for 2d array\n",
    "b=np.array([[1,2,3,4,5],[6,7,8,9,10]])\n",
    "print(b)\n",
    "np.cumulative_prod(b,axis=0) "
   ]
  },
  {
   "cell_type": "markdown",
   "metadata": {},
   "source": [
    "# Numpy.percentile()\n",
    "1. **numpy.percentile()function used to compute the nth percentile of the given data (array elements) along the specified axis.**"
   ]
  },
  {
   "cell_type": "code",
   "execution_count": 40,
   "metadata": {},
   "outputs": [
    {
     "name": "stdout",
     "output_type": "stream",
     "text": [
      "[1 2 3 4 5 6 9]\n"
     ]
    },
    {
     "data": {
      "text/plain": [
       "np.float64(9.0)"
      ]
     },
     "execution_count": 40,
     "metadata": {},
     "output_type": "execute_result"
    }
   ],
   "source": [
    "print(a) #jo hundred percent h pure \n",
    "np.percentile(a,83.333333333333333) \n",
    "np.percentile(a,100)"
   ]
  },
  {
   "cell_type": "code",
   "execution_count": 41,
   "metadata": {},
   "outputs": [
    {
     "data": {
      "text/plain": [
       "array([ 1,  3, 13, 12, 44, 21, 56, 64,  4])"
      ]
     },
     "execution_count": 41,
     "metadata": {},
     "output_type": "execute_result"
    }
   ],
   "source": [
    "#np.histogram --> frquency count batata h in a given range\n",
    "# jaise ki koi array h [1,3,13,12,44,21,56,64,4]\n",
    "a=np.array([1,3,13,12,44,21,56,64,4])\n",
    "a\n"
   ]
  },
  {
   "cell_type": "code",
   "execution_count": 51,
   "metadata": {},
   "outputs": [
    {
     "data": {
      "text/plain": [
       "(array([3, 2, 1, 0, 1, 1, 1, 0, 0, 0]),\n",
       " array([  0,  10,  20,  30,  40,  50,  60,  70,  80,  90, 100]))"
      ]
     },
     "execution_count": 51,
     "metadata": {},
     "output_type": "execute_result"
    }
   ],
   "source": [
    "\n",
    "np.histogram(a,bins=[0,10,20,30,40,50,60,70,80,90,100])\n",
    "\n"
   ]
  },
  {
   "cell_type": "markdown",
   "metadata": {},
   "source": [
    "# np.corrcoeff\n",
    "*****Return Pearson product-moment correlation coefficients.******"
   ]
  },
  {
   "cell_type": "code",
   "execution_count": 52,
   "metadata": {},
   "outputs": [
    {
     "data": {
      "text/plain": [
       "array([[1.        , 0.25344572],\n",
       "       [0.25344572, 1.        ]])"
      ]
     },
     "execution_count": 52,
     "metadata": {},
     "output_type": "execute_result"
    }
   ],
   "source": [
    "salary = np.array([20000,40000, 25000, 35000, 60000])\n",
    "experience = np.array([1,3,2,4,2])\n",
    "np.corrcoef(salary,experience)"
   ]
  }
 ],
 "metadata": {
  "kernelspec": {
   "display_name": "Python 3",
   "language": "python",
   "name": "python3"
  },
  "language_info": {
   "codemirror_mode": {
    "name": "ipython",
    "version": 3
   },
   "file_extension": ".py",
   "mimetype": "text/x-python",
   "name": "python",
   "nbconvert_exporter": "python",
   "pygments_lexer": "ipython3",
   "version": "3.11.9"
  }
 },
 "nbformat": 4,
 "nbformat_minor": 2
}
