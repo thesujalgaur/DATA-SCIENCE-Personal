{
  "cells": [
    {
      "cell_type": "markdown",
      "metadata": {},
      "source": [
        "# 📘 NumPy Bhaichara Guide\n",
        "\n",
        "**Generated:** 2025-08-18\n",
        "\n",
        "Ek friendly, Hinglish (bhaichara wali) NumPy guide — explanations + code examples ready to run.\n",
        "\n",
        "---\n"
      ]
    },
    {
      "cell_type": "markdown",
      "metadata": {},
      "source": [
        "## 1. Intro & Setup\n",
        "\n",
        "NumPy Python ka turbo engine hai numerical computing ke liye. Install via `pip install numpy`. Import convention: `import numpy as np`.\n"
      ]
    },
    {
      "cell_type": "code",
      "execution_count": null,
      "metadata": {},
      "outputs": [],
      "source": [
        "import numpy as np\n",
        "np.__version__\n"
      ]
    },
    {
      "cell_type": "markdown",
      "metadata": {},
      "source": [
        "**Expected output (approx):**\n",
        "```\n",
        "e.g. '1.24.0' (your installed version)\n",
        "```\n"
      ]
    },
    {
      "cell_type": "markdown",
      "metadata": {},
      "source": [
        "## 2. Quick Start — First Array\n",
        "\n",
        "Arrays lists se zyada efficient hote hain: contiguous memory + vectorized ops.\n"
      ]
    },
    {
      "cell_type": "code",
      "execution_count": null,
      "metadata": {},
      "outputs": [],
      "source": [
        "import numpy as np\n",
        "a = np.array([1,2,3])\n",
        "print(a, type(a))"
      ]
    },
    {
      "cell_type": "markdown",
      "metadata": {},
      "source": [
        "**Expected output (approx):**\n",
        "```\n",
        "[1 2 3] <class 'numpy.ndarray'>\n",
        "```\n"
      ]
    },
    {
      "cell_type": "markdown",
      "metadata": {},
      "source": [
        "## 3. Array Creation Basics\n",
        "\n",
        "Common constructors: array, asarray, arange, linspace, zeros, ones, full, empty, eye, diag.\n"
      ]
    },
    {
      "cell_type": "code",
      "execution_count": null,
      "metadata": {},
      "outputs": [],
      "source": [
        "import numpy as np\n",
        "print(np.arange(0,10,2))\n",
        "print(np.linspace(0,1,5))\n",
        "print(np.zeros((2,2)))"
      ]
    },
    {
      "cell_type": "markdown",
      "metadata": {},
      "source": [
        "**Expected output (approx):**\n",
        "```\n",
        "arrays printed\n",
        "```\n"
      ]
    },
    {
      "cell_type": "markdown",
      "metadata": {},
      "source": [
        "## 4. Array Attributes\n",
        "\n",
        "shape, ndim, size, dtype, itemsize batate array ki properties.\n"
      ]
    },
    {
      "cell_type": "code",
      "execution_count": null,
      "metadata": {},
      "outputs": [],
      "source": [
        "import numpy as np\n",
        "M = np.arange(12).reshape(3,4)\n",
        "print(M.shape, M.ndim, M.size, M.dtype, M.itemsize)"
      ]
    },
    {
      "cell_type": "markdown",
      "metadata": {},
      "source": [
        "**Expected output (approx):**\n",
        "```\n",
        "(3,4) 2 12 int64 8\n",
        "```\n"
      ]
    },
    {
      "cell_type": "markdown",
      "metadata": {},
      "source": [
        "## 5. Indexing & Slicing (1D & 2D)\n",
        "\n",
        "Python-style slicing plus multi-d indexing — powerful for subarrays.\n"
      ]
    },
    {
      "cell_type": "code",
      "execution_count": null,
      "metadata": {},
      "outputs": [],
      "source": [
        "import numpy as np\n",
        "x = np.arange(10)\n",
        "print(x[2:7], x[:5], x[::2])\n",
        "A = np.arange(12).reshape(3,4)\n",
        "print(A[1,2], A[:,0])"
      ]
    },
    {
      "cell_type": "markdown",
      "metadata": {},
      "source": [
        "**Expected output (approx):**\n",
        "```\n",
        "sliced arrays\n",
        "```\n"
      ]
    },
    {
      "cell_type": "markdown",
      "metadata": {},
      "source": [
        "## 6. Boolean Masking & Fancy Indexing\n",
        "\n",
        "Condition se filter karein ya index-list se select karein.\n"
      ]
    },
    {
      "cell_type": "code",
      "execution_count": null,
      "metadata": {},
      "outputs": [],
      "source": [
        "import numpy as np\n",
        "x = np.array([10,-5,3,-2,0])\n",
        "print(x[x<0])\n",
        "idx=[0,2,4]\n",
        "print(x[idx])"
      ]
    },
    {
      "cell_type": "markdown",
      "metadata": {},
      "source": [
        "**Expected output (approx):**\n",
        "```\n",
        "[-5 -2] and [10 3 0]\n",
        "```\n"
      ]
    },
    {
      "cell_type": "markdown",
      "metadata": {},
      "source": [
        "## 7. Dtypes & Casting\n",
        "\n",
        "Dtypes memory aur behavior decide karte hain. astype se cast karein.\n"
      ]
    },
    {
      "cell_type": "code",
      "execution_count": null,
      "metadata": {},
      "outputs": [],
      "source": [
        "import numpy as np\n",
        "a = np.array([1,2,3], dtype=np.int32)\n",
        "print(a.dtype)\n",
        "b = a.astype(np.float32)\n",
        "print(b.dtype)"
      ]
    },
    {
      "cell_type": "markdown",
      "metadata": {},
      "source": [
        "**Expected output (approx):**\n",
        "```\n",
        "int32 and float32\n",
        "```\n"
      ]
    },
    {
      "cell_type": "markdown",
      "metadata": {},
      "source": [
        "## 8. Reshape, Views vs Copies\n",
        "\n",
        "reshape often returns view; flatten always copy; ravel maybe view.\n"
      ]
    },
    {
      "cell_type": "code",
      "execution_count": null,
      "metadata": {},
      "outputs": [],
      "source": [
        "import numpy as np\n",
        "z = np.arange(6)\n",
        "b = z.reshape(2,3)\n",
        "z[0]=99\n",
        "print(b)\n",
        "print(z.ravel().base is z, z.flatten().base)"
      ]
    },
    {
      "cell_type": "markdown",
      "metadata": {},
      "source": [
        "**Expected output (approx):**\n",
        "```\n",
        "view shows change; flatten base is None\n",
        "```\n"
      ]
    },
    {
      "cell_type": "markdown",
      "metadata": {},
      "source": [
        "## 9. Transpose & Axes\n",
        "\n",
        "T/transpose, swapaxes, moveaxis are used for tensor manipulations.\n"
      ]
    },
    {
      "cell_type": "code",
      "execution_count": null,
      "metadata": {},
      "outputs": [],
      "source": [
        "import numpy as np\n",
        "X = np.arange(6).reshape(2,3)\n",
        "print(X.T.shape)\n",
        "Y = np.zeros((2,3,4))\n",
        "print(np.moveaxis(Y,2,0).shape)"
      ]
    },
    {
      "cell_type": "markdown",
      "metadata": {},
      "source": [
        "**Expected output (approx):**\n",
        "```\n",
        "(3,2) and (4,2,3)\n",
        "```\n"
      ]
    },
    {
      "cell_type": "markdown",
      "metadata": {},
      "source": [
        "## 10. Concatenate & Stack / Split\n",
        "\n",
        "concatenate joins along existing axis; stack adds new axis.\n"
      ]
    },
    {
      "cell_type": "code",
      "execution_count": null,
      "metadata": {},
      "outputs": [],
      "source": [
        "import numpy as np\n",
        "a=np.array([1,2]); b=np.array([3,4])\n",
        "print(np.concatenate([a,b]))\n",
        "print(np.stack([a,b]).shape)\n",
        "print(np.array_split(np.arange(10),3))"
      ]
    },
    {
      "cell_type": "markdown",
      "metadata": {},
      "source": [
        "**Expected output (approx):**\n",
        "```\n",
        "joined arrays & split lists\n",
        "```\n"
      ]
    },
    {
      "cell_type": "markdown",
      "metadata": {},
      "source": [
        "## 11. Repeat, Tile, Take, Put\n",
        "\n",
        "repeat and tile for repeating patterns; take/put for index ops.\n"
      ]
    },
    {
      "cell_type": "code",
      "execution_count": null,
      "metadata": {},
      "outputs": [],
      "source": [
        "import numpy as np\n",
        "a=np.array([1,2,3])\n",
        "print(np.repeat(a,2))\n",
        "print(np.tile(a,3))\n",
        "x=np.array([10,20,30,40])\n",
        "print(np.take(x,[0,3]))\n",
        "np.put(x,[1,2],[99,88]); print(x)"
      ]
    },
    {
      "cell_type": "markdown",
      "metadata": {},
      "source": [
        "**Expected output (approx):**\n",
        "```\n",
        "repeated and modified arrays\n",
        "```\n"
      ]
    },
    {
      "cell_type": "markdown",
      "metadata": {},
      "source": [
        "## 12. Broadcasting Basics\n",
        "\n",
        "Shapes are right-aligned; dimensions of size 1 are stretchable.\n"
      ]
    },
    {
      "cell_type": "code",
      "execution_count": null,
      "metadata": {},
      "outputs": [],
      "source": [
        "import numpy as np\n",
        "a=np.array([1,2,3])\n",
        "B=np.array([[10],[20]])\n",
        "print(a+B)\n",
        "print((a+B).shape)"
      ]
    },
    {
      "cell_type": "markdown",
      "metadata": {},
      "source": [
        "**Expected output (approx):**\n",
        "```\n",
        "[[11 12 13],[21 22 23]] (2,3)\n",
        "```\n"
      ]
    },
    {
      "cell_type": "markdown",
      "metadata": {},
      "source": [
        "## 13. Ufuncs — Fast Elementwise Ops\n",
        "\n",
        "ufuncs are vectorized elementwise functions (add, sqrt, exp...).\n"
      ]
    },
    {
      "cell_type": "code",
      "execution_count": null,
      "metadata": {},
      "outputs": [],
      "source": [
        "import numpy as np\n",
        "p=np.array([1.,4.,9.])\n",
        "print(np.sqrt(p))\n",
        "print(np.add(p,1))"
      ]
    },
    {
      "cell_type": "markdown",
      "metadata": {},
      "source": [
        "**Expected output (approx):**\n",
        "```\n",
        "[1. 2. 3.] and [2. 5. 10.]\n",
        "```\n"
      ]
    },
    {
      "cell_type": "markdown",
      "metadata": {},
      "source": [
        "## 14. Reductions & Accumulate\n",
        "\n",
        "sum/mean/std etc. axis parameter se control karein.\n"
      ]
    },
    {
      "cell_type": "code",
      "execution_count": null,
      "metadata": {},
      "outputs": [],
      "source": [
        "import numpy as np\n",
        "M=np.arange(12).reshape(3,4)\n",
        "print(M.sum(), M.sum(axis=0))\n",
        "print(np.cumsum([1,2,3,4]))"
      ]
    },
    {
      "cell_type": "markdown",
      "metadata": {},
      "source": [
        "**Expected output (approx):**\n",
        "```\n",
        "sums and prefix sums\n",
        "```\n"
      ]
    },
    {
      "cell_type": "markdown",
      "metadata": {},
      "source": [
        "## 15. NaN-safe Operations\n",
        "\n",
        "nanmean/nanstd ignore NaNs for robust stats.\n"
      ]
    },
    {
      "cell_type": "code",
      "execution_count": null,
      "metadata": {},
      "outputs": [],
      "source": [
        "import numpy as np\n",
        "x=np.array([1., np.nan, 3.])\n",
        "print(np.nanmean(x), np.nanmax(x))"
      ]
    },
    {
      "cell_type": "markdown",
      "metadata": {},
      "source": [
        "**Expected output (approx):**\n",
        "```\n",
        "2.0 and 3.0\n",
        "```\n"
      ]
    },
    {
      "cell_type": "markdown",
      "metadata": {},
      "source": [
        "## 16. Comparisons & Logical Ops\n",
        "\n",
        "logical_and/or/not/xor and where/clip/select for conditionals.\n"
      ]
    },
    {
      "cell_type": "code",
      "execution_count": null,
      "metadata": {},
      "outputs": [],
      "source": [
        "import numpy as np\n",
        "u=np.array([-2,-1,0,1,2])\n",
        "print(np.where(u>0,u,0))\n",
        "print(np.clip(u,-1,1))"
      ]
    },
    {
      "cell_type": "markdown",
      "metadata": {},
      "source": [
        "**Expected output (approx):**\n",
        "```\n",
        "mapped & clipped array\n",
        "```\n"
      ]
    },
    {
      "cell_type": "markdown",
      "metadata": {},
      "source": [
        "## 17. Searching & Sorting\n",
        "\n",
        "sort, argsort, searchsorted, partition, unique are helpers.\n"
      ]
    },
    {
      "cell_type": "code",
      "execution_count": null,
      "metadata": {},
      "outputs": [],
      "source": [
        "import numpy as np\n",
        "x=np.array([3,1,2])\n",
        "print(np.sort(x), np.argsort(x))\n",
        "print(np.searchsorted(np.array([10,20,30]),25))"
      ]
    },
    {
      "cell_type": "markdown",
      "metadata": {},
      "source": [
        "**Expected output (approx):**\n",
        "```\n",
        "[1 2 3], [1 2 0], 2\n",
        "```\n"
      ]
    },
    {
      "cell_type": "markdown",
      "metadata": {},
      "source": [
        "## 18. Set Operations\n",
        "\n",
        "unique, union1d, intersect1d, setdiff1d, in1d for categorical ops.\n"
      ]
    },
    {
      "cell_type": "code",
      "execution_count": null,
      "metadata": {},
      "outputs": [],
      "source": [
        "import numpy as np\n",
        "a=np.array([1,2,2,3]); b=np.array([2,4])\n",
        "print(np.unique(a), np.union1d(a,b), np.intersect1d(a,b))"
      ]
    },
    {
      "cell_type": "markdown",
      "metadata": {},
      "source": [
        "**Expected output (approx):**\n",
        "```\n",
        "unique and set ops\n",
        "```\n"
      ]
    },
    {
      "cell_type": "markdown",
      "metadata": {},
      "source": [
        "## 19. Random — Generator API\n",
        "\n",
        "default_rng is recommended for reproducible PRNG.\n"
      ]
    },
    {
      "cell_type": "code",
      "execution_count": null,
      "metadata": {},
      "outputs": [],
      "source": [
        "import numpy as np\n",
        "rng = np.random.default_rng(42)\n",
        "print(rng.integers(0,10,5))\n",
        "print(rng.normal(size=3))"
      ]
    },
    {
      "cell_type": "markdown",
      "metadata": {},
      "source": [
        "**Expected output (approx):**\n",
        "```\n",
        "random ints and normals\n",
        "```\n"
      ]
    },
    {
      "cell_type": "markdown",
      "metadata": {},
      "source": [
        "## 20. Linear Algebra Basics\n",
        "\n",
        "dot, matmul (@), einsum, inv, solve, det, eig, svd.\n"
      ]
    },
    {
      "cell_type": "code",
      "execution_count": null,
      "metadata": {},
      "outputs": [],
      "source": [
        "import numpy as np\n",
        "A=np.arange(6).reshape(2,3).astype(float)\n",
        "B=np.arange(6).reshape(3,2).astype(float)\n",
        "print(A@B)\n",
        "import numpy.linalg as LA\n",
        "M=np.array([[3.,2.],[1.,2.]])\n",
        "print(LA.solve(M, np.array([18.,14.])))"
      ]
    },
    {
      "cell_type": "markdown",
      "metadata": {},
      "source": [
        "**Expected output (approx):**\n",
        "```\n",
        "matrix multiply and solution\n",
        "```\n"
      ]
    },
    {
      "cell_type": "markdown",
      "metadata": {},
      "source": [
        "## 21. Einsum — Powerful Index Notation\n",
        "\n",
        "einsum expresses contractions clearly and efficiently.\n"
      ]
    },
    {
      "cell_type": "code",
      "execution_count": null,
      "metadata": {},
      "outputs": [],
      "source": [
        "import numpy as np\n",
        "A=np.arange(6).reshape(2,3)\n",
        "B=np.arange(6).reshape(3,2)\n",
        "print(np.einsum('ij,jk->ik', A, B))"
      ]
    },
    {
      "cell_type": "markdown",
      "metadata": {},
      "source": [
        "**Expected output (approx):**\n",
        "```\n",
        "matrix product\n",
        "```\n"
      ]
    },
    {
      "cell_type": "markdown",
      "metadata": {},
      "source": [
        "## 22. Meshgrid, fromfunction, vectorize\n",
        "\n",
        "meshgrid for grid evals; fromfunction builds arrays via function.\n"
      ]
    },
    {
      "cell_type": "code",
      "execution_count": null,
      "metadata": {},
      "outputs": [],
      "source": [
        "import numpy as np\n",
        "x=np.linspace(-1,1,5); y=np.linspace(-1,1,5)\n",
        "X,Y=np.meshgrid(x,y)\n",
        "print(X.shape)\n",
        "print(np.fromfunction(lambda i,j: i+j, (3,4), dtype=int))"
      ]
    },
    {
      "cell_type": "markdown",
      "metadata": {},
      "source": [
        "**Expected output (approx):**\n",
        "```\n",
        "(5,5) and a 3x4 array\n",
        "```\n"
      ]
    },
    {
      "cell_type": "markdown",
      "metadata": {},
      "source": [
        "## 23. Dates & Times (datetime64)\n",
        "\n",
        "datetime64 and timedelta64 for vectorized date ops.\n"
      ]
    },
    {
      "cell_type": "code",
      "execution_count": null,
      "metadata": {},
      "outputs": [],
      "source": [
        "import numpy as np\n",
        "d = np.array(['2025-08-01','2025-08-15'], dtype='datetime64[D]')\n",
        "print(d+np.timedelta64(7,'D'))\n",
        "print(d[1]-d[0])"
      ]
    },
    {
      "cell_type": "markdown",
      "metadata": {},
      "source": [
        "**Expected output (approx):**\n",
        "```\n",
        "dates and timedelta\n",
        "```\n"
      ]
    },
    {
      "cell_type": "markdown",
      "metadata": {},
      "source": [
        "## 24. File I/O — save/load/savez/savetxt/loadtxt, memmap\n",
        "\n",
        "Binary .npy/.npz are exact; savetxt good for small human files; memmap for huge data.\n"
      ]
    },
    {
      "cell_type": "code",
      "execution_count": null,
      "metadata": {},
      "outputs": [],
      "source": [
        "import numpy as np\n",
        "a=np.arange(6)\n",
        "np.save('tmp_arr.npy', a)\n",
        "print(np.load('tmp_arr.npy'))"
      ]
    },
    {
      "cell_type": "markdown",
      "metadata": {},
      "source": [
        "**Expected output (approx):**\n",
        "```\n",
        "[0 1 2 3 4 5]\n",
        "```\n"
      ]
    },
    {
      "cell_type": "markdown",
      "metadata": {},
      "source": [
        "## 25. Masked Arrays (numpy.ma)\n",
        "\n",
        "Masked arrays hide invalid values during computations.\n"
      ]
    },
    {
      "cell_type": "code",
      "execution_count": null,
      "metadata": {},
      "outputs": [],
      "source": [
        "import numpy as np\n",
        "import numpy.ma as ma\n",
        "data=np.array([1,-999,3,-999,5])\n",
        "md=ma.masked_equal(data,-999)\n",
        "print(md.mean())"
      ]
    },
    {
      "cell_type": "markdown",
      "metadata": {},
      "source": [
        "**Expected output (approx):**\n",
        "```\n",
        "3.0\n",
        "```\n"
      ]
    },
    {
      "cell_type": "markdown",
      "metadata": {},
      "source": [
        "## 26. Structured Arrays\n",
        "\n",
        "Heterogeneous columns like mini-database rows.\n"
      ]
    },
    {
      "cell_type": "code",
      "execution_count": null,
      "metadata": {},
      "outputs": [],
      "source": [
        "import numpy as np\n",
        "dt=np.dtype([('name','U10'),('age','i4'),('score','f4')])\n",
        "people=np.array([('Amit',21,88.5),('Neha',23,91.0)], dtype=dt)\n",
        "print(people['name'])"
      ]
    },
    {
      "cell_type": "markdown",
      "metadata": {},
      "source": [
        "**Expected output (approx):**\n",
        "```\n",
        "['Amit' 'Neha']\n",
        "```\n"
      ]
    },
    {
      "cell_type": "markdown",
      "metadata": {},
      "source": [
        "## 27. FFT (numpy.fft)\n",
        "\n",
        "Fast Fourier Transform for frequency analysis.\n"
      ]
    },
    {
      "cell_type": "code",
      "execution_count": null,
      "metadata": {},
      "outputs": [],
      "source": [
        "import numpy as np\n",
        "sig = np.array([0,1,0,-1])\n",
        "F = np.fft.fft(sig)\n",
        "print(np.round(F,3))\n",
        "print(np.allclose(np.fft.ifft(F), sig))"
      ]
    },
    {
      "cell_type": "markdown",
      "metadata": {},
      "source": [
        "**Expected output (approx):**\n",
        "```\n",
        "spectrum and True\n",
        "```\n"
      ]
    },
    {
      "cell_type": "markdown",
      "metadata": {},
      "source": [
        "## 28. Polynomials (polyfit, polyval)\n",
        "\n",
        "polyfit for regression, polyval for evaluation.\n"
      ]
    },
    {
      "cell_type": "code",
      "execution_count": null,
      "metadata": {},
      "outputs": [],
      "source": [
        "import numpy as np\n",
        "x=np.linspace(0,10,11)\n",
        "y=3*x+2 + np.random.default_rng(0).normal(scale=0.5,size=len(x))\n",
        "p = np.polyfit(x,y,1)\n",
        "print(p)\n",
        "print(np.polyval(p,5))"
      ]
    },
    {
      "cell_type": "markdown",
      "metadata": {},
      "source": [
        "**Expected output (approx):**\n",
        "```\n",
        "coeffs and prediction\n",
        "```\n"
      ]
    },
    {
      "cell_type": "markdown",
      "metadata": {},
      "source": [
        "## 29. Stride Tricks & Sliding Window (sliding_window_view)\n",
        "\n",
        "Efficient rolling windows via sliding_window_view.\n"
      ]
    },
    {
      "cell_type": "code",
      "execution_count": null,
      "metadata": {},
      "outputs": [],
      "source": [
        "import numpy as np\n",
        "from numpy.lib.stride_tricks import sliding_window_view\n",
        "arr=np.arange(10)\n",
        "win = sliding_window_view(arr,3)\n",
        "print(win.shape)\n",
        "print(win[:4])"
      ]
    },
    {
      "cell_type": "markdown",
      "metadata": {},
      "source": [
        "**Expected output (approx):**\n",
        "```\n",
        "(8,3) and windows printed\n",
        "```\n"
      ]
    },
    {
      "cell_type": "markdown",
      "metadata": {},
      "source": [
        "## 30. Broadcasting Case Study — Image channels\n",
        "\n",
        "Per-channel bias addition to (H,W,C) image via broadcasting.\n"
      ]
    },
    {
      "cell_type": "code",
      "execution_count": null,
      "metadata": {},
      "outputs": [],
      "source": [
        "import numpy as np\n",
        "rng=np.random.default_rng(1)\n",
        "img = rng.integers(0,256,size=(2,2,3), dtype=np.uint8)\n",
        "bias = np.array([10,-10,0], dtype=np.int16)\n",
        "out = np.clip(img.astype(np.int16)+bias,0,255).astype(np.uint8)\n",
        "print(img)\n",
        "print(out)"
      ]
    },
    {
      "cell_type": "markdown",
      "metadata": {},
      "source": [
        "**Expected output (approx):**\n",
        "```\n",
        "original and biased images\n",
        "```\n"
      ]
    },
    {
      "cell_type": "markdown",
      "metadata": {},
      "source": [
        "## 31. Performance Tips\n",
        "\n",
        "Vectorize, prefer views to copies, choose proper dtype, pre-allocate arrays.\n"
      ]
    },
    {
      "cell_type": "code",
      "execution_count": null,
      "metadata": {},
      "outputs": [],
      "source": [
        "import numpy as np\n",
        "a = np.ones((1000,1000), dtype=np.float32)\n",
        "print(a.nbytes/1024/1024, 'MB')"
      ]
    },
    {
      "cell_type": "markdown",
      "metadata": {},
      "source": [
        "**Expected output (approx):**\n",
        "```\n",
        "approx memory in MB\n",
        "```\n"
      ]
    },
    {
      "cell_type": "markdown",
      "metadata": {},
      "source": [
        "## 32. Common Pitfalls\n",
        "\n",
        "Beware broadcasting mismatches, copy-vs-view, NaNs, axis confusion.\n"
      ]
    },
    {
      "cell_type": "code",
      "execution_count": null,
      "metadata": {},
      "outputs": [],
      "source": [
        "import numpy as np\n",
        "print(np.nan == np.nan, np.isnan(np.nan))"
      ]
    },
    {
      "cell_type": "markdown",
      "metadata": {},
      "source": [
        "**Expected output (approx):**\n",
        "```\n",
        "False True\n",
        "```\n"
      ]
    },
    {
      "cell_type": "markdown",
      "metadata": {},
      "source": [
        "## 33. Search & Thresholding Examples\n",
        "\n",
        "where + boolean masks for threshold-based filtering.\n"
      ]
    },
    {
      "cell_type": "code",
      "execution_count": null,
      "metadata": {},
      "outputs": [],
      "source": [
        "import numpy as np\n",
        "rng = np.random.default_rng(2)\n",
        "a = rng.normal(0,1,10)\n",
        "mask = np.abs(a)>1\n",
        "print(a)\n",
        "print(np.where(mask,a,0))"
      ]
    },
    {
      "cell_type": "markdown",
      "metadata": {},
      "source": [
        "**Expected output (approx):**\n",
        "```\n",
        "array and filtered array\n",
        "```\n"
      ]
    },
    {
      "cell_type": "markdown",
      "metadata": {},
      "source": [
        "## 34. Arg Tricks & unravel_index\n",
        "\n",
        "argmax/argmin with unravel_index to find positions in flattened arrays.\n"
      ]
    },
    {
      "cell_type": "code",
      "execution_count": null,
      "metadata": {},
      "outputs": [],
      "source": [
        "import numpy as np\n",
        "rng = np.random.default_rng(3)\n",
        "M = rng.integers(0,100,(4,5))\n",
        "idx = M.argmax()\n",
        "print(M)\n",
        "print(np.unravel_index(idx, M.shape))"
      ]
    },
    {
      "cell_type": "markdown",
      "metadata": {},
      "source": [
        "**Expected output (approx):**\n",
        "```\n",
        "matrix and global max pos\n",
        "```\n"
      ]
    },
    {
      "cell_type": "markdown",
      "metadata": {},
      "source": [
        "## 35. Group-like Ops with unique(return_counts)\n",
        "\n",
        "unique with counts gives simple group-by behaviour.\n"
      ]
    },
    {
      "cell_type": "code",
      "execution_count": null,
      "metadata": {},
      "outputs": [],
      "source": [
        "import numpy as np\n",
        "vals=np.array([2,2,3,3,3,5,5,5,5])\n",
        "u,c = np.unique(vals, return_counts=True)\n",
        "print(u,c)\n"
      ]
    },
    {
      "cell_type": "markdown",
      "metadata": {},
      "source": [
        "**Expected output (approx):**\n",
        "```\n",
        "unique values and counts\n",
        "```\n"
      ]
    },
    {
      "cell_type": "markdown",
      "metadata": {},
      "source": [
        "## 36. Mini Projects & Practice ideas\n",
        "\n",
        "Short project ideas to solidify skills: image ops, Monte Carlo, PCA, rolling stats.\n"
      ]
    },
    {
      "cell_type": "code",
      "execution_count": null,
      "metadata": {},
      "outputs": [],
      "source": [
        "print('Try: image brightness via broadcasting, Monte Carlo pi, simple PCA via SVD, rolling mean via sliding_window_view')"
      ]
    },
    {
      "cell_type": "markdown",
      "metadata": {},
      "source": [
        "**Expected output (approx):**\n",
        "```\n",
        "list of ideas\n",
        "```\n"
      ]
    },
    {
      "cell_type": "markdown",
      "metadata": {},
      "source": [
        "### Quick Cheat Sheet\n",
        "\n",
        "Create: array, arange, linspace, zeros, ones, full, empty, eye\n",
        "\n",
        "Inspect: shape, ndim, size, dtype\n",
        "\n",
        "Reshape: reshape, ravel, flatten, transpose\n",
        "\n",
        "Combine: concatenate, stack, vstack, hstack\n",
        "\n",
        "Math: + - * / **, sqrt, exp, log, sin/cos\n",
        "\n",
        "Reduce: sum, mean, std, var, cumsum\n",
        "\n",
        "Random: default_rng, integers, normal, choice\n",
        "\n",
        "Linalg: dot, matmul, einsum, inv, solve, svd\n",
        "\n",
        "I/O: save, load, savez, savetxt, memmap\n"
      ]
    }
  ],
  "metadata": {
    "kernelspec": {
      "display_name": "Python 3",
      "language": "python",
      "name": "python3"
    },
    "language_info": {
      "codemirror_mode": {
        "name": "ipython",
        "version": 3
      },
      "file_extension": ".py",
      "mimetype": "text/x-python",
      "name": "python",
      "nbconvert_exporter": "python",
      "pygments_lexer": "ipython3",
      "version": "3.11.9"
    }
  },
  "nbformat": 4,
  "nbformat_minor": 5
}
