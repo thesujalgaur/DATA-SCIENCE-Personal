{
 "cells": [
  {
   "cell_type": "code",
   "execution_count": null,
   "metadata": {},
   "outputs": [],
   "source": [
    "import pandas as pd \n",
    "import numpy as np"
   ]
  },
  {
   "cell_type": "code",
   "execution_count": null,
   "metadata": {},
   "outputs": [],
   "source": [
    "#using list\n",
    "student_data=[\n",
    "    [100,80,12],[34,35,2],[23,43,4],[80,50,2]\n",
    "]"
   ]
  },
  {
   "cell_type": "code",
   "execution_count": null,
   "metadata": {},
   "outputs": [],
   "source": [
    "pd.DataFrame(student_data,columns=['marks','iq','package'])"
   ]
  },
  {
   "cell_type": "code",
   "execution_count": null,
   "metadata": {},
   "outputs": [],
   "source": [
    "student_dict={\n",
    "    'name':['Rishabh','Sujal','Tanishq','tushar','somya','mayank'],\n",
    "    'iq':[100,90,120,80,0,0],\n",
    "    'marks':[80,70,100,50,0,0],\n",
    "    'package':[10,7,14,2,0,0]\n",
    "}\n",
    "students=pd.DataFrame(student_dict)\n",
    "students.set_index('name',inplace=True) # yha humne colns ko  index me badal diya \n",
    "#aur humare defaault indices hat gaye\n"
   ]
  },
  {
   "cell_type": "code",
   "execution_count": null,
   "metadata": {},
   "outputs": [],
   "source": [
    "#using read_csv\n",
    "movies=pd.read_csv('movies.csv')\n",
    "movies"
   ]
  },
  {
   "cell_type": "code",
   "execution_count": null,
   "metadata": {},
   "outputs": [],
   "source": [
    "ipl=pd.read_csv(\"ipl-matches.csv\")\n",
    "ipl"
   ]
  },
  {
   "cell_type": "markdown",
   "metadata": {},
   "source": [
    "# Dataframe Attribute and method "
   ]
  },
  {
   "cell_type": "code",
   "execution_count": null,
   "metadata": {},
   "outputs": [],
   "source": [
    "#shape--> kitne no. of rows and coln h \n",
    "movies.shape\n",
    "ipl.shape"
   ]
  },
  {
   "cell_type": "code",
   "execution_count": null,
   "metadata": {},
   "outputs": [],
   "source": [
    "#dtype-> seies milta h \n",
    "# index me col ka naam aur value me datatype\n",
    "movies.dtypes"
   ]
  },
  {
   "cell_type": "code",
   "execution_count": null,
   "metadata": {},
   "outputs": [],
   "source": [
    "#index--> Range btata h rows and coln ki\n",
    "movies.index\n",
    "ipl.index"
   ]
  },
  {
   "cell_type": "code",
   "execution_count": null,
   "metadata": {},
   "outputs": [],
   "source": [
    "#column--> sare coln feth karke deta h \n",
    "movies.columns\n",
    "ipl.columns\n",
    "students.columns"
   ]
  },
  {
   "cell_type": "code",
   "execution_count": null,
   "metadata": {},
   "outputs": [],
   "source": [
    "# values --> 2d numpy array\n",
    "students.values"
   ]
  },
  {
   "cell_type": "code",
   "execution_count": null,
   "metadata": {},
   "outputs": [],
   "source": [
    "#head and tail\n",
    "movies.head(2)"
   ]
  },
  {
   "cell_type": "code",
   "execution_count": null,
   "metadata": {},
   "outputs": [],
   "source": [
    "ipl.tail(5)"
   ]
  },
  {
   "cell_type": "code",
   "execution_count": null,
   "metadata": {},
   "outputs": [],
   "source": [
    "#sample--> random row nikalke deta \n",
    "movies.sample(3)"
   ]
  },
  {
   "cell_type": "code",
   "execution_count": null,
   "metadata": {},
   "outputs": [],
   "source": [
    "#info--> getting summary\n",
    "movies.info()"
   ]
  },
  {
   "cell_type": "code",
   "execution_count": null,
   "metadata": {},
   "outputs": [],
   "source": [
    "ipl.info()\n"
   ]
  },
  {
   "cell_type": "code",
   "execution_count": null,
   "metadata": {},
   "outputs": [],
   "source": [
    "#describe --> for summary of all mathematical \n",
    "movies.describe()"
   ]
  },
  {
   "cell_type": "code",
   "execution_count": null,
   "metadata": {},
   "outputs": [],
   "source": [
    "ipl.describe()"
   ]
  },
  {
   "cell_type": "code",
   "execution_count": null,
   "metadata": {},
   "outputs": [],
   "source": [
    "#is null  --> har coln me check karta hai ki missiing values hai ki nahi \n",
    "\n",
    "movies.isnull().sum() #adding sum will give the nun values ,"
   ]
  },
  {
   "cell_type": "code",
   "execution_count": null,
   "metadata": {},
   "outputs": [],
   "source": [
    "#Duplicated --> gives the dupplicated data / row\n",
    "movies.duplicated().sum()"
   ]
  },
  {
   "cell_type": "code",
   "execution_count": null,
   "metadata": {},
   "outputs": [],
   "source": [
    "students.duplicated().sum()\n",
    "#do row duplicate nikalta h "
   ]
  },
  {
   "cell_type": "code",
   "execution_count": null,
   "metadata": {},
   "outputs": [],
   "source": [
    "#Rename--> Datafram ke coln ka naam rename kar deta hai \n",
    "Renamed=students.rename(columns={'marks':'percent',\n",
    "                        'package':'LPA'\n",
    "                         },inplace=True)\n",
    "# but this is not permanent Changes \n",
    "#we use inplace=True for the permanent changes \n"
   ]
  },
  {
   "cell_type": "code",
   "execution_count": null,
   "metadata": {},
   "outputs": [],
   "source": [
    "students"
   ]
  },
  {
   "cell_type": "markdown",
   "metadata": {},
   "source": [
    "# Mathematical  Methods"
   ]
  },
  {
   "cell_type": "code",
   "execution_count": null,
   "metadata": {},
   "outputs": [],
   "source": [
    "#sum --> Axis Arguments \n",
    "movies.sum(numeric_only=True)\n",
    "#numeric only bata hai ki ham sirf  numeric values \n",
    "# ki sum ki baat kar rhe"
   ]
  },
  {
   "cell_type": "code",
   "execution_count": null,
   "metadata": {},
   "outputs": [],
   "source": [
    "students.sum() #applied to coln(default)\n",
    "students.sum(axis=1) #Raw wise 0.Column 1.Row "
   ]
  },
  {
   "cell_type": "code",
   "execution_count": null,
   "metadata": {},
   "outputs": [],
   "source": [
    "students.mean(axis=0) #col wise\n",
    "students.mean(axis=1)#row wise"
   ]
  },
  {
   "cell_type": "code",
   "execution_count": null,
   "metadata": {},
   "outputs": [],
   "source": [
    "students.std()\n",
    "students.var()\n",
    "students.describe()\n",
    "students.count(axis=1) #value count karta h column wise "
   ]
  },
  {
   "cell_type": "markdown",
   "metadata": {},
   "source": [
    "# Selecting column from a Dataframe"
   ]
  },
  {
   "cell_type": "code",
   "execution_count": null,
   "metadata": {},
   "outputs": [],
   "source": [
    "#single coln\n",
    "type(movies['title_x'])\n",
    "ipl['Venue'].head(5).sum()\n"
   ]
  },
  {
   "cell_type": "code",
   "execution_count": null,
   "metadata": {},
   "outputs": [],
   "source": [
    "#Multiple Columns --> jis order me chizo ko mangaunga \n",
    "# usi order me aayengi chize\n",
    "movies[['title_x','imdb_id']]"
   ]
  },
  {
   "cell_type": "code",
   "execution_count": null,
   "metadata": {},
   "outputs": [],
   "source": [
    "ipl[['Team1','Team2','WinningTeam']]"
   ]
  },
  {
   "cell_type": "markdown",
   "metadata": {},
   "source": [
    "# Selecting rows from a dataframe\n",
    "1. **iloc--> Searches using index position**\n",
    "2. **loc--> Searches using label  index**"
   ]
  },
  {
   "cell_type": "code",
   "execution_count": null,
   "metadata": {},
   "outputs": [],
   "source": [
    "#iloc\n",
    "#single row karenge toh series milega\n",
    "type(movies.iloc[0]) #index positon ke hisaab se humne row fetch kiya "
   ]
  },
  {
   "cell_type": "code",
   "execution_count": null,
   "metadata": {},
   "outputs": [],
   "source": [
    "#multiple Row nikalenge toh dataframe milega\n",
    "movies.iloc[0:11:2]"
   ]
  },
  {
   "cell_type": "code",
   "execution_count": null,
   "metadata": {},
   "outputs": [],
   "source": [
    "#Fancy indexing\n",
    "movies.iloc[[1,2,5,7,8]]"
   ]
  },
  {
   "cell_type": "code",
   "execution_count": null,
   "metadata": {},
   "outputs": [],
   "source": [
    "#loc--> location .. ye index ke label ke hisaab se fetch kara h \n",
    "students.loc['Sujal':'tushar':1] # yaha pe last wala bhi included hai location based  me "
   ]
  },
  {
   "cell_type": "code",
   "execution_count": null,
   "metadata": {},
   "outputs": [],
   "source": [
    "students.loc[['Sujal','Tanishq','mayank']]"
   ]
  },
  {
   "cell_type": "markdown",
   "metadata": {},
   "source": [
    "# selecting  both rows and column"
   ]
  },
  {
   "cell_type": "code",
   "execution_count": null,
   "metadata": {},
   "outputs": [],
   "source": [
    "movies.iloc[0:3,0:3]"
   ]
  },
  {
   "cell_type": "code",
   "execution_count": null,
   "metadata": {},
   "outputs": [],
   "source": [
    "movies.loc[0:3,'title_x':'poster_path']"
   ]
  },
  {
   "cell_type": "markdown",
   "metadata": {},
   "source": [
    "# Filtering a Dataframe"
   ]
  },
  {
   "cell_type": "code",
   "execution_count": null,
   "metadata": {},
   "outputs": [],
   "source": [
    "ipl.head(2)"
   ]
  },
  {
   "cell_type": "code",
   "execution_count": null,
   "metadata": {},
   "outputs": [],
   "source": [
    "#Find all the Winning team \n",
    "mask=ipl['MatchNumber']=='Final'\n",
    "new_df=ipl[mask]\n",
    "new_df[['Season','WinningTeam']]\n",
    "a=ipl[ipl['MatchNumber']=='Final'][['Season','WinningTeam']]\n",
    "a"
   ]
  },
  {
   "cell_type": "code",
   "execution_count": null,
   "metadata": {},
   "outputs": [],
   "source": [
    "movies.sample(3)"
   ]
  },
  {
   "cell_type": "code",
   "execution_count": null,
   "metadata": {},
   "outputs": [],
   "source": [
    "# how many super over finishes have occured\n",
    "ipl.head(2)\n",
    "ipl[ipl['SuperOver']=='Y'].shape[0]"
   ]
  },
  {
   "cell_type": "code",
   "execution_count": null,
   "metadata": {},
   "outputs": [],
   "source": [
    "#how many matches csk won in kolkata\n",
    "\n",
    "# ipl[ipl['WinningTeam']=='Chennai Super Kings']\n",
    "a=ipl[(ipl['City']=='Kolkata') & (ipl['WinningTeam']=='Chennai Super Kings')].shape[0]\n",
    "a"
   ]
  },
  {
   "cell_type": "code",
   "execution_count": null,
   "metadata": {},
   "outputs": [],
   "source": [
    "# toss winner is match winner in percentage\n",
    "ipl.head(3)\n",
    "a=ipl[ipl['TossWinner']==ipl['WinningTeam']].shape[0]/ipl.shape[0]*100\n",
    "a\n",
    "\n"
   ]
  },
  {
   "cell_type": "code",
   "execution_count": null,
   "metadata": {},
   "outputs": [],
   "source": [
    "# movies with rating higher than 8 and votes>10000\n",
    "movies.sample(1) \n",
    "movies[(movies['imdb_rating']>8.4) & (movies['imdb_votes']>10000)]"
   ]
  },
  {
   "cell_type": "code",
   "execution_count": null,
   "metadata": {},
   "outputs": [],
   "source": [
    "# Action movies with rating higher than 7.5\n",
    "#apply==>pure series ke upar ek custom logic apply kaarte ho\n",
    "mask1=movies['genres'].str.split('|').apply(lambda x:\"Action\" in x)\n",
    "mask2=movies['imdb_rating']>7.5\n",
    "movies[mask1 & mask2].shape[0]"
   ]
  },
  {
   "cell_type": "code",
   "execution_count": null,
   "metadata": {},
   "outputs": [],
   "source": [
    "# way 2 using contains\n",
    "Mask1=movies['genres'].str.contains('Action')\n",
    "Mask2=movies['imdb_rating']>7.5\n",
    "movies[Mask1 & Mask2]"
   ]
  },
  {
   "cell_type": "code",
   "execution_count": null,
   "metadata": {},
   "outputs": [],
   "source": [
    "# write a function that can return the track record of 2 teams against each other\n",
    "# solve it later"
   ]
  },
  {
   "cell_type": "markdown",
   "metadata": {},
   "source": [
    "# Adding new Columns"
   ]
  },
  {
   "cell_type": "code",
   "execution_count": null,
   "metadata": {},
   "outputs": [],
   "source": [
    "movies['country']='India'\n",
    "movies['country']"
   ]
  },
  {
   "cell_type": "code",
   "execution_count": null,
   "metadata": {},
   "outputs": [],
   "source": [
    "movies.head(5)"
   ]
  },
  {
   "cell_type": "code",
   "execution_count": null,
   "metadata": {},
   "outputs": [],
   "source": [
    "movies['country']='Bharat'"
   ]
  },
  {
   "cell_type": "code",
   "execution_count": null,
   "metadata": {},
   "outputs": [],
   "source": [
    "movies.loc[[1,2,3],'country']='UK'\n",
    "movies"
   ]
  },
  {
   "cell_type": "code",
   "execution_count": 365,
   "metadata": {},
   "outputs": [],
   "source": [
    "#From existing ones \n",
    "movies.dropna(inplace=True)"
   ]
  },
  {
   "cell_type": "code",
   "execution_count": 363,
   "metadata": {},
   "outputs": [
    {
     "name": "stdout",
     "output_type": "stream",
     "text": [
      "<class 'pandas.core.frame.DataFrame'>\n",
      "Index: 298 entries, 11 to 1623\n",
      "Data columns (total 19 columns):\n",
      " #   Column            Non-Null Count  Dtype  \n",
      "---  ------            --------------  -----  \n",
      " 0   title_x           298 non-null    object \n",
      " 1   imdb_id           298 non-null    object \n",
      " 2   poster_path       298 non-null    object \n",
      " 3   wiki_link         298 non-null    object \n",
      " 4   title_y           298 non-null    object \n",
      " 5   original_title    298 non-null    object \n",
      " 6   is_adult          298 non-null    int64  \n",
      " 7   year_of_release   298 non-null    int64  \n",
      " 8   runtime           298 non-null    object \n",
      " 9   genres            298 non-null    object \n",
      " 10  imdb_rating       298 non-null    float64\n",
      " 11  imdb_votes        298 non-null    int64  \n",
      " 12  story             298 non-null    object \n",
      " 13  summary           298 non-null    object \n",
      " 14  tagline           298 non-null    object \n",
      " 15  actors            298 non-null    object \n",
      " 16  wins_nominations  298 non-null    object \n",
      " 17  release_date      298 non-null    object \n",
      " 18  country           298 non-null    object \n",
      "dtypes: float64(1), int64(3), object(15)\n",
      "memory usage: 46.6+ KB\n"
     ]
    }
   ],
   "source": [
    "movies.info()"
   ]
  },
  {
   "cell_type": "code",
   "execution_count": 369,
   "metadata": {},
   "outputs": [],
   "source": [
    "movies['Lead Actor']=movies['actors'].str.split(\"|\").apply(lambda x:x[0])"
   ]
  },
  {
   "cell_type": "code",
   "execution_count": 370,
   "metadata": {},
   "outputs": [
    {
     "data": {
      "text/html": [
       "<div>\n",
       "<style scoped>\n",
       "    .dataframe tbody tr th:only-of-type {\n",
       "        vertical-align: middle;\n",
       "    }\n",
       "\n",
       "    .dataframe tbody tr th {\n",
       "        vertical-align: top;\n",
       "    }\n",
       "\n",
       "    .dataframe thead th {\n",
       "        text-align: right;\n",
       "    }\n",
       "</style>\n",
       "<table border=\"1\" class=\"dataframe\">\n",
       "  <thead>\n",
       "    <tr style=\"text-align: right;\">\n",
       "      <th></th>\n",
       "      <th>title_x</th>\n",
       "      <th>imdb_id</th>\n",
       "      <th>poster_path</th>\n",
       "      <th>wiki_link</th>\n",
       "      <th>title_y</th>\n",
       "      <th>original_title</th>\n",
       "      <th>is_adult</th>\n",
       "      <th>year_of_release</th>\n",
       "      <th>runtime</th>\n",
       "      <th>genres</th>\n",
       "      <th>imdb_rating</th>\n",
       "      <th>imdb_votes</th>\n",
       "      <th>story</th>\n",
       "      <th>summary</th>\n",
       "      <th>tagline</th>\n",
       "      <th>actors</th>\n",
       "      <th>wins_nominations</th>\n",
       "      <th>release_date</th>\n",
       "      <th>country</th>\n",
       "      <th>Lead Actor</th>\n",
       "    </tr>\n",
       "  </thead>\n",
       "  <tbody>\n",
       "    <tr>\n",
       "      <th>11</th>\n",
       "      <td>Gully Boy</td>\n",
       "      <td>tt2395469</td>\n",
       "      <td>https://upload.wikimedia.org/wikipedia/en/thum...</td>\n",
       "      <td>https://en.wikipedia.org/wiki/Gully_Boy</td>\n",
       "      <td>Gully Boy</td>\n",
       "      <td>Gully Boy</td>\n",
       "      <td>0</td>\n",
       "      <td>2019</td>\n",
       "      <td>153</td>\n",
       "      <td>Drama|Music</td>\n",
       "      <td>8.2</td>\n",
       "      <td>22440</td>\n",
       "      <td>Gully Boy is a film about a 22-year-old boy \"M...</td>\n",
       "      <td>A coming-of-age story based on the lives of st...</td>\n",
       "      <td>Apna Time Aayega!</td>\n",
       "      <td>Ranveer Singh|Alia Bhatt|Siddhant Chaturvedi|V...</td>\n",
       "      <td>6 wins &amp; 3 nominations</td>\n",
       "      <td>14 February 2019 (USA)</td>\n",
       "      <td>Bharat</td>\n",
       "      <td>Ranveer Singh</td>\n",
       "    </tr>\n",
       "    <tr>\n",
       "      <th>34</th>\n",
       "      <td>Yeh Hai India</td>\n",
       "      <td>tt5525846</td>\n",
       "      <td>https://upload.wikimedia.org/wikipedia/en/thum...</td>\n",
       "      <td>https://en.wikipedia.org/wiki/Yeh_Hai_India</td>\n",
       "      <td>Yeh Hai India</td>\n",
       "      <td>Yeh Hai India</td>\n",
       "      <td>0</td>\n",
       "      <td>2017</td>\n",
       "      <td>128</td>\n",
       "      <td>Action|Adventure|Drama</td>\n",
       "      <td>5.7</td>\n",
       "      <td>169</td>\n",
       "      <td>Yeh Hai India  follows the story of a 25 years...</td>\n",
       "      <td>Yeh Hai India  follows the story of a 25 years...</td>\n",
       "      <td>A Film for Every Indian</td>\n",
       "      <td>Gavie Chahal|Mohan Agashe|Mohan Joshi|Lom Harsh|</td>\n",
       "      <td>2 wins &amp; 1 nomination</td>\n",
       "      <td>24 May 2019 (India)</td>\n",
       "      <td>Bharat</td>\n",
       "      <td>Gavie Chahal</td>\n",
       "    </tr>\n",
       "    <tr>\n",
       "      <th>37</th>\n",
       "      <td>Article 15 (film)</td>\n",
       "      <td>tt10324144</td>\n",
       "      <td>https://upload.wikimedia.org/wikipedia/en/thum...</td>\n",
       "      <td>https://en.wikipedia.org/wiki/Article_15_(film)</td>\n",
       "      <td>Article 15</td>\n",
       "      <td>Article 15</td>\n",
       "      <td>0</td>\n",
       "      <td>2019</td>\n",
       "      <td>130</td>\n",
       "      <td>Crime|Drama</td>\n",
       "      <td>8.3</td>\n",
       "      <td>13417</td>\n",
       "      <td>In the rural heartlands of India  an upright p...</td>\n",
       "      <td>In the rural heartlands of India  an upright p...</td>\n",
       "      <td>Farq Bahut Kar Liya| Ab Farq Laayenge.</td>\n",
       "      <td>Ayushmann Khurrana|Nassar|Manoj Pahwa|Kumud Mi...</td>\n",
       "      <td>1 win</td>\n",
       "      <td>28 June 2019 (USA)</td>\n",
       "      <td>Bharat</td>\n",
       "      <td>Ayushmann Khurrana</td>\n",
       "    </tr>\n",
       "    <tr>\n",
       "      <th>87</th>\n",
       "      <td>Aiyaary</td>\n",
       "      <td>tt6774212</td>\n",
       "      <td>https://upload.wikimedia.org/wikipedia/en/thum...</td>\n",
       "      <td>https://en.wikipedia.org/wiki/Aiyaary</td>\n",
       "      <td>Aiyaary</td>\n",
       "      <td>Aiyaary</td>\n",
       "      <td>0</td>\n",
       "      <td>2018</td>\n",
       "      <td>157</td>\n",
       "      <td>Action|Thriller</td>\n",
       "      <td>5.2</td>\n",
       "      <td>3538</td>\n",
       "      <td>General Gurinder Singh comes with a proposal t...</td>\n",
       "      <td>After finding out about an illegal arms deal  ...</td>\n",
       "      <td>The Ultimate Trickery</td>\n",
       "      <td>Sidharth Malhotra|Manoj Bajpayee|Rakul Preet S...</td>\n",
       "      <td>1 nomination</td>\n",
       "      <td>16 February 2018 (USA)</td>\n",
       "      <td>Bharat</td>\n",
       "      <td>Sidharth Malhotra</td>\n",
       "    </tr>\n",
       "    <tr>\n",
       "      <th>96</th>\n",
       "      <td>Raid (2018 film)</td>\n",
       "      <td>tt7363076</td>\n",
       "      <td>https://upload.wikimedia.org/wikipedia/en/thum...</td>\n",
       "      <td>https://en.wikipedia.org/wiki/Raid_(2018_film)</td>\n",
       "      <td>Raid</td>\n",
       "      <td>Raid</td>\n",
       "      <td>0</td>\n",
       "      <td>2018</td>\n",
       "      <td>122</td>\n",
       "      <td>Action|Crime|Drama</td>\n",
       "      <td>7.4</td>\n",
       "      <td>13159</td>\n",
       "      <td>Set in the 80s in Uttar Pradesh  India  Raid i...</td>\n",
       "      <td>A fearless income tax officer raids the mansio...</td>\n",
       "      <td>Heroes don't always come in uniform</td>\n",
       "      <td>Ajay Devgn|Saurabh Shukla|Ileana D'Cruz|Amit S...</td>\n",
       "      <td>2 wins &amp; 3 nominations</td>\n",
       "      <td>16 March 2018 (India)</td>\n",
       "      <td>Bharat</td>\n",
       "      <td>Ajay Devgn</td>\n",
       "    </tr>\n",
       "    <tr>\n",
       "      <th>...</th>\n",
       "      <td>...</td>\n",
       "      <td>...</td>\n",
       "      <td>...</td>\n",
       "      <td>...</td>\n",
       "      <td>...</td>\n",
       "      <td>...</td>\n",
       "      <td>...</td>\n",
       "      <td>...</td>\n",
       "      <td>...</td>\n",
       "      <td>...</td>\n",
       "      <td>...</td>\n",
       "      <td>...</td>\n",
       "      <td>...</td>\n",
       "      <td>...</td>\n",
       "      <td>...</td>\n",
       "      <td>...</td>\n",
       "      <td>...</td>\n",
       "      <td>...</td>\n",
       "      <td>...</td>\n",
       "      <td>...</td>\n",
       "    </tr>\n",
       "    <tr>\n",
       "      <th>1600</th>\n",
       "      <td>Kasoor</td>\n",
       "      <td>tt0272688</td>\n",
       "      <td>https://upload.wikimedia.org/wikipedia/en/thum...</td>\n",
       "      <td>https://en.wikipedia.org/wiki/Kasoor</td>\n",
       "      <td>Kasoor</td>\n",
       "      <td>Kasoor</td>\n",
       "      <td>0</td>\n",
       "      <td>2001</td>\n",
       "      <td>151</td>\n",
       "      <td>Drama|Mystery|Thriller</td>\n",
       "      <td>6.0</td>\n",
       "      <td>801</td>\n",
       "      <td>Shekar Saxena is arrested and charged with the...</td>\n",
       "      <td>Shekhar appoints Simran  a lawyer with an impe...</td>\n",
       "      <td>A dangerous passion...</td>\n",
       "      <td>Divya Dutta|Sucheta Paushe|Lisa Ray|Apoorva Ag...</td>\n",
       "      <td>2 nominations</td>\n",
       "      <td>2 February 2001 (India)</td>\n",
       "      <td>Bharat</td>\n",
       "      <td>Divya Dutta</td>\n",
       "    </tr>\n",
       "    <tr>\n",
       "      <th>1601</th>\n",
       "      <td>Maya (2001 film)</td>\n",
       "      <td>tt0299027</td>\n",
       "      <td>https://upload.wikimedia.org/wikipedia/en/thum...</td>\n",
       "      <td>https://en.wikipedia.org/wiki/Maya_(2001_film)</td>\n",
       "      <td>Maya</td>\n",
       "      <td>Maya</td>\n",
       "      <td>0</td>\n",
       "      <td>2001</td>\n",
       "      <td>105</td>\n",
       "      <td>Drama</td>\n",
       "      <td>7.0</td>\n",
       "      <td>277</td>\n",
       "      <td>For 12 year-old Maya  life is very simple in h...</td>\n",
       "      <td>MAYA is a coming of age story set against an '...</td>\n",
       "      <td>A child's innocence shattered by unreal tradit...</td>\n",
       "      <td>Anant Nag|Mita Vasisht|Nitya Shetty|Nikhil Yad...</td>\n",
       "      <td>2 wins &amp; 4 nominations</td>\n",
       "      <td>16 January 2002 (Belgium)</td>\n",
       "      <td>Bharat</td>\n",
       "      <td>Anant Nag</td>\n",
       "    </tr>\n",
       "    <tr>\n",
       "      <th>1607</th>\n",
       "      <td>Nayak (2001 Hindi film)</td>\n",
       "      <td>tt0291376</td>\n",
       "      <td>https://upload.wikimedia.org/wikipedia/en/thum...</td>\n",
       "      <td>https://en.wikipedia.org/wiki/Nayak_(2001_Hind...</td>\n",
       "      <td>Nayak: The Real Hero</td>\n",
       "      <td>Nayak: The Real Hero</td>\n",
       "      <td>0</td>\n",
       "      <td>2001</td>\n",
       "      <td>187</td>\n",
       "      <td>Action|Drama|Thriller</td>\n",
       "      <td>7.8</td>\n",
       "      <td>12522</td>\n",
       "      <td>Employed as a camera-man at a popular televisi...</td>\n",
       "      <td>A man accepts a challenge by the chief ministe...</td>\n",
       "      <td>Fight the power</td>\n",
       "      <td>Anil Kapoor|Rani Mukerji|Amrish Puri|Johnny Le...</td>\n",
       "      <td>2 nominations</td>\n",
       "      <td>7 September 2001 (India)</td>\n",
       "      <td>Bharat</td>\n",
       "      <td>Anil Kapoor</td>\n",
       "    </tr>\n",
       "    <tr>\n",
       "      <th>1621</th>\n",
       "      <td>Tum Bin</td>\n",
       "      <td>tt0290326</td>\n",
       "      <td>https://upload.wikimedia.org/wikipedia/en/thum...</td>\n",
       "      <td>https://en.wikipedia.org/wiki/Tum_Bin</td>\n",
       "      <td>Tum Bin...: Love Will Find a Way</td>\n",
       "      <td>Tum Bin...: Love Will Find a Way</td>\n",
       "      <td>0</td>\n",
       "      <td>2001</td>\n",
       "      <td>158</td>\n",
       "      <td>Drama|Romance</td>\n",
       "      <td>7.5</td>\n",
       "      <td>2879</td>\n",
       "      <td>Shekar and Amar meet at a party where Amar ask...</td>\n",
       "      <td>Shekhar accidentally kills his associate Amar ...</td>\n",
       "      <td>Love will find a way</td>\n",
       "      <td>Priyanshu Chatterjee|Himanshu Malik|Sandali Si...</td>\n",
       "      <td>6 nominations</td>\n",
       "      <td>13 July 2001 (India)</td>\n",
       "      <td>Bharat</td>\n",
       "      <td>Priyanshu Chatterjee</td>\n",
       "    </tr>\n",
       "    <tr>\n",
       "      <th>1623</th>\n",
       "      <td>Zubeidaa</td>\n",
       "      <td>tt0255713</td>\n",
       "      <td>https://upload.wikimedia.org/wikipedia/en/thum...</td>\n",
       "      <td>https://en.wikipedia.org/wiki/Zubeidaa</td>\n",
       "      <td>Zubeidaa</td>\n",
       "      <td>Zubeidaa</td>\n",
       "      <td>0</td>\n",
       "      <td>2001</td>\n",
       "      <td>153</td>\n",
       "      <td>Biography|Drama|History</td>\n",
       "      <td>6.2</td>\n",
       "      <td>1384</td>\n",
       "      <td>The film begins with Riyaz (Rajat Kapoor)  Zub...</td>\n",
       "      <td>Zubeidaa  an aspiring Muslim actress  marries ...</td>\n",
       "      <td>The Story of a Princess</td>\n",
       "      <td>Karisma Kapoor|Rekha|Manoj Bajpayee|Rajit Kapo...</td>\n",
       "      <td>3 wins &amp; 13 nominations</td>\n",
       "      <td>19 January 2001 (India)</td>\n",
       "      <td>Bharat</td>\n",
       "      <td>Karisma Kapoor</td>\n",
       "    </tr>\n",
       "  </tbody>\n",
       "</table>\n",
       "<p>298 rows × 20 columns</p>\n",
       "</div>"
      ],
      "text/plain": [
       "                      title_x     imdb_id  \\\n",
       "11                  Gully Boy   tt2395469   \n",
       "34              Yeh Hai India   tt5525846   \n",
       "37          Article 15 (film)  tt10324144   \n",
       "87                    Aiyaary   tt6774212   \n",
       "96           Raid (2018 film)   tt7363076   \n",
       "...                       ...         ...   \n",
       "1600                   Kasoor   tt0272688   \n",
       "1601         Maya (2001 film)   tt0299027   \n",
       "1607  Nayak (2001 Hindi film)   tt0291376   \n",
       "1621                  Tum Bin   tt0290326   \n",
       "1623                 Zubeidaa   tt0255713   \n",
       "\n",
       "                                            poster_path  \\\n",
       "11    https://upload.wikimedia.org/wikipedia/en/thum...   \n",
       "34    https://upload.wikimedia.org/wikipedia/en/thum...   \n",
       "37    https://upload.wikimedia.org/wikipedia/en/thum...   \n",
       "87    https://upload.wikimedia.org/wikipedia/en/thum...   \n",
       "96    https://upload.wikimedia.org/wikipedia/en/thum...   \n",
       "...                                                 ...   \n",
       "1600  https://upload.wikimedia.org/wikipedia/en/thum...   \n",
       "1601  https://upload.wikimedia.org/wikipedia/en/thum...   \n",
       "1607  https://upload.wikimedia.org/wikipedia/en/thum...   \n",
       "1621  https://upload.wikimedia.org/wikipedia/en/thum...   \n",
       "1623  https://upload.wikimedia.org/wikipedia/en/thum...   \n",
       "\n",
       "                                              wiki_link  \\\n",
       "11              https://en.wikipedia.org/wiki/Gully_Boy   \n",
       "34          https://en.wikipedia.org/wiki/Yeh_Hai_India   \n",
       "37      https://en.wikipedia.org/wiki/Article_15_(film)   \n",
       "87                https://en.wikipedia.org/wiki/Aiyaary   \n",
       "96       https://en.wikipedia.org/wiki/Raid_(2018_film)   \n",
       "...                                                 ...   \n",
       "1600               https://en.wikipedia.org/wiki/Kasoor   \n",
       "1601     https://en.wikipedia.org/wiki/Maya_(2001_film)   \n",
       "1607  https://en.wikipedia.org/wiki/Nayak_(2001_Hind...   \n",
       "1621              https://en.wikipedia.org/wiki/Tum_Bin   \n",
       "1623             https://en.wikipedia.org/wiki/Zubeidaa   \n",
       "\n",
       "                               title_y                    original_title  \\\n",
       "11                           Gully Boy                         Gully Boy   \n",
       "34                       Yeh Hai India                     Yeh Hai India   \n",
       "37                          Article 15                        Article 15   \n",
       "87                             Aiyaary                           Aiyaary   \n",
       "96                                Raid                              Raid   \n",
       "...                                ...                               ...   \n",
       "1600                            Kasoor                            Kasoor   \n",
       "1601                              Maya                              Maya   \n",
       "1607              Nayak: The Real Hero              Nayak: The Real Hero   \n",
       "1621  Tum Bin...: Love Will Find a Way  Tum Bin...: Love Will Find a Way   \n",
       "1623                          Zubeidaa                          Zubeidaa   \n",
       "\n",
       "      is_adult  year_of_release runtime                   genres  imdb_rating  \\\n",
       "11           0             2019     153              Drama|Music          8.2   \n",
       "34           0             2017     128   Action|Adventure|Drama          5.7   \n",
       "37           0             2019     130              Crime|Drama          8.3   \n",
       "87           0             2018     157          Action|Thriller          5.2   \n",
       "96           0             2018     122       Action|Crime|Drama          7.4   \n",
       "...        ...              ...     ...                      ...          ...   \n",
       "1600         0             2001     151   Drama|Mystery|Thriller          6.0   \n",
       "1601         0             2001     105                    Drama          7.0   \n",
       "1607         0             2001     187    Action|Drama|Thriller          7.8   \n",
       "1621         0             2001     158            Drama|Romance          7.5   \n",
       "1623         0             2001     153  Biography|Drama|History          6.2   \n",
       "\n",
       "      imdb_votes                                              story  \\\n",
       "11         22440  Gully Boy is a film about a 22-year-old boy \"M...   \n",
       "34           169  Yeh Hai India  follows the story of a 25 years...   \n",
       "37         13417  In the rural heartlands of India  an upright p...   \n",
       "87          3538  General Gurinder Singh comes with a proposal t...   \n",
       "96         13159  Set in the 80s in Uttar Pradesh  India  Raid i...   \n",
       "...          ...                                                ...   \n",
       "1600         801  Shekar Saxena is arrested and charged with the...   \n",
       "1601         277  For 12 year-old Maya  life is very simple in h...   \n",
       "1607       12522  Employed as a camera-man at a popular televisi...   \n",
       "1621        2879  Shekar and Amar meet at a party where Amar ask...   \n",
       "1623        1384  The film begins with Riyaz (Rajat Kapoor)  Zub...   \n",
       "\n",
       "                                                summary  \\\n",
       "11    A coming-of-age story based on the lives of st...   \n",
       "34    Yeh Hai India  follows the story of a 25 years...   \n",
       "37    In the rural heartlands of India  an upright p...   \n",
       "87    After finding out about an illegal arms deal  ...   \n",
       "96    A fearless income tax officer raids the mansio...   \n",
       "...                                                 ...   \n",
       "1600  Shekhar appoints Simran  a lawyer with an impe...   \n",
       "1601  MAYA is a coming of age story set against an '...   \n",
       "1607  A man accepts a challenge by the chief ministe...   \n",
       "1621  Shekhar accidentally kills his associate Amar ...   \n",
       "1623  Zubeidaa  an aspiring Muslim actress  marries ...   \n",
       "\n",
       "                                                tagline  \\\n",
       "11                                    Apna Time Aayega!   \n",
       "34                              A Film for Every Indian   \n",
       "37               Farq Bahut Kar Liya| Ab Farq Laayenge.   \n",
       "87                                The Ultimate Trickery   \n",
       "96                  Heroes don't always come in uniform   \n",
       "...                                                 ...   \n",
       "1600                             A dangerous passion...   \n",
       "1601  A child's innocence shattered by unreal tradit...   \n",
       "1607                                    Fight the power   \n",
       "1621                               Love will find a way   \n",
       "1623                            The Story of a Princess   \n",
       "\n",
       "                                                 actors  \\\n",
       "11    Ranveer Singh|Alia Bhatt|Siddhant Chaturvedi|V...   \n",
       "34     Gavie Chahal|Mohan Agashe|Mohan Joshi|Lom Harsh|   \n",
       "37    Ayushmann Khurrana|Nassar|Manoj Pahwa|Kumud Mi...   \n",
       "87    Sidharth Malhotra|Manoj Bajpayee|Rakul Preet S...   \n",
       "96    Ajay Devgn|Saurabh Shukla|Ileana D'Cruz|Amit S...   \n",
       "...                                                 ...   \n",
       "1600  Divya Dutta|Sucheta Paushe|Lisa Ray|Apoorva Ag...   \n",
       "1601  Anant Nag|Mita Vasisht|Nitya Shetty|Nikhil Yad...   \n",
       "1607  Anil Kapoor|Rani Mukerji|Amrish Puri|Johnny Le...   \n",
       "1621  Priyanshu Chatterjee|Himanshu Malik|Sandali Si...   \n",
       "1623  Karisma Kapoor|Rekha|Manoj Bajpayee|Rajit Kapo...   \n",
       "\n",
       "             wins_nominations               release_date country  \\\n",
       "11     6 wins & 3 nominations     14 February 2019 (USA)  Bharat   \n",
       "34      2 wins & 1 nomination        24 May 2019 (India)  Bharat   \n",
       "37                      1 win         28 June 2019 (USA)  Bharat   \n",
       "87               1 nomination     16 February 2018 (USA)  Bharat   \n",
       "96     2 wins & 3 nominations      16 March 2018 (India)  Bharat   \n",
       "...                       ...                        ...     ...   \n",
       "1600            2 nominations    2 February 2001 (India)  Bharat   \n",
       "1601   2 wins & 4 nominations  16 January 2002 (Belgium)  Bharat   \n",
       "1607            2 nominations   7 September 2001 (India)  Bharat   \n",
       "1621            6 nominations       13 July 2001 (India)  Bharat   \n",
       "1623  3 wins & 13 nominations    19 January 2001 (India)  Bharat   \n",
       "\n",
       "                Lead Actor  \n",
       "11           Ranveer Singh  \n",
       "34            Gavie Chahal  \n",
       "37      Ayushmann Khurrana  \n",
       "87       Sidharth Malhotra  \n",
       "96              Ajay Devgn  \n",
       "...                    ...  \n",
       "1600           Divya Dutta  \n",
       "1601             Anant Nag  \n",
       "1607           Anil Kapoor  \n",
       "1621  Priyanshu Chatterjee  \n",
       "1623        Karisma Kapoor  \n",
       "\n",
       "[298 rows x 20 columns]"
      ]
     },
     "execution_count": 370,
     "metadata": {},
     "output_type": "execute_result"
    }
   ],
   "source": [
    "movies"
   ]
  },
  {
   "cell_type": "markdown",
   "metadata": {},
   "source": [
    "# Important Dataframe Functions"
   ]
  },
  {
   "cell_type": "code",
   "execution_count": 372,
   "metadata": {},
   "outputs": [
    {
     "name": "stdout",
     "output_type": "stream",
     "text": [
      "<class 'pandas.core.frame.DataFrame'>\n",
      "RangeIndex: 950 entries, 0 to 949\n",
      "Data columns (total 20 columns):\n",
      " #   Column           Non-Null Count  Dtype  \n",
      "---  ------           --------------  -----  \n",
      " 0   ID               950 non-null    int64  \n",
      " 1   City             899 non-null    object \n",
      " 2   Date             950 non-null    object \n",
      " 3   Season           950 non-null    object \n",
      " 4   MatchNumber      950 non-null    object \n",
      " 5   Team1            950 non-null    object \n",
      " 6   Team2            950 non-null    object \n",
      " 7   Venue            950 non-null    object \n",
      " 8   TossWinner       950 non-null    object \n",
      " 9   TossDecision     950 non-null    object \n",
      " 10  SuperOver        946 non-null    object \n",
      " 11  WinningTeam      946 non-null    object \n",
      " 12  WonBy            950 non-null    object \n",
      " 13  Margin           932 non-null    float64\n",
      " 14  method           19 non-null     object \n",
      " 15  Player_of_Match  946 non-null    object \n",
      " 16  Team1Players     950 non-null    object \n",
      " 17  Team2Players     950 non-null    object \n",
      " 18  Umpire1          950 non-null    object \n",
      " 19  Umpire2          950 non-null    object \n",
      "dtypes: float64(1), int64(1), object(18)\n",
      "memory usage: 148.6+ KB\n"
     ]
    }
   ],
   "source": [
    "#astype\n",
    "ipl.info()"
   ]
  },
  {
   "cell_type": "code",
   "execution_count": 387,
   "metadata": {},
   "outputs": [],
   "source": [
    "ipl['ID']=ipl['ID'].astype('int32')"
   ]
  },
  {
   "cell_type": "code",
   "execution_count": 388,
   "metadata": {},
   "outputs": [
    {
     "name": "stdout",
     "output_type": "stream",
     "text": [
      "<class 'pandas.core.frame.DataFrame'>\n",
      "RangeIndex: 950 entries, 0 to 949\n",
      "Data columns (total 20 columns):\n",
      " #   Column           Non-Null Count  Dtype  \n",
      "---  ------           --------------  -----  \n",
      " 0   ID               950 non-null    int32  \n",
      " 1   City             899 non-null    object \n",
      " 2   Date             950 non-null    object \n",
      " 3   Season           950 non-null    object \n",
      " 4   MatchNumber      950 non-null    object \n",
      " 5   Team1            950 non-null    object \n",
      " 6   Team2            950 non-null    object \n",
      " 7   Venue            950 non-null    object \n",
      " 8   TossWinner       950 non-null    object \n",
      " 9   TossDecision     950 non-null    object \n",
      " 10  SuperOver        946 non-null    object \n",
      " 11  WinningTeam      946 non-null    object \n",
      " 12  WonBy            950 non-null    object \n",
      " 13  Margin           932 non-null    float64\n",
      " 14  method           19 non-null     object \n",
      " 15  Player_of_Match  946 non-null    object \n",
      " 16  Team1Players     950 non-null    object \n",
      " 17  Team2Players     950 non-null    object \n",
      " 18  Umpire1          950 non-null    object \n",
      " 19  Umpire2          950 non-null    object \n",
      "dtypes: float64(1), int32(1), object(18)\n",
      "memory usage: 144.9+ KB\n"
     ]
    }
   ],
   "source": [
    "ipl.info()"
   ]
  },
  {
   "cell_type": "code",
   "execution_count": 390,
   "metadata": {},
   "outputs": [],
   "source": [
    "ipl['Season']=ipl['Season'].astype('category')"
   ]
  },
  {
   "cell_type": "code",
   "execution_count": 392,
   "metadata": {},
   "outputs": [],
   "source": [
    "ipl['Team1']=ipl['Team1'].astype('category')"
   ]
  },
  {
   "cell_type": "code",
   "execution_count": 393,
   "metadata": {},
   "outputs": [
    {
     "name": "stdout",
     "output_type": "stream",
     "text": [
      "<class 'pandas.core.frame.DataFrame'>\n",
      "RangeIndex: 950 entries, 0 to 949\n",
      "Data columns (total 20 columns):\n",
      " #   Column           Non-Null Count  Dtype   \n",
      "---  ------           --------------  -----   \n",
      " 0   ID               950 non-null    int32   \n",
      " 1   City             899 non-null    object  \n",
      " 2   Date             950 non-null    object  \n",
      " 3   Season           950 non-null    category\n",
      " 4   MatchNumber      950 non-null    object  \n",
      " 5   Team1            950 non-null    category\n",
      " 6   Team2            950 non-null    object  \n",
      " 7   Venue            950 non-null    object  \n",
      " 8   TossWinner       950 non-null    object  \n",
      " 9   TossDecision     950 non-null    object  \n",
      " 10  SuperOver        946 non-null    object  \n",
      " 11  WinningTeam      946 non-null    object  \n",
      " 12  WonBy            950 non-null    object  \n",
      " 13  Margin           932 non-null    float64 \n",
      " 14  method           19 non-null     object  \n",
      " 15  Player_of_Match  946 non-null    object  \n",
      " 16  Team1Players     950 non-null    object  \n",
      " 17  Team2Players     950 non-null    object  \n",
      " 18  Umpire1          950 non-null    object  \n",
      " 19  Umpire2          950 non-null    object  \n",
      "dtypes: category(2), float64(1), int32(1), object(16)\n",
      "memory usage: 133.2+ KB\n"
     ]
    }
   ],
   "source": [
    "ipl.info()"
   ]
  },
  {
   "cell_type": "code",
   "execution_count": null,
   "metadata": {},
   "outputs": [],
   "source": [
    "#value_count"
   ]
  }
 ],
 "metadata": {
  "kernelspec": {
   "display_name": "Python 3",
   "language": "python",
   "name": "python3"
  },
  "language_info": {
   "codemirror_mode": {
    "name": "ipython",
    "version": 3
   },
   "file_extension": ".py",
   "mimetype": "text/x-python",
   "name": "python",
   "nbconvert_exporter": "python",
   "pygments_lexer": "ipython3",
   "version": "3.11.9"
  }
 },
 "nbformat": 4,
 "nbformat_minor": 2
}
