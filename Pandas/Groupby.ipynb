{
 "cells": [
  {
   "cell_type": "code",
   "execution_count": null,
   "metadata": {},
   "outputs": [],
   "source": [
    "import pandas as pd\n",
    "import numpy as np"
   ]
  },
  {
   "cell_type": "code",
   "execution_count": null,
   "metadata": {},
   "outputs": [],
   "source": [
    "movies=pd.read_csv('imdb-top-1000.csv')\n",
    "movies"
   ]
  },
  {
   "cell_type": "code",
   "execution_count": null,
   "metadata": {},
   "outputs": [],
   "source": [
    "genres=movies.groupby('Genre')\n",
    "genres.min()"
   ]
  },
  {
   "cell_type": "code",
   "execution_count": null,
   "metadata": {},
   "outputs": [],
   "source": [
    "genres.mean(numeric_only=True)"
   ]
  },
  {
   "cell_type": "code",
   "execution_count": null,
   "metadata": {},
   "outputs": [],
   "source": [
    "# find the top 3 genres by total earning\n",
    "movies.groupby('Genre').sum(numeric_only=True)['Gross'].sort_values(ascending=False).head(3)"
   ]
  },
  {
   "cell_type": "code",
   "execution_count": null,
   "metadata": {},
   "outputs": [],
   "source": [
    "movies.groupby('Genre')['Gross'].sum(numeric_only=True).sort_values(ascending=False).head(3)"
   ]
  },
  {
   "cell_type": "code",
   "execution_count": null,
   "metadata": {},
   "outputs": [],
   "source": [
    "movies.head(1)"
   ]
  },
  {
   "cell_type": "code",
   "execution_count": null,
   "metadata": {},
   "outputs": [],
   "source": [
    "#mujhse us genre ka naam nikalna h jinka imdb avg highest h\n",
    "movies.groupby('Genre')['IMDB_Rating'].mean().sort_values(ascending=False).head(1)\n",
    "\n"
   ]
  },
  {
   "cell_type": "code",
   "execution_count": null,
   "metadata": {},
   "outputs": [],
   "source": [
    "#Find Director with most popularity\n",
    "movies.groupby('Director')['No_of_Votes'].sum().sort_values(ascending=False).head(1)"
   ]
  },
  {
   "cell_type": "code",
   "execution_count": null,
   "metadata": {},
   "outputs": [],
   "source": [
    "# find the highest rated movie of each genre\n",
    "# movies.groupby('Genre')['IMDB_Rating'].max()"
   ]
  },
  {
   "cell_type": "code",
   "execution_count": null,
   "metadata": {},
   "outputs": [],
   "source": [
    "# find number of movies done by each actor\n",
    "movies.groupby('Series_Title')['Star1'].sum().value_counts()"
   ]
  },
  {
   "cell_type": "markdown",
   "metadata": {},
   "source": [
    "# GroupBy Attributes and Methods\n",
    "# find total number of groups -> len\n",
    "# find items in each group -› size\n",
    "# first()/last() -> nth item\n",
    "# get_group -> vs filtering\n",
    "# groups\n",
    "# describe\n",
    "# sample\n",
    "# nunique"
   ]
  },
  {
   "cell_type": "code",
   "execution_count": null,
   "metadata": {},
   "outputs": [],
   "source": [
    "#groupby attributes and meth0ds\n",
    "len()movies.groupby('Genre')\n"
   ]
  },
  {
   "cell_type": "code",
   "execution_count": null,
   "metadata": {},
   "outputs": [],
   "source": [
    "movies['Genre'].nunique()"
   ]
  },
  {
   "cell_type": "code",
   "execution_count": null,
   "metadata": {},
   "outputs": [],
   "source": [
    "movies.groupby('Genre').size()"
   ]
  },
  {
   "cell_type": "code",
   "execution_count": null,
   "metadata": {},
   "outputs": [],
   "source": [
    "genre=movies.groupby('Genre')"
   ]
  },
  {
   "cell_type": "code",
   "execution_count": null,
   "metadata": {},
   "outputs": [],
   "source": [
    "genre.first()\n",
    "genre.last()\n",
    "genre.nth(7)"
   ]
  },
  {
   "cell_type": "code",
   "execution_count": null,
   "metadata": {},
   "outputs": [],
   "source": [
    "movies.head(20)"
   ]
  },
  {
   "cell_type": "code",
   "execution_count": 117,
   "metadata": {},
   "outputs": [
    {
     "data": {
      "text/html": [
       "<div>\n",
       "<style scoped>\n",
       "    .dataframe tbody tr th:only-of-type {\n",
       "        vertical-align: middle;\n",
       "    }\n",
       "\n",
       "    .dataframe tbody tr th {\n",
       "        vertical-align: top;\n",
       "    }\n",
       "\n",
       "    .dataframe thead th {\n",
       "        text-align: right;\n",
       "    }\n",
       "</style>\n",
       "<table border=\"1\" class=\"dataframe\">\n",
       "  <thead>\n",
       "    <tr style=\"text-align: right;\">\n",
       "      <th></th>\n",
       "      <th>Series_Title</th>\n",
       "      <th>Released_Year</th>\n",
       "      <th>Runtime</th>\n",
       "      <th>Genre</th>\n",
       "      <th>IMDB_Rating</th>\n",
       "      <th>Director</th>\n",
       "      <th>Star1</th>\n",
       "      <th>No_of_Votes</th>\n",
       "      <th>Gross</th>\n",
       "      <th>Metascore</th>\n",
       "    </tr>\n",
       "  </thead>\n",
       "  <tbody>\n",
       "    <tr>\n",
       "      <th>49</th>\n",
       "      <td>Psycho</td>\n",
       "      <td>1960</td>\n",
       "      <td>109</td>\n",
       "      <td>Horror</td>\n",
       "      <td>8.5</td>\n",
       "      <td>Alfred Hitchcock</td>\n",
       "      <td>Anthony Perkins</td>\n",
       "      <td>604211</td>\n",
       "      <td>32000000.0</td>\n",
       "      <td>97.0</td>\n",
       "    </tr>\n",
       "    <tr>\n",
       "      <th>75</th>\n",
       "      <td>Alien</td>\n",
       "      <td>1979</td>\n",
       "      <td>117</td>\n",
       "      <td>Horror</td>\n",
       "      <td>8.4</td>\n",
       "      <td>Ridley Scott</td>\n",
       "      <td>Sigourney Weaver</td>\n",
       "      <td>787806</td>\n",
       "      <td>78900000.0</td>\n",
       "      <td>89.0</td>\n",
       "    </tr>\n",
       "    <tr>\n",
       "      <th>271</th>\n",
       "      <td>The Thing</td>\n",
       "      <td>1982</td>\n",
       "      <td>109</td>\n",
       "      <td>Horror</td>\n",
       "      <td>8.1</td>\n",
       "      <td>John Carpenter</td>\n",
       "      <td>Kurt Russell</td>\n",
       "      <td>371271</td>\n",
       "      <td>13782838.0</td>\n",
       "      <td>57.0</td>\n",
       "    </tr>\n",
       "    <tr>\n",
       "      <th>419</th>\n",
       "      <td>The Exorcist</td>\n",
       "      <td>1973</td>\n",
       "      <td>122</td>\n",
       "      <td>Horror</td>\n",
       "      <td>8.0</td>\n",
       "      <td>William Friedkin</td>\n",
       "      <td>Ellen Burstyn</td>\n",
       "      <td>362393</td>\n",
       "      <td>232906145.0</td>\n",
       "      <td>81.0</td>\n",
       "    </tr>\n",
       "    <tr>\n",
       "      <th>544</th>\n",
       "      <td>Night of the Living Dead</td>\n",
       "      <td>1968</td>\n",
       "      <td>96</td>\n",
       "      <td>Horror</td>\n",
       "      <td>7.9</td>\n",
       "      <td>George A. Romero</td>\n",
       "      <td>Duane Jones</td>\n",
       "      <td>116557</td>\n",
       "      <td>89029.0</td>\n",
       "      <td>89.0</td>\n",
       "    </tr>\n",
       "    <tr>\n",
       "      <th>707</th>\n",
       "      <td>The Innocents</td>\n",
       "      <td>1961</td>\n",
       "      <td>100</td>\n",
       "      <td>Horror</td>\n",
       "      <td>7.8</td>\n",
       "      <td>Jack Clayton</td>\n",
       "      <td>Deborah Kerr</td>\n",
       "      <td>27007</td>\n",
       "      <td>2616000.0</td>\n",
       "      <td>88.0</td>\n",
       "    </tr>\n",
       "    <tr>\n",
       "      <th>724</th>\n",
       "      <td>Get Out</td>\n",
       "      <td>2017</td>\n",
       "      <td>104</td>\n",
       "      <td>Horror</td>\n",
       "      <td>7.7</td>\n",
       "      <td>Jordan Peele</td>\n",
       "      <td>Daniel Kaluuya</td>\n",
       "      <td>492851</td>\n",
       "      <td>176040665.0</td>\n",
       "      <td>85.0</td>\n",
       "    </tr>\n",
       "    <tr>\n",
       "      <th>844</th>\n",
       "      <td>Halloween</td>\n",
       "      <td>1978</td>\n",
       "      <td>91</td>\n",
       "      <td>Horror</td>\n",
       "      <td>7.7</td>\n",
       "      <td>John Carpenter</td>\n",
       "      <td>Donald Pleasence</td>\n",
       "      <td>233106</td>\n",
       "      <td>47000000.0</td>\n",
       "      <td>87.0</td>\n",
       "    </tr>\n",
       "    <tr>\n",
       "      <th>876</th>\n",
       "      <td>The Invisible Man</td>\n",
       "      <td>1933</td>\n",
       "      <td>71</td>\n",
       "      <td>Horror</td>\n",
       "      <td>7.7</td>\n",
       "      <td>James Whale</td>\n",
       "      <td>Claude Rains</td>\n",
       "      <td>30683</td>\n",
       "      <td>298791505.0</td>\n",
       "      <td>87.0</td>\n",
       "    </tr>\n",
       "    <tr>\n",
       "      <th>932</th>\n",
       "      <td>Saw</td>\n",
       "      <td>2004</td>\n",
       "      <td>103</td>\n",
       "      <td>Horror</td>\n",
       "      <td>7.6</td>\n",
       "      <td>James Wan</td>\n",
       "      <td>Cary Elwes</td>\n",
       "      <td>379020</td>\n",
       "      <td>56000369.0</td>\n",
       "      <td>46.0</td>\n",
       "    </tr>\n",
       "    <tr>\n",
       "      <th>948</th>\n",
       "      <td>The Others</td>\n",
       "      <td>2001</td>\n",
       "      <td>101</td>\n",
       "      <td>Horror</td>\n",
       "      <td>7.6</td>\n",
       "      <td>Alejandro Amenábar</td>\n",
       "      <td>Nicole Kidman</td>\n",
       "      <td>337651</td>\n",
       "      <td>96522687.0</td>\n",
       "      <td>74.0</td>\n",
       "    </tr>\n",
       "  </tbody>\n",
       "</table>\n",
       "</div>"
      ],
      "text/plain": [
       "                 Series_Title Released_Year  Runtime   Genre  IMDB_Rating  \\\n",
       "49                     Psycho          1960      109  Horror          8.5   \n",
       "75                      Alien          1979      117  Horror          8.4   \n",
       "271                 The Thing          1982      109  Horror          8.1   \n",
       "419              The Exorcist          1973      122  Horror          8.0   \n",
       "544  Night of the Living Dead          1968       96  Horror          7.9   \n",
       "707             The Innocents          1961      100  Horror          7.8   \n",
       "724                   Get Out          2017      104  Horror          7.7   \n",
       "844                 Halloween          1978       91  Horror          7.7   \n",
       "876         The Invisible Man          1933       71  Horror          7.7   \n",
       "932                       Saw          2004      103  Horror          7.6   \n",
       "948                The Others          2001      101  Horror          7.6   \n",
       "\n",
       "               Director             Star1  No_of_Votes        Gross  Metascore  \n",
       "49     Alfred Hitchcock   Anthony Perkins       604211   32000000.0       97.0  \n",
       "75         Ridley Scott  Sigourney Weaver       787806   78900000.0       89.0  \n",
       "271      John Carpenter      Kurt Russell       371271   13782838.0       57.0  \n",
       "419    William Friedkin     Ellen Burstyn       362393  232906145.0       81.0  \n",
       "544    George A. Romero       Duane Jones       116557      89029.0       89.0  \n",
       "707        Jack Clayton      Deborah Kerr        27007    2616000.0       88.0  \n",
       "724        Jordan Peele    Daniel Kaluuya       492851  176040665.0       85.0  \n",
       "844      John Carpenter  Donald Pleasence       233106   47000000.0       87.0  \n",
       "876         James Whale      Claude Rains        30683  298791505.0       87.0  \n",
       "932           James Wan        Cary Elwes       379020   56000369.0       46.0  \n",
       "948  Alejandro Amenábar     Nicole Kidman       337651   96522687.0       74.0  "
      ]
     },
     "execution_count": 117,
     "metadata": {},
     "output_type": "execute_result"
    }
   ],
   "source": [
    "genre.get_group('Horror')"
   ]
  },
  {
   "cell_type": "code",
   "execution_count": 118,
   "metadata": {},
   "outputs": [
    {
     "data": {
      "text/html": [
       "<div>\n",
       "<style scoped>\n",
       "    .dataframe tbody tr th:only-of-type {\n",
       "        vertical-align: middle;\n",
       "    }\n",
       "\n",
       "    .dataframe tbody tr th {\n",
       "        vertical-align: top;\n",
       "    }\n",
       "\n",
       "    .dataframe thead th {\n",
       "        text-align: right;\n",
       "    }\n",
       "</style>\n",
       "<table border=\"1\" class=\"dataframe\">\n",
       "  <thead>\n",
       "    <tr style=\"text-align: right;\">\n",
       "      <th></th>\n",
       "      <th>Series_Title</th>\n",
       "      <th>Released_Year</th>\n",
       "      <th>Runtime</th>\n",
       "      <th>Genre</th>\n",
       "      <th>IMDB_Rating</th>\n",
       "      <th>Director</th>\n",
       "      <th>Star1</th>\n",
       "      <th>No_of_Votes</th>\n",
       "      <th>Gross</th>\n",
       "      <th>Metascore</th>\n",
       "    </tr>\n",
       "  </thead>\n",
       "  <tbody>\n",
       "    <tr>\n",
       "      <th>321</th>\n",
       "      <td>Das Cabinet des Dr. Caligari</td>\n",
       "      <td>1920</td>\n",
       "      <td>76</td>\n",
       "      <td>Fantasy</td>\n",
       "      <td>8.1</td>\n",
       "      <td>Robert Wiene</td>\n",
       "      <td>Werner Krauss</td>\n",
       "      <td>57428</td>\n",
       "      <td>337574718.0</td>\n",
       "      <td>NaN</td>\n",
       "    </tr>\n",
       "    <tr>\n",
       "      <th>568</th>\n",
       "      <td>Nosferatu</td>\n",
       "      <td>1922</td>\n",
       "      <td>94</td>\n",
       "      <td>Fantasy</td>\n",
       "      <td>7.9</td>\n",
       "      <td>F.W. Murnau</td>\n",
       "      <td>Max Schreck</td>\n",
       "      <td>88794</td>\n",
       "      <td>445151978.0</td>\n",
       "      <td>NaN</td>\n",
       "    </tr>\n",
       "  </tbody>\n",
       "</table>\n",
       "</div>"
      ],
      "text/plain": [
       "                     Series_Title Released_Year  Runtime    Genre  \\\n",
       "321  Das Cabinet des Dr. Caligari          1920       76  Fantasy   \n",
       "568                     Nosferatu          1922       94  Fantasy   \n",
       "\n",
       "     IMDB_Rating      Director          Star1  No_of_Votes        Gross  \\\n",
       "321          8.1  Robert Wiene  Werner Krauss        57428  337574718.0   \n",
       "568          7.9   F.W. Murnau    Max Schreck        88794  445151978.0   \n",
       "\n",
       "     Metascore  \n",
       "321        NaN  \n",
       "568        NaN  "
      ]
     },
     "execution_count": 118,
     "metadata": {},
     "output_type": "execute_result"
    }
   ],
   "source": [
    "genre.get_group('Fantasy')"
   ]
  },
  {
   "cell_type": "code",
   "execution_count": 119,
   "metadata": {},
   "outputs": [
    {
     "data": {
      "text/html": [
       "<div>\n",
       "<style scoped>\n",
       "    .dataframe tbody tr th:only-of-type {\n",
       "        vertical-align: middle;\n",
       "    }\n",
       "\n",
       "    .dataframe tbody tr th {\n",
       "        vertical-align: top;\n",
       "    }\n",
       "\n",
       "    .dataframe thead th {\n",
       "        text-align: right;\n",
       "    }\n",
       "</style>\n",
       "<table border=\"1\" class=\"dataframe\">\n",
       "  <thead>\n",
       "    <tr style=\"text-align: right;\">\n",
       "      <th></th>\n",
       "      <th>Series_Title</th>\n",
       "      <th>Released_Year</th>\n",
       "      <th>Runtime</th>\n",
       "      <th>Genre</th>\n",
       "      <th>IMDB_Rating</th>\n",
       "      <th>Director</th>\n",
       "      <th>Star1</th>\n",
       "      <th>No_of_Votes</th>\n",
       "      <th>Gross</th>\n",
       "      <th>Metascore</th>\n",
       "    </tr>\n",
       "  </thead>\n",
       "  <tbody>\n",
       "    <tr>\n",
       "      <th>321</th>\n",
       "      <td>Das Cabinet des Dr. Caligari</td>\n",
       "      <td>1920</td>\n",
       "      <td>76</td>\n",
       "      <td>Fantasy</td>\n",
       "      <td>8.1</td>\n",
       "      <td>Robert Wiene</td>\n",
       "      <td>Werner Krauss</td>\n",
       "      <td>57428</td>\n",
       "      <td>337574718.0</td>\n",
       "      <td>NaN</td>\n",
       "    </tr>\n",
       "    <tr>\n",
       "      <th>568</th>\n",
       "      <td>Nosferatu</td>\n",
       "      <td>1922</td>\n",
       "      <td>94</td>\n",
       "      <td>Fantasy</td>\n",
       "      <td>7.9</td>\n",
       "      <td>F.W. Murnau</td>\n",
       "      <td>Max Schreck</td>\n",
       "      <td>88794</td>\n",
       "      <td>445151978.0</td>\n",
       "      <td>NaN</td>\n",
       "    </tr>\n",
       "  </tbody>\n",
       "</table>\n",
       "</div>"
      ],
      "text/plain": [
       "                     Series_Title Released_Year  Runtime    Genre  \\\n",
       "321  Das Cabinet des Dr. Caligari          1920       76  Fantasy   \n",
       "568                     Nosferatu          1922       94  Fantasy   \n",
       "\n",
       "     IMDB_Rating      Director          Star1  No_of_Votes        Gross  \\\n",
       "321          8.1  Robert Wiene  Werner Krauss        57428  337574718.0   \n",
       "568          7.9   F.W. Murnau    Max Schreck        88794  445151978.0   \n",
       "\n",
       "     Metascore  \n",
       "321        NaN  \n",
       "568        NaN  "
      ]
     },
     "execution_count": 119,
     "metadata": {},
     "output_type": "execute_result"
    }
   ],
   "source": [
    "movies[movies['Genre']=='Fantasy']"
   ]
  }
 ],
 "metadata": {
  "kernelspec": {
   "display_name": "Python 3",
   "language": "python",
   "name": "python3"
  },
  "language_info": {
   "codemirror_mode": {
    "name": "ipython",
    "version": 3
   },
   "file_extension": ".py",
   "mimetype": "text/x-python",
   "name": "python",
   "nbconvert_exporter": "python",
   "pygments_lexer": "ipython3",
   "version": "3.11.9"
  }
 },
 "nbformat": 4,
 "nbformat_minor": 2
}
