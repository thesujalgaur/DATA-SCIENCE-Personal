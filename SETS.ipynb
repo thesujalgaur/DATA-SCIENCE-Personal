{
 "cells": [
  {
   "cell_type": "markdown",
   "metadata": {},
   "source": [
    "# Sets in Python\n",
    "\t•\tA set is an unordered, mutable collection of unique elements.\n",
    "\t•\tDefined using curly braces {} or the set() constructor.\n",
    "\t•\tDuplicates are automatically removed.\n",
    "\t•\tSets are great for membership tests, eliminating duplicates, and performing mathematical operations.\n",
    "\t•       Can't contain Mutable Datatypes\n",
    "\n",
    "⸻\n",
    "\n",
    "Key Characteristics\n",
    "1.\tUnordered: No guaranteed order of elements.\n",
    "2.\tUnique elements: Duplicates are removed.\n",
    "3.\tMutable: You can add or remove elements (but elements themselves must be immutable like numbers, strings, tuples).\n",
    "\n",
    "⸻\n",
    "\n",
    "Common Operations\n",
    "\t•\tadd() – add element\n",
    "\t•\tremove() / discard() – remove element\n",
    "\t•\tlen() – number of elements\n",
    "\t•\tMembership test: in / not in\n",
    "\n",
    "Set operations:\n",
    "     •\tUnion (| or union()): combine elements\n",
    "     •\tIntersection (& or intersection()): common elements\n",
    "     •\tDifference (- or difference()): elements in one set but not the other"
   ]
  },
  {
   "cell_type": "code",
   "execution_count": null,
   "metadata": {},
   "outputs": [],
   "source": [
    "#Empty\n",
    "s=set()\n",
    "print(type(s))\n",
    "#1D aur 2D\n",
    "s1={1,2,3,4,5}\n",
    "print(s1)\n",
    "#2D Dataset nahi kar skte \n",
    "#hetero\n",
    "s2={True,1,\"Ram\",2.8,5+3j,(2,3,4)}\n",
    "print(s2)\n",
    "#type conversion \n",
    "s4=set([1,2,3])\n",
    "print(type(s4))\n",
    "#duplicate not allowed\n",
    "s5={1,1,1,22,2,1,3,1,3,3}\n",
    "print(s5)\n",
    "#set can't have mutable items\n",
    "s6={1,2,3,[4]}\n",
    "print(s6) #this will throw error\n"
   ]
  },
  {
   "cell_type": "markdown",
   "metadata": {},
   "source": [
    "# Accessing items"
   ]
  },
  {
   "cell_type": "code",
   "execution_count": null,
   "metadata": {},
   "outputs": [],
   "source": [
    "#Accessing the items in the in the set is not possible .\n",
    "#not accessible "
   ]
  },
  {
   "cell_type": "markdown",
   "metadata": {},
   "source": [
    "# Editing of items"
   ]
  },
  {
   "cell_type": "code",
   "execution_count": null,
   "metadata": {},
   "outputs": [],
   "source": [
    "a={1,2,4,5,5,54657}\n",
    "a[3]=100\n",
    "print(a)\n",
    "#not posible"
   ]
  },
  {
   "cell_type": "markdown",
   "metadata": {},
   "source": [
    "# Adding item"
   ]
  },
  {
   "cell_type": "code",
   "execution_count": null,
   "metadata": {},
   "outputs": [],
   "source": [
    "#adding new item to a set\n",
    "a={1,2,4,5,5,54657}\n",
    "##a.add(334,23)\n",
    "print(a)  # add ek baaar me ek item ko hi add kar pata\n",
    "#Update item\n",
    "a.update([23,434,535,63,36465,7,686]) # we pass a list for multiple item passing\n",
    "print(a)\n"
   ]
  },
  {
   "cell_type": "markdown",
   "metadata": {},
   "source": [
    "# Deleting item"
   ]
  },
  {
   "cell_type": "code",
   "execution_count": null,
   "metadata": {},
   "outputs": [],
   "source": [
    "#delete\n",
    "a={1,2,4,5,5,54657}\n",
    "#del a #iske andar ek particular item ko delete nahi kar sakte ... q ki indexing kaam nhi karti toh pura hi delete hoga\n",
    "#remove\n",
    "a.remove(1)\n",
    "print(a)\n",
    "#pop\n",
    "a.pop() #Randomly delete any item\n",
    "a\n",
    "#discard\n",
    "a.discard(5)\n",
    "#clear\n",
    "a.clear()\n",
    "print(a)\n",
    "\n"
   ]
  },
  {
   "cell_type": "markdown",
   "metadata": {},
   "source": [
    "# Sets Operatioin"
   ]
  },
  {
   "cell_type": "code",
   "execution_count": 55,
   "metadata": {},
   "outputs": [
    {
     "name": "stdout",
     "output_type": "stream",
     "text": [
      "{1, 2, 3, 4, 5, 6, 7, 8}\n",
      "{4, 5}\n",
      "{1, 2, 3}\n",
      "{4, 5, 6, 7, 8}\n",
      "1\n",
      "2\n",
      "3\n",
      "4\n",
      "5\n",
      "4\n",
      "5\n",
      "6\n",
      "7\n",
      "8\n"
     ]
    }
   ],
   "source": [
    "s1={1,2,3,4,5}\n",
    "s2={4,5,6,7,8}\n",
    "#union(|)\n",
    "print(s1|s2)\n",
    "#intersection(&)\n",
    "print(s1&s2)\n",
    "#Difference(-) s1 ke woh item jo s2 me nahi h \n",
    "print(s1-s2)\n",
    "#Symmetric Difference(^)\n",
    "print(s^s2)\n",
    "#memebership test \n",
    "5 in s1\n",
    "334 in s2\n",
    "#iteration\n",
    "for i in s1:\n",
    "    print(i)\n",
    "    \n",
    "for j in s2:\n",
    "    print(j)\n"
   ]
  },
  {
   "cell_type": "markdown",
   "metadata": {},
   "source": [
    "# Set Functions"
   ]
  },
  {
   "cell_type": "code",
   "execution_count": 53,
   "metadata": {},
   "outputs": [
    {
     "name": "stdout",
     "output_type": "stream",
     "text": [
      "1\n",
      "5\n",
      "5\n",
      "15\n",
      "[1, 2, 3, 4, 5]\n"
     ]
    }
   ],
   "source": [
    "#min/max/len/sum/sorted\n",
    "s1={1,2,3,4,5}\n",
    "s2={4,5,6,7,8}\n",
    "print(min(s1))\n",
    "print(max(s1))\n",
    "print(len(s1))\n",
    "print(sum(s1))\n",
    "print(sorted(s1,reverse=True))\n"
   ]
  },
  {
   "cell_type": "code",
   "execution_count": 64,
   "metadata": {},
   "outputs": [
    {
     "name": "stdout",
     "output_type": "stream",
     "text": [
      "{1, 2, 3, 4, 5, 6, 7, 8}\n",
      "{4, 5, 6, 7, 8}\n"
     ]
    }
   ],
   "source": [
    "#union/Update\n",
    "s1={1,2,3,4,5}\n",
    "s2={4,5,6,7,8}\n",
    "s1.union(s2) #same\n",
    "s1|s2#same\n",
    "\n",
    "s1.update(s2)\n",
    "print(s1)\n",
    "print(s2)\n",
    "\n"
   ]
  },
  {
   "cell_type": "code",
   "execution_count": 70,
   "metadata": {},
   "outputs": [
    {
     "name": "stdout",
     "output_type": "stream",
     "text": [
      "{4, 5}\n",
      "{4, 5, 6, 7, 8}\n"
     ]
    }
   ],
   "source": [
    "#intersection \\\\ intersection_update\n",
    "s1={1,2,3,4,5}\n",
    "s2={4,5,6,7,8}\n",
    "s1.intersection(s2)\n",
    "s1.intersection_update(s2)\n",
    "print(s1)"
   ]
  },
  {
   "cell_type": "code",
   "execution_count": 71,
   "metadata": {},
   "outputs": [
    {
     "name": "stdout",
     "output_type": "stream",
     "text": [
      "{1, 2, 3}\n"
     ]
    }
   ],
   "source": [
    "#difference\\ difference update \n",
    "s1={1,2,3,4,5}\n",
    "s2={4,5,6,7,8}\n",
    "s1.difference(s2)\n",
    "s1.difference_update(s2)\n",
    "print(s1)"
   ]
  },
  {
   "cell_type": "code",
   "execution_count": null,
   "metadata": {},
   "outputs": [],
   "source": [
    "#Symmetric difference // update\n",
    "s1={1,2,3,4,5}\n",
    "s2={4,5,6,7,8}\n",
    "s1.symmetric_difference(s2)\n",
    "s1.symmetric_difference_update(s2)\n",
    "print(s1)"
   ]
  },
  {
   "cell_type": "code",
   "execution_count": 82,
   "metadata": {},
   "outputs": [
    {
     "data": {
      "text/plain": [
       "True"
      ]
     },
     "execution_count": 82,
     "metadata": {},
     "output_type": "execute_result"
    }
   ],
   "source": [
    "#Isdisjoint --> jinme ek bhi element common nhi hota\n",
    "s1={1,2,3,4,5}\n",
    "s2={4,5}\n",
    "s1.isdisjoint(s2)\n",
    "\n",
    "#issubset  -->subset h ya nhi\n",
    "#s2.issubset(s1)\n",
    "\n",
    "#issuperset\n",
    "b={2,3,4,5,5}\n",
    "c={2,3}\n",
    "b.issuperset(c)\n",
    "\n"
   ]
  },
  {
   "cell_type": "code",
   "execution_count": 86,
   "metadata": {},
   "outputs": [
    {
     "name": "stdout",
     "output_type": "stream",
     "text": [
      "{1, 2, 3, 4, 5}\n",
      "<built-in method copy of set object at 0x10c197ca0>\n"
     ]
    }
   ],
   "source": [
    "#copy\n",
    "s1={1,2,3,4,5}\n",
    "s2=s1.copy\n",
    "print(s1)\n",
    "print(s2)"
   ]
  },
  {
   "cell_type": "markdown",
   "metadata": {},
   "source": [
    "# FrozenSet - Immutable version of Set"
   ]
  },
  {
   "cell_type": "code",
   "execution_count": 6,
   "metadata": {},
   "outputs": [
    {
     "data": {
      "text/plain": [
       "frozenset({1, 2, 3, 5, 6, 24})"
      ]
     },
     "execution_count": 6,
     "metadata": {},
     "output_type": "execute_result"
    }
   ],
   "source": [
    "fs=frozenset([1,2,3])\n",
    "fs1=frozenset([24,5,6])\n",
    "fs|fs1\n",
    "#only read only operation pe use hoga mtlb jha koi\n",
    "#edit ka kaam nhi hota \n",
    "#aur write operations pe kaam nhi karta h "
   ]
  },
  {
   "cell_type": "code",
   "execution_count": 8,
   "metadata": {},
   "outputs": [
    {
     "data": {
      "text/plain": [
       "frozenset({1, 2, frozenset({3, 4})})"
      ]
     },
     "execution_count": 8,
     "metadata": {},
     "output_type": "execute_result"
    }
   ],
   "source": [
    "#2D Set\n",
    "fs2=frozenset([1,2,frozenset([3,4])])\n",
    "fs2"
   ]
  },
  {
   "cell_type": "markdown",
   "metadata": {},
   "source": [
    "# Set Comprehension"
   ]
  },
  {
   "cell_type": "code",
   "execution_count": 17,
   "metadata": {},
   "outputs": [
    {
     "data": {
      "text/plain": [
       "{36, 49, 64, 81}"
      ]
     },
     "execution_count": 17,
     "metadata": {},
     "output_type": "execute_result"
    }
   ],
   "source": [
    "{i**2 for i in range(1,10) if i>5}\n"
   ]
  }
 ],
 "metadata": {
  "kernelspec": {
   "display_name": "Python 3",
   "language": "python",
   "name": "python3"
  },
  "language_info": {
   "codemirror_mode": {
    "name": "ipython",
    "version": 3
   },
   "file_extension": ".py",
   "mimetype": "text/x-python",
   "name": "python",
   "nbconvert_exporter": "python",
   "pygments_lexer": "ipython3",
   "version": "3.11.9"
  }
 },
 "nbformat": 4,
 "nbformat_minor": 2
}
