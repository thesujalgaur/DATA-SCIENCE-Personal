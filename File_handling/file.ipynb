{
 "cells": [
  {
   "cell_type": "code",
   "execution_count": 17,
   "metadata": {},
   "outputs": [],
   "source": [
    "#Case:1 When file is not present \n",
    "f=open(\"sample.txt\",\"w\") # File create kiya , w yeh bta rha h ki hum is file me read/write\n",
    "                         #karna chahte hai \n",
    "f.write(\"namste ji\") # yha par humne file me kuch likha h \n",
    "f.close() #aur last me usko close karna hota h \n",
    "#f.write(\"namastey jii\") #close karne ke baadd nhi likh skte ...warna error dega"
   ]
  },
  {
   "cell_type": "code",
   "execution_count": 18,
   "metadata": {},
   "outputs": [],
   "source": [
    "#write multiple lines\n",
    "f=open(\"sample1.txt\",'w')\n",
    "f.write(\"hello Namstey Jii\")\n",
    "f.write('\\n How are you')\n",
    "f.close()"
   ]
  },
  {
   "cell_type": "code",
   "execution_count": 19,
   "metadata": {},
   "outputs": [],
   "source": [
    "#Case2: what if the file is already present\n",
    "f=open(\"sample.txt\",'w')\n",
    "f.write(\"haan to kaise  hai aap log\")\n",
    "f.close()"
   ]
  },
  {
   "cell_type": "code",
   "execution_count": 20,
   "metadata": {},
   "outputs": [],
   "source": [
    "#how exactly open works ??\n"
   ]
  },
  {
   "cell_type": "code",
   "execution_count": 21,
   "metadata": {},
   "outputs": [],
   "source": [
    "#problem with W  is this that it replaces the data instead of making change to it\n",
    "#introducing append\n",
    "f=open(\"sample1.txt\",'a') #purana wala content chaiye to \"a\" mode\n",
    "f.write(\"\\nBadhiya hai ji \")\n",
    "f.close()\n"
   ]
  },
  {
   "cell_type": "code",
   "execution_count": 22,
   "metadata": {},
   "outputs": [],
   "source": [
    "#write multiple lines using list\n",
    "lis=[\"hello\\n\",\"kaise ho\\n\",\"Aaj aapne kya kiya\\n\"]\n",
    "f=open(\"sample.txt\",'w')\n",
    "f.writelines(lis)\n",
    "f.close() "
   ]
  },
  {
   "cell_type": "code",
   "execution_count": 23,
   "metadata": {},
   "outputs": [
    {
     "name": "stdout",
     "output_type": "stream",
     "text": [
      "hello Namstey Jii\n",
      " How are you\n",
      "Badhiya hai ji \n"
     ]
    }
   ],
   "source": [
    "#reading from files using \"r\" mode\n",
    "f=open(\"sample1.txt\",'r')\n",
    "s=f.read()\n",
    "print(s)\n",
    "f.close()"
   ]
  },
  {
   "cell_type": "code",
   "execution_count": 24,
   "metadata": {},
   "outputs": [
    {
     "name": "stdout",
     "output_type": "stream",
     "text": [
      "hello Namstey\n"
     ]
    }
   ],
   "source": [
    "#jitna chaho utna bhi read kar skte ho file se \n",
    "f=open(\"sample1.txt\",'r')\n",
    "s=f.read(13)\n",
    "print(s)\n",
    "f.close()"
   ]
  },
  {
   "cell_type": "code",
   "execution_count": 25,
   "metadata": {},
   "outputs": [
    {
     "name": "stdout",
     "output_type": "stream",
     "text": [
      "hello\n",
      "kaise ho\n"
     ]
    }
   ],
   "source": [
    "#to read line by line\n",
    "f=open(\"sample.txt\",'r')\n",
    "print(f.readline(),end='')\n",
    "print(f.readline(),end='')\n",
    "f.close()"
   ]
  },
  {
   "cell_type": "code",
   "execution_count": 26,
   "metadata": {},
   "outputs": [
    {
     "name": "stdout",
     "output_type": "stream",
     "text": [
      "hello\n",
      "kaise ho\n",
      "Aaj aapne kya kiya\n"
     ]
    }
   ],
   "source": [
    "#reading entire using readline\n",
    "f=open(\"sample.txt\",'r')\n",
    "while True:\n",
    "    data=f.readline()\n",
    "    if data=='':\n",
    "        break\n",
    "    else:\n",
    "        print(data,end='')\n",
    "f.close()"
   ]
  },
  {
   "cell_type": "markdown",
   "metadata": {},
   "source": [
    "# Using Context Manager (With)\n",
    "1. It's a good idea to close a file after usage as it will free up the resources\n",
    "2. If we dont close it, garbage collector would close it\n",
    "3. **\"with\"** keyword closes the file as soon as the usage is over"
   ]
  },
  {
   "cell_type": "code",
   "execution_count": 27,
   "metadata": {},
   "outputs": [],
   "source": [
    "with open('sample1.txt','w') as f:\n",
    "    f.write(\"hakla shahrukh\")"
   ]
  },
  {
   "cell_type": "code",
   "execution_count": 28,
   "metadata": {},
   "outputs": [
    {
     "ename": "ValueError",
     "evalue": "I/O operation on closed file.",
     "output_type": "error",
     "traceback": [
      "\u001b[31m---------------------------------------------------------------------------\u001b[39m",
      "\u001b[31mValueError\u001b[39m                                Traceback (most recent call last)",
      "\u001b[36mCell\u001b[39m\u001b[36m \u001b[39m\u001b[32mIn[28]\u001b[39m\u001b[32m, line 1\u001b[39m\n\u001b[32m----> \u001b[39m\u001b[32m1\u001b[39m \u001b[43mf\u001b[49m\u001b[43m.\u001b[49m\u001b[43mwrite\u001b[49m\u001b[43m(\u001b[49m\u001b[33;43m\"\u001b[39;49m\u001b[33;43mhelo\u001b[39;49m\u001b[33;43m\"\u001b[39;49m\u001b[43m)\u001b[49m\n",
      "\u001b[31mValueError\u001b[39m: I/O operation on closed file."
     ]
    }
   ],
   "source": [
    "f.write(\"helo\")"
   ]
  },
  {
   "cell_type": "code",
   "execution_count": null,
   "metadata": {},
   "outputs": [
    {
     "name": "stdout",
     "output_type": "stream",
     "text": [
      "hello\n",
      "kaise ho\n",
      "Aaj aapne kya kiya\n",
      "\n"
     ]
    }
   ],
   "source": [
    "#try f.read() now:\n",
    "with open(\"sample.txt\",'r') as f:\n",
    "    print(f.read())"
   ]
  },
  {
   "cell_type": "code",
   "execution_count": null,
   "metadata": {},
   "outputs": [
    {
     "name": "stdout",
     "output_type": "stream",
     "text": [
      "hello\n",
      "kaise ho\n",
      "Aaj aapne kya kiya\n"
     ]
    }
   ],
   "source": [
    "# try with f.readline \n",
    "with open(\"sample.txt\",'r') as f:\n",
    "    while True:\n",
    "        data=f.readline()\n",
    "        if data=='':\n",
    "            break\n",
    "        else:\n",
    "            print(data,end=\"\")"
   ]
  },
  {
   "cell_type": "code",
   "execution_count": null,
   "metadata": {},
   "outputs": [
    {
     "name": "stdout",
     "output_type": "stream",
     "text": [
      "hakla shah\n",
      "rukh\n"
     ]
    }
   ],
   "source": [
    "#moving within a file --> 10 char then 10 char \n",
    "with open(\"sample1.txt\",'r') as f:\n",
    "    print(f.readline(10)) # abhi yeh line shuru ke 10 characters ko print karwa drgi and\n",
    "    print(f.readline(10)) # ab ye kya karegi ki 10 charcter ke age se print karna shuru karegi\n",
    "    "
   ]
  },
  {
   "cell_type": "code",
   "execution_count": 42,
   "metadata": {},
   "outputs": [
    {
     "name": "stdout",
     "output_type": "stream",
     "text": [
      "None\n"
     ]
    }
   ],
   "source": [
    "#benifit of doing all this stuff --> to read big files\n",
    "big_file=['Hare krishna' for i in range(1000)]\n",
    "with open(\"big.txt\",'w') as f:\n",
    "    print(f.writelines(big_file))"
   ]
  },
  {
   "cell_type": "code",
   "execution_count": 46,
   "metadata": {},
   "outputs": [
    {
     "name": "stdout",
     "output_type": "stream",
     "text": [
      "Hare krish***naHare kri***shnaHare k***rishnaHare*** krishnaHa***re krishna***Hare krish***naHare kri***shnaHare k***rishnaHare*** krishnaHa***re krishna***Hare krish***naHare kri***shnaHare k***rishnaHare*** krishnaHa***re krishna***Hare krish***naHare kri***shnaHare k***rishnaHare*** krishnaHa***re krishna***Hare krish***naHare kri***shnaHare k***rishnaHare*** krishnaHa***re krishna***Hare krish***naHare kri***shnaHare k***rishnaHare*** krishnaHa***re krishna***Hare krish***naHare kri***shnaHare k***rishnaHare*** krishnaHa***re krishna***Hare krish***naHare kri***shnaHare k***rishnaHare*** krishnaHa***re krishna***Hare krish***naHare kri***shnaHare k***rishnaHare*** krishnaHa***re krishna***Hare krish***naHare kri***shnaHare k***rishnaHare*** krishnaHa***re krishna***Hare krish***naHare kri***shnaHare k***rishnaHare*** krishnaHa***re krishna***Hare krish***naHare kri***shnaHare k***rishnaHare*** krishnaHa***re krishna***Hare krish***naHare kri***shnaHare k***rishnaHare*** krishnaHa***re krishna***Hare krish***naHare kri***shnaHare k***rishnaHare*** krishnaHa***re krishna***Hare krish***naHare kri***shnaHare k***rishnaHare*** krishnaHa***re krishna***Hare krish***naHare kri***shnaHare k***rishnaHare*** krishnaHa***re krishna***Hare krish***naHare kri***shnaHare k***rishnaHare*** krishnaHa***re krishna***Hare krish***naHare kri***shnaHare k***rishnaHare*** krishnaHa***re krishna***Hare krish***naHare kri***shnaHare k***rishnaHare*** krishnaHa***re krishna***Hare krish***naHare kri***shnaHare k***rishnaHare*** krishnaHa***re krishna***Hare krish***naHare kri***shnaHare k***rishnaHare*** krishnaHa***re krishna***Hare krish***naHare kri***shnaHare k***rishnaHare*** krishnaHa***re krishna***Hare krish***naHare kri***shnaHare k***rishnaHare*** krishnaHa***re krishna***Hare krish***naHare kri***shnaHare k***rishnaHare*** krishnaHa***re krishna***Hare krish***naHare kri***shnaHare k***rishnaHare*** krishnaHa***re krishna***Hare krish***naHare kri***shnaHare k***rishnaHare*** krishnaHa***re krishna***Hare krish***naHare kri***shnaHare k***rishnaHare*** krishnaHa***re krishna***Hare krish***naHare kri***shnaHare k***rishnaHare*** krishnaHa***re krishna***Hare krish***naHare kri***shnaHare k***rishnaHare*** krishnaHa***re krishna***Hare krish***naHare kri***shnaHare k***rishnaHare*** krishnaHa***re krishna***Hare krish***naHare kri***shnaHare k***rishnaHare*** krishnaHa***re krishna***Hare krish***naHare kri***shnaHare k***rishnaHare*** krishnaHa***re krishna***Hare krish***naHare kri***shnaHare k***rishnaHare*** krishnaHa***re krishna***Hare krish***naHare kri***shnaHare k***rishnaHare*** krishnaHa***re krishna***Hare krish***naHare kri***shnaHare k***rishnaHare*** krishnaHa***re krishna***Hare krish***naHare kri***shnaHare k***rishnaHare*** krishnaHa***re krishna***Hare krish***naHare kri***shnaHare k***rishnaHare*** krishnaHa***re krishna***Hare krish***naHare kri***shnaHare k***rishnaHare*** krishnaHa***re krishna***Hare krish***naHare kri***shnaHare k***rishnaHare*** krishnaHa***re krishna***Hare krish***naHare kri***shnaHare k***rishnaHare*** krishnaHa***re krishna***Hare krish***naHare kri***shnaHare k***rishnaHare*** krishnaHa***re krishna***Hare krish***naHare kri***shnaHare k***rishnaHare*** krishnaHa***re krishna***Hare krish***naHare kri***shnaHare k***rishnaHare*** krishnaHa***re krishna***Hare krish***naHare kri***shnaHare k***rishnaHare*** krishnaHa***re krishna***Hare krish***naHare kri***shnaHare k***rishnaHare*** krishnaHa***re krishna***Hare krish***naHare kri***shnaHare k***rishnaHare*** krishnaHa***re krishna***Hare krish***naHare kri***shnaHare k***rishnaHare*** krishnaHa***re krishna***Hare krish***naHare kri***shnaHare k***rishnaHare*** krishnaHa***re krishna***Hare krish***naHare kri***shnaHare k***rishnaHare*** krishnaHa***re krishna***Hare krish***naHare kri***shnaHare k***rishnaHare*** krishnaHa***re krishna***Hare krish***naHare kri***shnaHare k***rishnaHare*** krishnaHa***re krishna***Hare krish***naHare kri***shnaHare k***rishnaHare*** krishnaHa***re krishna***Hare krish***naHare kri***shnaHare k***rishnaHare*** krishnaHa***re krishna***Hare krish***naHare kri***shnaHare k***rishnaHare*** krishnaHa***re krishna***Hare krish***naHare kri***shnaHare k***rishnaHare*** krishnaHa***re krishna***Hare krish***naHare kri***shnaHare k***rishnaHare*** krishnaHa***re krishna***Hare krish***naHare kri***shnaHare k***rishnaHare*** krishnaHa***re krishna***Hare krish***naHare kri***shnaHare k***rishnaHare*** krishnaHa***re krishna***Hare krish***naHare kri***shnaHare k***rishnaHare*** krishnaHa***re krishna***Hare krish***naHare kri***shnaHare k***rishnaHare*** krishnaHa***re krishna***Hare krish***naHare kri***shnaHare k***rishnaHare*** krishnaHa***re krishna***Hare krish***naHare kri***shnaHare k***rishnaHare*** krishnaHa***re krishna***Hare krish***naHare kri***shnaHare k***rishnaHare*** krishnaHa***re krishna***Hare krish***naHare kri***shnaHare k***rishnaHare*** krishnaHa***re krishna***Hare krish***naHare kri***shnaHare k***rishnaHare*** krishnaHa***re krishna***Hare krish***naHare kri***shnaHare k***rishnaHare*** krishnaHa***re krishna***Hare krish***naHare kri***shnaHare k***rishnaHare*** krishnaHa***re krishna***Hare krish***naHare kri***shnaHare k***rishnaHare*** krishnaHa***re krishna***Hare krish***naHare kri***shnaHare k***rishnaHare*** krishnaHa***re krishna***Hare krish***naHare kri***shnaHare k***rishnaHare*** krishnaHa***re krishna***Hare krish***naHare kri***shnaHare k***rishnaHare*** krishnaHa***re krishna***Hare krish***naHare kri***shnaHare k***rishnaHare*** krishnaHa***re krishna***Hare krish***naHare kri***shnaHare k***rishnaHare*** krishnaHa***re krishna***Hare krish***naHare kri***shnaHare k***rishnaHare*** krishnaHa***re krishna***Hare krish***naHare kri***shnaHare k***rishnaHare*** krishnaHa***re krishna***Hare krish***naHare kri***shnaHare k***rishnaHare*** krishnaHa***re krishna***Hare krish***naHare kri***shnaHare k***rishnaHare*** krishnaHa***re krishna***Hare krish***naHare kri***shnaHare k***rishnaHare*** krishnaHa***re krishna***Hare krish***naHare kri***shnaHare k***rishnaHare*** krishnaHa***re krishna***Hare krish***naHare kri***shnaHare k***rishnaHare*** krishnaHa***re krishna***Hare krish***naHare kri***shnaHare k***rishnaHare*** krishnaHa***re krishna***Hare krish***naHare kri***shnaHare k***rishnaHare*** krishnaHa***re krishna***Hare krish***naHare kri***shnaHare k***rishnaHare*** krishnaHa***re krishna***Hare krish***naHare kri***shnaHare k***rishnaHare*** krishnaHa***re krishna***Hare krish***naHare kri***shnaHare k***rishnaHare*** krishnaHa***re krishna***Hare krish***naHare kri***shnaHare k***rishnaHare*** krishnaHa***re krishna***Hare krish***naHare kri***shnaHare k***rishnaHare*** krishnaHa***re krishna***Hare krish***naHare kri***shnaHare k***rishnaHare*** krishnaHa***re krishna***Hare krish***naHare kri***shnaHare k***rishnaHare*** krishnaHa***re krishna***Hare krish***naHare kri***shnaHare k***rishnaHare*** krishnaHa***re krishna***Hare krish***naHare kri***shnaHare k***rishnaHare*** krishnaHa***re krishna***Hare krish***naHare kri***shnaHare k***rishnaHare*** krishnaHa***re krishna***Hare krish***naHare kri***shnaHare k***rishnaHare*** krishnaHa***re krishna***Hare krish***naHare kri***shnaHare k***rishnaHare*** krishnaHa***re krishna***Hare krish***naHare kri***shnaHare k***rishnaHare*** krishnaHa***re krishna***Hare krish***naHare kri***shnaHare k***rishnaHare*** krishnaHa***re krishna***Hare krish***naHare kri***shnaHare k***rishnaHare*** krishnaHa***re krishna***Hare krish***naHare kri***shnaHare k***rishnaHare*** krishnaHa***re krishna***Hare krish***naHare kri***shnaHare k***rishnaHare*** krishnaHa***re krishna***Hare krish***naHare kri***shnaHare k***rishnaHare*** krishnaHa***re krishna***Hare krish***naHare kri***shnaHare k***rishnaHare*** krishnaHa***re krishna***Hare krish***naHare kri***shnaHare k***rishnaHare*** krishnaHa***re krishna***Hare krish***naHare kri***shnaHare k***rishnaHare*** krishnaHa***re krishna***Hare krish***naHare kri***shnaHare k***rishnaHare*** krishnaHa***re krishna***Hare krish***naHare kri***shnaHare k***rishnaHare*** krishnaHa***re krishna***Hare krish***naHare kri***shnaHare k***rishnaHare*** krishnaHa***re krishna***Hare krish***naHare kri***shnaHare k***rishnaHare*** krishnaHa***re krishna***Hare krish***naHare kri***shnaHare k***rishnaHare*** krishnaHa***re krishna***Hare krish***naHare kri***shnaHare k***rishnaHare*** krishnaHa***re krishna***Hare krish***naHare kri***shnaHare k***rishnaHare*** krishnaHa***re krishna***Hare krish***naHare kri***shnaHare k***rishnaHare*** krishnaHa***re krishna***Hare krish***naHare kri***shnaHare k***rishnaHare*** krishnaHa***re krishna***Hare krish***naHare kri***shnaHare k***rishnaHare*** krishnaHa***re krishna***Hare krish***naHare kri***shnaHare k***rishnaHare*** krishnaHa***re krishna***Hare krish***naHare kri***shnaHare k***rishnaHare*** krishnaHa***re krishna***Hare krish***naHare kri***shnaHare k***rishnaHare*** krishnaHa***re krishna***Hare krish***naHare kri***shnaHare k***rishnaHare*** krishnaHa***re krishna***Hare krish***naHare kri***shnaHare k***rishnaHare*** krishnaHa***re krishna***Hare krish***naHare kri***shnaHare k***rishnaHare*** krishnaHa***re krishna***Hare krish***naHare kri***shnaHare k***rishnaHare*** krishnaHa***re krishna***Hare krish***naHare kri***shnaHare k***rishnaHare*** krishnaHa***re krishna***Hare krish***naHare kri***shnaHare k***rishnaHare*** krishnaHa***re krishna***Hare krish***naHare kri***shnaHare k***rishnaHare*** krishnaHa***re krishna***Hare krish***naHare kri***shnaHare k***rishnaHare*** krishnaHa***re krishna***Hare krish***naHare kri***shnaHare k***rishnaHare*** krishnaHa***re krishna***Hare krish***naHare kri***shnaHare k***rishnaHare*** krishnaHa***re krishna***Hare krish***naHare kri***shnaHare k***rishnaHare*** krishnaHa***re krishna***Hare krish***naHare kri***shnaHare k***rishnaHare*** krishnaHa***re krishna***Hare krish***naHare kri***shnaHare k***rishnaHare*** krishnaHa***re krishna***Hare krish***naHare kri***shnaHare k***rishnaHare*** krishnaHa***re krishna***Hare krish***naHare kri***shnaHare k***rishnaHare*** krishnaHa***re krishna***Hare krish***naHare kri***shnaHare k***rishnaHare*** krishnaHa***re krishna***Hare krish***naHare kri***shnaHare k***rishnaHare*** krishnaHa***re krishna***Hare krish***naHare kri***shnaHare k***rishnaHare*** krishnaHa***re krishna***Hare krish***naHare kri***shnaHare k***rishnaHare*** krishnaHa***re krishna***Hare krish***naHare kri***shnaHare k***rishnaHare*** krishnaHa***re krishna***Hare krish***naHare kri***shnaHare k***rishnaHare*** krishnaHa***re krishna***Hare krish***naHare kri***shnaHare k***rishnaHare*** krishnaHa***re krishna***Hare krish***naHare kri***shnaHare k***rishnaHare*** krishnaHa***re krishna***Hare krish***naHare kri***shnaHare k***rishnaHare*** krishnaHa***re krishna***Hare krish***naHare kri***shnaHare k***rishnaHare*** krishnaHa***re krishna***Hare krish***naHare kri***shnaHare k***rishnaHare*** krishnaHa***re krishna***Hare krish***naHare kri***shnaHare k***rishnaHare*** krishnaHa***re krishna***Hare krish***naHare kri***shnaHare k***rishnaHare*** krishnaHa***re krishna***Hare krish***naHare kri***shnaHare k***rishnaHare*** krishnaHa***re krishna***Hare krish***naHare kri***shnaHare k***rishnaHare*** krishnaHa***re krishna***Hare krish***naHare kri***shnaHare k***rishnaHare*** krishnaHa***re krishna***Hare krish***naHare kri***shnaHare k***rishnaHare*** krishnaHa***re krishna***Hare krish***naHare kri***shnaHare k***rishnaHare*** krishnaHa***re krishna***Hare krish***naHare kri***shnaHare k***rishnaHare*** krishnaHa***re krishna***Hare krish***naHare kri***shnaHare k***rishnaHare*** krishnaHa***re krishna***Hare krish***naHare kri***shnaHare k***rishnaHare*** krishnaHa***re krishna***Hare krish***naHare kri***shnaHare k***rishnaHare*** krishnaHa***re krishna***Hare krish***naHare kri***shnaHare k***rishnaHare*** krishnaHa***re krishna***Hare krish***naHare kri***shnaHare k***rishnaHare*** krishnaHa***re krishna***Hare krish***naHare kri***shnaHare k***rishnaHare*** krishnaHa***re krishna***Hare krish***naHare kri***shnaHare k***rishnaHare*** krishnaHa***re krishna***Hare krish***naHare kri***shnaHare k***rishnaHare*** krishnaHa***re krishna***Hare krish***naHare kri***shnaHare k***rishnaHare*** krishnaHa***re krishna***Hare krish***naHare kri***shnaHare k***rishnaHare*** krishnaHa***re krishna***Hare krish***naHare kri***shnaHare k***rishnaHare*** krishnaHa***re krishna***Hare krish***naHare kri***shnaHare k***rishnaHare*** krishnaHa***re krishna***Hare krish***naHare kri***shnaHare k***rishnaHare*** krishnaHa***re krishna***Hare krish***naHare kri***shnaHare k***rishnaHare*** krishnaHa***re krishna***Hare krish***naHare kri***shnaHare k***rishnaHare*** krishnaHa***re krishna***Hare krish***naHare kri***shnaHare k***rishnaHare*** krishnaHa***re krishna***Hare krish***naHare kri***shnaHare k***rishnaHare*** krishnaHa***re krishna***Hare krish***naHare kri***shnaHare k***rishnaHare*** krishnaHa***re krishna***Hare krish***naHare kri***shnaHare k***rishnaHare*** krishnaHa***re krishna***Hare krish***naHare kri***shnaHare k***rishnaHare*** krishnaHa***re krishna***Hare krish***naHare kri***shnaHare k***rishnaHare*** krishnaHa***re krishna***Hare krish***naHare kri***shnaHare k***rishnaHare*** krishnaHa***re krishna***Hare krish***naHare kri***shnaHare k***rishnaHare*** krishnaHa***re krishna***Hare krish***naHare kri***shnaHare k***rishnaHare*** krishnaHa***re krishna***Hare krish***naHare kri***shnaHare k***rishnaHare*** krishnaHa***re krishna***Hare krish***naHare kri***shnaHare k***rishnaHare*** krishnaHa***re krishna***Hare krish***naHare kri***shnaHare k***rishnaHare*** krishnaHa***re krishna***Hare krish***naHare kri***shnaHare k***rishnaHare*** krishnaHa***re krishna***Hare krish***naHare kri***shnaHare k***rishnaHare*** krishnaHa***re krishna***Hare krish***naHare kri***shnaHare k***rishnaHare*** krishnaHa***re krishna***Hare krish***naHare kri***shnaHare k***rishnaHare*** krishnaHa***re krishna***Hare krish***naHare kri***shnaHare k***rishnaHare*** krishnaHa***re krishna***Hare krish***naHare kri***shnaHare k***rishnaHare*** krishnaHa***re krishna***Hare krish***naHare kri***shnaHare k***rishnaHare*** krishnaHa***re krishna***Hare krish***naHare kri***shnaHare k***rishnaHare*** krishnaHa***re krishna***Hare krish***naHare kri***shnaHare k***rishnaHare*** krishnaHa***re krishna***Hare krish***naHare kri***shnaHare k***rishnaHare*** krishnaHa***re krishna***Hare krish***naHare kri***shnaHare k***rishnaHare*** krishnaHa***re krishna***Hare krish***naHare kri***shnaHare k***rishnaHare*** krishnaHa***re krishna***Hare krish***naHare kri***shnaHare k***rishnaHare*** krishnaHa***re krishna***Hare krish***naHare kri***shnaHare k***rishnaHare*** krishnaHa***re krishna***Hare krish***naHare kri***shnaHare k***rishnaHare*** krishnaHa***re krishna***Hare krish***naHare kri***shnaHare k***rishnaHare*** krishnaHa***re krishna***Hare krish***naHare kri***shnaHare k***rishnaHare*** krishnaHa***re krishna***Hare krish***naHare kri***shnaHare k***rishnaHare*** krishnaHa***re krishna***Hare krish***naHare kri***shnaHare k***rishnaHare*** krishnaHa***re krishna***Hare krish***naHare kri***shnaHare k***rishnaHare*** krishnaHa***re krishna***Hare krish***naHare kri***shnaHare k***rishnaHare*** krishnaHa***re krishna***Hare krish***naHare kri***shnaHare k***rishnaHare*** krishnaHa***re krishna***Hare krish***naHare kri***shnaHare k***rishnaHare*** krishnaHa***re krishna***"
     ]
    }
   ],
   "source": [
    "with open(\"big.txt\", 'r') as f:\n",
    "    chunk_size = 10\n",
    "    chunk = f.read(chunk_size)  # First read\n",
    "    while chunk:  # Loop while chunk is not empty\n",
    "        print(chunk,end='***') #har 10 character ke baad ye chunks aarhe h \n",
    "        chunk = f.read(chunk_size)  # idhar hum next chunk ko lad isliye karte h kyuki agar \n",
    "        #hum aisa nahi karte h toh program infinite loop me chal jayega aur rukega h nhi q\n",
    "        #ki hum current chunk me hi ghumte jaa rh he  "
   ]
  },
  {
   "cell_type": "code",
   "execution_count": 58,
   "metadata": {},
   "outputs": [
    {
     "name": "stdout",
     "output_type": "stream",
     "text": [
      "hakla shah\n",
      "10\n",
      "rukh\n",
      "14\n"
     ]
    }
   ],
   "source": [
    "#seek and tell function\n",
    "with open(\"sample1.txt\",'r') as f:\n",
    "    print(f.readline(10)) \n",
    "    # agar humko yeh pta karna h ki currently next konsa character print hoga \n",
    "    print(f.tell()) # is a mechanism to tell ki kitna text aapne process kiya h aur kitna ab \n",
    "                     #next process hoga \n",
    "    #jaise ki humne upar dekha ki agr humko 10 tak ki values print karni hai aur phir again hum\n",
    "    #likhte h ki humko 10 print karni h toh wapis 11 se 20 tak ki values print hoti h \n",
    "    #but agar humko wapis shuru se hi print karwa ho to hum (seek(0)) se karte h\n",
    "    f.seek(10) #seek basically humko btata h ki aap kha jana chahte ho\n",
    "    print(f.read())\n",
    "    print(f.tell())"
   ]
  },
  {
   "cell_type": "code",
   "execution_count": 64,
   "metadata": {},
   "outputs": [],
   "source": [
    "#Seek during write\n",
    "with open(\"sample.txt\",'w') as f:\n",
    "    f.write(\"bhala manush\")\n",
    "    f.seek(0)\n",
    "    f.write(\"X\")\n",
    "    # yaha pe bhal manush me b ki jagah X replace ho jayega q ki wapis zero se seek hoga aur b\n",
    "    # ko replace kar dega 'x' se toh output jo h woh aayega  Xhala manush"
   ]
  },
  {
   "cell_type": "markdown",
   "metadata": {},
   "source": [
    "# Problems with working with text files\n",
    "1. Can't work with binary files like images\n",
    "2. not good for other datatypes like int/float/list"
   ]
  },
  {
   "cell_type": "code",
   "execution_count": 68,
   "metadata": {},
   "outputs": [
    {
     "ename": "UnicodeDecodeError",
     "evalue": "'utf-8' codec can't decode byte 0xff in position 0: invalid start byte",
     "output_type": "error",
     "traceback": [
      "\u001b[31m---------------------------------------------------------------------------\u001b[39m",
      "\u001b[31mUnicodeDecodeError\u001b[39m                        Traceback (most recent call last)",
      "\u001b[36mCell\u001b[39m\u001b[36m \u001b[39m\u001b[32mIn[68]\u001b[39m\u001b[32m, line 3\u001b[39m\n\u001b[32m      1\u001b[39m \u001b[38;5;66;03m#working with binary files\u001b[39;00m\n\u001b[32m      2\u001b[39m \u001b[38;5;28;01mwith\u001b[39;00m \u001b[38;5;28mopen\u001b[39m (\u001b[33m\"\u001b[39m\u001b[33mGOPR0016.jpg\u001b[39m\u001b[33m\"\u001b[39m,\u001b[33m'\u001b[39m\u001b[33mr\u001b[39m\u001b[33m'\u001b[39m) \u001b[38;5;28;01mas\u001b[39;00m f:\n\u001b[32m----> \u001b[39m\u001b[32m3\u001b[39m     \u001b[43mf\u001b[49m\u001b[43m.\u001b[49m\u001b[43mread\u001b[49m\u001b[43m(\u001b[49m\u001b[43m)\u001b[49m\n",
      "\u001b[36mFile \u001b[39m\u001b[32m<frozen codecs>:322\u001b[39m, in \u001b[36mdecode\u001b[39m\u001b[34m(self, input, final)\u001b[39m\n",
      "\u001b[31mUnicodeDecodeError\u001b[39m: 'utf-8' codec can't decode byte 0xff in position 0: invalid start byte"
     ]
    }
   ],
   "source": [
    "#working with binary files\n",
    "with open (\"GOPR0016.jpg\",'r') as f:\n",
    "    f.read()\n",
    "#we can't read binary file like this "
   ]
  },
  {
   "cell_type": "code",
   "execution_count": 70,
   "metadata": {},
   "outputs": [],
   "source": [
    "#working woth binary files\n",
    "with open(\"GOPR0016.jpg\",'rb') as f: #rb --> read binary \n",
    "    with open(\"GOPR0016_copy.jpg\",'wb') as j:\n",
    "       j.write(f.read())"
   ]
  },
  {
   "cell_type": "code",
   "execution_count": 76,
   "metadata": {},
   "outputs": [
    {
     "name": "stdout",
     "output_type": "stream",
     "text": [
      "1\n"
     ]
    }
   ],
   "source": [
    "#not good with other datatypes solution\n",
    "with open(\"sample.txt\",\"w\") as f:\n",
    "    print(f.write('3'))\n",
    "    "
   ]
  },
  {
   "cell_type": "code",
   "execution_count": 82,
   "metadata": {},
   "outputs": [
    {
     "name": "stdout",
     "output_type": "stream",
     "text": [
      "8\n"
     ]
    }
   ],
   "source": [
    "with open(\"sample.txt\",'r') as f:\n",
    "    print(int(f.read())+5)"
   ]
  },
  {
   "cell_type": "code",
   "execution_count": null,
   "metadata": {},
   "outputs": [],
   "source": [
    "#more complex data\n",
    "# more complex data\n",
    "d={\n",
    "    'name':\"sujal\",\n",
    "    'class':\"Fourth\",\n",
    "    'age':22\n",
    "}\n",
    "with open('sample.txt','w') as f:\n",
    "    f.write(str(d))\n",
    "\n",
    "    "
   ]
  },
  {
   "cell_type": "code",
   "execution_count": 100,
   "metadata": {},
   "outputs": [
    {
     "name": "stdout",
     "output_type": "stream",
     "text": [
      "<class 'str'>\n"
     ]
    }
   ],
   "source": [
    "with open(\"sample.txt\",'r') as f:\n",
    "    print(type(f.read()))"
   ]
  },
  {
   "cell_type": "markdown",
   "metadata": {},
   "source": [
    "# Serialization and Deserialization\n",
    " 1. ***Serialization - process of converting python data types to JSON (Java Script on nation)        format***\n",
    "2. **Deserialization - process of converting JSON to python data types**"
   ]
  },
  {
   "cell_type": "code",
   "execution_count": 102,
   "metadata": {},
   "outputs": [],
   "source": [
    "#serialization using josn model\n",
    "import json\n",
    "l=[2,\"true\",True,2.4]\n",
    "def show()\n",
    "with open(\"demo.json\",'w') as f:\n",
    "    json.dump(l,f)"
   ]
  },
  {
   "cell_type": "code",
   "execution_count": 106,
   "metadata": {},
   "outputs": [],
   "source": [
    "#dictionary\n",
    "d={\n",
    "    'name':\"sujal\",\n",
    "    'class':\"Fourth\",\n",
    "    'age':22\n",
    "}\n",
    "with open('demo.json','w') as f:\n",
    "    json.dump(d,f,indent=4)"
   ]
  },
  {
   "cell_type": "code",
   "execution_count": 114,
   "metadata": {},
   "outputs": [
    {
     "name": "stdout",
     "output_type": "stream",
     "text": [
      "{'name': 'sujal', 'class': 'Fourth', 'age': 22}\n",
      "<class 'dict'>\n"
     ]
    }
   ],
   "source": [
    "#Deserialization\n",
    "import json\n",
    "with open(\"demo.json\",'r') as f:\n",
    "    d=json.load(f)\n",
    "    print(d)\n",
    "    print(type(d))"
   ]
  },
  {
   "cell_type": "code",
   "execution_count": 119,
   "metadata": {},
   "outputs": [],
   "source": [
    "#serealize and deserealize tuples\n",
    "import json\n",
    "a=(1,\"hare\",True,\"keras\")\n",
    "\n",
    "with open(\"demo.json\",'w') as f:\n",
    "    json.dump(a,f)\n",
    "#tuple ko dump karne me bhi list hi aata h kyuki json ke padd koi tuple jaisa data type nahi h"
   ]
  },
  {
   "cell_type": "code",
   "execution_count": 118,
   "metadata": {},
   "outputs": [
    {
     "name": "stdout",
     "output_type": "stream",
     "text": [
      "None\n"
     ]
    }
   ],
   "source": [
    "#serialize and deserialize a nasted dictionary\n",
    "d={\n",
    "    'name':\"sujal\",\n",
    "    'marks':[23,435,4,6,7657,5],\n",
    "    'age':22\n",
    "}\n",
    "with open(\"demo.json\",'w') as f:\n",
    "   a=json.dump(d,f)\n",
    "   \n",
    "   print(a)"
   ]
  },
  {
   "cell_type": "code",
   "execution_count": 129,
   "metadata": {},
   "outputs": [],
   "source": [
    "class Person:\n",
    " def __init__(self, fname, lname, age, gender) :\n",
    "  self.fname= fname\n",
    "  self.lname= lname\n",
    "  self.age = age\n",
    "  self.gender = gender\n",
    "# format to printed in -› Nitish Singh age -› 33 gender -› male"
   ]
  },
  {
   "cell_type": "code",
   "execution_count": 130,
   "metadata": {},
   "outputs": [],
   "source": [
    "person=Person('sujal','gaur',23,'male')"
   ]
  },
  {
   "cell_type": "code",
   "execution_count": 131,
   "metadata": {},
   "outputs": [],
   "source": [
    "#as a string\n",
    "import json\n",
    "def show_object(person):\n",
    " if isinstance(person,Person):\n",
    "     return \"-›{} {} age -› {} gender -› {}\".format(person.fname,person.lname,person.age,person.gender)\n",
    "with open(\"demo.json\",'w') as f:\n",
    "    json.dump(person,f,default=show_object)"
   ]
  },
  {
   "cell_type": "code",
   "execution_count": 135,
   "metadata": {},
   "outputs": [],
   "source": [
    "#as a dictionary\n",
    "import json\n",
    "def show_object(person):\n",
    " if isinstance(person,Person):\n",
    "     return {'name':person.fname + ' '+person.lname,'age':person.age,'gender':person.gender}\n",
    " \n",
    "with open(\"demo.json\",'w') as f:\n",
    "     json.dump(person,f,default=show_object,indent=4)"
   ]
  },
  {
   "cell_type": "code",
   "execution_count": 138,
   "metadata": {},
   "outputs": [
    {
     "name": "stdout",
     "output_type": "stream",
     "text": [
      "{'name': 'Sujal Gaur', 'age': 23, 'gender': 'Male'}\n"
     ]
    }
   ],
   "source": [
    "#deserealising\n",
    "import json \n",
    "with open('demo.json','r') as f:\n",
    "    print(json.load(f))\n"
   ]
  },
  {
   "cell_type": "markdown",
   "metadata": {},
   "source": [
    "# Pickling\n",
    "***Pickling is the process whereby a Python object hierarchy is converted into a byte stream, and unpickling is the inverse operation, whereby a byte stream (from a binary file or bytes-like object) is converted back into an object hierarchy.**"
   ]
  },
  {
   "cell_type": "code",
   "execution_count": 155,
   "metadata": {},
   "outputs": [],
   "source": [
    "class Person:\n",
    " def __init__(self,name, age) :\n",
    "  self.name= name\n",
    "  self.age = age\n",
    "  \n",
    " def display_info(self):\n",
    "      print(\"my name is\",self.name,\"age is \",self.age,\"year old\")\n",
    "  "
   ]
  },
  {
   "cell_type": "code",
   "execution_count": 156,
   "metadata": {},
   "outputs": [],
   "source": [
    "p=Person(\"sujal\",21)"
   ]
  },
  {
   "cell_type": "code",
   "execution_count": 157,
   "metadata": {},
   "outputs": [],
   "source": [
    "#dump\n",
    "import pickle\n",
    "with open('demo.pkl','wb') as f:\n",
    "    pickle.dump(p,f)"
   ]
  },
  {
   "cell_type": "code",
   "execution_count": 158,
   "metadata": {},
   "outputs": [
    {
     "name": "stdout",
     "output_type": "stream",
     "text": [
      "my name is sujal age is  21 year old\n"
     ]
    }
   ],
   "source": [
    "#load\n",
    "import pickle\n",
    "with open(\"demo.pkl\",'rb') as f:\n",
    "   p=pickle.load(f)\n",
    "p.display_info()"
   ]
  },
  {
   "cell_type": "markdown",
   "metadata": {},
   "source": [
    "# Pickle V/s JSON\n",
    "1. ***Pickle lets the user to store data in binary format. JSON lets the user store data in a human-readable text format.***"
   ]
  }
 ],
 "metadata": {
  "kernelspec": {
   "display_name": "Python 3",
   "language": "python",
   "name": "python3"
  },
  "language_info": {
   "codemirror_mode": {
    "name": "ipython",
    "version": 3
   },
   "file_extension": ".py",
   "mimetype": "text/x-python",
   "name": "python",
   "nbconvert_exporter": "python",
   "pygments_lexer": "ipython3",
   "version": "3.11.9"
  }
 },
 "nbformat": 4,
 "nbformat_minor": 2
}
