{
 "cells": [
  {
   "cell_type": "code",
   "execution_count": 7,
   "metadata": {},
   "outputs": [],
   "source": [
    "#Case:1 When file is not present \n",
    "f=open(\"sample.txt\",\"w\") # File create kiya , w yeh bta rha h ki hum is file me read/write\n",
    "                         #karna chahte hai \n",
    "f.write(\"namste ji\") # yha par humne file me kuch likha h \n",
    "f.close() #aur last me usko close karna hota h \n",
    "#f.write(\"namastey jii\") #close karne ke baadd nhi likh skte ...warna error dega"
   ]
  },
  {
   "cell_type": "code",
   "execution_count": 10,
   "metadata": {},
   "outputs": [],
   "source": [
    "#write multiple lines\n",
    "f=open(\"sample1.txt\",'w')\n",
    "f.write(\"hello Namstey Jii\")\n",
    "f.write('\\n How are you')\n",
    "f.close()"
   ]
  },
  {
   "cell_type": "code",
   "execution_count": 12,
   "metadata": {},
   "outputs": [],
   "source": [
    "#Case2: what if the file is already present\n",
    "f=open(\"sample.txt\",'w')\n",
    "f.write(\"haan to kaise  hai aap log\")\n",
    "f.close()"
   ]
  },
  {
   "cell_type": "code",
   "execution_count": 13,
   "metadata": {},
   "outputs": [],
   "source": [
    "#how exactly open works ??\n"
   ]
  },
  {
   "cell_type": "code",
   "execution_count": 14,
   "metadata": {},
   "outputs": [],
   "source": [
    "#problem with W  is this that it replaces the data instead of making change to it\n",
    "#introducing append\n",
    "f=open(\"sample1.txt\",'a') #purana wala content chaiye to \"a\" mode\n",
    "f.write(\"\\nBadhiya hai ji \")\n",
    "f.close()\n"
   ]
  },
  {
   "cell_type": "code",
   "execution_count": 23,
   "metadata": {},
   "outputs": [],
   "source": [
    "#write multiple lines using list\n",
    "lis=[\"hello\\n\",\"kaise ho\\n\",\"Aaj aapne kya kiya\\n\"]\n",
    "f=open(\"sample.txt\",'w')\n",
    "f.writelines(lis)\n",
    "f.close() "
   ]
  },
  {
   "cell_type": "code",
   "execution_count": 25,
   "metadata": {},
   "outputs": [
    {
     "name": "stdout",
     "output_type": "stream",
     "text": [
      "hello Namstey Jii\n",
      " How are you\n",
      "Badhiya hai ji \n"
     ]
    }
   ],
   "source": [
    "#reading from files using \"r\" mode\n",
    "f=open(\"sample1.txt\",'r')\n",
    "s=f.read()\n",
    "print(s)\n",
    "f.close()"
   ]
  },
  {
   "cell_type": "code",
   "execution_count": 30,
   "metadata": {},
   "outputs": [
    {
     "name": "stdout",
     "output_type": "stream",
     "text": [
      "hello Namstey\n"
     ]
    }
   ],
   "source": [
    "#jitna chaho utna bhi read kar skte ho file se \n",
    "f=open(\"sample1.txt\",'r')\n",
    "s=f.read(13)\n",
    "print(s)\n",
    "f.close()"
   ]
  },
  {
   "cell_type": "code",
   "execution_count": 34,
   "metadata": {},
   "outputs": [
    {
     "name": "stdout",
     "output_type": "stream",
     "text": [
      "hello\n",
      "kaise ho\n"
     ]
    }
   ],
   "source": [
    "#to read line by line\n",
    "f=open(\"sample.txt\",'r')\n",
    "print(f.readline(),end='')\n",
    "print(f.readline(),end='')\n",
    "f.close()"
   ]
  },
  {
   "cell_type": "code",
   "execution_count": 47,
   "metadata": {},
   "outputs": [
    {
     "name": "stdout",
     "output_type": "stream",
     "text": [
      "hello\n",
      "kaise ho\n",
      "Aaj aapne kya kiya\n"
     ]
    }
   ],
   "source": [
    "#reading entire using readline\n",
    "f=open(\"sample.txt\",'r')\n",
    "while True:\n",
    "    data=f.readline()\n",
    "    if data=='':\n",
    "        break\n",
    "    else:\n",
    "        print(data,end='')\n",
    "f.close()"
   ]
  },
  {
   "cell_type": "markdown",
   "metadata": {},
   "source": [
    "# Using Context Manager (With)\n",
    "1. It's a good idea to close a file after usage as it will free up the resources\n",
    "2. If we dont close it, garbage collector would close it\n",
    "3. **\"with\"** keyword closes the file as soon as the usage is over"
   ]
  },
  {
   "cell_type": "code",
   "execution_count": 38,
   "metadata": {},
   "outputs": [],
   "source": [
    "with open('sample1.txt','w') as f:\n",
    "    f.write(\"hakla shahrukh\")"
   ]
  },
  {
   "cell_type": "code",
   "execution_count": 39,
   "metadata": {},
   "outputs": [
    {
     "ename": "ValueError",
     "evalue": "I/O operation on closed file.",
     "output_type": "error",
     "traceback": [
      "\u001b[31m---------------------------------------------------------------------------\u001b[39m",
      "\u001b[31mValueError\u001b[39m                                Traceback (most recent call last)",
      "\u001b[36mCell\u001b[39m\u001b[36m \u001b[39m\u001b[32mIn[39]\u001b[39m\u001b[32m, line 1\u001b[39m\n\u001b[32m----> \u001b[39m\u001b[32m1\u001b[39m \u001b[43mf\u001b[49m\u001b[43m.\u001b[49m\u001b[43mwrite\u001b[49m\u001b[43m(\u001b[49m\u001b[33;43m\"\u001b[39;49m\u001b[33;43mhelo\u001b[39;49m\u001b[33;43m\"\u001b[39;49m\u001b[43m)\u001b[49m\n",
      "\u001b[31mValueError\u001b[39m: I/O operation on closed file."
     ]
    }
   ],
   "source": [
    "f.write(\"helo\")"
   ]
  },
  {
   "cell_type": "code",
   "execution_count": 43,
   "metadata": {},
   "outputs": [
    {
     "name": "stdout",
     "output_type": "stream",
     "text": [
      "hello\n",
      "kaise ho\n",
      "Aaj aapne kya kiya\n",
      "\n"
     ]
    }
   ],
   "source": [
    "#try f.read() now:\n",
    "with open(\"sample.txt\",'r') as f:\n",
    "    print(f.read())"
   ]
  },
  {
   "cell_type": "code",
   "execution_count": 48,
   "metadata": {},
   "outputs": [
    {
     "name": "stdout",
     "output_type": "stream",
     "text": [
      "hello\n",
      "kaise ho\n",
      "Aaj aapne kya kiya\n"
     ]
    }
   ],
   "source": [
    "# try with f.readline \n",
    "with open(\"sample.txt\",'r') as f:\n",
    "    while True:\n",
    "        data=f.readline()\n",
    "        if data=='':\n",
    "            break\n",
    "        else:\n",
    "            print(data,end=\"\")"
   ]
  },
  {
   "cell_type": "code",
   "execution_count": 50,
   "metadata": {},
   "outputs": [
    {
     "name": "stdout",
     "output_type": "stream",
     "text": [
      "hakla shah\n",
      "rukh\n"
     ]
    }
   ],
   "source": [
    "#moving within a file --> 10 char then 10 char \n",
    "with open(\"sample1.txt\",'r') as f:\n",
    "    print(f.readline(10)) # abhi yeh line shuru ke 10 characters ko print karwa drgi and\n",
    "    print(f.readline(10)) # ab ye kya karegi ki 10 charcter ke age se print karna shuru karegi\n",
    "    "
   ]
  },
  {
   "cell_type": "code",
   "execution_count": 68,
   "metadata": {},
   "outputs": [
    {
     "name": "stdout",
     "output_type": "stream",
     "text": [
      "None\n",
      "hello Worldhe\n"
     ]
    }
   ],
   "source": [
    "#benifit of doing all this stuff --> to read big files\n",
    "big_file=['hello World' for i in range(1000)]\n",
    "with open(\"big.txt\",'w') as f:\n",
    "    print(f.writelines(big_file))\n",
    "with open('big.txt','r') as f:\n",
    "    print(f.readline(13))"
   ]
  }
 ],
 "metadata": {
  "kernelspec": {
   "display_name": "Python 3",
   "language": "python",
   "name": "python3"
  },
  "language_info": {
   "codemirror_mode": {
    "name": "ipython",
    "version": 3
   },
   "file_extension": ".py",
   "mimetype": "text/x-python",
   "name": "python",
   "nbconvert_exporter": "python",
   "pygments_lexer": "ipython3",
   "version": "3.11.9"
  }
 },
 "nbformat": 4,
 "nbformat_minor": 2
}
