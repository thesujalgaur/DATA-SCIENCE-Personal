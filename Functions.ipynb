{
 "cells": [
  {
   "cell_type": "markdown",
   "metadata": {},
   "source": [
    "# Let's Create a function with Docstring"
   ]
  },
  {
   "cell_type": "code",
   "execution_count": null,
   "metadata": {},
   "outputs": [],
   "source": [
    "def is_even(num):\n",
    "    ''' is_even() used for checking value is even or odd'''\n",
    "    if type(num)==int:\n",
    "     if num%2==0:\n",
    "        return \"even\"\n",
    "     else:\n",
    "        return\"odd\"\n",
    "    else:\n",
    "        return \"Integer ki value daal na bhai function me🙂\"\n",
    "    "
   ]
  },
  {
   "cell_type": "code",
   "execution_count": null,
   "metadata": {},
   "outputs": [],
   "source": [
    "#function\n",
    "#function_name\n",
    "for i in range(1,11):\n",
    "    x=is_even(i)\n",
    "    print(x)"
   ]
  },
  {
   "cell_type": "code",
   "execution_count": null,
   "metadata": {},
   "outputs": [],
   "source": [
    "is_even('hello')"
   ]
  },
  {
   "cell_type": "code",
   "execution_count": null,
   "metadata": {},
   "outputs": [],
   "source": [
    "#Kisi bhi function ka agr documentation dekhna ho to \n",
    "is_even.__doc__\n",
    "print.__doc__"
   ]
  },
  {
   "cell_type": "markdown",
   "metadata": {},
   "source": [
    "# Parameters VS Arguments\n",
    "1. parameters are those which are defined while creating the function.\n",
    "2. arguments are those which are defined\n",
    "while calling the function."
   ]
  },
  {
   "cell_type": "markdown",
   "metadata": {},
   "source": [
    "# Types of Arguments\n",
    "1. **Default Argument**\n",
    "2. **Positional Argument**\n",
    "3. **Keyword Argument**"
   ]
  },
  {
   "cell_type": "code",
   "execution_count": null,
   "metadata": {},
   "outputs": [],
   "source": [
    "# 1.Default Argument\n",
    "def power(a=1,b=1):\n",
    "    return a**b"
   ]
  },
  {
   "cell_type": "code",
   "execution_count": null,
   "metadata": {},
   "outputs": [],
   "source": [
    "''' Yaha pe humare paas 2 arguments h isliye ye \n",
    "code jo hai run kar jayega par humko toh nhi pta na ki function banane wale ne kitne parameters diye hai\n",
    "toh hum kya karenge default me 1 set kar denge jo \n",
    "koi dikkat nhi aayegi\n",
    "    '''"
   ]
  },
  {
   "cell_type": "code",
   "execution_count": null,
   "metadata": {},
   "outputs": [],
   "source": [
    "power(8,8)"
   ]
  },
  {
   "cell_type": "code",
   "execution_count": null,
   "metadata": {},
   "outputs": [],
   "source": [
    "#2. Positional argument\n",
    "'''jis order me hum argument ko bhjte h usi order me parameter usko accept karta h'''\n",
    "power(3,2)"
   ]
  },
  {
   "cell_type": "code",
   "execution_count": null,
   "metadata": {},
   "outputs": [],
   "source": [
    "#3.Keyword Argument\n",
    "#kabhi humko nahi pta ki prameters ka position kya h \n",
    "#Aur humko humare args barabar bhjne toh hum use karte \n",
    "power(b=3,a=2)\n",
    "#humne pahle hi sab kuch set kar diya idhr kaise kya jana h "
   ]
  },
  {
   "cell_type": "markdown",
   "metadata": {},
   "source": [
    "# Args and Kwargs"
   ]
  },
  {
   "cell_type": "markdown",
   "metadata": {},
   "source": [
    "# args\n",
    "# allows us to pass a variable number of non-keyword (KEY : PAIR) arguments to a function."
   ]
  },
  {
   "cell_type": "code",
   "execution_count": null,
   "metadata": {},
   "outputs": [],
   "source": [
    "def multiply(*args):\n",
    "    product=1\n",
    "    for i in args:\n",
    "        product=product*i\n",
    "    return product"
   ]
  },
  {
   "cell_type": "code",
   "execution_count": null,
   "metadata": {},
   "outputs": [],
   "source": [
    "multiply(1,2,3,4,5,55)"
   ]
  },
  {
   "cell_type": "markdown",
   "metadata": {},
   "source": [
    "# Kwargs\n",
    "# **kwargs allows us to pass any number of ***keyword arguments***.\n",
    "# ***Keyword arguments*** mean that they contain a ***key-value pair***, ***like a Python dictionary***."
   ]
  },
  {
   "cell_type": "code",
   "execution_count": null,
   "metadata": {},
   "outputs": [],
   "source": [
    "def display(**kwargs):\n",
    "    for (key,value) in kwargs.items():\n",
    "        print(key,'->',value)"
   ]
  },
  {
   "cell_type": "code",
   "execution_count": null,
   "metadata": {},
   "outputs": [],
   "source": [
    "display(India='delhi',rajasthan='jaipur',uttrakhand='haridwar')"
   ]
  },
  {
   "cell_type": "markdown",
   "metadata": {},
   "source": [
    "# how function are executed in memory\n",
    "1. the life span of a function variable is equal to the function creation to return .\n",
    "  # ** Seen  in Python Tutor **"
   ]
  },
  {
   "cell_type": "markdown",
   "metadata": {},
   "source": [
    "# Without Return Statement"
   ]
  },
  {
   "cell_type": "code",
   "execution_count": null,
   "metadata": {},
   "outputs": [],
   "source": [
    "L=[1,2,3,4]\n",
    "print(L.append(4))#yeh code none return karega q ki \n",
    "                   # bhut sare function aise hote h jo kuch bhi return nhi karte hai\n",
    "                   # to uske liye humko alga se usko print karwana padta hai\n",
    "print(L)\n"
   ]
  },
  {
   "cell_type": "markdown",
   "metadata": {},
   "source": [
    "# Variable Scope\n",
    "***jo bhi varibale humare main program ke scope me aate hai unko hum GLOBAL variable bolte hai***"
   ]
  },
  {
   "cell_type": "code",
   "execution_count": null,
   "metadata": {},
   "outputs": [],
   "source": [
    "def g(y) :#yha pe y jo h local varibale h jisko hum sirf functon ke andar use kar skte h \n",
    " print(x) # x ki value idhr gloabl se 5 aagyi\n",
    " print (x+1)#idhr x increment hoke 6 hogya \n",
    "x = 5\n",
    "g (x)  #idhr x ki value 5 aagyi\n",
    "print (x) # aur idhr 5 jo h print hogya "
   ]
  },
  {
   "cell_type": "code",
   "execution_count": null,
   "metadata": {},
   "outputs": [],
   "source": [
    "def f(y):\n",
    " x=1\n",
    " x+= 1\n",
    " print(x)\n",
    "x = 5\n",
    "f(x)\n",
    "print (x)"
   ]
  },
  {
   "cell_type": "code",
   "execution_count": null,
   "metadata": {},
   "outputs": [],
   "source": [
    "def sujal(y): #( \"y\" local varibale h) \n",
    "  x += 1 #yaha pe \"x\" ki value ko ek se increment kiya gaya hai \n",
    "         # to aisa hum nahi kar skte q ki hum global variable ko \n",
    "         # function me use kar sakte hai but usme CHANGES NAHI kar skte !\n",
    "x = 5 #(x is global varibale q ki yeh main program me h )\n",
    "sujal(x)\n",
    "print (x)  "
   ]
  },
  {
   "cell_type": "markdown",
   "metadata": {},
   "source": [
    "# Is samasya se bachne ke liye yeh use kar skate hai but dont use it because this is not a nishaani of good programmer"
   ]
  },
  {
   "cell_type": "code",
   "execution_count": null,
   "metadata": {},
   "outputs": [],
   "source": [
    "def sujal(y):\n",
    "    global x\n",
    "    x+=1\n",
    "x=5\n",
    "sujal(x)\n",
    "print(x)"
   ]
  },
  {
   "cell_type": "code",
   "execution_count": 4,
   "metadata": {},
   "outputs": [
    {
     "name": "stdout",
     "output_type": "stream",
     "text": [
      "in f(x): x= 4\n",
      "in main program scope: z = 4\n",
      "in main program scope: x = 3\n"
     ]
    }
   ],
   "source": [
    "def f(x):\n",
    " x = x + 1\n",
    " print('in f(x): x=', x)\n",
    " return x\n",
    "\n",
    "x = 3\n",
    "z = f(x)\n",
    "print('in main program scope: z =', z)\n",
    "print('in main program scope: x =', x)"
   ]
  },
  {
   "cell_type": "markdown",
   "metadata": {},
   "source": [
    "# NESTED FUNCTION"
   ]
  },
  {
   "cell_type": "code",
   "execution_count": null,
   "metadata": {},
   "outputs": [],
   "source": [
    "def f():\n",
    "    def g():\n",
    "        print(\"inside function g\")\n",
    "    g()\n",
    "    print(\"inside function f\")    \n",
    "f()"
   ]
  },
  {
   "cell_type": "code",
   "execution_count": null,
   "metadata": {},
   "outputs": [],
   "source": [
    "g() # hum andar wale function ko directly call nhi kar skte \n"
   ]
  },
  {
   "cell_type": "code",
   "execution_count": 5,
   "metadata": {},
   "outputs": [
    {
     "name": "stdout",
     "output_type": "stream",
     "text": [
      "in g(x): x = 4\n"
     ]
    }
   ],
   "source": [
    "def g(x) :\n",
    " def h():\n",
    "    x = 'abc'\n",
    " x = x + 1\n",
    " print('in g(x): x =', x)\n",
    " h()\n",
    " return x\n",
    "x = 3\n",
    "z = g (x)"
   ]
  },
  {
   "cell_type": "code",
   "execution_count": 6,
   "metadata": {},
   "outputs": [
    {
     "name": "stdout",
     "output_type": "stream",
     "text": [
      " in g(x): x=  4\n",
      "in h(x): x=  5\n",
      "in main program scope: 3\n",
      "in main program scope: 4\n"
     ]
    }
   ],
   "source": [
    "def g(x):\n",
    " def h(x):\n",
    "     x=x+1\n",
    "     print(\"in h(x): x= \", x)\n",
    " x=x +1\n",
    " print(' in g(x): x= ', x)\n",
    " h(x)\n",
    " return x\n",
    "x = 3\n",
    "z = g(x)\n",
    "print('in main program scope:',x)\n",
    "print('in main program scope:',z)\n",
    "      "
   ]
  },
  {
   "cell_type": "markdown",
   "metadata": {},
   "source": [
    "# First Class Citizen \n",
    "**A first-class citizen (also type, object, entity, or value) in a given programming language is an entity which supports all the operations generally available to other entities These operations typically include being passed as an argument, returned from a function, and assigned to a variable.**"
   ]
  },
  {
   "cell_type": "markdown",
   "metadata": {},
   "source": [
    "## Functions are First class citizen \n",
    " **Python me function bhi woh sab kaam kar skata hai jo ki datatypes or other entities kar skte h .**"
   ]
  },
  {
   "cell_type": "code",
   "execution_count": null,
   "metadata": {},
   "outputs": [],
   "source": [
    "#type and ID\n",
    "def square(a):\n",
    "    return a**2\n",
    "print(type(square))\n",
    "print(id(square))"
   ]
  },
  {
   "cell_type": "code",
   "execution_count": null,
   "metadata": {},
   "outputs": [],
   "source": [
    "#Reassign\n",
    "s=square\n",
    "print(s(4))\n",
    "id(s) #dono same hi location par he h mtlb ki value reassign hui h bs "
   ]
  },
  {
   "cell_type": "code",
   "execution_count": null,
   "metadata": {},
   "outputs": [],
   "source": [
    "#deleting a function\n",
    "del square"
   ]
  },
  {
   "cell_type": "code",
   "execution_count": null,
   "metadata": {},
   "outputs": [],
   "source": [
    "square(3) # bhaisaheb delete ho gye"
   ]
  },
  {
   "cell_type": "code",
   "execution_count": null,
   "metadata": {},
   "outputs": [],
   "source": [
    "#storing\n",
    "l=[1,2,3,4,square]\n",
    "l[-1](4) # list me last me gaye and then argument pass karwa diye 4 \n",
    "            "
   ]
  },
  {
   "cell_type": "markdown",
   "metadata": {},
   "source": [
    "# Function is an immutable Datatype \n",
    "**Because humne pahle dekha tha ki sets mutable    datatypes ko store nahi karta, aur agr me function ko\n",
    "set me daalke dekhta hu toh woh run kar jata h i.e.\n",
    "function is an immutable Data type**"
   ]
  },
  {
   "cell_type": "code",
   "execution_count": 7,
   "metadata": {},
   "outputs": [
    {
     "name": "stdout",
     "output_type": "stream",
     "text": [
      "7\n"
     ]
    }
   ],
   "source": [
    "#returning a function\n",
    "def f():\n",
    "    def x(a,b):\n",
    "        return a+b\n",
    "    return x # passing function as a return value \n",
    "val=f()(3,4) #here the return of fxn 'x' replaced with 'f' like this  [x-->f()] and then it is like x(3,4) now the value\n",
    "              #of a and b passed as an argument in parameters (a,b) and reutrn value a+b i.e 7\n",
    "print(val)\n",
    "        \n"
   ]
  },
  {
   "cell_type": "code",
   "execution_count": 12,
   "metadata": {},
   "outputs": [
    {
     "name": "stdout",
     "output_type": "stream",
     "text": [
      "inside function b\n",
      "inside function a\n",
      "None\n"
     ]
    }
   ],
   "source": [
    "#functions as a argument\n",
    "def func_a():\n",
    "    print('inside function a')\n",
    "def func_b(z):\n",
    "    print(\"inside function b\")\n",
    "    return z()\n",
    "print(func_b(func_a))\n",
    "\n",
    "    "
   ]
  },
  {
   "cell_type": "markdown",
   "metadata": {},
   "source": [
    "# Benifits of using Function\n",
    "1. Code Modularity \n",
    "1. Code readability\n",
    "3. Code reusability"
   ]
  },
  {
   "cell_type": "markdown",
   "metadata": {},
   "source": [
    "# Lambda Function\n",
    "**Is a small anonymous Function ( Jiska Koi naam nahi hota)**\n",
    "# ***A Lambda Function can take any number of arguments but can only have one expression***"
   ]
  },
  {
   "cell_type": "code",
   "execution_count": 13,
   "metadata": {},
   "outputs": [
    {
     "data": {
      "text/plain": [
       "4"
      ]
     },
     "execution_count": 13,
     "metadata": {},
     "output_type": "execute_result"
    }
   ],
   "source": [
    "#x-->x**2\n",
    "a=lambda x:x**2\n",
    "a(2)"
   ]
  },
  {
   "cell_type": "code",
   "execution_count": 14,
   "metadata": {},
   "outputs": [
    {
     "data": {
      "text/plain": [
       "5"
      ]
     },
     "execution_count": 14,
     "metadata": {},
     "output_type": "execute_result"
    }
   ],
   "source": [
    "#x,y-->x+y\n",
    "a=lambda x,y:x+y\n",
    "a(2,3)"
   ]
  },
  {
   "cell_type": "code",
   "execution_count": 7,
   "metadata": {},
   "outputs": [
    {
     "data": {
      "text/plain": [
       "False"
      ]
     },
     "execution_count": 7,
     "metadata": {},
     "output_type": "execute_result"
    }
   ],
   "source": [
    "#check if a string has \"a\"\n",
    "a=lambda s:'r' in s\n",
    "a(\"hello\")"
   ]
  },
  {
   "cell_type": "code",
   "execution_count": 25,
   "metadata": {},
   "outputs": [
    {
     "data": {
      "text/plain": [
       "'even'"
      ]
     },
     "execution_count": 25,
     "metadata": {},
     "output_type": "execute_result"
    }
   ],
   "source": [
    "#odd or even\n",
    "a= lambda x:'even' if x%2==0 else 'odd'\n",
    "a(2)"
   ]
  },
  {
   "cell_type": "code",
   "execution_count": 27,
   "metadata": {},
   "outputs": [
    {
     "data": {
      "text/plain": [
       "'odd'"
      ]
     },
     "execution_count": 27,
     "metadata": {},
     "output_type": "execute_result"
    }
   ],
   "source": [
    "a=lambda x:'even'if x%2==0 else 'odd'\n",
    "a(7)"
   ]
  },
  {
   "cell_type": "code",
   "execution_count": 33,
   "metadata": {},
   "outputs": [
    {
     "name": "stdout",
     "output_type": "stream",
     "text": [
      "[1, 4, 9, 16, 25]\n"
     ]
    }
   ],
   "source": [
    "def square(x):\n",
    " return x**2\n",
    "\n",
    "def transform(f,L):\n",
    " output=[]\n",
    " for i in L:\n",
    "  output.append(f(i))\n",
    " print(output)\n",
    "L=[1,2,3,4,5]\n",
    "transform(square,L)\n",
    "        "
   ]
  },
  {
   "cell_type": "markdown",
   "metadata": {},
   "source": [
    "# Map"
   ]
  },
  {
   "cell_type": "code",
   "execution_count": 2,
   "metadata": {},
   "outputs": [
    {
     "data": {
      "text/plain": [
       "['odd', 'even', 'odd', 'even', 'odd', 'odd', 'even', 'even']"
      ]
     },
     "execution_count": 2,
     "metadata": {},
     "output_type": "execute_result"
    }
   ],
   "source": [
    "#odd / even labelling of a list of a item\n",
    "L=[1,2,3,4,5,5,6,6]\n",
    "list(map(lambda x: 'even' if x%2==0 else 'odd',L))"
   ]
  },
  {
   "cell_type": "code",
   "execution_count": 35,
   "metadata": {},
   "outputs": [
    {
     "data": {
      "text/plain": [
       "[1, 4, 9, 16, 25, 36]"
      ]
     },
     "execution_count": 35,
     "metadata": {},
     "output_type": "execute_result"
    }
   ],
   "source": [
    "#Square the item of a list\n",
    "list(map(lambda x:x**2 , [1,2,3,4,5,6]))"
   ]
  },
  {
   "cell_type": "code",
   "execution_count": 41,
   "metadata": {},
   "outputs": [
    {
     "data": {
      "text/plain": [
       "['Rahul', 'Sujal']"
      ]
     },
     "execution_count": 41,
     "metadata": {},
     "output_type": "execute_result"
    }
   ],
   "source": [
    "#fetch name from the list of dictionary \n",
    "users=[\n",
    "     {\n",
    "       'name':'Rahul',\n",
    "     'age':23,\n",
    "     'city':'jaipur'    \n",
    "     },\n",
    "     {\n",
    "      'name':'Sujal',\n",
    "     'age':23,\n",
    "     'city':'jaipur'    \n",
    "    }\n",
    "]\n",
    "list(map(lambda users:users['name'],users))"
   ]
  },
  {
   "cell_type": "markdown",
   "metadata": {},
   "source": [
    "# Filter"
   ]
  },
  {
   "cell_type": "code",
   "execution_count": 47,
   "metadata": {},
   "outputs": [
    {
     "data": {
      "text/plain": [
       "[6, 9]"
      ]
     },
     "execution_count": 47,
     "metadata": {},
     "output_type": "execute_result"
    }
   ],
   "source": [
    "l=[2,3,4,5,6,9]\n",
    "list(filter(lambda x:x>5,l))"
   ]
  },
  {
   "cell_type": "code",
   "execution_count": 51,
   "metadata": {},
   "outputs": [
    {
     "data": {
      "text/plain": [
       "['apple', 'avacado']"
      ]
     },
     "execution_count": 51,
     "metadata": {},
     "output_type": "execute_result"
    }
   ],
   "source": [
    "#fetch fruits starting with a\n",
    "l=['guava','mango','apple','avacado','grapes']\n",
    "list(filter(lambda x:x.startswith('a') ,l))"
   ]
  },
  {
   "cell_type": "markdown",
   "metadata": {},
   "source": [
    "# Reduce"
   ]
  },
  {
   "cell_type": "code",
   "execution_count": 52,
   "metadata": {},
   "outputs": [
    {
     "data": {
      "text/plain": [
       "15"
      ]
     },
     "execution_count": 52,
     "metadata": {},
     "output_type": "execute_result"
    }
   ],
   "source": [
    "import functools\n",
    "functools.reduce(lambda x,y:x+y , [1,2,3,4,5])"
   ]
  },
  {
   "cell_type": "code",
   "execution_count": 53,
   "metadata": {},
   "outputs": [
    {
     "data": {
      "text/plain": [
       "3"
      ]
     },
     "execution_count": 53,
     "metadata": {},
     "output_type": "execute_result"
    }
   ],
   "source": [
    "#find min\n",
    "functools.reduce(lambda x,y : x if x<y else y , [12,3,4,5,23,4,4])"
   ]
  }
 ],
 "metadata": {
  "kernelspec": {
   "display_name": "Python 3",
   "language": "python",
   "name": "python3"
  },
  "language_info": {
   "codemirror_mode": {
    "name": "ipython",
    "version": 3
   },
   "file_extension": ".py",
   "mimetype": "text/x-python",
   "name": "python",
   "nbconvert_exporter": "python",
   "pygments_lexer": "ipython3",
   "version": "3.11.9"
  }
 },
 "nbformat": 4,
 "nbformat_minor": 2
}
