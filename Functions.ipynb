{
 "cells": [
  {
   "cell_type": "markdown",
   "metadata": {},
   "source": [
    "# Let's Create a function with Docstring"
   ]
  },
  {
   "cell_type": "code",
   "execution_count": 2,
   "metadata": {},
   "outputs": [],
   "source": [
    "def is_even(num):\n",
    "    ''' is_even() used for checking value is even or odd'''\n",
    "    if type(num)==int:\n",
    "     if num%2==0:\n",
    "        return \"even\"\n",
    "     else:\n",
    "        return\"odd\"\n",
    "    else:\n",
    "        return \"Integer ki value daal na bhai function me🙂\"\n",
    "    "
   ]
  },
  {
   "cell_type": "code",
   "execution_count": 3,
   "metadata": {},
   "outputs": [
    {
     "name": "stdout",
     "output_type": "stream",
     "text": [
      "odd\n",
      "even\n",
      "odd\n",
      "even\n",
      "odd\n",
      "even\n",
      "odd\n",
      "even\n",
      "odd\n",
      "even\n"
     ]
    }
   ],
   "source": [
    "#function\n",
    "#function_name\n",
    "for i in range(1,11):\n",
    "    x=is_even(i)\n",
    "    print(x)"
   ]
  },
  {
   "cell_type": "code",
   "execution_count": 4,
   "metadata": {},
   "outputs": [
    {
     "data": {
      "text/plain": [
       "'Integer ki value daal na bhai function me🙂'"
      ]
     },
     "execution_count": 4,
     "metadata": {},
     "output_type": "execute_result"
    }
   ],
   "source": [
    "is_even('hello')"
   ]
  },
  {
   "cell_type": "code",
   "execution_count": 5,
   "metadata": {},
   "outputs": [
    {
     "data": {
      "text/plain": [
       "'Prints the values to a stream, or to sys.stdout by default.\\n\\n  sep\\n    string inserted between values, default a space.\\n  end\\n    string appended after the last value, default a newline.\\n  file\\n    a file-like object (stream); defaults to the current sys.stdout.\\n  flush\\n    whether to forcibly flush the stream.'"
      ]
     },
     "execution_count": 5,
     "metadata": {},
     "output_type": "execute_result"
    }
   ],
   "source": [
    "#Kisi bhi function ka agr documentation dekhna ho to \n",
    "is_even.__doc__\n",
    "print.__doc__"
   ]
  },
  {
   "cell_type": "markdown",
   "metadata": {},
   "source": [
    "# Parameters VS Arguments\n",
    "1. parameters are those which are defined while creating the function.\n",
    "2. arguments are those which are defined\n",
    "while calling the function."
   ]
  },
  {
   "cell_type": "markdown",
   "metadata": {},
   "source": [
    "# Types of Arguments\n",
    "1. **Default Argument**\n",
    "2. **Positional Argument**\n",
    "3. **Keyword Argument**"
   ]
  },
  {
   "cell_type": "code",
   "execution_count": 6,
   "metadata": {},
   "outputs": [],
   "source": [
    "# 1.Default Argument\n",
    "def power(a=1,b=1):\n",
    "    return a**b"
   ]
  },
  {
   "cell_type": "code",
   "execution_count": 7,
   "metadata": {},
   "outputs": [
    {
     "data": {
      "text/plain": [
       "' Yaha pe humare paas 2 arguments h isliye ye \\ncode jo hai run kar jayega par humko toh nhi pta na ki function banane wale ne kitne parameters diye hai\\ntoh hum kya karenge default me 1 set kar denge jo \\nkoi dikkat nhi aayegi\\n    '"
      ]
     },
     "execution_count": 7,
     "metadata": {},
     "output_type": "execute_result"
    }
   ],
   "source": [
    "''' Yaha pe humare paas 2 arguments h isliye ye \n",
    "code jo hai run kar jayega par humko toh nhi pta na ki function banane wale ne kitne parameters diye hai\n",
    "toh hum kya karenge default me 1 set kar denge jo \n",
    "koi dikkat nhi aayegi\n",
    "    '''"
   ]
  },
  {
   "cell_type": "code",
   "execution_count": 8,
   "metadata": {},
   "outputs": [
    {
     "data": {
      "text/plain": [
       "16777216"
      ]
     },
     "execution_count": 8,
     "metadata": {},
     "output_type": "execute_result"
    }
   ],
   "source": [
    "power(8,8)"
   ]
  },
  {
   "cell_type": "code",
   "execution_count": 9,
   "metadata": {},
   "outputs": [
    {
     "data": {
      "text/plain": [
       "9"
      ]
     },
     "execution_count": 9,
     "metadata": {},
     "output_type": "execute_result"
    }
   ],
   "source": [
    "#2. Positional argument\n",
    "'''jis order me hum argument ko bhjte h usi order me parameter usko accept karta h'''\n",
    "power(3,2)"
   ]
  },
  {
   "cell_type": "code",
   "execution_count": 10,
   "metadata": {},
   "outputs": [
    {
     "data": {
      "text/plain": [
       "8"
      ]
     },
     "execution_count": 10,
     "metadata": {},
     "output_type": "execute_result"
    }
   ],
   "source": [
    "#3.Keyword Argument\n",
    "#kabhi humko nahi pta ki prameters ka position kya h \n",
    "#Aur humko humare args barabar bhjne toh hum use karte \n",
    "power(b=3,a=2)\n",
    "#humne pahle hi sab kuch set kar diya idhr kaise kya jana h "
   ]
  },
  {
   "cell_type": "markdown",
   "metadata": {},
   "source": [
    "# Args and Kwargs"
   ]
  },
  {
   "cell_type": "markdown",
   "metadata": {},
   "source": [
    "# args\n",
    "# allows us to pass a variable number of non-keyword (KEY : PAIR) arguments to a function."
   ]
  },
  {
   "cell_type": "code",
   "execution_count": 11,
   "metadata": {},
   "outputs": [],
   "source": [
    "def multiply(*args):\n",
    "    product=1\n",
    "    for i in args:\n",
    "        product=product*i\n",
    "    return product"
   ]
  },
  {
   "cell_type": "code",
   "execution_count": 12,
   "metadata": {},
   "outputs": [
    {
     "data": {
      "text/plain": [
       "6600"
      ]
     },
     "execution_count": 12,
     "metadata": {},
     "output_type": "execute_result"
    }
   ],
   "source": [
    "multiply(1,2,3,4,5,55)"
   ]
  },
  {
   "cell_type": "markdown",
   "metadata": {},
   "source": [
    "# Kwargs\n",
    "# **kwargs allows us to pass any number of ***keyword arguments***.\n",
    "# ***Keyword arguments*** mean that they contain a ***key-value pair***, ***like a Python dictionary***."
   ]
  },
  {
   "cell_type": "code",
   "execution_count": 13,
   "metadata": {},
   "outputs": [],
   "source": [
    "def display(**kwargs):\n",
    "    for (key,value) in kwargs.items():\n",
    "        print(key,'->',value)"
   ]
  },
  {
   "cell_type": "code",
   "execution_count": 14,
   "metadata": {},
   "outputs": [
    {
     "name": "stdout",
     "output_type": "stream",
     "text": [
      "India -> delhi\n",
      "rajasthan -> jaipur\n",
      "uttrakhand -> haridwar\n"
     ]
    }
   ],
   "source": [
    "display(India='delhi',rajasthan='jaipur',uttrakhand='haridwar')"
   ]
  },
  {
   "cell_type": "markdown",
   "metadata": {},
   "source": [
    "# how function are executed in memory\n",
    "1. the life span of a function variable is equal to the function creation to return .\n",
    "  # ** Seen  in Python Tutor **"
   ]
  },
  {
   "cell_type": "markdown",
   "metadata": {},
   "source": [
    "# Without Return Statement"
   ]
  },
  {
   "cell_type": "code",
   "execution_count": 15,
   "metadata": {},
   "outputs": [
    {
     "name": "stdout",
     "output_type": "stream",
     "text": [
      "None\n",
      "[1, 2, 3, 4, 4]\n"
     ]
    }
   ],
   "source": [
    "L=[1,2,3,4]\n",
    "print(L.append(4))#yeh code none return karega q ki \n",
    "                   # bhut sare function aise hote h jo kuch bhi return nhi karte hai\n",
    "                   # to uske liye humko alga se usko print karwana padta hai\n",
    "print(L)\n"
   ]
  },
  {
   "cell_type": "markdown",
   "metadata": {},
   "source": [
    "# Variable Scope\n",
    "***jo bhi varibale humare main program ke scope me aate hai unko hum GLOBAL variable bolte hai***"
   ]
  },
  {
   "cell_type": "code",
   "execution_count": 29,
   "metadata": {},
   "outputs": [
    {
     "name": "stdout",
     "output_type": "stream",
     "text": [
      "5\n",
      "6\n",
      "5\n"
     ]
    }
   ],
   "source": [
    "def g(y) :#yha pe y jo h local varibale h jisko hum sirf functon ke andar use kar skte h \n",
    " print(x) # x ki value idhr gloabl se 5 aagyi\n",
    " print (x+1)#idhr x increment hoke 6 hogya \n",
    "x = 5\n",
    "g (x)  #idhr x ki value 5 aagyi\n",
    "print (x) # aur idhr 5 jo h print hogya "
   ]
  },
  {
   "cell_type": "code",
   "execution_count": 30,
   "metadata": {},
   "outputs": [
    {
     "name": "stdout",
     "output_type": "stream",
     "text": [
      "2\n",
      "5\n"
     ]
    }
   ],
   "source": [
    "def f(y):\n",
    " x=1\n",
    " x+= 1\n",
    " print(x)\n",
    "x = 5\n",
    "f(x)\n",
    "print (x)"
   ]
  },
  {
   "cell_type": "code",
   "execution_count": 24,
   "metadata": {},
   "outputs": [
    {
     "name": "stdout",
     "output_type": "stream",
     "text": [
      "6\n"
     ]
    }
   ],
   "source": [
    "def sujal(y): #( \"y\" local varibale h) \n",
    "  x += 1 #yaha pe \"x\" ki value ko ek se increment kiya gaya hai \n",
    "         # to aisa hum nahi kar skte q ki hum global variable ko \n",
    "         # function me use kar sakte hai but usme CHANGES NAHI kar skte !\n",
    "x = 5 #(x is global varibale q ki yeh main program me h )\n",
    "sujal(x)\n",
    "print (x)  "
   ]
  },
  {
   "cell_type": "markdown",
   "metadata": {},
   "source": [
    "# Is samasya se bachne ke liye yeh use kar skate hai but dont use it because this is not a nishaani of good programmer"
   ]
  },
  {
   "cell_type": "code",
   "execution_count": 26,
   "metadata": {},
   "outputs": [
    {
     "name": "stdout",
     "output_type": "stream",
     "text": [
      "6\n"
     ]
    }
   ],
   "source": [
    "def sujal(y):\n",
    "    global x\n",
    "    x+=1\n",
    "x=5\n",
    "sujal(x)\n",
    "print(x)"
   ]
  },
  {
   "cell_type": "code",
   "execution_count": 27,
   "metadata": {},
   "outputs": [
    {
     "name": "stdout",
     "output_type": "stream",
     "text": [
      "in f(x): x= 4\n",
      "in main program scope: z = 4\n",
      "in main program scope: x = 3\n"
     ]
    }
   ],
   "source": [
    "def f(x):\n",
    " x = x + 1\n",
    " print('in f(x): x=', x)\n",
    " return x\n",
    "\n",
    "x = 3\n",
    "z = f(x)\n",
    "print('in main program scope: z =', z)\n",
    "print('in main program scope: x =', x)"
   ]
  },
  {
   "cell_type": "markdown",
   "metadata": {},
   "source": [
    "# NESTED FUNCTION"
   ]
  },
  {
   "cell_type": "code",
   "execution_count": 40,
   "metadata": {},
   "outputs": [
    {
     "name": "stdout",
     "output_type": "stream",
     "text": [
      "inside function g\n",
      "inside function f\n"
     ]
    }
   ],
   "source": [
    "def f():\n",
    "    def g():\n",
    "        print(\"inside function g\")\n",
    "    g()\n",
    "    print(\"inside function f\")    \n",
    "f()"
   ]
  },
  {
   "cell_type": "code",
   "execution_count": 39,
   "metadata": {},
   "outputs": [
    {
     "ename": "TypeError",
     "evalue": "g() missing 1 required positional argument: 'y'",
     "output_type": "error",
     "traceback": [
      "\u001b[31m---------------------------------------------------------------------------\u001b[39m",
      "\u001b[31mTypeError\u001b[39m                                 Traceback (most recent call last)",
      "\u001b[36mCell\u001b[39m\u001b[36m \u001b[39m\u001b[32mIn[39]\u001b[39m\u001b[32m, line 1\u001b[39m\n\u001b[32m----> \u001b[39m\u001b[32m1\u001b[39m \u001b[43mg\u001b[49m\u001b[43m(\u001b[49m\u001b[43m)\u001b[49m \u001b[38;5;66;03m# hum andar wale function ko directly call nhi kar skte \u001b[39;00m\n",
      "\u001b[31mTypeError\u001b[39m: g() missing 1 required positional argument: 'y'"
     ]
    }
   ],
   "source": [
    "g() # hum andar wale function ko directly call nhi kar skte \n"
   ]
  },
  {
   "cell_type": "code",
   "execution_count": 42,
   "metadata": {},
   "outputs": [
    {
     "name": "stdout",
     "output_type": "stream",
     "text": [
      "in g(x): x = 4\n"
     ]
    }
   ],
   "source": [
    "def g(x) :\n",
    " def h():\n",
    "    x = 'abc'\n",
    " x = x + 1\n",
    " print('in g(x): x =', x)\n",
    " h()\n",
    " return x\n",
    "x = 3\n",
    "z = g (x)"
   ]
  },
  {
   "cell_type": "code",
   "execution_count": 43,
   "metadata": {},
   "outputs": [
    {
     "name": "stdout",
     "output_type": "stream",
     "text": [
      " in g(x): x-=  4\n",
      "in h(x): x=  5\n",
      "in main program scope: 3\n",
      "in main program scope: 4\n"
     ]
    }
   ],
   "source": [
    "def g(x):\n",
    " def h(x):\n",
    "     x=x+1\n",
    "     print(\"in h(x): x= \", x)\n",
    " x=x +1\n",
    " print(' in g(x): x= ', x)\n",
    " h(x)\n",
    " return x\n",
    "x = 3\n",
    "z = g(x)\n",
    "print('in main program scope:',x)\n",
    "print('in main program scope:',z)\n",
    "      "
   ]
  },
  {
   "cell_type": "markdown",
   "metadata": {},
   "source": [
    "# First Class Citizen \n",
    "**A first-class citizen (also type, object, entity, or value) in a given programming language is an entity which supports all the operations generally available to other entities These operations typically include being passed as an argument, returned from a function, and assigned to a variable.**"
   ]
  },
  {
   "cell_type": "markdown",
   "metadata": {},
   "source": [
    "## Functions are First class citizen \n",
    " **Python me function bhi woh sab kaam kar skata hai jo ki datatypes or other entities kar skte h .**"
   ]
  },
  {
   "cell_type": "code",
   "execution_count": 70,
   "metadata": {},
   "outputs": [
    {
     "name": "stdout",
     "output_type": "stream",
     "text": [
      "<class 'function'>\n",
      "4422693120\n"
     ]
    }
   ],
   "source": [
    "#type and ID\n",
    "def square(a):\n",
    "    return a**2\n",
    "print(type(square))\n",
    "print(id(square))"
   ]
  },
  {
   "cell_type": "code",
   "execution_count": 56,
   "metadata": {},
   "outputs": [
    {
     "name": "stdout",
     "output_type": "stream",
     "text": [
      "16\n"
     ]
    },
    {
     "data": {
      "text/plain": [
       "4422029440"
      ]
     },
     "execution_count": 56,
     "metadata": {},
     "output_type": "execute_result"
    }
   ],
   "source": [
    "#Reassign\n",
    "s=square\n",
    "print(s(4))\n",
    "id(s) #dono same hi location par he h mtlb ki value reassign hui h bs "
   ]
  },
  {
   "cell_type": "code",
   "execution_count": 67,
   "metadata": {},
   "outputs": [],
   "source": [
    "#deleting a function\n",
    "del square"
   ]
  },
  {
   "cell_type": "code",
   "execution_count": 68,
   "metadata": {},
   "outputs": [
    {
     "ename": "NameError",
     "evalue": "name 'square' is not defined",
     "output_type": "error",
     "traceback": [
      "\u001b[31m---------------------------------------------------------------------------\u001b[39m",
      "\u001b[31mNameError\u001b[39m                                 Traceback (most recent call last)",
      "\u001b[36mCell\u001b[39m\u001b[36m \u001b[39m\u001b[32mIn[68]\u001b[39m\u001b[32m, line 1\u001b[39m\n\u001b[32m----> \u001b[39m\u001b[32m1\u001b[39m \u001b[43msquare\u001b[49m(\u001b[32m3\u001b[39m) \u001b[38;5;66;03m# bhaisaheb delete ho gye\u001b[39;00m\n",
      "\u001b[31mNameError\u001b[39m: name 'square' is not defined"
     ]
    }
   ],
   "source": [
    "square(3) # bhaisaheb delete ho gye"
   ]
  },
  {
   "cell_type": "code",
   "execution_count": 72,
   "metadata": {},
   "outputs": [
    {
     "data": {
      "text/plain": [
       "16"
      ]
     },
     "execution_count": 72,
     "metadata": {},
     "output_type": "execute_result"
    }
   ],
   "source": [
    "#storing\n",
    "l=[1,2,3,4,square]\n",
    "l[-1](4) # list me last me gaye and then argument pass karwa diye 4 \n",
    "            "
   ]
  },
  {
   "cell_type": "markdown",
   "metadata": {},
   "source": [
    "# Function is an immutable Datatype \n",
    "**Because humne pahle dekha tha ki sets mutable    datatypes ko store nahi karta, aur agr me function ko\n",
    "set me daalke dekhta hu toh woh run kar jata h i.e.\n",
    "function is an immutable Data type**"
   ]
  },
  {
   "cell_type": "code",
   "execution_count": null,
   "metadata": {},
   "outputs": [],
   "source": [
    "#returning a function\n"
   ]
  }
 ],
 "metadata": {
  "kernelspec": {
   "display_name": "Python 3",
   "language": "python",
   "name": "python3"
  },
  "language_info": {
   "codemirror_mode": {
    "name": "ipython",
    "version": 3
   },
   "file_extension": ".py",
   "mimetype": "text/x-python",
   "name": "python",
   "nbconvert_exporter": "python",
   "pygments_lexer": "ipython3",
   "version": "3.11.9"
  }
 },
 "nbformat": 4,
 "nbformat_minor": 2
}
