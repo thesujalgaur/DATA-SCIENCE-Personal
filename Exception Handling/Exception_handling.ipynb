{
 "cells": [
  {
   "cell_type": "markdown",
   "metadata": {},
   "source": [
    "# 📌 Syntax Errors in Python\n",
    "\n",
    "## 1. What is a Syntax Error?\n",
    "A **Syntax Error** occurs when Python's parser cannot understand the code because it violates the **rules of Python syntax**.  \n",
    "Think of it like **grammar mistakes in English** — Python stops before running the program.\n",
    "\n",
    "---\n",
    "\n",
    "## 2. When Do They Occur?\n",
    "- **At compile-time** (before the program starts running)\n",
    "- Prevents the program from executing at all\n",
    "\n",
    "---\n",
    "\n",
    "## 3. Common Causes of Syntax Errors\n",
    "1. **Missing colons (`:`)**  \n",
    "   ```python\n",
    "   if True\n",
    "       print(\"Hello\")  # ❌ Missing colon after 'if'"
   ]
  },
  {
   "cell_type": "markdown",
   "metadata": {},
   "source": [
    "# 📌 Exception Handling in Python\n",
    "\n",
    "## 1. What is an Exception?\n",
    "An **exception** is an event that occurs during the execution of a program and disrupts its normal flow.  \n",
    "Examples:  \n",
    "- Dividing by zero  \n",
    "- Accessing a file that doesn’t exist  \n",
    "- Using an undefined variable  \n",
    "\n",
    "---\n",
    "\n",
    "## 2. Why Handle Exceptions?\n",
    "- Prevents the program from **crashing unexpectedly**  \n",
    "- Allows you to provide **user-friendly error messages**  \n",
    "- Helps in **debugging** by logging errors  \n",
    "- Keeps the program running smoothly even if something goes wrong  \n",
    "\n",
    "---\n",
    "\n",
    "## 3. The `try`-`except` Structure\n",
    "```python\n",
    "try:\n",
    "    # Code that might raise an error\n",
    "except SomeErrorType:\n",
    "    # Code to handle that specific error"
   ]
  },
  {
   "cell_type": "code",
   "execution_count": 1,
   "metadata": {},
   "outputs": [],
   "source": [
    "#lets create a file\n",
    "with open(\"sample.txt\",'w') as f:\n",
    "    f.write(\"hello sujal\")"
   ]
  },
  {
   "cell_type": "code",
   "execution_count": 6,
   "metadata": {},
   "outputs": [
    {
     "name": "stdout",
     "output_type": "stream",
     "text": [
      "sorry the file not found\n"
     ]
    }
   ],
   "source": [
    "#try catch demo\n",
    "try:\n",
    " with open(\"sample1.txt\",'r') as f:\n",
    "    print(f.read())\n",
    "except:\n",
    "    print(\"sorry the file not found\")"
   ]
  },
  {
   "cell_type": "code",
   "execution_count": 16,
   "metadata": {},
   "outputs": [
    {
     "name": "stdout",
     "output_type": "stream",
     "text": [
      "hello sujal\n",
      "aise naam ka koi variable nahi hai bhaisaheb\n"
     ]
    }
   ],
   "source": [
    "#catching specific exception\n",
    "try:\n",
    " f=open(\"sample.txt\",'r')\n",
    " print(f.read())\n",
    " print(m)\n",
    " print(5/0)\n",
    "except FileNotFoundError:\n",
    "    print(\"file nahi mil rhi , name check kro file ka\")\n",
    "except NameError:\n",
    "    print(\"aise naam ka koi variable nahi hai bhaisaheb\")\n",
    "except ZeroDivisionError:\n",
    "    print(\"zero division error hai bhaisaheb\")\n",
    "except Exception as e: # Generic exception ...jiske liye koi specifically except block nahi hai\n",
    "    print(e) #woh isme aa jayega #always in last"
   ]
  },
  {
   "cell_type": "code",
   "execution_count": 30,
   "metadata": {},
   "outputs": [
    {
     "name": "stdout",
     "output_type": "stream",
     "text": [
      "file nahi mil rhi\n",
      "yeh to print hoga hi\n"
     ]
    }
   ],
   "source": [
    "#else block\n",
    "try:\n",
    " f=open(\"sample1.txt\",'r')\n",
    "except FileNotFoundError:\n",
    "    print(\"file nahi mil rhi\")\n",
    "except Exception as e:\n",
    "    print(\"kuch toh lafda h\")    \n",
    "else: #jab hum sure hote h ki is code me koi error nahi aaygi jab hum isko us karte h  \n",
    "    print(f.read())\n",
    "finally:\n",
    "    print(\"yeh to print hoga hi\")"
   ]
  },
  {
   "cell_type": "code",
   "execution_count": null,
   "metadata": {},
   "outputs": [],
   "source": [
    "##Raie Exception\n",
    "# in python proramming , exceptions are raised when error occur at runtime \n",
    "# we can also manually raise exception using raise keyword\n",
    "# we can optionaly pass values to the exception to clarify why that exception wass raised"
   ]
  },
  {
   "cell_type": "code",
   "execution_count": 33,
   "metadata": {},
   "outputs": [
    {
     "ename": "NameError",
     "evalue": "arey bhai kya kar rha h tu ",
     "output_type": "error",
     "traceback": [
      "\u001b[31m---------------------------------------------------------------------------\u001b[39m",
      "\u001b[31mNameError\u001b[39m                                 Traceback (most recent call last)",
      "\u001b[36mCell\u001b[39m\u001b[36m \u001b[39m\u001b[32mIn[33]\u001b[39m\u001b[32m, line 1\u001b[39m\n\u001b[32m----> \u001b[39m\u001b[32m1\u001b[39m \u001b[38;5;28;01mraise\u001b[39;00m \u001b[38;5;167;01mNameError\u001b[39;00m(\u001b[33m\"\u001b[39m\u001b[33marey bhai kya kar rha h tu \u001b[39m\u001b[33m\"\u001b[39m)\n",
      "\u001b[31mNameError\u001b[39m: arey bhai kya kar rha h tu "
     ]
    }
   ],
   "source": [
    "raise NameError(\"arey bhai kya kar rha h tu \")"
   ]
  },
  {
   "cell_type": "code",
   "execution_count": 43,
   "metadata": {},
   "outputs": [
    {
     "name": "stdout",
     "output_type": "stream",
     "text": [
      "amount cannot be in negative\n"
     ]
    }
   ],
   "source": [
    "#code to expalin benifit of raise \n",
    "class MyException(Exception): #khud ka custom exception class banaya \n",
    "    def __init__(self,message):\n",
    "        self.message=message\n",
    "class Bank:\n",
    "    def __init__(self,balance):\n",
    "        self.balance=balance\n",
    "        \n",
    "    def Withdraw(self,amount):\n",
    "        if amount<0:\n",
    "            raise MyException(\"amount cannot be in negative\")\n",
    "        if self.balance < amount:\n",
    "            raise MyException(\"paise toh nhi h tere khate m \")\n",
    "        self.balance=self.balance - amount\n",
    "        \n",
    "obj=Bank(10000)\n",
    "try:\n",
    " obj.Withdraw(-16)\n",
    "except MyException as e:\n",
    "    print(e)\n",
    "else:\n",
    "    print(obj.balance)\n",
    "        "
   ]
  },
  {
   "cell_type": "code",
   "execution_count": 49,
   "metadata": {},
   "outputs": [
    {
     "name": "stdout",
     "output_type": "stream",
     "text": [
      "hehe\n",
      "Logout from other devices\n",
      "database connection closed\n"
     ]
    }
   ],
   "source": [
    "class SecurityError(Exception):\n",
    "    def __init__(self,message):\n",
    "        print(\"hehe\")\n",
    "    \n",
    "    def logout(self):\n",
    "        print(\"Logout from other devices\")\n",
    "class Google:\n",
    "    def __init__(self,name,email,password,device):\n",
    "        self.name=name\n",
    "        self.email=email\n",
    "        self.password=password\n",
    "        self.device=device\n",
    "    \n",
    "    def login(self,email,password,device):\n",
    "        if device!=self.device:\n",
    "            raise SecurityError(\"Bhai tere to lag gye\")\n",
    "        if password==self.password and email==self.email:\n",
    "            print(\"hello welcome , sujal !\")\n",
    "        else:\n",
    "            print(\"Login Error\")\n",
    "        \n",
    "obj=Google('sujal','gaursujal02@gmail.com',\"krishna@sujal7737\",\"macos\")\n",
    "try:\n",
    "    obj.login('gaursujal02@gmail.com',\"krishna@sujal7737\",\"windows\")\n",
    "except SecurityError as e:\n",
    "    e.logout()\n",
    "else:\n",
    "    print(obj.name)\n",
    "finally:\n",
    "    print(\"database connection closed\")"
   ]
  }
 ],
 "metadata": {
  "kernelspec": {
   "display_name": "Python 3",
   "language": "python",
   "name": "python3"
  },
  "language_info": {
   "codemirror_mode": {
    "name": "ipython",
    "version": 3
   },
   "file_extension": ".py",
   "mimetype": "text/x-python",
   "name": "python",
   "nbconvert_exporter": "python",
   "pygments_lexer": "ipython3",
   "version": "3.11.9"
  }
 },
 "nbformat": 4,
 "nbformat_minor": 2
}
