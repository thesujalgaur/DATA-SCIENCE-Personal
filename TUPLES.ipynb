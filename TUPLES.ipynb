{
 "cells": [
  {
   "cell_type": "markdown",
   "metadata": {},
   "source": [
    "# TUPLES \n",
    "Tuple in Python\n",
    "\t•\tA tuple is an ordered and immutable collection of items.\n",
    "\t•\tDefined using parentheses ().\n",
    "\t•\tCan contain different data types and duplicate values.\n",
    "\n",
    "Key Points\n",
    "\t1.\tElements are accessed using indexing (0-based).\n",
    "\t2.\tImmutable → cannot change elements after creation.\n",
    "\t3.\tSupports slicing, concatenation, repetition, and membership tests.\n",
    "\n",
    "Common Operations\n",
    "\t•\tlen(tuple) → length\n",
    "\t•\ttuple[i] → access element\n",
    "\t•\ttuple1 + tuple2 → join\n",
    "\t•\telement in tuple → check existence\n",
    "\n",
    "Tuple vs List\n",
    "\t•\tTuple: Immutable, faster, memory-efficient\n",
    "\t•\tList: Mutable, can be modified"
   ]
  },
  {
   "cell_type": "code",
   "execution_count": 56,
   "metadata": {},
   "outputs": [
    {
     "name": "stdout",
     "output_type": "stream",
     "text": [
      "<class 'tuple'>\n"
     ]
    },
    {
     "data": {
      "text/plain": [
       "('J', 'a', 'y', 'B', 'h', 'a', 'w', 'a', 'n', 'i')"
      ]
     },
     "execution_count": 56,
     "metadata": {},
     "output_type": "execute_result"
    }
   ],
   "source": [
    "t1=() # Empty Tuple\n",
    "type(t1) \n",
    "#Single ELment ka tuple banane ke liye humko last me ek comma lagana padta h taki compileer smjh paaye ki yeh konsa datatype h \n",
    "t2=('a',) # Agar me comma nahi lagata hu toh ye string ban jygi\n",
    "type(t2)\n",
    "#homogeneous tuple\n",
    "t3=(1,2,3,4,5)\n",
    "type(t3)\n",
    "#hetero\n",
    "t4=(1,\"henry\",True,4.5,print,[1,2,3,4])\n",
    "print(type(t4))\n",
    "#Nestes Tuple\n",
    "t5=(1,2,3,(4,5,6))\n",
    "(t5)\n",
    "#Type Conversion\n",
    "t6=(\"JayBhawani\")\n",
    "(tuple(t6))"
   ]
  },
  {
   "cell_type": "markdown",
   "metadata": {},
   "source": [
    "# Accessing Items\n",
    "1. Indexing \n",
    "2. Slicing"
   ]
  },
  {
   "cell_type": "code",
   "execution_count": 57,
   "metadata": {},
   "outputs": [
    {
     "data": {
      "text/plain": [
       "(2, 3, 4, 5)"
      ]
     },
     "execution_count": 57,
     "metadata": {},
     "output_type": "execute_result"
    }
   ],
   "source": [
    "#indexing\n",
    "t3\n",
    "t3[3]\n",
    "#Slicing\n",
    "t3[1:5]"
   ]
  },
  {
   "cell_type": "markdown",
   "metadata": {},
   "source": [
    "# Edit int tuple"
   ]
  },
  {
   "cell_type": "code",
   "execution_count": 58,
   "metadata": {},
   "outputs": [
    {
     "ename": "TypeError",
     "evalue": "'tuple' object does not support item assignment",
     "output_type": "error",
     "traceback": [
      "\u001b[31m---------------------------------------------------------------------------\u001b[39m",
      "\u001b[31mTypeError\u001b[39m                                 Traceback (most recent call last)",
      "\u001b[36mCell\u001b[39m\u001b[36m \u001b[39m\u001b[32mIn[58]\u001b[39m\u001b[32m, line 3\u001b[39m\n\u001b[32m      1\u001b[39m \u001b[38;5;66;03m#as like list \u001b[39;00m\n\u001b[32m      2\u001b[39m a=(\u001b[32m1\u001b[39m,\u001b[32m2\u001b[39m,\u001b[32m3\u001b[39m,\u001b[32m4\u001b[39m,\u001b[32m5\u001b[39m)\n\u001b[32m----> \u001b[39m\u001b[32m3\u001b[39m \u001b[43ma\u001b[49m\u001b[43m[\u001b[49m\u001b[32;43m0\u001b[39;49m\u001b[43m]\u001b[49m=\u001b[32m30\u001b[39m\n\u001b[32m      4\u001b[39m \u001b[38;5;66;03m#### Immutable just like strings cant be edited\u001b[39;00m\n",
      "\u001b[31mTypeError\u001b[39m: 'tuple' object does not support item assignment"
     ]
    }
   ],
   "source": [
    "#as like list \n",
    "a=(1,2,3,4,5)\n",
    "a[0]=30\n",
    "#### Immutable just like strings cant be edited"
   ]
  },
  {
   "cell_type": "markdown",
   "metadata": {},
   "source": [
    "# Adding items"
   ]
  },
  {
   "cell_type": "code",
   "execution_count": 60,
   "metadata": {},
   "outputs": [
    {
     "name": "stdout",
     "output_type": "stream",
     "text": [
      "(1, 2, 3, 4, 5)\n"
     ]
    }
   ],
   "source": [
    "print(a)\n",
    "#not possible"
   ]
  },
  {
   "cell_type": "markdown",
   "metadata": {},
   "source": [
    "# Deletion in Tuple"
   ]
  },
  {
   "cell_type": "code",
   "execution_count": 59,
   "metadata": {},
   "outputs": [],
   "source": [
    "#not possible"
   ]
  },
  {
   "cell_type": "markdown",
   "metadata": {},
   "source": [
    "# Operation in Tuples"
   ]
  },
  {
   "cell_type": "code",
   "execution_count": 81,
   "metadata": {},
   "outputs": [
    {
     "name": "stdout",
     "output_type": "stream",
     "text": [
      "1\n",
      "2\n",
      "3\n",
      "4\n",
      "5\n"
     ]
    }
   ],
   "source": [
    "# + and *\n",
    "t1=(1,2,3,4,5)\n",
    "t2=(6,7,8,9,10)\n",
    "(t1+t2)\n",
    "(t1*2,t2*2)\n",
    "\n",
    "#membership\n",
    "(5 in t1)\n",
    "(10  not in t2)\n",
    "\n",
    "\n",
    "#iteration\n",
    "for i in t1:\n",
    " print (i)\n",
    " "
   ]
  },
  {
   "cell_type": "markdown",
   "metadata": {},
   "source": [
    "# Tuple Functions"
   ]
  },
  {
   "cell_type": "code",
   "execution_count": 104,
   "metadata": {},
   "outputs": [
    {
     "name": "stdout",
     "output_type": "stream",
     "text": [
      "9\n",
      "3\n",
      "3\n",
      "424\n",
      "10\n"
     ]
    },
    {
     "data": {
      "text/plain": [
       "[424, 42, 34, 32, 23, 6, 5, 4, 3]"
      ]
     },
     "execution_count": 104,
     "metadata": {},
     "output_type": "execute_result"
    }
   ],
   "source": [
    "#len/Sum/min/max/sorted\n",
    "t1=(23,34,5,6,32,42,4,424,3)\n",
    "t2=(6,7,8,9,10)\n",
    "#len\n",
    "print(len(t1))\n",
    "#min\n",
    "print(min(t1))\n",
    "print(min(t1))\n",
    "\n",
    "#max\n",
    "print(max(t1))\n",
    "print(max(t2))\n",
    "\n",
    "#sorted\n",
    "sorted(t1)\n",
    "sorted(t1,reverse=True)\n",
    "\n"
   ]
  },
  {
   "cell_type": "code",
   "execution_count": 107,
   "metadata": {},
   "outputs": [
    {
     "name": "stdout",
     "output_type": "stream",
     "text": [
      "1\n",
      "6\n"
     ]
    }
   ],
   "source": [
    "#Count\n",
    "print(t1.count(3))\n",
    "#index\n",
    "print(t1.index(4))\n",
    "\n",
    " \n"
   ]
  },
  {
   "cell_type": "markdown",
   "metadata": {},
   "source": [
    "# Difference between list and tuples\n",
    "1. syntax\n",
    "2. Mutability\n",
    "3. Speed\n",
    "4. Built in function\n",
    "5. Memory\n",
    "6. Error Prone \n",
    "7. Usability"
   ]
  },
  {
   "cell_type": "code",
   "execution_count": 108,
   "metadata": {},
   "outputs": [
    {
     "name": "stdout",
     "output_type": "stream",
     "text": [
      "1 2 3\n"
     ]
    }
   ],
   "source": [
    "#tuple Unpacking\n",
    "(a,b,c)=(1,2,3)\n",
    "print(a,b,c)"
   ]
  },
  {
   "cell_type": "code",
   "execution_count": 109,
   "metadata": {},
   "outputs": [
    {
     "name": "stdout",
     "output_type": "stream",
     "text": [
      "2 1\n"
     ]
    }
   ],
   "source": [
    "##Swaping\n",
    "a=1\n",
    "b=2\n",
    "a,b = b,a\n",
    "\n",
    "print(a,b)\n"
   ]
  },
  {
   "cell_type": "code",
   "execution_count": 112,
   "metadata": {},
   "outputs": [
    {
     "name": "stdout",
     "output_type": "stream",
     "text": [
      "1 3\n",
      "[4, 4]\n"
     ]
    }
   ],
   "source": [
    "'''(a,b)=(1,3,4,4)\n",
    "print(a,b)''' #too many values to unpack (expected 2)\n",
    "# To overcome with this thing we write --\n",
    "a,b,*others=(1,3,4,4) # include *\n",
    "print(a,b)\n",
    "print(others)\n",
    "\n"
   ]
  },
  {
   "cell_type": "code",
   "execution_count": 113,
   "metadata": {},
   "outputs": [
    {
     "data": {
      "text/plain": [
       "((1, 5), (2, 6), (3, 7), (4, 8))"
      ]
     },
     "execution_count": 113,
     "metadata": {},
     "output_type": "execute_result"
    }
   ],
   "source": [
    "#Zipping Tuple \n",
    "a=(1,2,3,4)\n",
    "b=(5,6,7,8)\n",
    "tuple(zip(a,b))"
   ]
  }
 ],
 "metadata": {
  "kernelspec": {
   "display_name": "Python 3",
   "language": "python",
   "name": "python3"
  },
  "language_info": {
   "codemirror_mode": {
    "name": "ipython",
    "version": 3
   },
   "file_extension": ".py",
   "mimetype": "text/x-python",
   "name": "python",
   "nbconvert_exporter": "python",
   "pygments_lexer": "ipython3",
   "version": "3.11.9"
  }
 },
 "nbformat": 4,
 "nbformat_minor": 2
}
