{
 "cells": [
  {
   "cell_type": "markdown",
   "metadata": {},
   "source": [
    "##Simple Print program"
   ]
  },
  {
   "cell_type": "code",
   "execution_count": 6,
   "metadata": {},
   "outputs": [
    {
     "name": "stdout",
     "output_type": "stream",
     "text": [
      "7\n"
     ]
    }
   ],
   "source": [
    "print(7)"
   ]
  },
  {
   "cell_type": "code",
   "execution_count": 7,
   "metadata": {},
   "outputs": [
    {
     "name": "stdout",
     "output_type": "stream",
     "text": [
      "Rmanujacharya\n"
     ]
    }
   ],
   "source": [
    "print(\"Rmanujacharya\")"
   ]
  },
  {
   "cell_type": "code",
   "execution_count": 8,
   "metadata": {},
   "outputs": [
    {
     "name": "stdout",
     "output_type": "stream",
     "text": [
      "hello world\n"
     ]
    }
   ],
   "source": [
    "print(\"hello\",end=' ')\n",
    "print(\"world\")"
   ]
  },
  {
   "cell_type": "markdown",
   "metadata": {},
   "source": [
    "DataTypes In Python"
   ]
  },
  {
   "cell_type": "code",
   "execution_count": 9,
   "metadata": {},
   "outputs": [],
   "source": [
    "# integer --> 1e308 is the maximum value eg. print(4)\n",
    "#Float--> 1.7e308 is the maximum value supported by the python\n",
    "# String --> for ex. print(\"Rani Padmavati\")\n",
    "#Boolean --> gives the value in true or false print(True)\n",
    "#Complex--> used in mathematics for ex.(5+6J)\n",
    "#list --> list is an kind of array in python to store datatypes --> print([2,True,\"Sujal\"])\n",
    "#Tuple --> print((2,4,\"sujal\",True,4.9))\n",
    "#sets--> print({3,4,5,5})\n",
    "#Dictionary--> dictionaryhas always in key:value pair print({\"Name\":\"Mukesh\",\"City\":\"Guwahati\"})\n"
   ]
  },
  {
   "cell_type": "code",
   "execution_count": 10,
   "metadata": {},
   "outputs": [
    {
     "name": "stdout",
     "output_type": "stream",
     "text": [
      "<class 'int'>\n"
     ]
    }
   ],
   "source": [
    "type(5)\n",
    "#Type is a function that is used for checking datatype\n",
    "type({3,4})\n",
    "print(type(5))"
   ]
  },
  {
   "cell_type": "markdown",
   "metadata": {},
   "source": [
    "Variables"
   ]
  },
  {
   "cell_type": "code",
   "execution_count": 11,
   "metadata": {},
   "outputs": [
    {
     "name": "stdout",
     "output_type": "stream",
     "text": [
      "47\n"
     ]
    }
   ],
   "source": [
    "#variable is nothing just a kind of container in which we store the values\n",
    "#for example \n",
    "a=2\n",
    "b=45\n",
    "print(a+b)"
   ]
  },
  {
   "cell_type": "code",
   "execution_count": 12,
   "metadata": {},
   "outputs": [
    {
     "name": "stdout",
     "output_type": "stream",
     "text": [
      "Sujalkighadi\n"
     ]
    }
   ],
   "source": [
    "a=\"Sujalki\"\n",
    "b=\"ghadi\"\n",
    "c=a+b\n",
    "print(c)"
   ]
  },
  {
   "cell_type": "code",
   "execution_count": 13,
   "metadata": {},
   "outputs": [],
   "source": [
    "##Dynamic Typing\n",
    "a=5 #// Supported by python\n",
    "## Static typing \n",
    "#int b=5 not supported by python"
   ]
  },
  {
   "cell_type": "markdown",
   "metadata": {},
   "source": [
    "Dynamic Binding in python"
   ]
  },
  {
   "cell_type": "code",
   "execution_count": 14,
   "metadata": {},
   "outputs": [
    {
     "name": "stdout",
     "output_type": "stream",
     "text": [
      "5\n",
      "mohan\n"
     ]
    }
   ],
   "source": [
    "#python support dynamic binding that means that if a variable of name \"a\"--> can hold the value for\n",
    "#integer,float,string etc..\n",
    "a=5\n",
    "print(a)\n",
    "a=\"mohan\"\n",
    "print(a)"
   ]
  },
  {
   "cell_type": "code",
   "execution_count": 15,
   "metadata": {},
   "outputs": [
    {
     "name": "stdout",
     "output_type": "stream",
     "text": [
      "5 5 5\n"
     ]
    }
   ],
   "source": [
    "## If we want to put same values in different variable we can do it like this \n",
    "a=b=c=5\n",
    "print(a,b,c)"
   ]
  },
  {
   "cell_type": "markdown",
   "metadata": {},
   "source": [
    "KeyWords and identifiers"
   ]
  },
  {
   "cell_type": "code",
   "execution_count": 16,
   "metadata": {},
   "outputs": [
    {
     "data": {
      "text/plain": [
       "' \\nFalse, None, True, and, as, assert, async, await, break, class, continue, def,\\ndel, elif, else, except, finally, for, from, global, if,\\nimport, in, is, lambda, nonlocal, not, or, pass, raise, return, \\ntry, while, with, yield\\n\\n'"
      ]
     },
     "execution_count": 16,
     "metadata": {},
     "output_type": "execute_result"
    }
   ],
   "source": [
    "#Keyword\n",
    "#[THis are the 32 keywords in python]\n",
    "''' \n",
    "False, None, True, and, as, assert, async, await, break, class, continue, def,\n",
    "del, elif, else, except, finally, for, from, global, if,\n",
    "import, in, is, lambda, nonlocal, not, or, pass, raise, return, \n",
    "try, while, with, yield\n",
    "\n",
    "'''"
   ]
  },
  {
   "cell_type": "markdown",
   "metadata": {},
   "source": [
    "Identifiers\n"
   ]
  },
  {
   "cell_type": "code",
   "execution_count": 17,
   "metadata": {},
   "outputs": [
    {
     "name": "stdout",
     "output_type": "stream",
     "text": [
      "5\n"
     ]
    }
   ],
   "source": [
    "a_sujal=5\n",
    "print(a_sujal)\n"
   ]
  },
  {
   "cell_type": "markdown",
   "metadata": {},
   "source": [
    "User Input"
   ]
  },
  {
   "cell_type": "code",
   "execution_count": 1,
   "metadata": {},
   "outputs": [],
   "source": [
    "a=input(\"enter the name of subject\")\n"
   ]
  },
  {
   "cell_type": "code",
   "execution_count": null,
   "metadata": {},
   "outputs": [],
   "source": [
    "b=input(\"apna naam btao\")"
   ]
  },
  {
   "cell_type": "code",
   "execution_count": null,
   "metadata": {},
   "outputs": [],
   "source": [
    "#TAke two numbers from the user and add\n",
    "a=int(input(\"Enter the no. 1\"))\n",
    "b=int(input(\"Enter the number 2\"))\n",
    "print(a+b)\n"
   ]
  },
  {
   "cell_type": "markdown",
   "metadata": {},
   "source": [
    "Type Conversions"
   ]
  },
  {
   "cell_type": "code",
   "execution_count": null,
   "metadata": {},
   "outputs": [],
   "source": [
    "#There are two types of type conversion in python \n",
    "#1. Implicit --> are those that are in built means conversion automatically done by the compiler\n",
    "print(5+4.5)\n",
    "print(type(5),type(4.5))\n",
    "#this is not always work\n",
    "#print(4+\"a\")\n",
    "#2, Explicit -->\n",
    "int(input(\"enter\"))"
   ]
  },
  {
   "cell_type": "markdown",
   "metadata": {},
   "source": [
    "Literals"
   ]
  },
  {
   "cell_type": "code",
   "execution_count": null,
   "metadata": {},
   "outputs": [],
   "source": [
    "#When we assign any variable and put the value in it ... THe value is called \"Literals\"\n",
    "'''a = 0b1010 #Binary Literals\n",
    "b = 100 #Decimal Literal\n",
    "c = 00310 #Octal Literal\n",
    "d =0x12c #Hexadecimal Literal'''"
   ]
  },
  {
   "cell_type": "markdown",
   "metadata": {},
   "source": [
    "Operators"
   ]
  },
  {
   "cell_type": "code",
   "execution_count": null,
   "metadata": {},
   "outputs": [],
   "source": [
    "# 🔢 Arithmetic Operators\n",
    "# +  : Addition (a + b)\n",
    "# -  : Subtraction (a - b)\n",
    "# *  : Multiplication (a * b)\n",
    "# /  : Division (a / b)\n",
    "# // : Floor Division (a // b)\n",
    "# %  : Modulus (a % b)\n",
    "# ** : Exponentiation (a ** b)\n",
    "\n",
    "# ⚖️ Comparison Operators\n",
    "# == : Equal to (a == b)\n",
    "# != : Not equal to (a != b)\n",
    "# >  : Greater than (a > b)\n",
    "# <  : Less than (a < b)\n",
    "# >= : Greater than or equal to (a >= b)\n",
    "# <= : Less than or equal to (a <= b)\n",
    "\n",
    "# 🧠 Logical Operators\n",
    "# and : True if both are True (a and b)\n",
    "# or  : True if at least one is True (a or b)\n",
    "# not : Inverts the boolean (not a)\n",
    "\n",
    "# ⚙️ Bitwise Operators\n",
    "# &  : AND (a & b)\n",
    "# |  : OR (a | b)\n",
    "# ^  : XOR (a ^ b)\n",
    "# ~  : NOT (~a)\n",
    "# << : Left shift (a << 1)\n",
    "# >> : Right shift (a >> 1)\n",
    "\n",
    "# 🛠️ Assignment Operators\n",
    "# =   : Assign (a = b)\n",
    "# +=  : Add and assign (a += b)\n",
    "# -=  : Subtract and assign (a -= b)\n",
    "# *=  : Multiply and assign (a *= b)\n",
    "# /=  : Divide and assign (a /= b)\n",
    "# //= : Floor divide and assign (a //= b)\n",
    "# %=  : Modulo and assign (a %= b)\n",
    "# **= : Exponent and assign (a **= b)\n",
    "\n",
    "# 🔍 Membership Operators\n",
    "# in     : True if value exists (x in list)\n",
    "# not in : True if value does not exist (x not in list)\n",
    "\n",
    "# 🧾 Identity Operators\n",
    "# is     : True if same object (a is b)\n",
    "# is not : True if not same object (a is not b)"
   ]
  },
  {
   "cell_type": "markdown",
   "metadata": {},
   "source": [
    "Find the sum of a 3 digit number Entered by the user "
   ]
  },
  {
   "cell_type": "code",
   "execution_count": 2,
   "metadata": {},
   "outputs": [
    {
     "name": "stdout",
     "output_type": "stream",
     "text": [
      "9\n"
     ]
    }
   ],
   "source": [
    "num=int(input(\"Enter the 3 Digit Number : \"))\n",
    "a=num%10\n",
    "num=num//10\n",
    "b=num%10\n",
    "num=num//10\n",
    "c=num%10\n",
    "num=num//10\n",
    "print(a+b+c)\n",
    "\n"
   ]
  },
  {
   "cell_type": "markdown",
   "metadata": {},
   "source": [
    "IF/Else in Python"
   ]
  },
  {
   "cell_type": "code",
   "execution_count": 5,
   "metadata": {},
   "outputs": [
    {
     "name": "stdout",
     "output_type": "stream",
     "text": [
      "password is incorrect\n",
      "Tumse nahi ho payega betaji\n"
     ]
    }
   ],
   "source": [
    "##Login program and identation\n",
    "gmail=input(\"Enter the Gmail:\")\n",
    "password=input(\"Enter the password:\")\n",
    "g1=\"gaursujal02@gmail.com\"\n",
    "p1='2345'\n",
    "if gmail==g1  and password==p1 :\n",
    "    print(\"Welcome\")\n",
    "elif gmail==g1  and password!=p1 :\n",
    "    print(\"password is incorrect\")\n",
    "    password=input(\"enter password again:\")\n",
    "    if password=='2345':\n",
    "        print(\"Swagat nhi karoge humara\")\n",
    "    else:\n",
    "        print(\"Tumse nahi ho payega betaji\")\n",
    "else:\n",
    "    print(\"NO Wrong Credentials\")\n"
   ]
  },
  {
   "cell_type": "markdown",
   "metadata": {},
   "source": [
    "#Find the minimum of 3 given numbers\n"
   ]
  },
  {
   "cell_type": "code",
   "execution_count": null,
   "metadata": {},
   "outputs": [],
   "source": [
    "a=int(input(\"Enter the number 1:\"))\n",
    "b=int(input(\"Enter the number 2:\"))\n",
    "c=int(input(\"Enter the number 3:\"))\n",
    "if(a<b<c):\n",
    "    print(a, \"is minimum\")\n",
    "if(a>b<c):\n",
    "    print(c, \"is minimum\")\n",
    "if(a>b>c):\n",
    "    print(c,\" is  minimum\")\n",
    "else:\n",
    "    None\n",
    "    \n"
   ]
  },
  {
   "cell_type": "markdown",
   "metadata": {},
   "source": [
    "## Menu Driven Calculator"
   ]
  },
  {
   "cell_type": "code",
   "execution_count": null,
   "metadata": {},
   "outputs": [],
   "source": [
    "num1=int(input(\"Enter the number 1\"))\n",
    "num2=int(input(\"Enter the number 2\"))\n",
    "op= input(\"Enter the name of the operation:\")\n",
    "if op=='+':\n",
    "    print(num1+num2)\n",
    "elif op=='-':\n",
    "    print(num1-num2)\n",
    "elif op=='/':\n",
    "    print(num1/num2)\n",
    "elif op=='*':\n",
    "    print(num1*num2)\n",
    "else:\n",
    "    print(\"wah Re Murk !\")"
   ]
  },
  {
   "cell_type": "markdown",
   "metadata": {},
   "source": [
    "## Modules in Python\n"
   ]
  },
  {
   "cell_type": "code",
   "execution_count": null,
   "metadata": {},
   "outputs": [],
   "source": [
    "#Math\n",
    "import math\n",
    "math.factorial(5)\n",
    "math.sqrt(225)"
   ]
  },
  {
   "cell_type": "code",
   "execution_count": null,
   "metadata": {},
   "outputs": [],
   "source": [
    "#Keyword\n",
    "import keyword\n",
    "print(keyword.kwlist)\n"
   ]
  },
  {
   "cell_type": "code",
   "execution_count": null,
   "metadata": {},
   "outputs": [],
   "source": [
    "#Random\n",
    "import random\n",
    "random.randint(1,100) ## Gives a random  value every time "
   ]
  },
  {
   "cell_type": "code",
   "execution_count": null,
   "metadata": {},
   "outputs": [],
   "source": [
    "#datetime\n",
    "import datetime\n",
    "print(datetime.datetime.now())"
   ]
  },
  {
   "cell_type": "code",
   "execution_count": null,
   "metadata": {},
   "outputs": [],
   "source": [
    "help(\"modules\")"
   ]
  },
  {
   "cell_type": "markdown",
   "metadata": {},
   "source": [
    "# While Loop"
   ]
  },
  {
   "cell_type": "code",
   "execution_count": null,
   "metadata": {},
   "outputs": [],
   "source": [
    "# 🔁 WHILE LOOP – SHORT SUMMARY\n",
    "\n",
    "# Repeats code while the condition is True\n",
    "# Syntax:\n",
    "# while condition:\n",
    "#     # code block\n",
    "\n",
    "# Example:\n",
    "i = 1\n",
    "while i <= 5:\n",
    "    print(i)\n",
    "    i += 1  # increment to avoid infinite loop\n",
    "\n",
    "# Use when number of iterations is not fixed"
   ]
  },
  {
   "cell_type": "code",
   "execution_count": null,
   "metadata": {},
   "outputs": [],
   "source": [
    "##Program to print the table\n",
    "num=int(input(\"Enter the number 1 :\"))\n",
    "i=1\n",
    "while i<11:\n",
    "    print(num,'*',i,\"=\",num*i)\n",
    "    i+=1\n",
    "    \n"
   ]
  },
  {
   "cell_type": "code",
   "execution_count": null,
   "metadata": {},
   "outputs": [],
   "source": [
    "#While loop with Else\n",
    "##used when the give given condition of the loop is ended ... we can add else for like :\n",
    "x=1\n",
    "\n",
    "while(x<3):\n",
    "    print(x)\n",
    "    x+=1\n",
    "else:\n",
    "    print(\"program Terminated\")"
   ]
  },
  {
   "cell_type": "markdown",
   "metadata": {},
   "source": [
    "# Creating a Guessing Game "
   ]
  },
  {
   "cell_type": "code",
   "execution_count": null,
   "metadata": {},
   "outputs": [],
   "source": [
    "import random\n",
    "\n",
    "jackpot = random.randint(1, 100)  # Random number between 1 to 100\n",
    "\n",
    "# User guess\n",
    "guess = int(input(\"Guess the number: \"))\n",
    "counter = 1\n",
    "\n",
    "while guess != jackpot:\n",
    "    if guess < jackpot:\n",
    "        print(\"Wrong, jackpot value is HIGHER!\")  # Hint: number is higher\n",
    "    else:\n",
    "        print(\"Wrong, jackpot value is LOWER!\")   # Hint: number is lower\n",
    "    guess = int(input(\"Guess the number: \"))\n",
    "    counter += 1\n",
    "else:\n",
    "    print(\"🎉 Correct Guess!\")\n",
    "    print(\"Attempts:\", counter)"
   ]
  },
  {
   "cell_type": "markdown",
   "metadata": {},
   "source": [
    "# Trial Again for Better Understandig"
   ]
  },
  {
   "cell_type": "code",
   "execution_count": null,
   "metadata": {},
   "outputs": [],
   "source": [
    "import random\n",
    "guess=int(input(\"Enter the number boss:\"))\n",
    "jackpot=random.randint(1,20)\n",
    "\n",
    "counter=1\n",
    "while guess!=jackpot:\n",
    "   if(guess<jackpot):\n",
    "    print(\"you are wrong bhaisaheb,jackpot value is Higher\")\n",
    "   else:\n",
    "      print(\"you are wrong bhaisaheb,jackpot value is lower\")\n",
    "   guess=int(input(\"enter the guess number bhaisaheb ! :\"))\n",
    "   counter+=1\n",
    "else:\n",
    "   print(\"Booyah!,corret guess buddy \")\n",
    "   print(\"Attempts\",counter)\n",
    "   \n",
    "\n",
    "\n",
    "    "
   ]
  },
  {
   "cell_type": "markdown",
   "metadata": {},
   "source": [
    "# F🙃R LOOP "
   ]
  },
  {
   "cell_type": "code",
   "execution_count": null,
   "metadata": {},
   "outputs": [],
   "source": [
    "'''for i in range(10):\n",
    "    print(i)\n",
    "for i in range(10,23):\n",
    "    print(i)'''\n",
    "##we can include the 3rd number in the loop that is commanly used for the steo wise \n",
    "#Like for we want a gap of 2 between the number so we add 2 in 3rd number\n",
    "for i in range(10,23,3):\n",
    " print(i)"
   ]
  },
  {
   "cell_type": "code",
   "execution_count": null,
   "metadata": {},
   "outputs": [],
   "source": [
    "##for reversing a loop in the python we can do this \n",
    "for i in range(10,0,-3):\n",
    "    print(i)"
   ]
  },
  {
   "cell_type": "code",
   "execution_count": null,
   "metadata": {},
   "outputs": [],
   "source": [
    "##We can iterate the list,set,tuple,dictionary,words in loop like this:\n",
    "for i in 'delhi':\n",
    "    print(i)\n",
    "    \n",
    "for i in [2,3,4,5,6]:  \n",
    " print(i)"
   ]
  },
  {
   "cell_type": "markdown",
   "metadata": {},
   "source": [
    "## THe current population of a town is 10000. The population of the town is increased by 10 percent per year.you have to write  a code to find out the population of each of the last 10 years."
   ]
  },
  {
   "cell_type": "code",
   "execution_count": null,
   "metadata": {},
   "outputs": [],
   "source": [
    "curr_population=10000\n",
    "\n",
    "for i in range (10,0,-1):\n",
    "    print(i,curr_population)\n",
    "    curr_population=  curr_population/1.1"
   ]
  },
  {
   "cell_type": "markdown",
   "metadata": {},
   "source": [
    "# Sequence Sum\n",
    "1/1!+2/2!+3/3!_ _ _ nth"
   ]
  },
  {
   "cell_type": "code",
   "execution_count": null,
   "metadata": {},
   "outputs": [],
   "source": [
    "n=int(input(\"Enter the number :\"))\n",
    "result=0\n",
    "fact=1\n",
    "for i in range(1,n+1):\n",
    "    fact=fact*i\n",
    "    result=result + i/fact\n",
    "\n",
    "print(result)"
   ]
  },
  {
   "cell_type": "markdown",
   "metadata": {},
   "source": [
    "# Nested Loop"
   ]
  },
  {
   "cell_type": "code",
   "execution_count": null,
   "metadata": {},
   "outputs": [],
   "source": [
    "for i in range(1,5):\n",
    "    for j in range(1,5): ## Nested loops ke andar pahle andar wala loop complete hota h uske baad waapis hum \n",
    "                          ##bahar ja skte hai 👍\n",
    "                          # aur jab tak ye andar wala loop khatam nhi ho jata , bahr wala loop starting wala rahega\n",
    "        print(i,j)"
   ]
  },
  {
   "cell_type": "markdown",
   "metadata": {},
   "source": [
    "# patterns"
   ]
  },
  {
   "cell_type": "code",
   "execution_count": null,
   "metadata": {},
   "outputs": [],
   "source": [
    "rows=int(input(\"Enter the no.of rows\"))\n",
    "\n",
    "for i in range (1,rows+1):\n",
    "    for j in range (1,i+1):\n",
    "        print(\"*\",end=' ')\n",
    "    print()\n"
   ]
  },
  {
   "cell_type": "markdown",
   "metadata": {},
   "source": [
    "# pattern2 \n",
    " 1\n",
    " 121\n",
    "12321\n",
    "1234321"
   ]
  },
  {
   "cell_type": "code",
   "execution_count": null,
   "metadata": {},
   "outputs": [],
   "source": [
    "row=int(input(\"Enter the number:\"))\n",
    "for i in range(1,row+1):\n",
    "    for j in range (1,i+1):\n",
    "       print(j,end='')\n",
    "    for k in range(i-1,0,-1):\n",
    "        print(k,end='')\n",
    "    print()\n",
    "\n"
   ]
  },
  {
   "cell_type": "markdown",
   "metadata": {},
   "source": [
    "# L😉😉P CONTROL STATEMENT"
   ]
  },
  {
   "cell_type": "markdown",
   "metadata": {},
   "source": [
    "\"\"\"\n",
    "🔹 break Statement in Python 🔹\n",
    "\n",
    "📌 Purpose:\n",
    "The `break` statement is used to exit a loop (for or while) **immediately**,\n",
    "even if the loop condition is still True.\n",
    "\n",
    "📍 Where it's used:\n",
    "- To stop a loop when a condition is met.\n",
    "- Often used in search, menu systems, guessing games, etc.\n",
    "\n",
    "📤 Syntax:\n",
    "for/while loop:\n",
    "    if condition:\n",
    "        break  # exits the loop\n",
    "\n",
    "✅ Example 1: Break on specific number\n",
    "\"\"\"\n",
    "\n",
    "for i in range(1, 10):\n",
    "    if i == 5:\n",
    "        break\n",
    "    print(i)\n",
    "\n",
    "\"\"\"\n",
    "Output:\n",
    "1\n",
    "2\n",
    "3\n",
    "4\n",
    "\n",
    "✅ Example 2: In while loop\n",
    "\"\"\"\n",
    "\n",
    "while True:\n",
    "    val = int(input(\"Enter a number (0 to quit): \"))\n",
    "    if val == 0:\n",
    "        break\n",
    "    print(\"You entered:\", val)\n",
    "\n",
    "\"\"\"\n",
    "⚠️ Notes:\n",
    "- Only exits the **innermost** loop if nested.\n",
    "- Doesn't stop the whole program — just the current loop.\n",
    "\"\"\""
   ]
  },
  {
   "cell_type": "code",
   "execution_count": null,
   "metadata": {},
   "outputs": [],
   "source": [
    "##break \n",
    "for i in range (1,10):\n",
    " if i==5:\n",
    "    break\n",
    " print(i) "
   ]
  },
  {
   "cell_type": "markdown",
   "metadata": {},
   "source": [
    "User will give you a range . we have to find out all the prime number between that range .\n",
    "Like the user give the range between the 10 to 100.\n"
   ]
  },
  {
   "cell_type": "code",
   "execution_count": null,
   "metadata": {},
   "outputs": [],
   "source": [
    "lower=int(input(\"Enter the lower range\"))\n",
    "upper=int(input(\"Enter the Upper range\"))\n",
    "\n",
    "for i in range (lower,upper+1):\n",
    "    for j in range(2,i):\n",
    "        if i%j==0:\n",
    "            break\n",
    "        else:\n",
    "            print(i,\"is a prime number\")"
   ]
  },
  {
   "cell_type": "markdown",
   "metadata": {},
   "source": [
    "\"\"\"\n",
    "🔹 continue Statement in Python 🔹\n",
    "\n",
    "📌 Purpose:\n",
    "The `continue` statement is used to **skip the current iteration** of a loop \n",
    "and move to the **next one** without exiting the loop.\n",
    "\n",
    "📍 Where it's used:\n",
    "- To skip specific values during loop execution.\n",
    "- Often used in filtering, skipping errors.\n",
    "\n",
    "⚠️ Notes:\n",
    "- continue = \"skip this round, keep looping\"\n",
    "- It's the opposite of break:\n",
    "    - `break` → exit loop entirely\n",
    "    - `continue` → skip current step, move to next\n",
    "\"\"\""
   ]
  },
  {
   "cell_type": "code",
   "execution_count": null,
   "metadata": {},
   "outputs": [],
   "source": [
    "#Jab loop ke andar ek particualr iteration ko loop me rokna hota h toh hum yh use karte hai\n",
    "for i in range(1,10):\n",
    "    if i==4:\n",
    "        continue\n",
    "    print(i)"
   ]
  },
  {
   "cell_type": "markdown",
   "metadata": {},
   "source": [
    "🔹 pass Statement in Python 🔹\n",
    "\n",
    "📌 Purpose:\n",
    "The `pass` statement is a **placeholder** — it does nothing.\n",
    "Used when a statement is syntactically required but you don’t want to run any code yet.\n",
    "\n",
    "📍 Where it's used:\n",
    "- Empty function, class, or loop bodies (to be completed later)\n",
    "- Avoids syntax errors when structure is required\n",
    "\n",
    "📤 Syntax:\n",
    "if condition:\n",
    "    pass  # placeholder, does nothing"
   ]
  },
  {
   "cell_type": "code",
   "execution_count": null,
   "metadata": {},
   "outputs": [],
   "source": [
    "for i in range (1,10):\n",
    "    pass   #this do nothing just tell the compiler that we will work on it further \n",
    "             # so it can't throw the error"
   ]
  },
  {
   "cell_type": "markdown",
   "metadata": {},
   "source": [
    "# STRINGS"
   ]
  },
  {
   "cell_type": "markdown",
   "metadata": {},
   "source": [
    "In Python , strings are the sequence of UNICODE chararacters"
   ]
  },
  {
   "cell_type": "code",
   "execution_count": null,
   "metadata": {},
   "outputs": [
    {
     "name": "stdout",
     "output_type": "stream",
     "text": [
      "hello\n",
      "hello\n",
      "hello\n",
      "hello\n"
     ]
    }
   ],
   "source": [
    "s='hello'\n",
    "print(s)\n",
    "s=\"hello\"\n",
    "print(s)\n",
    "s='''hello'''\n",
    "print(s)\n",
    "s=str('hello')\n",
    "print(s)\n"
   ]
  },
  {
   "cell_type": "code",
   "execution_count": null,
   "metadata": {},
   "outputs": [],
   "source": [
    "# 'it's raining today'  kind of sentence for which the double invited comma uses."
   ]
  },
  {
   "cell_type": "markdown",
   "metadata": {},
   "source": [
    "# Accessing Substring from string"
   ]
  },
  {
   "cell_type": "code",
   "execution_count": null,
   "metadata": {},
   "outputs": [
    {
     "name": "stdout",
     "output_type": "stream",
     "text": [
      "f\n"
     ]
    }
   ],
   "source": [
    "##INDEXING\n",
    "s=\"SujalgaurfromRj47\"\n",
    "#indexing starting from 0\n",
    "print(s[9]) ##positive indexing"
   ]
  },
  {
   "cell_type": "markdown",
   "metadata": {},
   "source": [
    "# Negative Indexing \n",
    "# Python assigning values in negative indexing be like : last one -1 , last second -2 and so on ..."
   ]
  },
  {
   "cell_type": "code",
   "execution_count": null,
   "metadata": {},
   "outputs": [
    {
     "name": "stdout",
     "output_type": "stream",
     "text": [
      "e\n"
     ]
    }
   ],
   "source": [
    "s=\"DataScience\"\n",
    "print(s[-1])"
   ]
  },
  {
   "cell_type": "markdown",
   "metadata": {},
   "source": [
    "# Slicing"
   ]
  },
  {
   "cell_type": "code",
   "execution_count": null,
   "metadata": {},
   "outputs": [
    {
     "name": "stdout",
     "output_type": "stream",
     "text": [
      "Data\n",
      "Science\n",
      "DataScience\n",
      "DtSine\n"
     ]
    }
   ],
   "source": [
    "s=\"DataScience\"\n",
    "print(s[:4]) # ye 4 index ko include nhi krega \n",
    "print(s[4:]) # ye 4 index ko include krega '\n",
    "print(s[:]) #pura print karwana ho toh \n",
    "print(s[0:11:2]) # ye step =2 , ye skip kardega 2 se like we study in loop "
   ]
  },
  {
   "cell_type": "code",
   "execution_count": null,
   "metadata": {},
   "outputs": [
    {
     "name": "stdout",
     "output_type": "stream",
     "text": [
      "ecneicSataD\n"
     ]
    }
   ],
   "source": [
    "# For reversing a string we simply wrote\n",
    "s=\"DataScience\"\n",
    "print(s[::-1])"
   ]
  },
  {
   "cell_type": "code",
   "execution_count": 27,
   "metadata": {},
   "outputs": [
    {
     "name": "stdout",
     "output_type": "stream",
     "text": [
      "Celebal\n",
      "seigolonhceT labeleC\n"
     ]
    }
   ],
   "source": [
    "##Negatve Slicing\n",
    "a=\"Celebal Technologies\"\n",
    "#if i have to print Celebal- what i'll do is:\n",
    "print(a[0:7]) \n",
    "#when i have to reverse whole string\n",
    "print(a[::-1])\n",
    "#print(a[-6:])"
   ]
  }
 ],
 "metadata": {
  "kernelspec": {
   "display_name": "Python 3",
   "language": "python",
   "name": "python3"
  },
  "language_info": {
   "codemirror_mode": {
    "name": "ipython",
    "version": 3
   },
   "file_extension": ".py",
   "mimetype": "text/x-python",
   "name": "python",
   "nbconvert_exporter": "python",
   "pygments_lexer": "ipython3",
   "version": "3.11.9"
  }
 },
 "nbformat": 4,
 "nbformat_minor": 2
}
