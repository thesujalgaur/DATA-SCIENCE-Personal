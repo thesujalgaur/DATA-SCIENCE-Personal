{
 "cells": [
  {
   "cell_type": "markdown",
   "metadata": {},
   "source": [
    "##Simple Print program"
   ]
  },
  {
   "cell_type": "code",
   "execution_count": 2,
   "metadata": {},
   "outputs": [
    {
     "name": "stdout",
     "output_type": "stream",
     "text": [
      "7\n"
     ]
    }
   ],
   "source": [
    "print(7)"
   ]
  },
  {
   "cell_type": "code",
   "execution_count": 3,
   "metadata": {},
   "outputs": [
    {
     "name": "stdout",
     "output_type": "stream",
     "text": [
      "Rmanujacharya\n"
     ]
    }
   ],
   "source": [
    "print(\"Rmanujacharya\")"
   ]
  },
  {
   "cell_type": "code",
   "execution_count": 9,
   "metadata": {},
   "outputs": [
    {
     "name": "stdout",
     "output_type": "stream",
     "text": [
      "hello  world\n"
     ]
    }
   ],
   "source": [
    "print(\"hello\",end='  ')\n",
    "print(\"world\")"
   ]
  },
  {
   "cell_type": "markdown",
   "metadata": {},
   "source": [
    "DataTypes In Python"
   ]
  },
  {
   "cell_type": "code",
   "execution_count": 11,
   "metadata": {},
   "outputs": [],
   "source": [
    "# integer --> 1e308 is the maximum value eg. print(4)\n",
    "#Float--> 1.7e308 is the maximum value supported by the python\n",
    "# String --> for ex. print(\"Rani Padmavati\")\n",
    "#Boolean --> gives the value in true or false print(True)\n",
    "#Complex--> used in mathematics for ex.(5+6J)\n",
    "#list --> list is an kind of array in python to store datatypes --> print([2,True,\"Sujal\"])\n",
    "#Tuple --> print((2,4,\"sujal\",True,4.9))\n",
    "#sets--> print({3,4,5,5})\n",
    "#Dictionary--> dictionaryhas always in key:value pair print({\"Name\":\"Mukesh\",\"City\":\"Guwahati\"})\n"
   ]
  },
  {
   "cell_type": "code",
   "execution_count": 16,
   "metadata": {},
   "outputs": [
    {
     "name": "stdout",
     "output_type": "stream",
     "text": [
      "<class 'int'>\n"
     ]
    }
   ],
   "source": [
    "type(5)\n",
    "#Type is a function that is used for checking datatype\n",
    "type({3,4})\n",
    "print(type(5))"
   ]
  },
  {
   "cell_type": "markdown",
   "metadata": {},
   "source": [
    "Variables"
   ]
  },
  {
   "cell_type": "code",
   "execution_count": 17,
   "metadata": {},
   "outputs": [
    {
     "name": "stdout",
     "output_type": "stream",
     "text": [
      "47\n"
     ]
    }
   ],
   "source": [
    "#variable is nothing just a kind of container in which we store the values\n",
    "#for example \n",
    "a=2\n",
    "b=45\n",
    "print(a+b)"
   ]
  },
  {
   "cell_type": "code",
   "execution_count": 21,
   "metadata": {},
   "outputs": [
    {
     "name": "stdout",
     "output_type": "stream",
     "text": [
      "Sujalkighadi\n"
     ]
    }
   ],
   "source": [
    "a=\"Sujalki\"\n",
    "b=\"ghadi\"\n",
    "c=a+b\n",
    "print(c)"
   ]
  },
  {
   "cell_type": "code",
   "execution_count": 23,
   "metadata": {},
   "outputs": [],
   "source": [
    "##Dynamic Typing\n",
    "a=5 #// Supported by python\n",
    "## Static typing \n",
    "#int b=5 not supported by python"
   ]
  },
  {
   "cell_type": "markdown",
   "metadata": {},
   "source": [
    "Dynamic Binding in python"
   ]
  },
  {
   "cell_type": "code",
   "execution_count": 24,
   "metadata": {},
   "outputs": [
    {
     "name": "stdout",
     "output_type": "stream",
     "text": [
      "5\n",
      "mohan\n"
     ]
    }
   ],
   "source": [
    "#python support dynamic binding that means that if a variable of name \"a\"--> can hold the value for\n",
    "#integer,float,string etc..\n",
    "a=5\n",
    "print(a)\n",
    "a=\"mohan\"\n",
    "print(a)"
   ]
  },
  {
   "cell_type": "code",
   "execution_count": 25,
   "metadata": {},
   "outputs": [
    {
     "name": "stdout",
     "output_type": "stream",
     "text": [
      "5 5 5\n"
     ]
    }
   ],
   "source": [
    "## If we want to put same values in different variable we can do it like this \n",
    "a=b=c=5\n",
    "print(a,b,c)"
   ]
  },
  {
   "cell_type": "markdown",
   "metadata": {},
   "source": [
    "KeyWords and identifiers"
   ]
  },
  {
   "cell_type": "code",
   "execution_count": 26,
   "metadata": {},
   "outputs": [
    {
     "data": {
      "text/plain": [
       "' \\nFalse, None, True, and, as, assert, async, await, break, class, continue, def,\\ndel, elif, else, except, finally, for, from, global, if,\\nimport, in, is, lambda, nonlocal, not, or, pass, raise, return, \\ntry, while, with, yield\\n'"
      ]
     },
     "execution_count": 26,
     "metadata": {},
     "output_type": "execute_result"
    }
   ],
   "source": [
    "#Keyword\n",
    "#[THis are the 32 keywords in python]\n",
    "''' \n",
    "False, None, True, and, as, assert, async, await, break, class, continue, def,\n",
    "del, elif, else, except, finally, for, from, global, if,\n",
    "import, in, is, lambda, nonlocal, not, or, pass, raise, return, \n",
    "try, while, with, yield\n",
    "\n",
    "'''"
   ]
  },
  {
   "cell_type": "markdown",
   "metadata": {},
   "source": [
    "Identifiers\n"
   ]
  },
  {
   "cell_type": "code",
   "execution_count": 29,
   "metadata": {},
   "outputs": [
    {
     "name": "stdout",
     "output_type": "stream",
     "text": [
      "5\n"
     ]
    }
   ],
   "source": [
    "a_sujal=5\n",
    "print(a_sujal)\n"
   ]
  },
  {
   "cell_type": "markdown",
   "metadata": {},
   "source": [
    "User Input"
   ]
  },
  {
   "cell_type": "code",
   "execution_count": 39,
   "metadata": {},
   "outputs": [
    {
     "data": {
      "text/plain": [
       "'science'"
      ]
     },
     "execution_count": 39,
     "metadata": {},
     "output_type": "execute_result"
    }
   ],
   "source": [
    "input(\"enter the name of subject\")\n"
   ]
  },
  {
   "cell_type": "code",
   "execution_count": 38,
   "metadata": {},
   "outputs": [
    {
     "data": {
      "text/plain": [
       "'sujal'"
      ]
     },
     "execution_count": 38,
     "metadata": {},
     "output_type": "execute_result"
    }
   ],
   "source": [
    "input(\"apna naam btao\")"
   ]
  },
  {
   "cell_type": "code",
   "execution_count": 41,
   "metadata": {},
   "outputs": [
    {
     "name": "stdout",
     "output_type": "stream",
     "text": [
      "6\n"
     ]
    }
   ],
   "source": [
    "#TAke two numbers from the user and add\n",
    "a=int(input(\"Enter the no. 1\"))\n",
    "b=int(input(\"Enter the number 2\"))\n",
    "print(a+b)\n"
   ]
  },
  {
   "cell_type": "markdown",
   "metadata": {},
   "source": [
    "Type Conversions"
   ]
  },
  {
   "cell_type": "code",
   "execution_count": 48,
   "metadata": {},
   "outputs": [
    {
     "name": "stdout",
     "output_type": "stream",
     "text": [
      "9.5\n",
      "<class 'int'> <class 'float'>\n"
     ]
    },
    {
     "data": {
      "text/plain": [
       "4"
      ]
     },
     "execution_count": 48,
     "metadata": {},
     "output_type": "execute_result"
    }
   ],
   "source": [
    "#There are two types of type conversion in python \n",
    "#1. Implicit --> are those that are in built means conversion automatically done by the compiler\n",
    "print(5+4.5)\n",
    "print(type(5),type(4.5))\n",
    "#this is not always work\n",
    "#print(4+\"a\")\n",
    "#2, Explicit -->\n",
    "int(input(\"enter\"))"
   ]
  },
  {
   "cell_type": "markdown",
   "metadata": {},
   "source": [
    "Literals"
   ]
  },
  {
   "cell_type": "code",
   "execution_count": null,
   "metadata": {},
   "outputs": [],
   "source": [
    "#When we assign any variable and put the value in it ... THe value is called \"Literals\"\n",
    "'''a = 0b1010 #Binary Literals\n",
    "b = 100 #Decimal Literal\n",
    "c = 00310 #Octal Literal\n",
    "d =0x12c #Hexadecimal Literal'''"
   ]
  },
  {
   "cell_type": "markdown",
   "metadata": {},
   "source": [
    "Operators"
   ]
  },
  {
   "cell_type": "code",
   "execution_count": null,
   "metadata": {},
   "outputs": [],
   "source": [
    "# 🔢 Arithmetic Operators\n",
    "# +  : Addition (a + b)\n",
    "# -  : Subtraction (a - b)\n",
    "# *  : Multiplication (a * b)\n",
    "# /  : Division (a / b)\n",
    "# // : Floor Division (a // b)\n",
    "# %  : Modulus (a % b)\n",
    "# ** : Exponentiation (a ** b)\n",
    "\n",
    "# ⚖️ Comparison Operators\n",
    "# == : Equal to (a == b)\n",
    "# != : Not equal to (a != b)\n",
    "# >  : Greater than (a > b)\n",
    "# <  : Less than (a < b)\n",
    "# >= : Greater than or equal to (a >= b)\n",
    "# <= : Less than or equal to (a <= b)\n",
    "\n",
    "# 🧠 Logical Operators\n",
    "# and : True if both are True (a and b)\n",
    "# or  : True if at least one is True (a or b)\n",
    "# not : Inverts the boolean (not a)\n",
    "\n",
    "# ⚙️ Bitwise Operators\n",
    "# &  : AND (a & b)\n",
    "# |  : OR (a | b)\n",
    "# ^  : XOR (a ^ b)\n",
    "# ~  : NOT (~a)\n",
    "# << : Left shift (a << 1)\n",
    "# >> : Right shift (a >> 1)\n",
    "\n",
    "# 🛠️ Assignment Operators\n",
    "# =   : Assign (a = b)\n",
    "# +=  : Add and assign (a += b)\n",
    "# -=  : Subtract and assign (a -= b)\n",
    "# *=  : Multiply and assign (a *= b)\n",
    "# /=  : Divide and assign (a /= b)\n",
    "# //= : Floor divide and assign (a //= b)\n",
    "# %=  : Modulo and assign (a %= b)\n",
    "# **= : Exponent and assign (a **= b)\n",
    "\n",
    "# 🔍 Membership Operators\n",
    "# in     : True if value exists (x in list)\n",
    "# not in : True if value does not exist (x not in list)\n",
    "\n",
    "# 🧾 Identity Operators\n",
    "# is     : True if same object (a is b)\n",
    "# is not : True if not same object (a is not b)"
   ]
  },
  {
   "cell_type": "markdown",
   "metadata": {},
   "source": [
    "Find the sum of a 3 digit number Entered by the user "
   ]
  },
  {
   "cell_type": "code",
   "execution_count": 64,
   "metadata": {},
   "outputs": [
    {
     "name": "stdout",
     "output_type": "stream",
     "text": [
      "12\n"
     ]
    }
   ],
   "source": [
    "num=int(input(\"Enter the 3 Digit Number : \"))\n",
    "a=num%10\n",
    "num=num//10\n",
    "b=num%10\n",
    "num=num//10\n",
    "c=num%10\n",
    "num=num//10\n",
    "print(a+b+c)\n",
    "\n"
   ]
  },
  {
   "cell_type": "markdown",
   "metadata": {},
   "source": [
    "IF/Else in Python"
   ]
  },
  {
   "cell_type": "code",
   "execution_count": 74,
   "metadata": {},
   "outputs": [
    {
     "name": "stdout",
     "output_type": "stream",
     "text": [
      "password is incorrect\n",
      "Tumse nahi ho payega betaji\n"
     ]
    }
   ],
   "source": [
    "##Login program and identation\n",
    "gmail=input(\"Enter the Gmail:\")\n",
    "password=input(\"Enter the password:\")\n",
    "g1=\"gaursujal02@gmail.com\"\n",
    "p1='2345'\n",
    "if gmail==g1  and password==p1 :\n",
    "    print(\"Welcome\")\n",
    "elif gmail==g1  and password!=p1 :\n",
    "    print(\"password is incorrect\")\n",
    "    password=input(\"enter password again:\")\n",
    "    if password=='1234':\n",
    "        print(\"Swagat nhi karoge humara\")\n",
    "    else:\n",
    "        print(\"Tumse nahi ho payega betaji\")\n",
    "else:\n",
    "    print(\"NO Wrong Credentials\")\n"
   ]
  }
 ],
 "metadata": {
  "kernelspec": {
   "display_name": "Python 3",
   "language": "python",
   "name": "python3"
  },
  "language_info": {
   "codemirror_mode": {
    "name": "ipython",
    "version": 3
   },
   "file_extension": ".py",
   "mimetype": "text/x-python",
   "name": "python",
   "nbconvert_exporter": "python",
   "pygments_lexer": "ipython3",
   "version": "3.11.9"
  }
 },
 "nbformat": 4,
 "nbformat_minor": 2
}
