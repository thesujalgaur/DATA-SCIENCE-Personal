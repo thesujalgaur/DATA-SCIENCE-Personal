{
 "cells": [
  {
   "cell_type": "code",
   "execution_count": null,
   "metadata": {},
   "outputs": [],
   "source": [
    "#Syntax to Create an object\n",
    "#objectname=classname()"
   ]
  },
  {
   "cell_type": "code",
   "execution_count": null,
   "metadata": {},
   "outputs": [],
   "source": [
    "#object literal\n",
    "l=[1,2,3,4,5]\n",
    "l"
   ]
  },
  {
   "cell_type": "code",
   "execution_count": null,
   "metadata": {},
   "outputs": [],
   "source": [
    "l=list()\n",
    "l"
   ]
  },
  {
   "cell_type": "code",
   "execution_count": null,
   "metadata": {},
   "outputs": [],
   "source": [
    "s=str()\n",
    "s"
   ]
  },
  {
   "cell_type": "markdown",
   "metadata": {},
   "source": [
    "# Creating An ATM Simulation"
   ]
  },
  {
   "cell_type": "code",
   "execution_count": null,
   "metadata": {},
   "outputs": [],
   "source": [
    "class Atm:\n",
    "    def __init__(self):\n",
    "        self.pin='pin'\n",
    "        self.balance=0\n",
    "        self.menu()\n",
    "    def menu(self):\n",
    "        user_input=input(\n",
    "            ''' \n",
    "            Enter 1 for Create Pin \n",
    "            Enter 2 for Change Pin\n",
    "            Enter 3 for Check bal\n",
    "            Enter 4 for Withdraw money\n",
    "            Enter 5 for Exit to main page \n",
    "            '''\n",
    "        )\n",
    "        \n",
    "        if user_input=='1':\n",
    "         self.createpin()\n",
    "        if user_input=='2':\n",
    "         self.changepin()\n",
    "        if user_input=='3':\n",
    "         self.check_balance()\n",
    "        if user_input=='4':\n",
    "            self.withdraw()\n",
    "        else:\n",
    "         print(\"Exiting , Thank you for using our service\")\n",
    "    \n",
    "    def createpin(self):\n",
    "     user_pin = input(\"Enter your new PIN: \")\n",
    "     self.pin = user_pin\n",
    "    \n",
    "     user_balance = input(\"Enter Your Balance: \")\n",
    "     self.balance = int(user_balance)  # <-- FIX HERE\n",
    "    \n",
    "     print(\"Your PIN is set successfully.\")\n",
    "     self.menu()\n",
    "        \n",
    "    def changepin(self):\n",
    "        old_pin=input(\"Enter your previous pin\")\n",
    "        if old_pin==self.pin:\n",
    "            new_pin=input(\"Enter youe new pin:\")\n",
    "            self.pin=new_pin\n",
    "            print(\"New pin set successfully\")\n",
    "        else:\n",
    "            print(\"Wrong pin , Please Enter again...\")\n",
    "        self.menu()\n",
    "        \n",
    "    def check_balance(self):\n",
    "        user_pin=input(\"Enter your pin\")\n",
    "        if user_pin == self.pin:\n",
    "            print(\"your balance is \",self.balance)\n",
    "        else:\n",
    "            print(\"Chal nikal bhai yha se \")\n",
    "        self.menu()\n",
    "        \n",
    "    def withdraw(self):\n",
    "     user_pin = input('Enter the pin: ')\n",
    "     if user_pin == self.pin:\n",
    "        # Allow to withdraw\n",
    "        amount = int(input('Enter the amount: '))\n",
    "        if amount <= self.balance:\n",
    "            self.balance = self.balance - amount\n",
    "            print('Withdrawal successful. Balance is', self.balance)\n",
    "        else:\n",
    "            print('abe garib')\n",
    "     else:\n",
    "        print('sale chor')\n",
    "     self.menu()\n",
    "\n",
    "# Run the ATM program\n",
    "        "
   ]
  },
  {
   "cell_type": "code",
   "execution_count": null,
   "metadata": {},
   "outputs": [],
   "source": [
    "obj=Atm()"
   ]
  },
  {
   "cell_type": "code",
   "execution_count": null,
   "metadata": {},
   "outputs": [],
   "source": [
    "l=[1,2,3,4]\n",
    "len(l) #len is a function because it is outside of the class\n",
    "l.append(5) # append is a method because it is in the list class\n",
    "l"
   ]
  },
  {
   "cell_type": "code",
   "execution_count": null,
   "metadata": {},
   "outputs": [],
   "source": [
    "#let I am doing a calculation \n",
    "5/2*10/2\n",
    "# output came in float but we want in fraction \n",
    "# so we create a new datatype"
   ]
  },
  {
   "cell_type": "code",
   "execution_count": null,
   "metadata": {},
   "outputs": [],
   "source": [
    "class Fraction:\n",
    "    # parameterized Constructor\n",
    "    def __init__(self,x,y):\n",
    "        self.numerator=x\n",
    "        self.denominator=y\n",
    "    def __str__(self):\n",
    "        return \"{}/{}\".format(self.numerator,self.denominator)\n",
    "    def __add__(self,other):\n",
    "        new_numerator=self.numerator*other.denominator + self.denominator*other.numerator\n",
    "        new_denominator=self.denominator*other.denominator\n",
    "        return \"{}/{}\".format(new_numerator,new_denominator)\n",
    "    def __sub__(self,other):\n",
    "        new_numerator=self.numerator*other.denominator - self.denominator*other.numerator\n",
    "        new_denominator=self.denominator*other.denominator\n",
    "        return \"{}/{}\".format(new_numerator,new_denominator)\n",
    "    def __mul__(self,other):\n",
    "        new_numerator=self.numerator*other.numerator * self.denominator*other.denominator\n",
    "        new_denominator=self.denominator*other.denominator\n",
    "        return \"{}/{}\".format(new_numerator,new_denominator)\n",
    "    def __truediv__(self,other):\n",
    "        new_numerator=self.numerator*other.denominator / self.denominator*other.numerator\n",
    "        new_denominator=self.denominator/other.denominator\n",
    "        return \"{}/{}\".format(new_numerator,new_denominator)"
   ]
  },
  {
   "cell_type": "code",
   "execution_count": null,
   "metadata": {},
   "outputs": [],
   "source": [
    "frac=Fraction(2,3)"
   ]
  },
  {
   "cell_type": "code",
   "execution_count": null,
   "metadata": {},
   "outputs": [],
   "source": [
    "print(frac)\n",
    "# numerator/denominator aisa dikhana chahiye tha par aisa nhai dikh rha\n",
    "# isliye humne upar __str__ magic method ko use kiya jo  ki batayega ki humko expected ouput kaisa chahiye"
   ]
  },
  {
   "cell_type": "code",
   "execution_count": null,
   "metadata": {},
   "outputs": [],
   "source": [
    "print(type(frac))"
   ]
  },
  {
   "cell_type": "code",
   "execution_count": null,
   "metadata": {},
   "outputs": [],
   "source": [
    "frac=Fraction(2,3)\n",
    "frac2=Fraction(3,4)\n",
    "print(frac/frac2)"
   ]
  },
  {
   "cell_type": "markdown",
   "metadata": {},
   "source": [
    "# Write OOP classes to handle the following scenarios:\n",
    "1. • A user can create and view 2D coordinates\n",
    "2. • A user can find out the distance between 2 coordinates\n",
    "3. • A user can find find the distance of a coordinate from origin\n",
    "4. • A user can check if a point lies on a given line\n",
    "5. • A user can find the distance between a given 2D point and a given line"
   ]
  },
  {
   "cell_type": "code",
   "execution_count": 16,
   "metadata": {},
   "outputs": [],
   "source": [
    "class Point:\n",
    "    def __init__(self,x,y):\n",
    "        self.x_cod=x\n",
    "        self.y_cod=y\n",
    "    \n",
    "    def __str__(self):\n",
    "        return \"{},{}\".format(self.x_cod,self.y_cod)\n",
    "    \n",
    "    def eucledean_distance(self,other):\n",
    "       return ((self.x_cod-other.x_cod)**2 + (self.y_cod-other.y_cod)**2)**0.5\n",
    "   \n",
    "    def dist_from_origin(self):\n",
    "       #return self.eucledean_distance(Point(0,0))\n",
    "       return (self.x_cod**2 + self.y_cod**2)**0.5\n",
    "        \n",
    "class Line:\n",
    "    def __init__(self,A,B,C):\n",
    "        self.A=A\n",
    "        self.B=B\n",
    "        self.C=C\n",
    "        \n",
    "    def __str__(self):\n",
    "      return '{}x + {}y +{}=0'.format(self.A,self.B,self.C)\n",
    "\n",
    "    def point_on_line(line,point):\n",
    "        if line.A*point.x_cod + line.B*point.y_cod + line.C ==0:\n",
    "            return \"haan bhaisaheb point lie karta hai \"\n",
    "        else :\n",
    "            return \"Nahi bhai saheb  nahi karta lie \"\n",
    "        \n",
    "    def shortest_distance(line,point):\n",
    "        return abs(line.A*point.x_cod+line.B*point.y_cod+line.C) / (line.A**2+line.B**2)**0.5"
   ]
  },
  {
   "cell_type": "code",
   "execution_count": 20,
   "metadata": {},
   "outputs": [
    {
     "data": {
      "text/plain": [
       "0.0"
      ]
     },
     "execution_count": 20,
     "metadata": {},
     "output_type": "execute_result"
    }
   ],
   "source": [
    "l1=Line(1,1,0)\n",
    "p1=Point(1,-1)\n",
    "l1.point_on_line(p1)\n",
    "l1.shortest_distance(p1)"
   ]
  },
  {
   "cell_type": "markdown",
   "metadata": {},
   "source": [
    "# How object access attributes"
   ]
  },
  {
   "cell_type": "code",
   "execution_count": 37,
   "metadata": {},
   "outputs": [],
   "source": [
    "class Person:\n",
    "    def __init__(self,name,country):\n",
    "        self.name=name\n",
    "        self.country=country\n",
    "    def greet(self):\n",
    "        if self.country=='india':\n",
    "            print(\"namaste\",self.name)\n",
    "        else:\n",
    "            print(\"hello\",self.name)"
   ]
  },
  {
   "cell_type": "code",
   "execution_count": 51,
   "metadata": {},
   "outputs": [
    {
     "name": "stdout",
     "output_type": "stream",
     "text": [
      "namaste sujal\n"
     ]
    }
   ],
   "source": [
    "#how to access atrribute \n",
    "P=Person(\"sujal\",\"india\")\n",
    "P.greet()\n",
    "\n",
    "\n"
   ]
  },
  {
   "cell_type": "code",
   "execution_count": 52,
   "metadata": {},
   "outputs": [],
   "source": [
    "#what if i tried to access non existing attribute\n",
    "P.gender='male'"
   ]
  },
  {
   "cell_type": "code",
   "execution_count": 53,
   "metadata": {},
   "outputs": [
    {
     "data": {
      "text/plain": [
       "'male'"
      ]
     },
     "execution_count": 53,
     "metadata": {},
     "output_type": "execute_result"
    }
   ],
   "source": [
    "P.gender"
   ]
  },
  {
   "cell_type": "markdown",
   "metadata": {},
   "source": [
    "# Reference Variable \n"
   ]
  },
  {
   "cell_type": "code",
   "execution_count": 59,
   "metadata": {},
   "outputs": [],
   "source": [
    "class Person:\n",
    "    def __init__(self):\n",
    "        self.name=\"sujal\"\n",
    "        self.gender='Male'\n",
    "        \n",
    "p=Person()\n",
    "q=p\n"
   ]
  },
  {
   "cell_type": "code",
   "execution_count": 62,
   "metadata": {},
   "outputs": [
    {
     "name": "stdout",
     "output_type": "stream",
     "text": [
      "4374662928\n",
      "4374662928\n"
     ]
    }
   ],
   "source": [
    "#Multiple Reference\n",
    "print(id(p))\n",
    "print(id(q))"
   ]
  },
  {
   "cell_type": "code",
   "execution_count": 65,
   "metadata": {},
   "outputs": [
    {
     "name": "stdout",
     "output_type": "stream",
     "text": [
      "MAdhur\n",
      "MAdhur\n",
      "MAdhur\n",
      "MAdhur\n"
     ]
    }
   ],
   "source": [
    "print(p.name)\n",
    "print(q.name)\n",
    "q.name='MAdhur' # if i make change in object variable then the refrence varible will also change .\n",
    "print(p.name)\n",
    "print(q.name)"
   ]
  },
  {
   "cell_type": "markdown",
   "metadata": {},
   "source": [
    "# Pass By Reference "
   ]
  },
  {
   "cell_type": "code",
   "execution_count": 75,
   "metadata": {},
   "outputs": [
    {
     "name": "stdout",
     "output_type": "stream",
     "text": [
      "4368471824\n",
      "4368471824\n",
      "ankit\n",
      "ankit\n"
     ]
    }
   ],
   "source": [
    "class Person:\n",
    "    def __init__(self,name,gender):\n",
    "        self.name=name\n",
    "        self.gender=gender\n",
    "#outside the class create a fxn\n",
    "def greet(person):\n",
    "    print(id(person))\n",
    "    person.name='ankit'\n",
    "    print(person.name)\n",
    "    \n",
    "p=Person('sujal',\"male\")\n",
    "print(id(p))\n",
    "greet(p)\n",
    "print(p.name)\n"
   ]
  },
  {
   "cell_type": "markdown",
   "metadata": {},
   "source": [
    "# Object ki Mutability"
   ]
  },
  {
   "cell_type": "code",
   "execution_count": 76,
   "metadata": {},
   "outputs": [
    {
     "name": "stdout",
     "output_type": "stream",
     "text": [
      "4376467088\n",
      "4376467088\n"
     ]
    }
   ],
   "source": [
    "class Person:\n",
    "    def __init__(self,name,gender):\n",
    "        self.name=name\n",
    "        self.gender=gender\n",
    "#outside the class create a fxn\n",
    "def greet(person):\n",
    "    person.name='ankit'\n",
    "p=Person('sujal',\"male\")\n",
    "print(id(p))\n",
    "greet(p)\n",
    "print (id(p))\n",
    "# when we see thememory location before and after the change of the person name we'll see \n",
    "#that the both memory address are same that means \"OBJECT\" is mutable.\n"
   ]
  },
  {
   "cell_type": "markdown",
   "metadata": {},
   "source": [
    "## **Encapsulation**\n",
    " "
   ]
  },
  {
   "cell_type": "code",
   "execution_count": 82,
   "metadata": {},
   "outputs": [],
   "source": [
    "class Atm:\n",
    "    def __init__(self):\n",
    "        self.pin='pin'\n",
    "        self.__balance=0\n",
    "        #self.menu()\n",
    "    def get_balance(self):\n",
    "        return self.__balance\n",
    "    \n",
    "    def set_balance(self,new_value):\n",
    "         self.__balance=new_value\n",
    "         \n",
    "    def menu(self):\n",
    "        user_input=input(\n",
    "            ''' \n",
    "            Enter 1 for Create Pin \n",
    "            Enter 2 for Change Pin\n",
    "            Enter 3 for Check bal\n",
    "            Enter 4 for Withdraw money\n",
    "            Enter 5 for Exit to main page \n",
    "            '''\n",
    "        )\n",
    "        \n",
    "        if user_input=='1':\n",
    "         self.createpin()\n",
    "        if user_input=='2':\n",
    "         self.changepin()\n",
    "        if user_input=='3':\n",
    "         self.check_balance()\n",
    "        if user_input=='4':\n",
    "            self.withdraw()\n",
    "        else:\n",
    "         print(\"Exiting , Thank you for using our service\")\n",
    "    \n",
    "    def createpin(self):\n",
    "     user_pin = input(\"Enter your new PIN: \")\n",
    "     self.pin = user_pin\n",
    "    \n",
    "     user_balance = input(\"Enter Your Balance: \")\n",
    "     self.__balance = int(user_balance)  # <-- FIX HERE\n",
    "    \n",
    "     print(\"Your PIN is set successfully.\")\n",
    "     self.menu()\n",
    "        \n",
    "    def changepin(self):\n",
    "        old_pin=input(\"Enter your previous pin\")\n",
    "        if old_pin==self.pin:\n",
    "            new_pin=input(\"Enter youe new pin:\")\n",
    "            self.pin=new_pin\n",
    "            print(\"New pin set successfully\")\n",
    "        else:\n",
    "            print(\"Wrong pin , Please Enter again...\")\n",
    "        self.menu()\n",
    "        \n",
    "    def check_balance(self):\n",
    "        user_pin=input(\"Enter your pin\")\n",
    "        if user_pin == self.pin:\n",
    "            print(\"your balance is \",self.__balance)\n",
    "        else:\n",
    "            print(\"Chal nikal bhai yha se \")\n",
    "        self.menu()\n",
    "        \n",
    "    def withdraw(self):\n",
    "     user_pin = input('Enter the pin: ')\n",
    "     if user_pin == self.pin:\n",
    "        # Allow to withdraw\n",
    "        amount = int(input('Enter the amount: '))\n",
    "        if amount <= self.__balance:\n",
    "            self.__balance = self.__balance - amount\n",
    "            print('Withdrawal successful. Balance is', self.__balance)\n",
    "        else:\n",
    "            print('abe garib')\n",
    "     else:\n",
    "        print('sale chor')\n",
    "     self.menu()\n",
    "\n",
    "# Run the ATM program\n",
    "        "
   ]
  },
  {
   "cell_type": "code",
   "execution_count": 83,
   "metadata": {},
   "outputs": [],
   "source": [
    "obj=Atm()"
   ]
  },
  {
   "cell_type": "code",
   "execution_count": 85,
   "metadata": {},
   "outputs": [
    {
     "data": {
      "text/plain": [
       "0"
      ]
     },
     "execution_count": 85,
     "metadata": {},
     "output_type": "execute_result"
    }
   ],
   "source": [
    "obj.get_balance()"
   ]
  },
  {
   "cell_type": "code",
   "execution_count": 88,
   "metadata": {},
   "outputs": [
    {
     "name": "stdout",
     "output_type": "stream",
     "text": [
      "<__main__.Atm object at 0x104d28890>\n"
     ]
    }
   ],
   "source": [
    "obj.set_balance(1000)\n",
    "print(obj)\n"
   ]
  },
  {
   "cell_type": "code",
   "execution_count": 89,
   "metadata": {},
   "outputs": [],
   "source": [
    "class Employee :\n",
    "    def __init__(self,name,salary):\n",
    "        self.name=name\n",
    "        self.__salary=salary\n",
    "    def get_salary(self):\n",
    "        return self.__salary\n",
    "    def increment_salary(self,amount):\n",
    "        if amount>0:\n",
    "         self.__salary+=amount\n",
    "        else:\n",
    "            print(\"Invalid increment amounut \")\n",
    "    def decrement_salary(self,amount):\n",
    "        if 0< amount >self.__salary:\n",
    "            self.__salary-=amount\n",
    "        else:\n",
    "            print(\"INvalid Deduction or Unsufficient increment\")\n",
    "        "
   ]
  },
  {
   "cell_type": "code",
   "execution_count": 93,
   "metadata": {},
   "outputs": [
    {
     "name": "stdout",
     "output_type": "stream",
     "text": [
      "INvalid Deduction or Unsufficient increment\n"
     ]
    }
   ],
   "source": [
    "emp=Employee(\"sujal\",3000)\n",
    "emp.get_salary()\n",
    "emp.decrement_salary(1000)"
   ]
  }
 ],
 "metadata": {
  "kernelspec": {
   "display_name": "Python 3",
   "language": "python",
   "name": "python3"
  },
  "language_info": {
   "codemirror_mode": {
    "name": "ipython",
    "version": 3
   },
   "file_extension": ".py",
   "mimetype": "text/x-python",
   "name": "python",
   "nbconvert_exporter": "python",
   "pygments_lexer": "ipython3",
   "version": "3.11.9"
  }
 },
 "nbformat": 4,
 "nbformat_minor": 2
}
