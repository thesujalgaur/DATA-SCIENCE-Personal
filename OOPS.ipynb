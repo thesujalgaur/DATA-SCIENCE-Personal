{
 "cells": [
  {
   "cell_type": "code",
   "execution_count": null,
   "metadata": {},
   "outputs": [],
   "source": [
    "#Syntax to Create an object\n",
    "#objectname=classname()"
   ]
  },
  {
   "cell_type": "code",
   "execution_count": 1,
   "metadata": {},
   "outputs": [
    {
     "data": {
      "text/plain": [
       "[1, 2, 3, 4, 5]"
      ]
     },
     "execution_count": 1,
     "metadata": {},
     "output_type": "execute_result"
    }
   ],
   "source": [
    "#object literal\n",
    "l=[1,2,3,4,5]\n",
    "l"
   ]
  },
  {
   "cell_type": "code",
   "execution_count": 3,
   "metadata": {},
   "outputs": [
    {
     "data": {
      "text/plain": [
       "[]"
      ]
     },
     "execution_count": 3,
     "metadata": {},
     "output_type": "execute_result"
    }
   ],
   "source": [
    "l=list()\n",
    "l"
   ]
  },
  {
   "cell_type": "code",
   "execution_count": 5,
   "metadata": {},
   "outputs": [
    {
     "data": {
      "text/plain": [
       "''"
      ]
     },
     "execution_count": 5,
     "metadata": {},
     "output_type": "execute_result"
    }
   ],
   "source": [
    "s=str()\n",
    "s"
   ]
  },
  {
   "cell_type": "markdown",
   "metadata": {},
   "source": [
    "# Creating An ATM Simulation"
   ]
  },
  {
   "cell_type": "code",
   "execution_count": 88,
   "metadata": {},
   "outputs": [],
   "source": [
    "class Atm:\n",
    "    def __init__(self):\n",
    "        self.pin='pin'\n",
    "        self.balance=0\n",
    "        self.menu()\n",
    "    def menu(self):\n",
    "        user_input=input(\n",
    "            ''' \n",
    "            Enter 1 for Create Pin \n",
    "            Enter 2 for Change Pin\n",
    "            Enter 3 for Check bal\n",
    "            Enter 4 for Withdraw money\n",
    "            Enter 5 for Exit to main page \n",
    "            '''\n",
    "        )\n",
    "        \n",
    "        if user_input=='1':\n",
    "         self.createpin()\n",
    "        if user_input=='2':\n",
    "         self.changepin()\n",
    "        if user_input=='3':\n",
    "         self.check_balance()\n",
    "        if user_input=='4':\n",
    "            self.withdraw()\n",
    "        else:\n",
    "         print(\"Exiting , Thank you for using our service\")\n",
    "    \n",
    "    def createpin(self):\n",
    "     user_pin = input(\"Enter your new PIN: \")\n",
    "     self.pin = user_pin\n",
    "    \n",
    "     user_balance = input(\"Enter Your Balance: \")\n",
    "     self.balance = int(user_balance)  # <-- FIX HERE\n",
    "    \n",
    "     print(\"Your PIN is set successfully.\")\n",
    "     self.menu()\n",
    "        \n",
    "    def changepin(self):\n",
    "        old_pin=input(\"Enter your previous pin\")\n",
    "        if old_pin==self.pin:\n",
    "            new_pin=input(\"Enter youe new pin:\")\n",
    "            self.pin=new_pin\n",
    "            print(\"New pin set successfully\")\n",
    "        else:\n",
    "            print(\"Wrong pin , Please Enter again...\")\n",
    "        self.menu()\n",
    "        \n",
    "    def check_balance(self):\n",
    "        user_pin=input(\"Enter your pin\")\n",
    "        if user_pin == self.pin:\n",
    "            print(\"your balance is \",self.balance)\n",
    "        else:\n",
    "            print(\"Chal nikal bhai yha se \")\n",
    "        self.menu()\n",
    "        \n",
    "    def withdraw(self):\n",
    "     user_pin = input('Enter the pin: ')\n",
    "     if user_pin == self.pin:\n",
    "        # Allow to withdraw\n",
    "        amount = int(input('Enter the amount: '))\n",
    "        if amount <= self.balance:\n",
    "            self.balance = self.balance - amount\n",
    "            print('Withdrawal successful. Balance is', self.balance)\n",
    "        else:\n",
    "            print('abe garib')\n",
    "     else:\n",
    "        print('sale chor')\n",
    "     self.menu()\n",
    "\n",
    "# Run the ATM program\n",
    "        "
   ]
  },
  {
   "cell_type": "code",
   "execution_count": 90,
   "metadata": {},
   "outputs": [
    {
     "name": "stdout",
     "output_type": "stream",
     "text": [
      "Your PIN is set successfully.\n",
      "your balance is  1200000000000000000\n",
      "Exiting , Thank you for using our service\n",
      "Exiting , Thank you for using our service\n",
      "Exiting , Thank you for using our service\n"
     ]
    }
   ],
   "source": [
    "obj=Atm()"
   ]
  }
 ],
 "metadata": {
  "kernelspec": {
   "display_name": "Python 3",
   "language": "python",
   "name": "python3"
  },
  "language_info": {
   "codemirror_mode": {
    "name": "ipython",
    "version": 3
   },
   "file_extension": ".py",
   "mimetype": "text/x-python",
   "name": "python",
   "nbconvert_exporter": "python",
   "pygments_lexer": "ipython3",
   "version": "3.11.9"
  }
 },
 "nbformat": 4,
 "nbformat_minor": 2
}
