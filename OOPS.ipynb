{
 "cells": [
  {
   "cell_type": "code",
   "execution_count": null,
   "metadata": {},
   "outputs": [],
   "source": [
    "#Syntax to Create an object\n",
    "#objectname=classname()"
   ]
  },
  {
   "cell_type": "code",
   "execution_count": null,
   "metadata": {},
   "outputs": [],
   "source": [
    "#object literal\n",
    "l=[1,2,3,4,5]\n",
    "l"
   ]
  },
  {
   "cell_type": "code",
   "execution_count": null,
   "metadata": {},
   "outputs": [],
   "source": [
    "l=list()\n",
    "l"
   ]
  },
  {
   "cell_type": "code",
   "execution_count": null,
   "metadata": {},
   "outputs": [],
   "source": [
    "s=str()\n",
    "s"
   ]
  },
  {
   "cell_type": "markdown",
   "metadata": {},
   "source": [
    "# Creating An ATM Simulation"
   ]
  },
  {
   "cell_type": "code",
   "execution_count": null,
   "metadata": {},
   "outputs": [],
   "source": [
    "class Atm:\n",
    "    def __init__(self):\n",
    "        self.pin='pin'\n",
    "        self.balance=0\n",
    "        self.menu()\n",
    "    def menu(self):\n",
    "        user_input=input(\n",
    "            ''' \n",
    "            Enter 1 for Create Pin \n",
    "            Enter 2 for Change Pin\n",
    "            Enter 3 for Check bal\n",
    "            Enter 4 for Withdraw money\n",
    "            Enter 5 for Exit to main page \n",
    "            '''\n",
    "        )\n",
    "        \n",
    "        if user_input=='1':\n",
    "         self.createpin()\n",
    "        if user_input=='2':\n",
    "         self.changepin()\n",
    "        if user_input=='3':\n",
    "         self.check_balance()\n",
    "        if user_input=='4':\n",
    "            self.withdraw()\n",
    "        else:\n",
    "         print(\"Exiting , Thank you for using our service\")\n",
    "    \n",
    "    def createpin(self):\n",
    "     user_pin = input(\"Enter your new PIN: \")\n",
    "     self.pin = user_pin\n",
    "    \n",
    "     user_balance = input(\"Enter Your Balance: \")\n",
    "     self.balance = int(user_balance)  # <-- FIX HERE\n",
    "    \n",
    "     print(\"Your PIN is set successfully.\")\n",
    "     self.menu()\n",
    "        \n",
    "    def changepin(self):\n",
    "        old_pin=input(\"Enter your previous pin\")\n",
    "        if old_pin==self.pin:\n",
    "            new_pin=input(\"Enter youe new pin:\")\n",
    "            self.pin=new_pin\n",
    "            print(\"New pin set successfully\")\n",
    "        else:\n",
    "            print(\"Wrong pin , Please Enter again...\")\n",
    "        self.menu()\n",
    "        \n",
    "    def check_balance(self):\n",
    "        user_pin=input(\"Enter your pin\")\n",
    "        if user_pin == self.pin:\n",
    "            print(\"your balance is \",self.balance)\n",
    "        else:\n",
    "            print(\"Chal nikal bhai yha se \")\n",
    "        self.menu()\n",
    "        \n",
    "    def withdraw(self):\n",
    "     user_pin = input('Enter the pin: ')\n",
    "     if user_pin == self.pin:\n",
    "        # Allow to withdraw\n",
    "        amount = int(input('Enter the amount: '))\n",
    "        if amount <= self.balance:\n",
    "            self.balance = self.balance - amount\n",
    "            print('Withdrawal successful. Balance is', self.balance)\n",
    "        else:\n",
    "            print('abe garib')\n",
    "     else:\n",
    "        print('sale chor')\n",
    "     self.menu()\n",
    "\n",
    "# Run the ATM program\n",
    "        "
   ]
  },
  {
   "cell_type": "code",
   "execution_count": null,
   "metadata": {},
   "outputs": [],
   "source": [
    "obj=Atm()"
   ]
  },
  {
   "cell_type": "code",
   "execution_count": null,
   "metadata": {},
   "outputs": [],
   "source": [
    "l=[1,2,3,4]\n",
    "len(l) #len is a function because it is outside of the class\n",
    "l.append(5) # append is a method because it is in the list class\n",
    "l"
   ]
  },
  {
   "cell_type": "code",
   "execution_count": null,
   "metadata": {},
   "outputs": [],
   "source": [
    "#let I am doing a calculation \n",
    "5/2*10/2\n",
    "# output came in float but we want in fraction \n",
    "# so we create a new datatype"
   ]
  },
  {
   "cell_type": "code",
   "execution_count": null,
   "metadata": {},
   "outputs": [],
   "source": [
    "class Fraction:\n",
    "    # parameterized Constructor\n",
    "    def __init__(self,x,y):\n",
    "        self.numerator=x\n",
    "        self.denominator=y\n",
    "    def __str__(self):\n",
    "        return \"{}/{}\".format(self.numerator,self.denominator)\n",
    "    def __add__(self,other):\n",
    "        new_numerator=self.numerator*other.denominator + self.denominator*other.numerator\n",
    "        new_denominator=self.denominator*other.denominator\n",
    "        return \"{}/{}\".format(new_numerator,new_denominator)\n",
    "    def __sub__(self,other):\n",
    "        new_numerator=self.numerator*other.denominator - self.denominator*other.numerator\n",
    "        new_denominator=self.denominator*other.denominator\n",
    "        return \"{}/{}\".format(new_numerator,new_denominator)\n",
    "    def __mul__(self,other):\n",
    "        new_numerator=self.numerator*other.numerator * self.denominator*other.denominator\n",
    "        new_denominator=self.denominator*other.denominator\n",
    "        return \"{}/{}\".format(new_numerator,new_denominator)\n",
    "    def __truediv__(self,other):\n",
    "        new_numerator=self.numerator*other.denominator / self.denominator*other.numerator\n",
    "        new_denominator=self.denominator/other.denominator\n",
    "        return \"{}/{}\".format(new_numerator,new_denominator)"
   ]
  },
  {
   "cell_type": "code",
   "execution_count": null,
   "metadata": {},
   "outputs": [],
   "source": [
    "frac=Fraction(2,3)"
   ]
  },
  {
   "cell_type": "code",
   "execution_count": null,
   "metadata": {},
   "outputs": [],
   "source": [
    "print(frac)\n",
    "# numerator/denominator aisa dikhana chahiye tha par aisa nhai dikh rha\n",
    "# isliye humne upar __str__ magic method ko use kiya jo  ki batayega ki humko expected ouput kaisa chahiye"
   ]
  },
  {
   "cell_type": "code",
   "execution_count": null,
   "metadata": {},
   "outputs": [],
   "source": [
    "print(type(frac))"
   ]
  },
  {
   "cell_type": "code",
   "execution_count": null,
   "metadata": {},
   "outputs": [],
   "source": [
    "frac=Fraction(2,3)\n",
    "frac2=Fraction(3,4)\n",
    "print(frac/frac2)"
   ]
  },
  {
   "cell_type": "markdown",
   "metadata": {},
   "source": [
    "# Write OOP classes to handle the following scenarios:\n",
    "1. • A user can create and view 2D coordinates\n",
    "2. • A user can find out the distance between 2 coordinates\n",
    "3. • A user can find find the distance of a coordinate from origin\n",
    "4. • A user can check if a point lies on a given line\n",
    "5. • A user can find the distance between a given 2D point and a given line"
   ]
  },
  {
   "cell_type": "code",
   "execution_count": 16,
   "metadata": {},
   "outputs": [],
   "source": [
    "class Point:\n",
    "    def __init__(self,x,y):\n",
    "        self.x_cod=x\n",
    "        self.y_cod=y\n",
    "    \n",
    "    def __str__(self):\n",
    "        return \"{},{}\".format(self.x_cod,self.y_cod)\n",
    "    \n",
    "    def eucledean_distance(self,other):\n",
    "       return ((self.x_cod-other.x_cod)**2 + (self.y_cod-other.y_cod)**2)**0.5\n",
    "   \n",
    "    def dist_from_origin(self):\n",
    "       #return self.eucledean_distance(Point(0,0))\n",
    "       return (self.x_cod**2 + self.y_cod**2)**0.5\n",
    "        \n",
    "class Line:\n",
    "    def __init__(self,A,B,C):\n",
    "        self.A=A\n",
    "        self.B=B\n",
    "        self.C=C\n",
    "        \n",
    "    def __str__(self):\n",
    "      return '{}x + {}y +{}=0'.format(self.A,self.B,self.C)\n",
    "\n",
    "    def point_on_line(line,point):\n",
    "        if line.A*point.x_cod + line.B*point.y_cod + line.C ==0:\n",
    "            return \"haan bhaisaheb point lie karta hai \"\n",
    "        else :\n",
    "            return \"Nahi bhai saheb  nahi karta lie \"\n",
    "        \n",
    "    def shortest_distance(line,point):\n",
    "        return abs(line.A*point.x_cod+line.B*point.y_cod+line.C) / (line.A**2+line.B**2)**0.5"
   ]
  },
  {
   "cell_type": "code",
   "execution_count": 20,
   "metadata": {},
   "outputs": [
    {
     "data": {
      "text/plain": [
       "0.0"
      ]
     },
     "execution_count": 20,
     "metadata": {},
     "output_type": "execute_result"
    }
   ],
   "source": [
    "l1=Line(1,1,0)\n",
    "p1=Point(1,-1)\n",
    "l1.point_on_line(p1)\n",
    "l1.shortest_distance(p1)"
   ]
  },
  {
   "cell_type": "markdown",
   "metadata": {},
   "source": [
    "# How object access attributes"
   ]
  },
  {
   "cell_type": "code",
   "execution_count": 37,
   "metadata": {},
   "outputs": [],
   "source": [
    "class Person:\n",
    "    def __init__(self,name,country):\n",
    "        self.name=name\n",
    "        self.country=country\n",
    "    def greet(self):\n",
    "        if self.country=='india':\n",
    "            print(\"namaste\",self.name)\n",
    "        else:\n",
    "            print(\"hello\",self.name)"
   ]
  },
  {
   "cell_type": "code",
   "execution_count": 51,
   "metadata": {},
   "outputs": [
    {
     "name": "stdout",
     "output_type": "stream",
     "text": [
      "namaste sujal\n"
     ]
    }
   ],
   "source": [
    "#how to access atrribute \n",
    "P=Person(\"sujal\",\"india\")\n",
    "P.greet()\n",
    "\n",
    "\n"
   ]
  },
  {
   "cell_type": "code",
   "execution_count": 52,
   "metadata": {},
   "outputs": [],
   "source": [
    "#what if i tried to access non existing attribute\n",
    "P.gender='male'"
   ]
  },
  {
   "cell_type": "code",
   "execution_count": 53,
   "metadata": {},
   "outputs": [
    {
     "data": {
      "text/plain": [
       "'male'"
      ]
     },
     "execution_count": 53,
     "metadata": {},
     "output_type": "execute_result"
    }
   ],
   "source": [
    "P.gender"
   ]
  },
  {
   "cell_type": "markdown",
   "metadata": {},
   "source": [
    "# Reference Variable \n"
   ]
  },
  {
   "cell_type": "code",
   "execution_count": 59,
   "metadata": {},
   "outputs": [],
   "source": [
    "class Person:\n",
    "    def __init__(self):\n",
    "        self.name=\"sujal\"\n",
    "        self.gender='Male'\n",
    "        \n",
    "p=Person()\n",
    "q=p\n"
   ]
  },
  {
   "cell_type": "code",
   "execution_count": 62,
   "metadata": {},
   "outputs": [
    {
     "name": "stdout",
     "output_type": "stream",
     "text": [
      "4374662928\n",
      "4374662928\n"
     ]
    }
   ],
   "source": [
    "#Multiple Reference\n",
    "print(id(p))\n",
    "print(id(q))"
   ]
  },
  {
   "cell_type": "code",
   "execution_count": 65,
   "metadata": {},
   "outputs": [
    {
     "name": "stdout",
     "output_type": "stream",
     "text": [
      "MAdhur\n",
      "MAdhur\n",
      "MAdhur\n",
      "MAdhur\n"
     ]
    }
   ],
   "source": [
    "print(p.name)\n",
    "print(q.name)\n",
    "q.name='MAdhur' # if i make change in object variable then the refrence varible will also change .\n",
    "print(p.name)\n",
    "print(q.name)"
   ]
  },
  {
   "cell_type": "markdown",
   "metadata": {},
   "source": [
    "# Pass By Reference "
   ]
  },
  {
   "cell_type": "code",
   "execution_count": 75,
   "metadata": {},
   "outputs": [
    {
     "name": "stdout",
     "output_type": "stream",
     "text": [
      "4368471824\n",
      "4368471824\n",
      "ankit\n",
      "ankit\n"
     ]
    }
   ],
   "source": [
    "class Person:\n",
    "    def __init__(self,name,gender):\n",
    "        self.name=name\n",
    "        self.gender=gender\n",
    "#outside the class create a fxn\n",
    "def greet(person):\n",
    "    print(id(person))\n",
    "    person.name='ankit'\n",
    "    print(person.name)\n",
    "    \n",
    "p=Person('sujal',\"male\")\n",
    "print(id(p))\n",
    "greet(p)\n",
    "print(p.name)\n"
   ]
  },
  {
   "cell_type": "markdown",
   "metadata": {},
   "source": [
    "# Object ki Mutability"
   ]
  },
  {
   "cell_type": "code",
   "execution_count": 76,
   "metadata": {},
   "outputs": [
    {
     "name": "stdout",
     "output_type": "stream",
     "text": [
      "4376467088\n",
      "4376467088\n"
     ]
    }
   ],
   "source": [
    "class Person:\n",
    "    def __init__(self,name,gender):\n",
    "        self.name=name\n",
    "        self.gender=gender\n",
    "#outside the class create a fxn\n",
    "def greet(person):\n",
    "    person.name='ankit'\n",
    "p=Person('sujal',\"male\")\n",
    "print(id(p))\n",
    "greet(p)\n",
    "print (id(p))\n",
    "# when we see thememory location before and after the change of the person name we'll see \n",
    "#that the both memory address are same that means \"OBJECT\" is mutable.\n"
   ]
  },
  {
   "cell_type": "markdown",
   "metadata": {},
   "source": [
    "## **Encapsulation**\n",
    " "
   ]
  },
  {
   "cell_type": "code",
   "execution_count": 38,
   "metadata": {},
   "outputs": [],
   "source": [
    "class Atm:\n",
    "    def __init__(self):\n",
    "        self.pin='pin'\n",
    "        self.__balance=0\n",
    "        #self.menu()\n",
    "    def get_balance(self):\n",
    "        return self.__balance\n",
    "    \n",
    "    def set_balance(self,new_value):\n",
    "        if type(new_value)==int:\n",
    "         self.__balance=new_value\n",
    "        else:\n",
    "            print(\"bhai please , Thodi toh sharam , laaz haya h ki nahi tujhme \")\n",
    "            \n",
    "    def menu(self):\n",
    "        user_input=input(\n",
    "            ''' \n",
    "            Enter 1 for Create Pin \n",
    "            Enter 2 for Change Pin\n",
    "            Enter 3 for Check bal\n",
    "            Enter 4 for Withdraw money\n",
    "            Enter 5 for Exit to main page \n",
    "            '''\n",
    "        )\n",
    "        \n",
    "        if user_input=='1':\n",
    "         self.createpin()\n",
    "        if user_input=='2':\n",
    "         self.changepin()\n",
    "        if user_input=='3':\n",
    "         self.check_balance()\n",
    "        if user_input=='4':\n",
    "            self.withdraw()\n",
    "        else:\n",
    "         print(\"Exiting , Thank you for using our service\")\n",
    "    \n",
    "    def createpin(self):\n",
    "     user_pin = input(\"Enter your new PIN: \")\n",
    "     self.pin = user_pin\n",
    "    \n",
    "     user_balance = input(\"Enter Your Balance: \")\n",
    "     self.__balance = int(user_balance)  # <-- FIX HERE\n",
    "    \n",
    "     print(\"Your PIN is set successfully.\")\n",
    "     self.menu()\n",
    "        \n",
    "    def changepin(self):\n",
    "        old_pin=input(\"Enter your previous pin\")\n",
    "        if old_pin==self.pin:\n",
    "            new_pin=input(\"Enter youe new pin:\")\n",
    "            self.pin=new_pin\n",
    "            print(\"New pin set successfully\")\n",
    "        else:\n",
    "            print(\"Wrong pin , Please Enter again...\")\n",
    "        self.menu()\n",
    "        \n",
    "    def check_balance(self):\n",
    "        user_pin=input(\"Enter your pin\")\n",
    "        if user_pin == self.pin:\n",
    "            print(\"your balance is \",self.__balance)\n",
    "        else:\n",
    "            print(\"Chal nikal bhai yha se \")\n",
    "        self.menu()\n",
    "        \n",
    "    def withdraw(self):\n",
    "     user_pin = input('Enter the pin: ')\n",
    "     if user_pin == self.pin:\n",
    "        # Allow to withdraw\n",
    "        amount = int(input('Enter the amount: '))\n",
    "        if amount <= self.__balance:\n",
    "            self.__balance = self.__balance - amount\n",
    "            print('Withdrawal successful. Balance is', self.__balance)\n",
    "        else:\n",
    "            print('abe garib')\n",
    "     else:\n",
    "        print('sale chor')\n",
    "     self.menu()\n",
    "\n",
    "# Run the ATM program\n",
    "        "
   ]
  },
  {
   "cell_type": "code",
   "execution_count": 17,
   "metadata": {},
   "outputs": [],
   "source": [
    "obj=Atm()"
   ]
  },
  {
   "cell_type": "code",
   "execution_count": 46,
   "metadata": {},
   "outputs": [
    {
     "data": {
      "text/plain": [
       "5000"
      ]
     },
     "execution_count": 46,
     "metadata": {},
     "output_type": "execute_result"
    }
   ],
   "source": [
    "obj.get_balance()"
   ]
  },
  {
   "cell_type": "code",
   "execution_count": 44,
   "metadata": {},
   "outputs": [
    {
     "name": "stdout",
     "output_type": "stream",
     "text": [
      "<__main__.Atm object at 0x1072ab3d0>\n"
     ]
    }
   ],
   "source": [
    "obj.set_balance('hehehehhe')\n",
    "print(obj)\n"
   ]
  },
  {
   "cell_type": "code",
   "execution_count": 89,
   "metadata": {},
   "outputs": [],
   "source": [
    "class Employee :\n",
    "    def __init__(self,name,salary):\n",
    "        self.name=name\n",
    "        self.__salary=salary\n",
    "    def get_salary(self):\n",
    "        return self.__salary\n",
    "    def increment_salary(self,amount):\n",
    "        if amount>0:\n",
    "         self.__salary+=amount\n",
    "        else:\n",
    "            print(\"Invalid increment amounut \")\n",
    "    def decrement_salary(self,amount):\n",
    "        if 0< amount >self.__salary:\n",
    "            self.__salary-=amount\n",
    "        else:\n",
    "            print(\"INvalid Deduction or Unsufficient increment\")\n",
    "        "
   ]
  },
  {
   "cell_type": "code",
   "execution_count": 93,
   "metadata": {},
   "outputs": [
    {
     "name": "stdout",
     "output_type": "stream",
     "text": [
      "INvalid Deduction or Unsufficient increment\n"
     ]
    }
   ],
   "source": [
    "emp=Employee(\"sujal\",3000)\n",
    "emp.get_salary()\n",
    "emp.decrement_salary(1000)"
   ]
  },
  {
   "cell_type": "markdown",
   "metadata": {},
   "source": [
    "# Collection of objects"
   ]
  },
  {
   "cell_type": "code",
   "execution_count": 76,
   "metadata": {},
   "outputs": [
    {
     "name": "stdout",
     "output_type": "stream",
     "text": [
      "sujal male\n",
      "Mayank male\n",
      "vanshika female\n"
     ]
    }
   ],
   "source": [
    "#Lists of object\n",
    "class Person:\n",
    "    def __init__(self,name,gender):\n",
    "        self.name=name\n",
    "        self.gender=gender\n",
    "        \n",
    "\n",
    "p1=Person(\"sujal\",\"male\")\n",
    "p2=Person(\"Mayank\",\"male\")\n",
    "p3=Person(\"vanshika\",\"female\")\n",
    "\n",
    "l=[p1,p2,p3]\n",
    "for i in l:\n",
    "    print(i.name,i.gender)"
   ]
  },
  {
   "cell_type": "code",
   "execution_count": 82,
   "metadata": {},
   "outputs": [
    {
     "name": "stdout",
     "output_type": "stream",
     "text": [
      "sujal male\n",
      "Mayank male\n",
      "vanshika female\n"
     ]
    }
   ],
   "source": [
    "# Dictioinary of object\n",
    "#Lists of object\n",
    "class Person:\n",
    "    def __init__(self,name,gender):\n",
    "        self.name=name\n",
    "        self.gender=gender\n",
    "        \n",
    "\n",
    "p1=Person(\"sujal\",\"male\")\n",
    "p2=Person(\"Mayank\",\"male\")\n",
    "p3=Person(\"vanshika\",\"female\")\n",
    "\n",
    "d={'p1':p1,'p2':p2,'p3':p3}\n",
    "\n",
    "for i in d:\n",
    "    print(d[i].name,d[i].gender)"
   ]
  },
  {
   "cell_type": "markdown",
   "metadata": {},
   "source": [
    "# Static Variable vs (Instance Variable)"
   ]
  },
  {
   "cell_type": "code",
   "execution_count": 169,
   "metadata": {},
   "outputs": [],
   "source": [
    "class Atm:\n",
    "    __counter=1     #__counter ko class me isliye rkha h kyu ki ye humara static keyword h \n",
    "    #jika object se koi lena dena nahi hai .\n",
    "    #static variable ka value har object ke liye same hota h ... agr isko me apne coonstructor me \n",
    "    #likhta to again and again mere pass ek hi value aati but 'customer id \" to har customer\n",
    "    #ki different hoti hai is liye hum isko class ke andar define karte hai \n",
    "    \n",
    "    # agar mera juniore programmer bhaisaheb wapis aajata h masti karne to hum \n",
    "    #kya krenge apne static variable ko bhi private kar denge \n",
    "    \n",
    "    def __init__(self):\n",
    "        self.pin='pin'\n",
    "        self.__balance=0\n",
    "        self.cid=Atm.__counter\n",
    "        Atm.__counter+=1\n",
    "        #self.menu()\n",
    "        \n",
    "    #utility Functions --> inko call karne ke liye object banane ki jarurat nahi h \n",
    "    #aisa function jo chhote mote kaamo ko kar de aur jink object nhi chahiye \n",
    "    @staticmethod\n",
    "    def get_counter(): # if self is not in use instead of that we left it empty\n",
    "                       # now this is not a object method it's an class method\n",
    "                       #because we are not using self\"current object\"for it.\n",
    "        return Atm.__counter\n",
    "    #for accessing this kind of methods we use --> class name.method name use karte h 😉\n",
    "    \n",
    "    \n",
    "    \n",
    "    #Getter and setter\n",
    "    \n",
    "    #1.Getter: Returns the value of the private variable\n",
    "    def get_balance(self): \n",
    "        return self.__balance\n",
    "    \n",
    "    #2.# Setter: Updates the private variable with validation\n",
    "    def set_balance(self,new_value):\n",
    "        if type(new_value)==int:\n",
    "         self.__balance=new_value\n",
    "        else:\n",
    "            print(\"bhai please , Thodi toh sharam , laaz haya h ki nahi tujhme \")\n",
    "            \n",
    "    def menu(self):\n",
    "        user_input=input(\n",
    "            ''' \n",
    "            Enter 1 for Create Pin \n",
    "            Enter 2 for Change Pin\n",
    "            Enter 3 for Check bal\n",
    "            Enter 4 for Withdraw money\n",
    "            Enter 5 for Exit to main page \n",
    "            '''\n",
    "        )\n",
    "        \n",
    "        if user_input=='1':\n",
    "         self.createpin()\n",
    "        if user_input=='2':\n",
    "         self.changepin()\n",
    "        if user_input=='3':\n",
    "         self.check_balance()\n",
    "        if user_input=='4':\n",
    "            self.withdraw()\n",
    "        else:\n",
    "         print(\"Exiting , Thank you for using our service\")\n",
    "    \n",
    "    def createpin(self):\n",
    "     user_pin = input(\"Enter your new PIN: \")\n",
    "     self.pin = user_pin\n",
    "    \n",
    "     user_balance = input(\"Enter Your Balance: \")\n",
    "     self.__balance = int(user_balance)  \n",
    "    \n",
    "     print(\"Your PIN is set successfully.\")\n",
    "     self.menu()\n",
    "        \n",
    "    def changepin(self):\n",
    "        old_pin=input(\"Enter your previous pin\")\n",
    "        if old_pin==self.pin:\n",
    "            new_pin=input(\"Enter youe new pin:\")\n",
    "            self.pin=new_pin\n",
    "            print(\"New pin set successfully\")\n",
    "        else:\n",
    "            print(\"Wrong pin , Please Enter again...\")\n",
    "        self.menu()\n",
    "        \n",
    "    def check_balance(self):\n",
    "        user_pin=input(\"Enter your pin\")\n",
    "        if user_pin == self.pin:\n",
    "            print(\"your balance is \",self.__balance)\n",
    "        else:\n",
    "            print(\"Chal nikal bhai yha se \")\n",
    "        self.menu()\n",
    "        \n",
    "    def withdraw(self):\n",
    "     user_pin = input('Enter the pin: ')\n",
    "     if user_pin == self.pin:\n",
    "        # Allow to withdraw\n",
    "        amount = int(input('Enter the amount: '))\n",
    "        if amount <= self.__balance:\n",
    "            self.__balance = self.__balance - amount\n",
    "            print('Withdrawal successful. Balance is', self.__balance)\n",
    "        else:\n",
    "            print('abe garib')\n",
    "     else:\n",
    "        print('sale chor')\n",
    "     self.menu()"
   ]
  },
  {
   "cell_type": "code",
   "execution_count": 152,
   "metadata": {},
   "outputs": [
    {
     "name": "stdout",
     "output_type": "stream",
     "text": [
      "<__main__.Atm object at 0x107325d50>\n"
     ]
    }
   ],
   "source": [
    "c1=Atm()\n",
    "print(c1)"
   ]
  },
  {
   "cell_type": "code",
   "execution_count": 151,
   "metadata": {},
   "outputs": [
    {
     "data": {
      "text/plain": [
       "<__main__.Atm at 0x1073cd350>"
      ]
     },
     "execution_count": 151,
     "metadata": {},
     "output_type": "execute_result"
    }
   ],
   "source": [
    "c2=Atm()\n",
    "c2"
   ]
  },
  {
   "cell_type": "code",
   "execution_count": 165,
   "metadata": {},
   "outputs": [
    {
     "data": {
      "text/plain": [
       "<__main__.Atm at 0x10744bfd0>"
      ]
     },
     "execution_count": 165,
     "metadata": {},
     "output_type": "execute_result"
    }
   ],
   "source": [
    "c3=Atm()\n",
    "c3"
   ]
  },
  {
   "cell_type": "code",
   "execution_count": 164,
   "metadata": {},
   "outputs": [
    {
     "data": {
      "text/plain": [
       "4"
      ]
     },
     "execution_count": 164,
     "metadata": {},
     "output_type": "execute_result"
    }
   ],
   "source": [
    "c1.cid"
   ]
  },
  {
   "cell_type": "code",
   "execution_count": 160,
   "metadata": {},
   "outputs": [
    {
     "data": {
      "text/plain": [
       "3"
      ]
     },
     "execution_count": 160,
     "metadata": {},
     "output_type": "execute_result"
    }
   ],
   "source": [
    "c2.cid"
   ]
  },
  {
   "cell_type": "code",
   "execution_count": 168,
   "metadata": {},
   "outputs": [
    {
     "data": {
      "text/plain": [
       "1"
      ]
     },
     "execution_count": 168,
     "metadata": {},
     "output_type": "execute_result"
    }
   ],
   "source": [
    "c3.cid"
   ]
  },
  {
   "cell_type": "code",
   "execution_count": 162,
   "metadata": {},
   "outputs": [],
   "source": [
    "Atm.counter='heheheheheh'"
   ]
  },
  {
   "cell_type": "markdown",
   "metadata": {},
   "source": [
    "# Class Realtionships\n",
    "1. **Aggregation**\n",
    "2. **Inheritance**"
   ]
  },
  {
   "cell_type": "code",
   "execution_count": 198,
   "metadata": {},
   "outputs": [
    {
     "name": "stdout",
     "output_type": "stream",
     "text": [
      "jaipur 302031 Rajasthan\n",
      "Panji 3203032 Goa\n"
     ]
    }
   ],
   "source": [
    "class Customer:\n",
    "    def __init__(self, name, gender, address):\n",
    "        self.name = name\n",
    "        self.gender = gender\n",
    "        self.address = address\n",
    "        \n",
    "    def print_address(self):\n",
    "        print(self.address.get_city(),self.address.pin,self.address.state)\n",
    "        \n",
    "        \n",
    "        # Another way we can use like this to access private variables :\n",
    "        #print(self.address._Address__city,self.address.pin,self.address.state)\n",
    "        \n",
    "    def edit_profile(self,new_name,new_city,new_pin,new_state):\n",
    "        self.name=new_name\n",
    "        self.address.edit_address(new_city,new_pin,new_state)\n",
    "    \n",
    "\n",
    "    \n",
    "class Address:\n",
    "    def __init__(self, city, pin, state):\n",
    "        self.__city = city # YAha pe maine apni city ke variable ko private kar diya\n",
    "        #to kya ab isko me access kar paunga dusri class se : Answer is no --> it'll \n",
    "        #throw  Attribute error so what we do we use getter method\n",
    "        self.pin = pin\n",
    "        self.state = state\n",
    "        \n",
    "    def get_city(self):\n",
    "        return self.__city\n",
    "    \n",
    "    def edit_address(self,new_city,new_pin,new_state):\n",
    "        self.__city=new_city\n",
    "        self.pin=new_pin\n",
    "        self.state=new_state\n",
    "        \n",
    "add=Address(\"jaipur\",302031,\"Rajasthan\")       \n",
    "Cust = Customer(\"Sujal\",\"male\",add) \n",
    "\n",
    "\n",
    "Cust.print_address()\n",
    "Cust.edit_profile(\"Ankur\",\"Panji\",3203032,\"Goa\")\n",
    "Cust.print_address()\n"
   ]
  },
  {
   "cell_type": "markdown",
   "metadata": {},
   "source": [
    "# ***INHERITANCE***\n",
    "1. What is **Inheritance** ?\n",
    "2. Example\n",
    "3. What gets inherited?"
   ]
  },
  {
   "cell_type": "code",
   "execution_count": 219,
   "metadata": {},
   "outputs": [
    {
     "name": "stdout",
     "output_type": "stream",
     "text": [
      "login\n",
      "enrolled into the course data science\n"
     ]
    },
    {
     "data": {
      "text/plain": [
       "'Sujal'"
      ]
     },
     "execution_count": 219,
     "metadata": {},
     "output_type": "execute_result"
    }
   ],
   "source": [
    "class User:\n",
    "    def __init__(self):\n",
    "        self.name='Sujal'\n",
    "        \n",
    "    def login(self):\n",
    "        print('login')\n",
    "        \n",
    "class Student(User):\n",
    "    \n",
    "        \n",
    "    def  enroll(self,course):\n",
    "        self.course=course\n",
    "        print(\"enrolled into the course\",(self.course))\n",
    "        \n",
    "U=User()\n",
    "S=Student()\n",
    "\n",
    "S.login()\n",
    "S.enroll(\"data science\")\n",
    "S.name"
   ]
  },
  {
   "cell_type": "markdown",
   "metadata": {},
   "source": [
    "# Class Diagram\n",
    "**Done in Notebook**"
   ]
  },
  {
   "cell_type": "code",
   "execution_count": 4,
   "metadata": {},
   "outputs": [
    {
     "name": "stdout",
     "output_type": "stream",
     "text": [
      "inside phone Constructor\n",
      "<__main__.SmartPhone object at 0x10623ac10>\n",
      "buy me 😃\n"
     ]
    }
   ],
   "source": [
    "class Phone:\n",
    "    def __init__(self,price,brand,camera): #  Child class uses the parent class constructor \n",
    "        print(\"inside phone Constructor\") #then print\n",
    "        self.price=price\n",
    "        self.brand=brand\n",
    "        self.camera=camera\n",
    "    \n",
    "    def buy(self): # Non private method \n",
    "        print(\"buy me 😃\")\n",
    "        \n",
    "class SmartPhone(Phone): \n",
    "    pass    # here the child class has not it's own constructor\n",
    "\n",
    "Smart=SmartPhone(120000,\"Motorola\",\"50 MP\")\n",
    "print(Smart)\n",
    "Smart.buy()  # here i can call a non private method "
   ]
  },
  {
   "cell_type": "code",
   "execution_count": 9,
   "metadata": {},
   "outputs": [
    {
     "name": "stdout",
     "output_type": "stream",
     "text": [
      "inside SmartPhone constructor\n",
      "<__main__.SmartPhone object at 0x10a979690>\n"
     ]
    }
   ],
   "source": [
    "#Constructor Example 2\n",
    "class Phone:\n",
    "    def __init__(self,price,brand,camera): \n",
    "        print(\"inside phone Constructor\") \n",
    "        self.price=price # in variable ko hum kabhi access nahi kar skate q ki jab child class \n",
    "        self.brand=brand # ke pass khud ka constructor he toh phir parent ka constructor execute\n",
    "        self.camera=camera#hua hi nahi aur jab parent ka constructor use nhi hua toh iske varible \n",
    "    # Kabhi initiate hi nahi honge 🙃 \n",
    "    \n",
    "    \n",
    "class SmartPhone(Phone): \n",
    "    def __init__(self,os,version): #if child class has its own constructor it'll us it first\n",
    "        print(\"inside SmartPhone constructor\")\n",
    "        self.os=os\n",
    "        self.version=version\n",
    "        \n",
    "\n",
    "Smart=SmartPhone(\"Android\",\"G85\")\n",
    "print(Smart)\n",
    "#Smart.price  -> AttributeError: 'SmartPhone' object has no attribute 'price' \n",
    "# because call hi nhi hue bhaisaheb"
   ]
  },
  {
   "cell_type": "code",
   "execution_count": 19,
   "metadata": {},
   "outputs": [
    {
     "name": "stdout",
     "output_type": "stream",
     "text": [
      "inside phone Constructor\n",
      "g85\n"
     ]
    },
    {
     "ename": "AttributeError",
     "evalue": "'SmartPhone' object has no attribute 'show'",
     "output_type": "error",
     "traceback": [
      "\u001b[31m---------------------------------------------------------------------------\u001b[39m",
      "\u001b[31mAttributeError\u001b[39m                            Traceback (most recent call last)",
      "\u001b[36mCell\u001b[39m\u001b[36m \u001b[39m\u001b[32mIn[19]\u001b[39m\u001b[32m, line 23\u001b[39m\n\u001b[32m     19\u001b[39m \u001b[38;5;28mprint\u001b[39m(Smar.brand) \u001b[38;5;66;03m# non priavte variable\u001b[39;00m\n\u001b[32m     20\u001b[39m \u001b[38;5;66;03m#Smar.__price # this \u001b[39;00m\n\u001b[32m     21\u001b[39m \u001b[38;5;66;03m#Smar.check()#and this  Both will throw an error because a child class cannot access \u001b[39;00m\n\u001b[32m     22\u001b[39m              \u001b[38;5;66;03m#private method or data of a parent class\u001b[39;00m\n\u001b[32m---> \u001b[39m\u001b[32m23\u001b[39m \u001b[43mSmar\u001b[49m\u001b[43m.\u001b[49m\u001b[43mshow\u001b[49m() \u001b[38;5;66;03m# ye bhi non-private h toh print kar dega price ka value but if i\u001b[39;00m\n\u001b[32m     24\u001b[39m Smar.show()\n",
      "\u001b[31mAttributeError\u001b[39m: 'SmartPhone' object has no attribute 'show'"
     ]
    }
   ],
   "source": [
    "#Child can't access private member of class\n",
    "#child ka jo object hai woh parent class ki private chizo ko access nahi kar skta \n",
    "class Phone:\n",
    "    def __init__(self,price,brand,camera): \n",
    "        print(\"inside phone Constructor\") \n",
    "        self.__price=price\n",
    "        self.brand=brand\n",
    "        self.camera=camera\n",
    "    \n",
    "    def __show(self):\n",
    "        print(self.__price)\n",
    "        \n",
    "class SmartPhone(Phone): \n",
    "    \n",
    "    def check(self):\n",
    "        print(self.__price)\n",
    "\n",
    "Smar=SmartPhone(12000,\"g85\",12)\n",
    "print(Smar.brand) # non priavte variable\n",
    "#Smar.__price # this \n",
    "#Smar.check()#and this  Both will throw an error because a child class cannot access \n",
    "             #private method or data of a parent class\n",
    "Smar.show() # ye bhi non-private h toh print kar dega price ka value but if i\n",
    "Smar.show() # ab private ho gya to ab print nahi karga "
   ]
  },
  {
   "cell_type": "code",
   "execution_count": 24,
   "metadata": {},
   "outputs": [
    {
     "name": "stdout",
     "output_type": "stream",
     "text": [
      "100\n",
      "This is in child class\n"
     ]
    }
   ],
   "source": [
    "class Parent:\n",
    " def __init__(self, num) :\n",
    "   self.__num=num\n",
    "   \n",
    " def get_num(self) :# Here we access the private variable using the getter method \n",
    "   return self.__num\n",
    "\n",
    "class Child(Parent):\n",
    "  def show(self) :\n",
    "   print(\"This is in child class\")\n",
    "  \n",
    "son=Child(100)\n",
    "print(son. get_num())\n",
    "son. show ()"
   ]
  },
  {
   "cell_type": "code",
   "execution_count": 26,
   "metadata": {},
   "outputs": [
    {
     "ename": "AttributeError",
     "evalue": "'Child' object has no attribute '_Parent__num'",
     "output_type": "error",
     "traceback": [
      "\u001b[31m---------------------------------------------------------------------------\u001b[39m",
      "\u001b[31mAttributeError\u001b[39m                            Traceback (most recent call last)",
      "\u001b[36mCell\u001b[39m\u001b[36m \u001b[39m\u001b[32mIn[26]\u001b[39m\u001b[32m, line 13\u001b[39m\n\u001b[32m     10\u001b[39m   \u001b[38;5;28;01mreturn\u001b[39;00m \u001b[38;5;28mself\u001b[39m._val\n\u001b[32m     12\u001b[39m son=Child (\u001b[32m100\u001b[39m,\u001b[32m10\u001b[39m)\n\u001b[32m---> \u001b[39m\u001b[32m13\u001b[39m \u001b[38;5;28mprint\u001b[39m(\u001b[43mson\u001b[49m\u001b[43m.\u001b[49m\u001b[43mget_num\u001b[49m\u001b[43m(\u001b[49m\u001b[43m)\u001b[49m)\n\u001b[32m     14\u001b[39m \u001b[38;5;28mprint\u001b[39m(son.get_val)\n",
      "\u001b[36mCell\u001b[39m\u001b[36m \u001b[39m\u001b[32mIn[26]\u001b[39m\u001b[32m, line 5\u001b[39m, in \u001b[36mParent.get_num\u001b[39m\u001b[34m(self)\u001b[39m\n\u001b[32m      4\u001b[39m \u001b[38;5;28;01mdef\u001b[39;00m\u001b[38;5;250m \u001b[39m\u001b[34mget_num\u001b[39m(\u001b[38;5;28mself\u001b[39m) :\n\u001b[32m----> \u001b[39m\u001b[32m5\u001b[39m   \u001b[38;5;28;01mreturn\u001b[39;00m \u001b[38;5;28;43mself\u001b[39;49m\u001b[43m.\u001b[49m\u001b[43m__num\u001b[49m\n",
      "\u001b[31mAttributeError\u001b[39m: 'Child' object has no attribute '_Parent__num'"
     ]
    }
   ],
   "source": [
    "class Parent:\n",
    " def __init__ (self,num) : # ye kabhi call hua hi nhi\n",
    "   self.__num=num\n",
    " def get_num(self) :\n",
    "   return self.__num\n",
    "class Child(Parent):\n",
    " def __init__ (self, val, num) :\n",
    "  self.__val=val\n",
    " def get_val(self) :\n",
    "  return self._val\n",
    "\n",
    "son=Child (100,10)\n",
    "print(son.get_num())\n",
    "print(son.get_val)"
   ]
  },
  {
   "cell_type": "code",
   "execution_count": 28,
   "metadata": {},
   "outputs": [
    {
     "name": "stdout",
     "output_type": "stream",
     "text": [
      "class A : 100\n"
     ]
    }
   ],
   "source": [
    "#if child don't have constructor,parent constructor is called\n",
    "class Phone:\n",
    " def __init__ (self):\n",
    "  self.var1=100\n",
    " def display1(self,var1):\n",
    "   print(\"class A :\", self.var1)\n",
    "   \n",
    "class Variant(Phone):\n",
    "    \n",
    " def display2(self,var1):\n",
    "  print(\"class B :\", self.var1)\n",
    "\n",
    "obj=Variant()\n",
    "obj.display1(200)"
   ]
  },
  {
   "cell_type": "markdown",
   "metadata": {},
   "source": [
    "# Method Overriding"
   ]
  },
  {
   "cell_type": "code",
   "execution_count": 34,
   "metadata": {},
   "outputs": [
    {
     "name": "stdout",
     "output_type": "stream",
     "text": [
      "bache ne khud ka carrer choose kar liya \n",
      "parents ka bataya hua career choose ho gya \n"
     ]
    }
   ],
   "source": [
    "class Parent:\n",
    "    def __init__(self,stream,course,job):\n",
    "        self.stream=stream\n",
    "        self.course=course\n",
    "        self.job=job\n",
    "        \n",
    "    def career_choose(self):\n",
    "      print(\"parents ka bataya hua career choose ho gya \") \n",
    "            \n",
    "class Child(Parent):\n",
    "    \n",
    "    def career_choose(self):\n",
    "        print(\"bache ne khud ka carrer choose kar liya \")\n",
    "        \n",
    "child=Child(\"Science\",\"MBBS\",\"Doctor\")\n",
    "child.career_choose()"
   ]
  },
  {
   "cell_type": "code",
   "execution_count": null,
   "metadata": {},
   "outputs": [],
   "source": []
  },
  {
   "cell_type": "markdown",
   "metadata": {},
   "source": [
    "# Super Keyword\n"
   ]
  },
  {
   "cell_type": "code",
   "execution_count": 36,
   "metadata": {},
   "outputs": [
    {
     "name": "stdout",
     "output_type": "stream",
     "text": [
      "inside parent constructor\n",
      "bache ne khud ka carrer choose kar liya \n",
      "parents ka bataya hua career choose ho gya \n"
     ]
    }
   ],
   "source": [
    "class Parent:\n",
    "    def __init__(self,stream,course,job):\n",
    "        print(\"inside parent constructor\")\n",
    "        self.stream=stream\n",
    "        self.course=course\n",
    "        self.job=job\n",
    "        \n",
    "    def career_choose(self):\n",
    "      print(\"parents ka bataya hua career choose ho gya \") \n",
    "            \n",
    "class Child(Parent):\n",
    "    \n",
    "    def career_choose(self):\n",
    "        print(\"bache ne khud ka carrer choose kar liya \")\n",
    "        #syntax to call parent ka career_choose method\n",
    "        super().career_choose() \n",
    "child=Child(\"Science\",\"MBBS\",\"Doctor\")\n",
    "child.career_choose()"
   ]
  },
  {
   "cell_type": "code",
   "execution_count": 41,
   "metadata": {},
   "outputs": [
    {
     "name": "stdout",
     "output_type": "stream",
     "text": [
      "inside smartphone constructor\n",
      "inside the Phone constructor\n",
      "inside smartphone constructor\n",
      "inside the Phone constructor\n"
     ]
    },
    {
     "data": {
      "text/plain": [
       "12000"
      ]
     },
     "execution_count": 41,
     "metadata": {},
     "output_type": "execute_result"
    }
   ],
   "source": [
    "class Phone:\n",
    "    def __init__(self,price,brand,camera):\n",
    "        print(\"inside the Phone constructor\")\n",
    "        self.price=price\n",
    "        self.brand=brand\n",
    "        self.camera=camera\n",
    "        \n",
    "class SmartPhone(Phone):\n",
    "    def __init__(self,price,brand,camera,os,ram):\n",
    "        print(\"inside smartphone constructor\")\n",
    "        super().__init__(price,brand,camera)\n",
    "        self.os=os\n",
    "        self.ram=ram\n",
    "        print(\"inside smartphone constructor\")\n",
    "Smart=SmartPhone(69000,\"Apple\",\"48MP\",\"IOs\",\"8GB\")\n",
    "Smart.os\n",
    "p=Phone(12000,\"motorola\",\"8GB\")\n",
    "p.price"
   ]
  },
  {
   "cell_type": "code",
   "execution_count": 42,
   "metadata": {},
   "outputs": [
    {
     "name": "stdout",
     "output_type": "stream",
     "text": [
      "inside parent constructor\n",
      "bache ne khud ka carrer choose kar liya \n",
      "parents ka bataya hua career choose ho gya \n"
     ]
    },
    {
     "ename": "AttributeError",
     "evalue": "'Child' object has no attribute 'super'",
     "output_type": "error",
     "traceback": [
      "\u001b[31m---------------------------------------------------------------------------\u001b[39m",
      "\u001b[31mAttributeError\u001b[39m                            Traceback (most recent call last)",
      "\u001b[36mCell\u001b[39m\u001b[36m \u001b[39m\u001b[32mIn[42]\u001b[39m\u001b[32m, line 20\u001b[39m\n\u001b[32m     17\u001b[39m child=Child(\u001b[33m\"\u001b[39m\u001b[33mScience\u001b[39m\u001b[33m\"\u001b[39m,\u001b[33m\"\u001b[39m\u001b[33mMBBS\u001b[39m\u001b[33m\"\u001b[39m,\u001b[33m\"\u001b[39m\u001b[33mDoctor\u001b[39m\u001b[33m\"\u001b[39m)\n\u001b[32m     18\u001b[39m child.career_choose()\n\u001b[32m---> \u001b[39m\u001b[32m20\u001b[39m \u001b[43mchild\u001b[49m\u001b[43m.\u001b[49m\u001b[43msuper\u001b[49m().career_choose()\n",
      "\u001b[31mAttributeError\u001b[39m: 'Child' object has no attribute 'super'"
     ]
    }
   ],
   "source": [
    "#can Super call outside the class --> NO\n",
    "class Parent:\n",
    "    def __init__(self,stream,course,job):\n",
    "        print(\"inside parent constructor\")\n",
    "        self.stream=stream\n",
    "        self.course=course\n",
    "        self.job=job\n",
    "        \n",
    "    def career_choose(self):\n",
    "      print(\"parents ka bataya hua career choose ho gya \") \n",
    "            \n",
    "class Child(Parent):\n",
    "    \n",
    "    def career_choose(self):\n",
    "        print(\"bache ne khud ka carrer choose kar liya \")\n",
    "        super().career_choose()\n",
    "child=Child(\"Science\",\"MBBS\",\"Doctor\")\n",
    "child.career_choose()\n",
    "\n",
    "child.super().career_choose()"
   ]
  },
  {
   "cell_type": "markdown",
   "metadata": {},
   "source": [
    "# 🧬 Types of Inheritance in Python\n",
    "\n",
    "| **Type of Inheritance** | **Description** | **Diagram (Text)** |\n",
    "|--------------------------|------------------|---------------------|\n",
    "| **1. Single Inheritance** | One child inherits from one parent | `Parent → Child` |\n",
    "| **2. Multiple Inheritance** | One child inherits from **multiple** parents | `Parent1 →`<br>`Parent2 →`<br>`Child` |\n",
    "| **3. Multilevel Inheritance** | A child inherits from a parent, and then another child inherits from that child | `Grandparent → Parent → Child` |\n",
    "| **4. Hierarchical Inheritance** | Multiple children inherit from the **same parent** | `Parent → Child1`<br>`Parent → Child2` |\n",
    "| **5. Hybrid Inheritance** | Combination of two or more types\n"
   ]
  },
  {
   "cell_type": "code",
   "execution_count": 48,
   "metadata": {},
   "outputs": [
    {
     "name": "stdout",
     "output_type": "stream",
     "text": [
      "Inside phone constructor\n",
      "Buying a phone\n"
     ]
    }
   ],
   "source": [
    "#single inheritance\n",
    "# single inheritance\n",
    "class Phone:\n",
    "  def __init__(self, price, brand, camera):\n",
    "    print (\"Inside phone constructor\")\n",
    "    self.price = price\n",
    "    self.brand = brand\n",
    "    self.camera = camera\n",
    "  def buy (self) :\n",
    "   print (\"Buying a phone\")\n",
    "   \n",
    "class SmartPhone (Phone) :\n",
    " pass\n",
    "\n",
    "\n",
    "SmartPhone(1000, \"Apple\", \"13px\").buy()"
   ]
  },
  {
   "cell_type": "code",
   "execution_count": 56,
   "metadata": {},
   "outputs": [
    {
     "name": "stdout",
     "output_type": "stream",
     "text": [
      "Inside phone constructor\n",
      "Buying a phone\n",
      "customer ka review lele bhai grandfather ki class se baat kar rha hu \n"
     ]
    }
   ],
   "source": [
    "#multilevel inheritance\n",
    "class Product:\n",
    "    def review(self):\n",
    "        print(\"customer ka review lele bhai grandfather ki class se baat kar rha hu \")\n",
    "        \n",
    "class Phone(Product):\n",
    "  def __init__(self, price, brand, camera):\n",
    "    print (\"Inside phone constructor\")\n",
    "    self.price = price\n",
    "    self.brand = brand\n",
    "    self.camera = camera\n",
    "  def buy (self) :\n",
    "   print (\"Buying a phone\")\n",
    "   \n",
    "class SmartPhone (Phone) :\n",
    " pass\n",
    "\n",
    "\n",
    "s=SmartPhone(1000, \"Apple\", \"13px\")\n",
    "s.buy()\n",
    "s.review()"
   ]
  },
  {
   "cell_type": "code",
   "execution_count": 58,
   "metadata": {},
   "outputs": [
    {
     "name": "stdout",
     "output_type": "stream",
     "text": [
      "Inside phone constructor\n",
      "Buying a phone\n",
      "Inside phone constructor\n",
      "Buying a phone\n"
     ]
    }
   ],
   "source": [
    "#hiearchical Inheritance\n",
    "\n",
    "class Phone:\n",
    "  def __init__(self, price, brand, camera):\n",
    "    print (\"Inside phone constructor\")\n",
    "    self.price = price\n",
    "    self.brand = brand\n",
    "    self.camera = camera\n",
    "  def buy (self) :\n",
    "   print (\"Buying a phone\")\n",
    "   \n",
    "class SmartPhone (Phone) :\n",
    " pass\n",
    "\n",
    "class FeaturePhone(Phone):\n",
    "    pass\n",
    "\n",
    "SmartPhone(1000, \"Apple\", \"13MP\").buy()\n",
    "FeaturePhone(10,\"MOtorola\",\"48MP\").buy()"
   ]
  },
  {
   "cell_type": "code",
   "execution_count": 62,
   "metadata": {},
   "outputs": [
    {
     "name": "stdout",
     "output_type": "stream",
     "text": [
      "Inside phone constructor\n",
      "Buying a phone\n",
      "Me bhai saheb product class se bol rha hu kaise ho aap 👋\n"
     ]
    }
   ],
   "source": [
    "#Multiple Inheritance \n",
    "\n",
    "class Phone:\n",
    "  def __init__(self, price, brand, camera):\n",
    "    print (\"Inside phone constructor\")\n",
    "    self.price = price\n",
    "    self.brand = brand\n",
    "    self.camera = camera\n",
    "  def buy (self) :\n",
    "   print (\"Buying a phone\")\n",
    "   \n",
    "class Product:\n",
    "    def review(self):\n",
    "        print(\"Me bhai saheb product class se bol rha hu kaise ho aap 👋\")\n",
    "\n",
    "   \n",
    "class SmartPhone (Phone,Product) :\n",
    " pass\n",
    "\n",
    "\n",
    "s=SmartPhone(1000, \"Apple\", \"13px\")\n",
    "s.buy()\n",
    "s.review()"
   ]
  },
  {
   "cell_type": "code",
   "execution_count": 67,
   "metadata": {},
   "outputs": [
    {
     "name": "stdout",
     "output_type": "stream",
     "text": [
      "Inside phone constructor\n",
      "Product By method \n"
     ]
    }
   ],
   "source": [
    "#Diamond Problem\n",
    "#Multiple Inheritance \n",
    "# Question: JAb dono ke andar same buy() method hai to konsi wali parent class ka method call hoga\n",
    "class Phone:\n",
    "  def __init__(self, price, brand, camera):\n",
    "    print (\"Inside phone constructor\")\n",
    "    self.price = price\n",
    "    self.brand = brand\n",
    "    self.camera = camera\n",
    "  def buy (self) :\n",
    "   print (\"Buying a phone\")\n",
    "   \n",
    "class Product:\n",
    "    def buy(self): \n",
    "        print(\"Product By method \")\n",
    "  \n",
    "#Method resolution order --> isko use karke python decide karta h ki in the confliction situation\n",
    "# kiska method execute hoga \n",
    "class SmartPhone (Product,Phone) : # jo yaha pe phle likha hoga wohi pahle call hoga \n",
    " pass\n",
    "\n",
    "\n",
    "s=SmartPhone(1000, \"Apple\", \"13px\")\n",
    "s.buy()"
   ]
  },
  {
   "cell_type": "code",
   "execution_count": 69,
   "metadata": {},
   "outputs": [
    {
     "name": "stdout",
     "output_type": "stream",
     "text": [
      "70\n"
     ]
    }
   ],
   "source": [
    "#question \n",
    "class A:\n",
    " def m1 (self) :\n",
    "  return 20\n",
    "class B(A):\n",
    " def m1(self) :\n",
    "  return 30\n",
    " def m2(self):\n",
    "  return 40\n",
    "class C(B):\n",
    "  def m2(self) :\n",
    "   return 20\n",
    "obj1=A()\n",
    "obj2=B()\n",
    "obj3=C( )\n",
    "print(obj1.m1() + obj3.m1()+ obj3.m2())"
   ]
  },
  {
   "cell_type": "code",
   "execution_count": 71,
   "metadata": {},
   "outputs": [
    {
     "ename": "RecursionError",
     "evalue": "maximum recursion depth exceeded",
     "output_type": "error",
     "traceback": [
      "\u001b[31m---------------------------------------------------------------------------\u001b[39m",
      "\u001b[31mRecursionError\u001b[39m                            Traceback (most recent call last)",
      "\u001b[36mCell\u001b[39m\u001b[36m \u001b[39m\u001b[32mIn[71]\u001b[39m\u001b[32m, line 17\u001b[39m\n\u001b[32m     14\u001b[39m   \u001b[38;5;28;01mreturn\u001b[39;00m val\n\u001b[32m     16\u001b[39m obj =C()\n\u001b[32m---> \u001b[39m\u001b[32m17\u001b[39m \u001b[38;5;28mprint\u001b[39m(\u001b[43mobj\u001b[49m\u001b[43m.\u001b[49m\u001b[43mm1\u001b[49m\u001b[43m(\u001b[49m\u001b[43m)\u001b[49m)\n",
      "\u001b[36mCell\u001b[39m\u001b[36m \u001b[39m\u001b[32mIn[71]\u001b[39m\u001b[32m, line 13\u001b[39m, in \u001b[36mC.m1\u001b[39m\u001b[34m(self)\u001b[39m\n\u001b[32m     12\u001b[39m \u001b[38;5;28;01mdef\u001b[39;00m\u001b[38;5;250m \u001b[39m\u001b[34mm1\u001b[39m(\u001b[38;5;28mself\u001b[39m):\n\u001b[32m---> \u001b[39m\u001b[32m13\u001b[39m  val=\u001b[38;5;28;43mself\u001b[39;49m\u001b[43m.\u001b[49m\u001b[43mm1\u001b[49m\u001b[43m(\u001b[49m\u001b[43m)\u001b[49m+\u001b[32m20\u001b[39m\n\u001b[32m     14\u001b[39m  \u001b[38;5;28;01mreturn\u001b[39;00m val\n",
      "\u001b[36mCell\u001b[39m\u001b[36m \u001b[39m\u001b[32mIn[71]\u001b[39m\u001b[32m, line 13\u001b[39m, in \u001b[36mC.m1\u001b[39m\u001b[34m(self)\u001b[39m\n\u001b[32m     12\u001b[39m \u001b[38;5;28;01mdef\u001b[39;00m\u001b[38;5;250m \u001b[39m\u001b[34mm1\u001b[39m(\u001b[38;5;28mself\u001b[39m):\n\u001b[32m---> \u001b[39m\u001b[32m13\u001b[39m  val=\u001b[38;5;28;43mself\u001b[39;49m\u001b[43m.\u001b[49m\u001b[43mm1\u001b[49m\u001b[43m(\u001b[49m\u001b[43m)\u001b[49m+\u001b[32m20\u001b[39m\n\u001b[32m     14\u001b[39m  \u001b[38;5;28;01mreturn\u001b[39;00m val\n",
      "    \u001b[31m[... skipping similar frames: C.m1 at line 13 (2970 times)]\u001b[39m\n",
      "\u001b[36mCell\u001b[39m\u001b[36m \u001b[39m\u001b[32mIn[71]\u001b[39m\u001b[32m, line 13\u001b[39m, in \u001b[36mC.m1\u001b[39m\u001b[34m(self)\u001b[39m\n\u001b[32m     12\u001b[39m \u001b[38;5;28;01mdef\u001b[39;00m\u001b[38;5;250m \u001b[39m\u001b[34mm1\u001b[39m(\u001b[38;5;28mself\u001b[39m):\n\u001b[32m---> \u001b[39m\u001b[32m13\u001b[39m  val=\u001b[38;5;28;43mself\u001b[39;49m\u001b[43m.\u001b[49m\u001b[43mm1\u001b[49m\u001b[43m(\u001b[49m\u001b[43m)\u001b[49m+\u001b[32m20\u001b[39m\n\u001b[32m     14\u001b[39m  \u001b[38;5;28;01mreturn\u001b[39;00m val\n",
      "\u001b[31mRecursionError\u001b[39m: maximum recursion depth exceeded"
     ]
    }
   ],
   "source": [
    "#question\n",
    "class A:\n",
    " def m1(self):\n",
    "  return 20\n",
    "\n",
    "class B(A):\n",
    " def m1(self):\n",
    "  val=super().m1()+30\n",
    "  return val\n",
    "\n",
    "class C(B):\n",
    " def m1(self):\n",
    "  val=self.m1()+20 #yha pe ye function baar baar khud hi ko repeat kiye ja rha hai isliye \n",
    "                   #recursion wali error aajayegi\n",
    "  return val\n",
    "\n",
    "obj =C()\n",
    "print(obj.m1())"
   ]
  },
  {
   "cell_type": "markdown",
   "metadata": {},
   "source": [
    "# 🔁 Polymorphism in Python\n",
    "\n",
    "## 🧠 What is Polymorphism?\n",
    "\n",
    "Polymorphism means \"**many forms**\". In Python, it refers to the ability of different classes to provide a different implementation for the **same method or function name**.\n",
    "\n",
    "---\n",
    "\n",
    "## ✅ Types of Polymorphism:\n",
    "\n",
    "| Type                  | Description                                                                 |\n",
    "|-----------------------|-----------------------------------------------------------------------------|\n",
    "| **1. Duck Typing**     | Python focuses on **behavior**, not the actual type (if it walks like a duck...) |\n",
    "| **2. Operator Overloading** | Use the same operator (`+`, `*`, etc.) for different meanings depending on the object |\n",
    "| **3. Method Overriding**    | Child class overrides a method of the parent class |\n",
    "| **4. Method Overloading**   | Same method name with different parameters (Python does not support true overloading but can mimic it) |\n",
    "\n",
    "---\n",
    "\n",
    "## 🦆 Example 1: Duck Typing\n",
    "\n",
    "```python\n",
    "class PyCharm:\n",
    "    def execute(self):\n",
    "        print(\"Compiling and Running in PyCharm\")\n",
    "\n",
    "class VSCode:\n",
    "    def execute(self):\n",
    "        print(\"Linting, Compiling and Running in VSCode\")\n",
    "\n",
    "def code(editor):\n",
    "    editor.execute()\n",
    "\n",
    "ide = PyCharm()\n",
    "code(ide)\n",
    "\n",
    "ide2 = VSCode()\n",
    "code(ide2)"
   ]
  },
  {
   "cell_type": "code",
   "execution_count": 73,
   "metadata": {},
   "outputs": [
    {
     "ename": "TypeError",
     "evalue": "Shape.area() missing 2 required positional arguments: 'b' and 'h'",
     "output_type": "error",
     "traceback": [
      "\u001b[31m---------------------------------------------------------------------------\u001b[39m",
      "\u001b[31mTypeError\u001b[39m                                 Traceback (most recent call last)",
      "\u001b[36mCell\u001b[39m\u001b[36m \u001b[39m\u001b[32mIn[73]\u001b[39m\u001b[32m, line 9\u001b[39m\n\u001b[32m      6\u001b[39m         \u001b[38;5;28;01mreturn\u001b[39;00m l*b*h\n\u001b[32m      8\u001b[39m s=Shape()\n\u001b[32m----> \u001b[39m\u001b[32m9\u001b[39m \u001b[43ms\u001b[49m\u001b[43m.\u001b[49m\u001b[43marea\u001b[49m\u001b[43m(\u001b[49m\u001b[32;43m1\u001b[39;49m\u001b[43m)\u001b[49m\n",
      "\u001b[31mTypeError\u001b[39m: Shape.area() missing 2 required positional arguments: 'b' and 'h'"
     ]
    }
   ],
   "source": [
    "#method Overloading\n",
    "class Shape:\n",
    "    def area(self,radius):\n",
    "        return 3.14*radius*radius\n",
    "    def area(self,l,b,h):\n",
    "        return l*b*h\n",
    "    \n",
    "s=Shape()\n",
    "s.area(1)\n",
    "# Python ke andar method overloading ka koi concept nahi hai because python say why we need \n",
    "#it if we can do the same problem like this below :"
   ]
  },
  {
   "cell_type": "code",
   "execution_count": 78,
   "metadata": {},
   "outputs": [
    {
     "name": "stdout",
     "output_type": "stream",
     "text": [
      "153.86\n",
      "6\n"
     ]
    }
   ],
   "source": [
    "class Shape:\n",
    "    \n",
    "    def area(self,a,b=0):\n",
    "        if b==0:\n",
    "            return 3.14*a*a\n",
    "        else:\n",
    "            return a*b\n",
    "        \n",
    "s=Shape()\n",
    "print(s.area(7))\n",
    "print(s.area(2,3))"
   ]
  },
  {
   "cell_type": "markdown",
   "metadata": {},
   "source": [
    "# Operator overloading\n",
    "**Same operator ka behaviour agar alag-alg ho when we give it alag-alg type ka Input**"
   ]
  },
  {
   "cell_type": "code",
   "execution_count": 79,
   "metadata": {},
   "outputs": [
    {
     "data": {
      "text/plain": [
       "'hellosujal'"
      ]
     },
     "execution_count": 79,
     "metadata": {},
     "output_type": "execute_result"
    }
   ],
   "source": [
    "#for example\n",
    "\"hello\"+\"sujal\""
   ]
  },
  {
   "cell_type": "code",
   "execution_count": 80,
   "metadata": {},
   "outputs": [
    {
     "data": {
      "text/plain": [
       "5"
      ]
     },
     "execution_count": 80,
     "metadata": {},
     "output_type": "execute_result"
    }
   ],
   "source": [
    "2+3"
   ]
  },
  {
   "cell_type": "code",
   "execution_count": 81,
   "metadata": {},
   "outputs": [
    {
     "data": {
      "text/plain": [
       "[1, 2, 3, 6, 7, 8]"
      ]
     },
     "execution_count": 81,
     "metadata": {},
     "output_type": "execute_result"
    }
   ],
   "source": [
    "[1,2,3]+[6,7,8]"
   ]
  },
  {
   "cell_type": "markdown",
   "metadata": {},
   "source": [
    "# Abstraction"
   ]
  },
  {
   "cell_type": "code",
   "execution_count": 19,
   "metadata": {},
   "outputs": [],
   "source": [
    "from abc import ABC,abstractmethod #importing abstract class\n",
    "class BankApp(ABC): #passing the abstract class\n",
    "    def database(self): \n",
    "        print(\"connected to Database...\")\n",
    "        \n",
    "    @abstractmethod #creating the abstract method --> ye ek security method hai jo ki \n",
    "    #humko baaki classes me add karna hoga jo iski properties ko inherit karna chaega taaki\n",
    "    #security bani rhe 🔐\n",
    "    def security(self):\n",
    "        pass"
   ]
  },
  {
   "cell_type": "code",
   "execution_count": 20,
   "metadata": {},
   "outputs": [],
   "source": [
    "class MobileApp(BankApp): #yha oe hum\n",
    "    \n",
    "    def mobile_login(self):\n",
    "        print(\"log in to mobile 👍🏼\")\n",
    "        \n",
    "    def security(self):\n",
    "        print(\"security aagyi bhai saheb ab program chl jayega\")\n",
    "obj=MobileApp()\n"
   ]
  },
  {
   "cell_type": "code",
   "execution_count": 24,
   "metadata": {},
   "outputs": [
    {
     "name": "stdout",
     "output_type": "stream",
     "text": [
      "connected to Database...\n",
      "None\n"
     ]
    }
   ],
   "source": [
    "print(obj.database())"
   ]
  }
 ],
 "metadata": {
  "kernelspec": {
   "display_name": "Python 3",
   "language": "python",
   "name": "python3"
  },
  "language_info": {
   "codemirror_mode": {
    "name": "ipython",
    "version": 3
   },
   "file_extension": ".py",
   "mimetype": "text/x-python",
   "name": "python",
   "nbconvert_exporter": "python",
   "pygments_lexer": "ipython3",
   "version": "3.11.9"
  }
 },
 "nbformat": 4,
 "nbformat_minor": 2
}
