{
 "cells": [
  {
   "cell_type": "code",
   "execution_count": null,
   "metadata": {},
   "outputs": [],
   "source": [
    "#Syntax to Create an object\n",
    "#objectname=classname()"
   ]
  },
  {
   "cell_type": "code",
   "execution_count": null,
   "metadata": {},
   "outputs": [],
   "source": [
    "#object literal\n",
    "l=[1,2,3,4,5]\n",
    "l"
   ]
  },
  {
   "cell_type": "code",
   "execution_count": null,
   "metadata": {},
   "outputs": [],
   "source": [
    "l=list()\n",
    "l"
   ]
  },
  {
   "cell_type": "code",
   "execution_count": null,
   "metadata": {},
   "outputs": [],
   "source": [
    "s=str()\n",
    "s"
   ]
  },
  {
   "cell_type": "markdown",
   "metadata": {},
   "source": [
    "# Creating An ATM Simulation"
   ]
  },
  {
   "cell_type": "code",
   "execution_count": null,
   "metadata": {},
   "outputs": [],
   "source": [
    "class Atm:\n",
    "    def __init__(self):\n",
    "        self.pin='pin'\n",
    "        self.balance=0\n",
    "        self.menu()\n",
    "    def menu(self):\n",
    "        user_input=input(\n",
    "            ''' \n",
    "            Enter 1 for Create Pin \n",
    "            Enter 2 for Change Pin\n",
    "            Enter 3 for Check bal\n",
    "            Enter 4 for Withdraw money\n",
    "            Enter 5 for Exit to main page \n",
    "            '''\n",
    "        )\n",
    "        \n",
    "        if user_input=='1':\n",
    "         self.createpin()\n",
    "        if user_input=='2':\n",
    "         self.changepin()\n",
    "        if user_input=='3':\n",
    "         self.check_balance()\n",
    "        if user_input=='4':\n",
    "            self.withdraw()\n",
    "        else:\n",
    "         print(\"Exiting , Thank you for using our service\")\n",
    "    \n",
    "    def createpin(self):\n",
    "     user_pin = input(\"Enter your new PIN: \")\n",
    "     self.pin = user_pin\n",
    "    \n",
    "     user_balance = input(\"Enter Your Balance: \")\n",
    "     self.balance = int(user_balance)  # <-- FIX HERE\n",
    "    \n",
    "     print(\"Your PIN is set successfully.\")\n",
    "     self.menu()\n",
    "        \n",
    "    def changepin(self):\n",
    "        old_pin=input(\"Enter your previous pin\")\n",
    "        if old_pin==self.pin:\n",
    "            new_pin=input(\"Enter youe new pin:\")\n",
    "            self.pin=new_pin\n",
    "            print(\"New pin set successfully\")\n",
    "        else:\n",
    "            print(\"Wrong pin , Please Enter again...\")\n",
    "        self.menu()\n",
    "        \n",
    "    def check_balance(self):\n",
    "        user_pin=input(\"Enter your pin\")\n",
    "        if user_pin == self.pin:\n",
    "            print(\"your balance is \",self.balance)\n",
    "        else:\n",
    "            print(\"Chal nikal bhai yha se \")\n",
    "        self.menu()\n",
    "        \n",
    "    def withdraw(self):\n",
    "     user_pin = input('Enter the pin: ')\n",
    "     if user_pin == self.pin:\n",
    "        # Allow to withdraw\n",
    "        amount = int(input('Enter the amount: '))\n",
    "        if amount <= self.balance:\n",
    "            self.balance = self.balance - amount\n",
    "            print('Withdrawal successful. Balance is', self.balance)\n",
    "        else:\n",
    "            print('abe garib')\n",
    "     else:\n",
    "        print('sale chor')\n",
    "     self.menu()\n",
    "\n",
    "# Run the ATM program\n",
    "        "
   ]
  },
  {
   "cell_type": "code",
   "execution_count": null,
   "metadata": {},
   "outputs": [],
   "source": [
    "obj=Atm()"
   ]
  },
  {
   "cell_type": "code",
   "execution_count": null,
   "metadata": {},
   "outputs": [],
   "source": [
    "l=[1,2,3,4]\n",
    "len(l) #len is a function because it is outside of the class\n",
    "l.append(5) # append is a method because it is in the list class\n",
    "l"
   ]
  },
  {
   "cell_type": "code",
   "execution_count": null,
   "metadata": {},
   "outputs": [],
   "source": [
    "#let I am doing a calculation \n",
    "5/2*10/2\n",
    "# output came in float but we want in fraction \n",
    "# so we create a new datatype"
   ]
  },
  {
   "cell_type": "code",
   "execution_count": 173,
   "metadata": {},
   "outputs": [],
   "source": [
    "class Fraction:\n",
    "    # parameterized Constructor\n",
    "    def __init__(self,x,y):\n",
    "        self.numerator=x\n",
    "        self.denominator=y\n",
    "    def __str__(self):\n",
    "        return \"{}/{}\".format(self.numerator,self.denominator)\n",
    "    def __add__(self,other):\n",
    "        new_numerator=self.numerator*other.denominator + self.denominator*other.numerator\n",
    "        new_denominator=self.denominator*other.denominator\n",
    "        return \"{}/{}\".format(new_numerator,new_denominator)\n",
    "    def __sub__(self,other):\n",
    "        new_numerator=self.numerator*other.denominator - self.denominator*other.numerator\n",
    "        new_denominator=self.denominator*other.denominator\n",
    "        return \"{}/{}\".format(new_numerator,new_denominator)\n",
    "    def __mul__(self,other):\n",
    "        new_numerator=self.numerator*other.numerator * self.denominator*other.denominator\n",
    "        new_denominator=self.denominator*other.denominator\n",
    "        return \"{}/{}\".format(new_numerator,new_denominator)\n",
    "    def __truediv__(self,other):\n",
    "        new_numerator=self.numerator*other.denominator / self.denominator*other.numerator\n",
    "        new_denominator=self.denominator/other.denominator\n",
    "        return \"{}/{}\".format(new_numerator,new_denominator)"
   ]
  },
  {
   "cell_type": "code",
   "execution_count": null,
   "metadata": {},
   "outputs": [],
   "source": [
    "frac=Fraction(2,3)"
   ]
  },
  {
   "cell_type": "code",
   "execution_count": null,
   "metadata": {},
   "outputs": [],
   "source": [
    "print(frac)\n",
    "# numerator/denominator aisa dikhana chahiye tha par aisa nhai dikh rha\n",
    "# isliye humne upar __str__ magic method ko use kiya jo  ki batayega ki humko expected ouput kaisa chahiye"
   ]
  },
  {
   "cell_type": "code",
   "execution_count": null,
   "metadata": {},
   "outputs": [],
   "source": [
    "print(type(frac))"
   ]
  },
  {
   "cell_type": "code",
   "execution_count": 175,
   "metadata": {},
   "outputs": [
    {
     "name": "stdout",
     "output_type": "stream",
     "text": [
      "8.0/0.75\n"
     ]
    }
   ],
   "source": [
    "frac=Fraction(2,3)\n",
    "frac2=Fraction(3,4)\n",
    "print(frac/frac2)"
   ]
  }
 ],
 "metadata": {
  "kernelspec": {
   "display_name": "Python 3",
   "language": "python",
   "name": "python3"
  },
  "language_info": {
   "codemirror_mode": {
    "name": "ipython",
    "version": 3
   },
   "file_extension": ".py",
   "mimetype": "text/x-python",
   "name": "python",
   "nbconvert_exporter": "python",
   "pygments_lexer": "ipython3",
   "version": "3.11.9"
  }
 },
 "nbformat": 4,
 "nbformat_minor": 2
}
