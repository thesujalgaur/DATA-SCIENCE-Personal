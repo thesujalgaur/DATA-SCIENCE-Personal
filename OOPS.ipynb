{
 "cells": [
  {
   "cell_type": "code",
   "execution_count": null,
   "metadata": {},
   "outputs": [],
   "source": [
    "#Syntax to Create an object\n",
    "#objectname=classname()"
   ]
  },
  {
   "cell_type": "code",
   "execution_count": null,
   "metadata": {},
   "outputs": [],
   "source": [
    "#object literal\n",
    "l=[1,2,3,4,5]\n",
    "l"
   ]
  },
  {
   "cell_type": "code",
   "execution_count": null,
   "metadata": {},
   "outputs": [],
   "source": [
    "l=list()\n",
    "l"
   ]
  },
  {
   "cell_type": "code",
   "execution_count": null,
   "metadata": {},
   "outputs": [],
   "source": [
    "s=str()\n",
    "s"
   ]
  },
  {
   "cell_type": "markdown",
   "metadata": {},
   "source": [
    "# Creating An ATM Simulation"
   ]
  },
  {
   "cell_type": "code",
   "execution_count": null,
   "metadata": {},
   "outputs": [],
   "source": [
    "class Atm:\n",
    "    def __init__(self):\n",
    "        self.pin='pin'\n",
    "        self.balance=0\n",
    "        self.menu()\n",
    "    def menu(self):\n",
    "        user_input=input(\n",
    "            ''' \n",
    "            Enter 1 for Create Pin \n",
    "            Enter 2 for Change Pin\n",
    "            Enter 3 for Check bal\n",
    "            Enter 4 for Withdraw money\n",
    "            Enter 5 for Exit to main page \n",
    "            '''\n",
    "        )\n",
    "        \n",
    "        if user_input=='1':\n",
    "         self.createpin()\n",
    "        if user_input=='2':\n",
    "         self.changepin()\n",
    "        if user_input=='3':\n",
    "         self.check_balance()\n",
    "        if user_input=='4':\n",
    "            self.withdraw()\n",
    "        else:\n",
    "         print(\"Exiting , Thank you for using our service\")\n",
    "    \n",
    "    def createpin(self):\n",
    "     user_pin = input(\"Enter your new PIN: \")\n",
    "     self.pin = user_pin\n",
    "    \n",
    "     user_balance = input(\"Enter Your Balance: \")\n",
    "     self.balance = int(user_balance)  # <-- FIX HERE\n",
    "    \n",
    "     print(\"Your PIN is set successfully.\")\n",
    "     self.menu()\n",
    "        \n",
    "    def changepin(self):\n",
    "        old_pin=input(\"Enter your previous pin\")\n",
    "        if old_pin==self.pin:\n",
    "            new_pin=input(\"Enter youe new pin:\")\n",
    "            self.pin=new_pin\n",
    "            print(\"New pin set successfully\")\n",
    "        else:\n",
    "            print(\"Wrong pin , Please Enter again...\")\n",
    "        self.menu()\n",
    "        \n",
    "    def check_balance(self):\n",
    "        user_pin=input(\"Enter your pin\")\n",
    "        if user_pin == self.pin:\n",
    "            print(\"your balance is \",self.balance)\n",
    "        else:\n",
    "            print(\"Chal nikal bhai yha se \")\n",
    "        self.menu()\n",
    "        \n",
    "    def withdraw(self):\n",
    "     user_pin = input('Enter the pin: ')\n",
    "     if user_pin == self.pin:\n",
    "        # Allow to withdraw\n",
    "        amount = int(input('Enter the amount: '))\n",
    "        if amount <= self.balance:\n",
    "            self.balance = self.balance - amount\n",
    "            print('Withdrawal successful. Balance is', self.balance)\n",
    "        else:\n",
    "            print('abe garib')\n",
    "     else:\n",
    "        print('sale chor')\n",
    "     self.menu()\n",
    "\n",
    "# Run the ATM program\n",
    "        "
   ]
  },
  {
   "cell_type": "code",
   "execution_count": null,
   "metadata": {},
   "outputs": [],
   "source": [
    "obj=Atm()"
   ]
  },
  {
   "cell_type": "code",
   "execution_count": null,
   "metadata": {},
   "outputs": [],
   "source": [
    "l=[1,2,3,4]\n",
    "len(l) #len is a function because it is outside of the class\n",
    "l.append(5) # append is a method because it is in the list class\n",
    "l"
   ]
  },
  {
   "cell_type": "code",
   "execution_count": null,
   "metadata": {},
   "outputs": [],
   "source": [
    "#let I am doing a calculation \n",
    "5/2*10/2\n",
    "# output came in float but we want in fraction \n",
    "# so we create a new datatype"
   ]
  },
  {
   "cell_type": "code",
   "execution_count": null,
   "metadata": {},
   "outputs": [],
   "source": [
    "class Fraction:\n",
    "    # parameterized Constructor\n",
    "    def __init__(self,x,y):\n",
    "        self.numerator=x\n",
    "        self.denominator=y\n",
    "    def __str__(self):\n",
    "        return \"{}/{}\".format(self.numerator,self.denominator)\n",
    "    def __add__(self,other):\n",
    "        new_numerator=self.numerator*other.denominator + self.denominator*other.numerator\n",
    "        new_denominator=self.denominator*other.denominator\n",
    "        return \"{}/{}\".format(new_numerator,new_denominator)\n",
    "    def __sub__(self,other):\n",
    "        new_numerator=self.numerator*other.denominator - self.denominator*other.numerator\n",
    "        new_denominator=self.denominator*other.denominator\n",
    "        return \"{}/{}\".format(new_numerator,new_denominator)\n",
    "    def __mul__(self,other):\n",
    "        new_numerator=self.numerator*other.numerator * self.denominator*other.denominator\n",
    "        new_denominator=self.denominator*other.denominator\n",
    "        return \"{}/{}\".format(new_numerator,new_denominator)\n",
    "    def __truediv__(self,other):\n",
    "        new_numerator=self.numerator*other.denominator / self.denominator*other.numerator\n",
    "        new_denominator=self.denominator/other.denominator\n",
    "        return \"{}/{}\".format(new_numerator,new_denominator)"
   ]
  },
  {
   "cell_type": "code",
   "execution_count": null,
   "metadata": {},
   "outputs": [],
   "source": [
    "frac=Fraction(2,3)"
   ]
  },
  {
   "cell_type": "code",
   "execution_count": null,
   "metadata": {},
   "outputs": [],
   "source": [
    "print(frac)\n",
    "# numerator/denominator aisa dikhana chahiye tha par aisa nhai dikh rha\n",
    "# isliye humne upar __str__ magic method ko use kiya jo  ki batayega ki humko expected ouput kaisa chahiye"
   ]
  },
  {
   "cell_type": "code",
   "execution_count": null,
   "metadata": {},
   "outputs": [],
   "source": [
    "print(type(frac))"
   ]
  },
  {
   "cell_type": "code",
   "execution_count": null,
   "metadata": {},
   "outputs": [],
   "source": [
    "frac=Fraction(2,3)\n",
    "frac2=Fraction(3,4)\n",
    "print(frac/frac2)"
   ]
  },
  {
   "cell_type": "markdown",
   "metadata": {},
   "source": [
    "# Write OOP classes to handle the following scenarios:\n",
    "1. • A user can create and view 2D coordinates\n",
    "2. • A user can find out the distance between 2 coordinates\n",
    "3. • A user can find find the distance of a coordinate from origin\n",
    "4. • A user can check if a point lies on a given line\n",
    "5. • A user can find the distance between a given 2D point and a given line"
   ]
  },
  {
   "cell_type": "code",
   "execution_count": 16,
   "metadata": {},
   "outputs": [],
   "source": [
    "class Point:\n",
    "    def __init__(self,x,y):\n",
    "        self.x_cod=x\n",
    "        self.y_cod=y\n",
    "    \n",
    "    def __str__(self):\n",
    "        return \"{},{}\".format(self.x_cod,self.y_cod)\n",
    "    \n",
    "    def eucledean_distance(self,other):\n",
    "       return ((self.x_cod-other.x_cod)**2 + (self.y_cod-other.y_cod)**2)**0.5\n",
    "   \n",
    "    def dist_from_origin(self):\n",
    "       #return self.eucledean_distance(Point(0,0))\n",
    "       return (self.x_cod**2 + self.y_cod**2)**0.5\n",
    "        \n",
    "class Line:\n",
    "    def __init__(self,A,B,C):\n",
    "        self.A=A\n",
    "        self.B=B\n",
    "        self.C=C\n",
    "        \n",
    "    def __str__(self):\n",
    "      return '{}x + {}y +{}=0'.format(self.A,self.B,self.C)\n",
    "\n",
    "    def point_on_line(line,point):\n",
    "        if line.A*point.x_cod + line.B*point.y_cod + line.C ==0:\n",
    "            return \"haan bhaisaheb point lie karta hai \"\n",
    "        else :\n",
    "            return \"Nahi bhai saheb  nahi karta lie \"\n",
    "        \n",
    "    def shortest_distance(line,point):\n",
    "        return abs(line.A*point.x_cod+line.B*point.y_cod+line.C) / (line.A**2+line.B**2)**0.5"
   ]
  },
  {
   "cell_type": "code",
   "execution_count": 20,
   "metadata": {},
   "outputs": [
    {
     "data": {
      "text/plain": [
       "0.0"
      ]
     },
     "execution_count": 20,
     "metadata": {},
     "output_type": "execute_result"
    }
   ],
   "source": [
    "l1=Line(1,1,0)\n",
    "p1=Point(1,-1)\n",
    "l1.point_on_line(p1)\n",
    "l1.shortest_distance(p1)"
   ]
  },
  {
   "cell_type": "markdown",
   "metadata": {},
   "source": [
    "# How object access attributes"
   ]
  },
  {
   "cell_type": "code",
   "execution_count": 37,
   "metadata": {},
   "outputs": [],
   "source": [
    "class Person:\n",
    "    def __init__(self,name,country):\n",
    "        self.name=name\n",
    "        self.country=country\n",
    "    def greet(self):\n",
    "        if self.country=='india':\n",
    "            print(\"namaste\",self.name)\n",
    "        else:\n",
    "            print(\"hello\",self.name)"
   ]
  },
  {
   "cell_type": "code",
   "execution_count": 51,
   "metadata": {},
   "outputs": [
    {
     "name": "stdout",
     "output_type": "stream",
     "text": [
      "namaste sujal\n"
     ]
    }
   ],
   "source": [
    "#how to access atrribute \n",
    "P=Person(\"sujal\",\"india\")\n",
    "P.greet()\n",
    "\n",
    "\n"
   ]
  },
  {
   "cell_type": "code",
   "execution_count": 52,
   "metadata": {},
   "outputs": [],
   "source": [
    "#what if i tried to access non existing attribute\n",
    "P.gender='male'"
   ]
  },
  {
   "cell_type": "code",
   "execution_count": 53,
   "metadata": {},
   "outputs": [
    {
     "data": {
      "text/plain": [
       "'male'"
      ]
     },
     "execution_count": 53,
     "metadata": {},
     "output_type": "execute_result"
    }
   ],
   "source": [
    "P.gender"
   ]
  },
  {
   "cell_type": "markdown",
   "metadata": {},
   "source": [
    "# Reference Variable \n"
   ]
  },
  {
   "cell_type": "code",
   "execution_count": 59,
   "metadata": {},
   "outputs": [],
   "source": [
    "class Person:\n",
    "    def __init__(self):\n",
    "        self.name=\"sujal\"\n",
    "        self.gender='Male'\n",
    "        \n",
    "p=Person()\n",
    "q=p\n"
   ]
  },
  {
   "cell_type": "code",
   "execution_count": 62,
   "metadata": {},
   "outputs": [
    {
     "name": "stdout",
     "output_type": "stream",
     "text": [
      "4374662928\n",
      "4374662928\n"
     ]
    }
   ],
   "source": [
    "#Multiple Reference\n",
    "print(id(p))\n",
    "print(id(q))"
   ]
  },
  {
   "cell_type": "code",
   "execution_count": 65,
   "metadata": {},
   "outputs": [
    {
     "name": "stdout",
     "output_type": "stream",
     "text": [
      "MAdhur\n",
      "MAdhur\n",
      "MAdhur\n",
      "MAdhur\n"
     ]
    }
   ],
   "source": [
    "print(p.name)\n",
    "print(q.name)\n",
    "q.name='MAdhur' # if i make change in object variable then the refrence varible will also change .\n",
    "print(p.name)\n",
    "print(q.name)"
   ]
  },
  {
   "cell_type": "markdown",
   "metadata": {},
   "source": [
    "# Pass By Reference "
   ]
  },
  {
   "cell_type": "code",
   "execution_count": 75,
   "metadata": {},
   "outputs": [
    {
     "name": "stdout",
     "output_type": "stream",
     "text": [
      "4368471824\n",
      "4368471824\n",
      "ankit\n",
      "ankit\n"
     ]
    }
   ],
   "source": [
    "class Person:\n",
    "    def __init__(self,name,gender):\n",
    "        self.name=name\n",
    "        self.gender=gender\n",
    "#outside the class create a fxn\n",
    "def greet(person):\n",
    "    print(id(person))\n",
    "    person.name='ankit'\n",
    "    print(person.name)\n",
    "    \n",
    "p=Person('sujal',\"male\")\n",
    "print(id(p))\n",
    "greet(p)\n",
    "print(p.name)\n"
   ]
  },
  {
   "cell_type": "markdown",
   "metadata": {},
   "source": [
    "# Object ki Mutability"
   ]
  },
  {
   "cell_type": "code",
   "execution_count": 76,
   "metadata": {},
   "outputs": [
    {
     "name": "stdout",
     "output_type": "stream",
     "text": [
      "4376467088\n",
      "4376467088\n"
     ]
    }
   ],
   "source": [
    "class Person:\n",
    "    def __init__(self,name,gender):\n",
    "        self.name=name\n",
    "        self.gender=gender\n",
    "#outside the class create a fxn\n",
    "def greet(person):\n",
    "    person.name='ankit'\n",
    "p=Person('sujal',\"male\")\n",
    "print(id(p))\n",
    "greet(p)\n",
    "print (id(p))\n",
    "# when we see thememory location before and after the change of the person name we'll see \n",
    "#that the both memory address are same that means \"OBJECT\" is mutable.\n"
   ]
  },
  {
   "cell_type": "markdown",
   "metadata": {},
   "source": [
    "## **Encapsulation**\n",
    " "
   ]
  },
  {
   "cell_type": "code",
   "execution_count": 38,
   "metadata": {},
   "outputs": [],
   "source": [
    "class Atm:\n",
    "    def __init__(self):\n",
    "        self.pin='pin'\n",
    "        self.__balance=0\n",
    "        #self.menu()\n",
    "    def get_balance(self):\n",
    "        return self.__balance\n",
    "    \n",
    "    def set_balance(self,new_value):\n",
    "        if type(new_value)==int:\n",
    "         self.__balance=new_value\n",
    "        else:\n",
    "            print(\"bhai please , Thodi toh sharam , laaz haya h ki nahi tujhme \")\n",
    "            \n",
    "    def menu(self):\n",
    "        user_input=input(\n",
    "            ''' \n",
    "            Enter 1 for Create Pin \n",
    "            Enter 2 for Change Pin\n",
    "            Enter 3 for Check bal\n",
    "            Enter 4 for Withdraw money\n",
    "            Enter 5 for Exit to main page \n",
    "            '''\n",
    "        )\n",
    "        \n",
    "        if user_input=='1':\n",
    "         self.createpin()\n",
    "        if user_input=='2':\n",
    "         self.changepin()\n",
    "        if user_input=='3':\n",
    "         self.check_balance()\n",
    "        if user_input=='4':\n",
    "            self.withdraw()\n",
    "        else:\n",
    "         print(\"Exiting , Thank you for using our service\")\n",
    "    \n",
    "    def createpin(self):\n",
    "     user_pin = input(\"Enter your new PIN: \")\n",
    "     self.pin = user_pin\n",
    "    \n",
    "     user_balance = input(\"Enter Your Balance: \")\n",
    "     self.__balance = int(user_balance)  # <-- FIX HERE\n",
    "    \n",
    "     print(\"Your PIN is set successfully.\")\n",
    "     self.menu()\n",
    "        \n",
    "    def changepin(self):\n",
    "        old_pin=input(\"Enter your previous pin\")\n",
    "        if old_pin==self.pin:\n",
    "            new_pin=input(\"Enter youe new pin:\")\n",
    "            self.pin=new_pin\n",
    "            print(\"New pin set successfully\")\n",
    "        else:\n",
    "            print(\"Wrong pin , Please Enter again...\")\n",
    "        self.menu()\n",
    "        \n",
    "    def check_balance(self):\n",
    "        user_pin=input(\"Enter your pin\")\n",
    "        if user_pin == self.pin:\n",
    "            print(\"your balance is \",self.__balance)\n",
    "        else:\n",
    "            print(\"Chal nikal bhai yha se \")\n",
    "        self.menu()\n",
    "        \n",
    "    def withdraw(self):\n",
    "     user_pin = input('Enter the pin: ')\n",
    "     if user_pin == self.pin:\n",
    "        # Allow to withdraw\n",
    "        amount = int(input('Enter the amount: '))\n",
    "        if amount <= self.__balance:\n",
    "            self.__balance = self.__balance - amount\n",
    "            print('Withdrawal successful. Balance is', self.__balance)\n",
    "        else:\n",
    "            print('abe garib')\n",
    "     else:\n",
    "        print('sale chor')\n",
    "     self.menu()\n",
    "\n",
    "# Run the ATM program\n",
    "        "
   ]
  },
  {
   "cell_type": "code",
   "execution_count": 17,
   "metadata": {},
   "outputs": [],
   "source": [
    "obj=Atm()"
   ]
  },
  {
   "cell_type": "code",
   "execution_count": 46,
   "metadata": {},
   "outputs": [
    {
     "data": {
      "text/plain": [
       "5000"
      ]
     },
     "execution_count": 46,
     "metadata": {},
     "output_type": "execute_result"
    }
   ],
   "source": [
    "obj.get_balance()"
   ]
  },
  {
   "cell_type": "code",
   "execution_count": 44,
   "metadata": {},
   "outputs": [
    {
     "name": "stdout",
     "output_type": "stream",
     "text": [
      "<__main__.Atm object at 0x1072ab3d0>\n"
     ]
    }
   ],
   "source": [
    "obj.set_balance('hehehehhe')\n",
    "print(obj)\n"
   ]
  },
  {
   "cell_type": "code",
   "execution_count": 89,
   "metadata": {},
   "outputs": [],
   "source": [
    "class Employee :\n",
    "    def __init__(self,name,salary):\n",
    "        self.name=name\n",
    "        self.__salary=salary\n",
    "    def get_salary(self):\n",
    "        return self.__salary\n",
    "    def increment_salary(self,amount):\n",
    "        if amount>0:\n",
    "         self.__salary+=amount\n",
    "        else:\n",
    "            print(\"Invalid increment amounut \")\n",
    "    def decrement_salary(self,amount):\n",
    "        if 0< amount >self.__salary:\n",
    "            self.__salary-=amount\n",
    "        else:\n",
    "            print(\"INvalid Deduction or Unsufficient increment\")\n",
    "        "
   ]
  },
  {
   "cell_type": "code",
   "execution_count": 93,
   "metadata": {},
   "outputs": [
    {
     "name": "stdout",
     "output_type": "stream",
     "text": [
      "INvalid Deduction or Unsufficient increment\n"
     ]
    }
   ],
   "source": [
    "emp=Employee(\"sujal\",3000)\n",
    "emp.get_salary()\n",
    "emp.decrement_salary(1000)"
   ]
  },
  {
   "cell_type": "markdown",
   "metadata": {},
   "source": [
    "# Collection of objects"
   ]
  },
  {
   "cell_type": "code",
   "execution_count": 76,
   "metadata": {},
   "outputs": [
    {
     "name": "stdout",
     "output_type": "stream",
     "text": [
      "sujal male\n",
      "Mayank male\n",
      "vanshika female\n"
     ]
    }
   ],
   "source": [
    "#Lists of object\n",
    "class Person:\n",
    "    def __init__(self,name,gender):\n",
    "        self.name=name\n",
    "        self.gender=gender\n",
    "        \n",
    "\n",
    "p1=Person(\"sujal\",\"male\")\n",
    "p2=Person(\"Mayank\",\"male\")\n",
    "p3=Person(\"vanshika\",\"female\")\n",
    "\n",
    "l=[p1,p2,p3]\n",
    "for i in l:\n",
    "    print(i.name,i.gender)"
   ]
  },
  {
   "cell_type": "code",
   "execution_count": 82,
   "metadata": {},
   "outputs": [
    {
     "name": "stdout",
     "output_type": "stream",
     "text": [
      "sujal male\n",
      "Mayank male\n",
      "vanshika female\n"
     ]
    }
   ],
   "source": [
    "# Dictioinary of object\n",
    "#Lists of object\n",
    "class Person:\n",
    "    def __init__(self,name,gender):\n",
    "        self.name=name\n",
    "        self.gender=gender\n",
    "        \n",
    "\n",
    "p1=Person(\"sujal\",\"male\")\n",
    "p2=Person(\"Mayank\",\"male\")\n",
    "p3=Person(\"vanshika\",\"female\")\n",
    "\n",
    "d={'p1':p1,'p2':p2,'p3':p3}\n",
    "\n",
    "for i in d:\n",
    "    print(d[i].name,d[i].gender)"
   ]
  },
  {
   "cell_type": "markdown",
   "metadata": {},
   "source": [
    "# Static Variable vs (Instance Variable)"
   ]
  },
  {
   "cell_type": "code",
   "execution_count": 169,
   "metadata": {},
   "outputs": [],
   "source": [
    "class Atm:\n",
    "    __counter=1     #__counter ko class me isliye rkha h kyu ki ye humara static keyword h \n",
    "    #jika object se koi lena dena nahi hai .\n",
    "    #static variable ka value har object ke liye same hota h ... agr isko me apne coonstructor me \n",
    "    #likhta to again and again mere pass ek hi value aati but 'customer id \" to har customer\n",
    "    #ki different hoti hai is liye hum isko class ke andar define karte hai \n",
    "    \n",
    "    # agar mera juniore programmer bhaisaheb wapis aajata h masti karne to hum \n",
    "    #kya krenge apne static variable ko bhi private kar denge \n",
    "    \n",
    "    def __init__(self):\n",
    "        self.pin='pin'\n",
    "        self.__balance=0\n",
    "        self.cid=Atm.__counter\n",
    "        Atm.__counter+=1\n",
    "        #self.menu()\n",
    "        \n",
    "    #utility Functions --> inko call karne ke liye object banane ki jarurat nahi h \n",
    "    #aisa function jo chhote mote kaamo ko kar de aur jink object nhi chahiye \n",
    "    @staticmethod\n",
    "    def get_counter(): # if self is not in use instead of that we left it empty\n",
    "                       # now this is not a object method it's an class method\n",
    "                       #because we are not using self\"current object\"for it.\n",
    "        return Atm.__counter\n",
    "    #for accessing this kind of methods we use --> class name.method name use karte h 😉\n",
    "    \n",
    "    \n",
    "    \n",
    "    #Getter and setter\n",
    "    \n",
    "    #1.Getter: Returns the value of the private variable\n",
    "    def get_balance(self): \n",
    "        return self.__balance\n",
    "    \n",
    "    #2.# Setter: Updates the private variable with validation\n",
    "    def set_balance(self,new_value):\n",
    "        if type(new_value)==int:\n",
    "         self.__balance=new_value\n",
    "        else:\n",
    "            print(\"bhai please , Thodi toh sharam , laaz haya h ki nahi tujhme \")\n",
    "            \n",
    "    def menu(self):\n",
    "        user_input=input(\n",
    "            ''' \n",
    "            Enter 1 for Create Pin \n",
    "            Enter 2 for Change Pin\n",
    "            Enter 3 for Check bal\n",
    "            Enter 4 for Withdraw money\n",
    "            Enter 5 for Exit to main page \n",
    "            '''\n",
    "        )\n",
    "        \n",
    "        if user_input=='1':\n",
    "         self.createpin()\n",
    "        if user_input=='2':\n",
    "         self.changepin()\n",
    "        if user_input=='3':\n",
    "         self.check_balance()\n",
    "        if user_input=='4':\n",
    "            self.withdraw()\n",
    "        else:\n",
    "         print(\"Exiting , Thank you for using our service\")\n",
    "    \n",
    "    def createpin(self):\n",
    "     user_pin = input(\"Enter your new PIN: \")\n",
    "     self.pin = user_pin\n",
    "    \n",
    "     user_balance = input(\"Enter Your Balance: \")\n",
    "     self.__balance = int(user_balance)  \n",
    "    \n",
    "     print(\"Your PIN is set successfully.\")\n",
    "     self.menu()\n",
    "        \n",
    "    def changepin(self):\n",
    "        old_pin=input(\"Enter your previous pin\")\n",
    "        if old_pin==self.pin:\n",
    "            new_pin=input(\"Enter youe new pin:\")\n",
    "            self.pin=new_pin\n",
    "            print(\"New pin set successfully\")\n",
    "        else:\n",
    "            print(\"Wrong pin , Please Enter again...\")\n",
    "        self.menu()\n",
    "        \n",
    "    def check_balance(self):\n",
    "        user_pin=input(\"Enter your pin\")\n",
    "        if user_pin == self.pin:\n",
    "            print(\"your balance is \",self.__balance)\n",
    "        else:\n",
    "            print(\"Chal nikal bhai yha se \")\n",
    "        self.menu()\n",
    "        \n",
    "    def withdraw(self):\n",
    "     user_pin = input('Enter the pin: ')\n",
    "     if user_pin == self.pin:\n",
    "        # Allow to withdraw\n",
    "        amount = int(input('Enter the amount: '))\n",
    "        if amount <= self.__balance:\n",
    "            self.__balance = self.__balance - amount\n",
    "            print('Withdrawal successful. Balance is', self.__balance)\n",
    "        else:\n",
    "            print('abe garib')\n",
    "     else:\n",
    "        print('sale chor')\n",
    "     self.menu()"
   ]
  },
  {
   "cell_type": "code",
   "execution_count": 152,
   "metadata": {},
   "outputs": [
    {
     "name": "stdout",
     "output_type": "stream",
     "text": [
      "<__main__.Atm object at 0x107325d50>\n"
     ]
    }
   ],
   "source": [
    "c1=Atm()\n",
    "print(c1)"
   ]
  },
  {
   "cell_type": "code",
   "execution_count": 151,
   "metadata": {},
   "outputs": [
    {
     "data": {
      "text/plain": [
       "<__main__.Atm at 0x1073cd350>"
      ]
     },
     "execution_count": 151,
     "metadata": {},
     "output_type": "execute_result"
    }
   ],
   "source": [
    "c2=Atm()\n",
    "c2"
   ]
  },
  {
   "cell_type": "code",
   "execution_count": 165,
   "metadata": {},
   "outputs": [
    {
     "data": {
      "text/plain": [
       "<__main__.Atm at 0x10744bfd0>"
      ]
     },
     "execution_count": 165,
     "metadata": {},
     "output_type": "execute_result"
    }
   ],
   "source": [
    "c3=Atm()\n",
    "c3"
   ]
  },
  {
   "cell_type": "code",
   "execution_count": 164,
   "metadata": {},
   "outputs": [
    {
     "data": {
      "text/plain": [
       "4"
      ]
     },
     "execution_count": 164,
     "metadata": {},
     "output_type": "execute_result"
    }
   ],
   "source": [
    "c1.cid"
   ]
  },
  {
   "cell_type": "code",
   "execution_count": 160,
   "metadata": {},
   "outputs": [
    {
     "data": {
      "text/plain": [
       "3"
      ]
     },
     "execution_count": 160,
     "metadata": {},
     "output_type": "execute_result"
    }
   ],
   "source": [
    "c2.cid"
   ]
  },
  {
   "cell_type": "code",
   "execution_count": 168,
   "metadata": {},
   "outputs": [
    {
     "data": {
      "text/plain": [
       "1"
      ]
     },
     "execution_count": 168,
     "metadata": {},
     "output_type": "execute_result"
    }
   ],
   "source": [
    "c3.cid"
   ]
  },
  {
   "cell_type": "code",
   "execution_count": 162,
   "metadata": {},
   "outputs": [],
   "source": [
    "Atm.counter='heheheheheh'"
   ]
  },
  {
   "cell_type": "markdown",
   "metadata": {},
   "source": [
    "# Class Realtionships\n",
    "1. **Aggregation**\n",
    "2. **Inheritance**"
   ]
  },
  {
   "cell_type": "code",
   "execution_count": 198,
   "metadata": {},
   "outputs": [
    {
     "name": "stdout",
     "output_type": "stream",
     "text": [
      "jaipur 302031 Rajasthan\n",
      "Panji 3203032 Goa\n"
     ]
    }
   ],
   "source": [
    "class Customer:\n",
    "    def __init__(self, name, gender, address):\n",
    "        self.name = name\n",
    "        self.gender = gender\n",
    "        self.address = address\n",
    "        \n",
    "    def print_address(self):\n",
    "        print(self.address.get_city(),self.address.pin,self.address.state)\n",
    "        \n",
    "        \n",
    "        # Another way we can use like this to access private variables :\n",
    "        #print(self.address._Address__city,self.address.pin,self.address.state)\n",
    "        \n",
    "    def edit_profile(self,new_name,new_city,new_pin,new_state):\n",
    "        self.name=new_name\n",
    "        self.address.edit_address(new_city,new_pin,new_state)\n",
    "    \n",
    "\n",
    "    \n",
    "class Address:\n",
    "    def __init__(self, city, pin, state):\n",
    "        self.__city = city # YAha pe maine apni city ke variable ko private kar diya\n",
    "        #to kya ab isko me access kar paunga dusri class se : Answer is no --> it'll \n",
    "        #throw  Attribute error so what we do we use getter method\n",
    "        self.pin = pin\n",
    "        self.state = state\n",
    "        \n",
    "    def get_city(self):\n",
    "        return self.__city\n",
    "    \n",
    "    def edit_address(self,new_city,new_pin,new_state):\n",
    "        self.__city=new_city\n",
    "        self.pin=new_pin\n",
    "        self.state=new_state\n",
    "        \n",
    "add=Address(\"jaipur\",302031,\"Rajasthan\")       \n",
    "Cust = Customer(\"Sujal\",\"male\",add) \n",
    "\n",
    "\n",
    "Cust.print_address()\n",
    "Cust.edit_profile(\"Ankur\",\"Panji\",3203032,\"Goa\")\n",
    "Cust.print_address()\n"
   ]
  }
 ],
 "metadata": {
  "kernelspec": {
   "display_name": "Python 3",
   "language": "python",
   "name": "python3"
  },
  "language_info": {
   "codemirror_mode": {
    "name": "ipython",
    "version": 3
   },
   "file_extension": ".py",
   "mimetype": "text/x-python",
   "name": "python",
   "nbconvert_exporter": "python",
   "pygments_lexer": "ipython3",
   "version": "3.11.9"
  }
 },
 "nbformat": 4,
 "nbformat_minor": 2
}
